{
  "nbformat": 4,
  "nbformat_minor": 0,
  "metadata": {
    "colab": {
      "name": "4_AutoML.ipynb",
      "provenance": [],
      "collapsed_sections": [],
      "authorship_tag": "ABX9TyO0EQdUwzNjyAtgMOxCAzbW",
      "include_colab_link": true
    },
    "kernelspec": {
      "name": "python3",
      "display_name": "Python 3"
    },
    "language_info": {
      "name": "python"
    }
  },
  "cells": [
    {
      "cell_type": "markdown",
      "metadata": {
        "id": "view-in-github",
        "colab_type": "text"
      },
      "source": [
        "<a href=\"https://colab.research.google.com/github/NataliaKolesnik/Car_Price_prediction_part2/blob/master/4_AutoML.ipynb\" target=\"_parent\"><img src=\"https://colab.research.google.com/assets/colab-badge.svg\" alt=\"Open In Colab\"/></a>"
      ]
    },
    {
      "cell_type": "code",
      "execution_count": null,
      "metadata": {
        "id": "lUVPu9JgMAWX",
        "colab": {
          "base_uri": "https://localhost:8080/"
        },
        "outputId": "61598e23-7944-408e-9911-5ddc4064cd6c"
      },
      "outputs": [
        {
          "output_type": "stream",
          "name": "stdout",
          "text": [
            "Mounted at /content/drive/\n"
          ]
        }
      ],
      "source": [
        "from google.colab import drive\n",
        "drive.mount('/content/drive/')"
      ]
    },
    {
      "cell_type": "code",
      "source": [
        "!pip install lightautoml"
      ],
      "metadata": {
        "colab": {
          "base_uri": "https://localhost:8080/"
        },
        "id": "VRQel3ULIJDc",
        "outputId": "a229fb47-2797-44d8-b6cb-4dbcc58270a8"
      },
      "execution_count": null,
      "outputs": [
        {
          "output_type": "stream",
          "name": "stdout",
          "text": [
            "Looking in indexes: https://pypi.org/simple, https://us-python.pkg.dev/colab-wheels/public/simple/\n",
            "Collecting lightautoml\n",
            "  Downloading LightAutoML-0.3.6-py3-none-any.whl (322 kB)\n",
            "\u001b[K     |████████████████████████████████| 322 kB 4.5 MB/s \n",
            "\u001b[?25hCollecting scipy<=1.5.4\n",
            "  Downloading scipy-1.5.4-cp37-cp37m-manylinux1_x86_64.whl (25.9 MB)\n",
            "\u001b[K     |████████████████████████████████| 25.9 MB 2.3 MB/s \n",
            "\u001b[?25hRequirement already satisfied: pyyaml in /usr/local/lib/python3.7/dist-packages (from lightautoml) (3.13)\n",
            "Collecting poetry-core<2.0.0,>=1.0.0\n",
            "  Downloading poetry_core-1.0.8-py2.py3-none-any.whl (425 kB)\n",
            "\u001b[K     |████████████████████████████████| 425 kB 74.9 MB/s \n",
            "\u001b[?25hRequirement already satisfied: seaborn in /usr/local/lib/python3.7/dist-packages (from lightautoml) (0.11.2)\n",
            "Collecting catboost>=0.26.1\n",
            "  Downloading catboost-1.0.6-cp37-none-manylinux1_x86_64.whl (76.6 MB)\n",
            "\u001b[K     |████████████████████████████████| 76.6 MB 1.2 MB/s \n",
            "\u001b[?25hCollecting torch<1.9\n",
            "  Downloading torch-1.8.1-cp37-cp37m-manylinux1_x86_64.whl (804.1 MB)\n",
            "\u001b[K     |████████████████████████████████| 804.1 MB 2.1 kB/s \n",
            "\u001b[?25hRequirement already satisfied: scikit-learn>=0.22 in /usr/local/lib/python3.7/dist-packages (from lightautoml) (1.0.2)\n",
            "Collecting autowoe>=1.2\n",
            "  Downloading AutoWoE-1.3.2-py3-none-any.whl (215 kB)\n",
            "\u001b[K     |████████████████████████████████| 215 kB 53.8 MB/s \n",
            "\u001b[?25hRequirement already satisfied: jinja2 in /usr/local/lib/python3.7/dist-packages (from lightautoml) (2.11.3)\n",
            "Collecting importlib-metadata<2.0,>=1.0\n",
            "  Downloading importlib_metadata-1.7.0-py2.py3-none-any.whl (31 kB)\n",
            "Requirement already satisfied: holidays in /usr/local/lib/python3.7/dist-packages (from lightautoml) (0.10.5.2)\n",
            "Collecting lightgbm<3.0,>=2.3\n",
            "  Downloading lightgbm-2.3.1-py2.py3-none-manylinux1_x86_64.whl (1.2 MB)\n",
            "\u001b[K     |████████████████████████████████| 1.2 MB 61.1 MB/s \n",
            "\u001b[?25hRequirement already satisfied: joblib in /usr/local/lib/python3.7/dist-packages (from lightautoml) (1.1.0)\n",
            "Collecting pandas==1.1.5\n",
            "  Downloading pandas-1.1.5-cp37-cp37m-manylinux1_x86_64.whl (9.5 MB)\n",
            "\u001b[K     |████████████████████████████████| 9.5 MB 56.4 MB/s \n",
            "\u001b[?25hRequirement already satisfied: torchvision in /usr/local/lib/python3.7/dist-packages (from lightautoml) (0.13.0+cu113)\n",
            "Requirement already satisfied: networkx in /usr/local/lib/python3.7/dist-packages (from lightautoml) (2.6.3)\n",
            "Collecting optuna\n",
            "  Downloading optuna-2.10.1-py3-none-any.whl (308 kB)\n",
            "\u001b[K     |████████████████████████████████| 308 kB 76.2 MB/s \n",
            "\u001b[?25hCollecting dataclasses==0.6\n",
            "  Downloading dataclasses-0.6-py3-none-any.whl (14 kB)\n",
            "Collecting json2html\n",
            "  Downloading json2html-1.3.0.tar.gz (7.0 kB)\n",
            "Requirement already satisfied: numpy>=1.2 in /usr/local/lib/python3.7/dist-packages (from lightautoml) (1.21.6)\n",
            "Requirement already satisfied: tqdm in /usr/local/lib/python3.7/dist-packages (from lightautoml) (4.64.0)\n",
            "Collecting cmaes\n",
            "  Downloading cmaes-0.8.2-py3-none-any.whl (15 kB)\n",
            "Requirement already satisfied: pytz>=2017.2 in /usr/local/lib/python3.7/dist-packages (from pandas==1.1.5->lightautoml) (2022.1)\n",
            "Requirement already satisfied: python-dateutil>=2.7.3 in /usr/local/lib/python3.7/dist-packages (from pandas==1.1.5->lightautoml) (2.8.2)\n",
            "Collecting sphinx-rtd-theme\n",
            "  Downloading sphinx_rtd_theme-1.0.0-py2.py3-none-any.whl (2.8 MB)\n",
            "\u001b[K     |████████████████████████████████| 2.8 MB 43.8 MB/s \n",
            "\u001b[?25hCollecting StrEnum<0.5.0,>=0.4.7\n",
            "  Downloading StrEnum-0.4.8-py3-none-any.whl (7.6 kB)\n",
            "Requirement already satisfied: pytest in /usr/local/lib/python3.7/dist-packages (from autowoe>=1.2->lightautoml) (3.6.4)\n",
            "Requirement already satisfied: sphinx in /usr/local/lib/python3.7/dist-packages (from autowoe>=1.2->lightautoml) (1.8.6)\n",
            "Requirement already satisfied: matplotlib in /usr/local/lib/python3.7/dist-packages (from autowoe>=1.2->lightautoml) (3.2.2)\n",
            "Requirement already satisfied: plotly in /usr/local/lib/python3.7/dist-packages (from catboost>=0.26.1->lightautoml) (5.5.0)\n",
            "Requirement already satisfied: six in /usr/local/lib/python3.7/dist-packages (from catboost>=0.26.1->lightautoml) (1.15.0)\n",
            "Requirement already satisfied: graphviz in /usr/local/lib/python3.7/dist-packages (from catboost>=0.26.1->lightautoml) (0.10.1)\n",
            "Requirement already satisfied: zipp>=0.5 in /usr/local/lib/python3.7/dist-packages (from importlib-metadata<2.0,>=1.0->lightautoml) (3.8.1)\n",
            "Requirement already satisfied: threadpoolctl>=2.0.0 in /usr/local/lib/python3.7/dist-packages (from scikit-learn>=0.22->lightautoml) (3.1.0)\n",
            "Requirement already satisfied: typing-extensions in /usr/local/lib/python3.7/dist-packages (from torch<1.9->lightautoml) (4.1.1)\n",
            "Requirement already satisfied: convertdate>=2.3.0 in /usr/local/lib/python3.7/dist-packages (from holidays->lightautoml) (2.4.0)\n",
            "Requirement already satisfied: korean-lunar-calendar in /usr/local/lib/python3.7/dist-packages (from holidays->lightautoml) (0.2.1)\n",
            "Requirement already satisfied: hijri-converter in /usr/local/lib/python3.7/dist-packages (from holidays->lightautoml) (2.2.4)\n",
            "Requirement already satisfied: pymeeus<=1,>=0.3.13 in /usr/local/lib/python3.7/dist-packages (from convertdate>=2.3.0->holidays->lightautoml) (0.5.11)\n",
            "Requirement already satisfied: MarkupSafe>=0.23 in /usr/local/lib/python3.7/dist-packages (from jinja2->lightautoml) (2.0.1)\n",
            "Requirement already satisfied: kiwisolver>=1.0.1 in /usr/local/lib/python3.7/dist-packages (from matplotlib->autowoe>=1.2->lightautoml) (1.4.4)\n",
            "Requirement already satisfied: pyparsing!=2.0.4,!=2.1.2,!=2.1.6,>=2.0.1 in /usr/local/lib/python3.7/dist-packages (from matplotlib->autowoe>=1.2->lightautoml) (3.0.9)\n",
            "Requirement already satisfied: cycler>=0.10 in /usr/local/lib/python3.7/dist-packages (from matplotlib->autowoe>=1.2->lightautoml) (0.11.0)\n",
            "Collecting colorlog\n",
            "  Downloading colorlog-6.6.0-py2.py3-none-any.whl (11 kB)\n",
            "Requirement already satisfied: packaging>=20.0 in /usr/local/lib/python3.7/dist-packages (from optuna->lightautoml) (21.3)\n",
            "Requirement already satisfied: sqlalchemy>=1.1.0 in /usr/local/lib/python3.7/dist-packages (from optuna->lightautoml) (1.4.39)\n",
            "Collecting alembic\n",
            "  Downloading alembic-1.8.1-py3-none-any.whl (209 kB)\n",
            "\u001b[K     |████████████████████████████████| 209 kB 44.3 MB/s \n",
            "\u001b[?25hCollecting cliff\n",
            "  Downloading cliff-3.10.1-py3-none-any.whl (81 kB)\n",
            "\u001b[K     |████████████████████████████████| 81 kB 10.2 MB/s \n",
            "\u001b[?25hRequirement already satisfied: greenlet!=0.4.17 in /usr/local/lib/python3.7/dist-packages (from sqlalchemy>=1.1.0->optuna->lightautoml) (1.1.2)\n",
            "Collecting Mako\n",
            "  Downloading Mako-1.2.1-py3-none-any.whl (78 kB)\n",
            "\u001b[K     |████████████████████████████████| 78 kB 7.9 MB/s \n",
            "\u001b[?25hRequirement already satisfied: importlib-resources in /usr/local/lib/python3.7/dist-packages (from alembic->optuna->lightautoml) (5.8.0)\n",
            "Collecting autopage>=0.4.0\n",
            "  Downloading autopage-0.5.1-py3-none-any.whl (29 kB)\n",
            "Requirement already satisfied: PrettyTable>=0.7.2 in /usr/local/lib/python3.7/dist-packages (from cliff->optuna->lightautoml) (3.3.0)\n",
            "Collecting stevedore>=2.0.1\n",
            "  Downloading stevedore-3.5.0-py3-none-any.whl (49 kB)\n",
            "\u001b[K     |████████████████████████████████| 49 kB 6.1 MB/s \n",
            "\u001b[?25hCollecting pbr!=2.1.0,>=2.0.0\n",
            "  Downloading pbr-5.9.0-py2.py3-none-any.whl (112 kB)\n",
            "\u001b[K     |████████████████████████████████| 112 kB 54.5 MB/s \n",
            "\u001b[?25hCollecting cmd2>=1.0.0\n",
            "  Downloading cmd2-2.4.2-py3-none-any.whl (147 kB)\n",
            "\u001b[K     |████████████████████████████████| 147 kB 61.0 MB/s \n",
            "\u001b[?25hCollecting pyperclip>=1.6\n",
            "  Downloading pyperclip-1.8.2.tar.gz (20 kB)\n",
            "Requirement already satisfied: attrs>=16.3.0 in /usr/local/lib/python3.7/dist-packages (from cmd2>=1.0.0->cliff->optuna->lightautoml) (21.4.0)\n",
            "Requirement already satisfied: wcwidth>=0.1.7 in /usr/local/lib/python3.7/dist-packages (from cmd2>=1.0.0->cliff->optuna->lightautoml) (0.2.5)\n",
            "Requirement already satisfied: tenacity>=6.2.0 in /usr/local/lib/python3.7/dist-packages (from plotly->catboost>=0.26.1->lightautoml) (8.0.1)\n",
            "Requirement already satisfied: setuptools in /usr/local/lib/python3.7/dist-packages (from pytest->autowoe>=1.2->lightautoml) (57.4.0)\n",
            "Requirement already satisfied: more-itertools>=4.0.0 in /usr/local/lib/python3.7/dist-packages (from pytest->autowoe>=1.2->lightautoml) (8.13.0)\n",
            "Requirement already satisfied: pluggy<0.8,>=0.5 in /usr/local/lib/python3.7/dist-packages (from pytest->autowoe>=1.2->lightautoml) (0.7.1)\n",
            "Requirement already satisfied: py>=1.5.0 in /usr/local/lib/python3.7/dist-packages (from pytest->autowoe>=1.2->lightautoml) (1.11.0)\n",
            "Requirement already satisfied: atomicwrites>=1.0 in /usr/local/lib/python3.7/dist-packages (from pytest->autowoe>=1.2->lightautoml) (1.4.1)\n",
            "Requirement already satisfied: requests>=2.0.0 in /usr/local/lib/python3.7/dist-packages (from sphinx->autowoe>=1.2->lightautoml) (2.23.0)\n",
            "Requirement already satisfied: docutils<0.18,>=0.11 in /usr/local/lib/python3.7/dist-packages (from sphinx->autowoe>=1.2->lightautoml) (0.17.1)\n",
            "Requirement already satisfied: sphinxcontrib-websupport in /usr/local/lib/python3.7/dist-packages (from sphinx->autowoe>=1.2->lightautoml) (1.2.4)\n",
            "Requirement already satisfied: snowballstemmer>=1.1 in /usr/local/lib/python3.7/dist-packages (from sphinx->autowoe>=1.2->lightautoml) (2.2.0)\n",
            "Requirement already satisfied: alabaster<0.8,>=0.7 in /usr/local/lib/python3.7/dist-packages (from sphinx->autowoe>=1.2->lightautoml) (0.7.12)\n",
            "Requirement already satisfied: Pygments>=2.0 in /usr/local/lib/python3.7/dist-packages (from sphinx->autowoe>=1.2->lightautoml) (2.6.1)\n",
            "Requirement already satisfied: imagesize in /usr/local/lib/python3.7/dist-packages (from sphinx->autowoe>=1.2->lightautoml) (1.4.1)\n",
            "Requirement already satisfied: babel!=2.0,>=1.3 in /usr/local/lib/python3.7/dist-packages (from sphinx->autowoe>=1.2->lightautoml) (2.10.3)\n",
            "Requirement already satisfied: idna<3,>=2.5 in /usr/local/lib/python3.7/dist-packages (from requests>=2.0.0->sphinx->autowoe>=1.2->lightautoml) (2.10)\n",
            "Requirement already satisfied: chardet<4,>=3.0.2 in /usr/local/lib/python3.7/dist-packages (from requests>=2.0.0->sphinx->autowoe>=1.2->lightautoml) (3.0.4)\n",
            "Requirement already satisfied: certifi>=2017.4.17 in /usr/local/lib/python3.7/dist-packages (from requests>=2.0.0->sphinx->autowoe>=1.2->lightautoml) (2022.6.15)\n",
            "Requirement already satisfied: urllib3!=1.25.0,!=1.25.1,<1.26,>=1.21.1 in /usr/local/lib/python3.7/dist-packages (from requests>=2.0.0->sphinx->autowoe>=1.2->lightautoml) (1.24.3)\n",
            "Requirement already satisfied: sphinxcontrib-serializinghtml in /usr/local/lib/python3.7/dist-packages (from sphinxcontrib-websupport->sphinx->autowoe>=1.2->lightautoml) (1.1.5)\n",
            "Requirement already satisfied: pillow!=8.3.*,>=5.3.0 in /usr/local/lib/python3.7/dist-packages (from torchvision->lightautoml) (7.1.2)\n",
            "Collecting torchvision\n",
            "  Downloading torchvision-0.13.0-cp37-cp37m-manylinux1_x86_64.whl (19.1 MB)\n",
            "\u001b[K     |████████████████████████████████| 19.1 MB 1.1 MB/s \n",
            "\u001b[?25h  Downloading torchvision-0.12.0-cp37-cp37m-manylinux1_x86_64.whl (21.0 MB)\n",
            "\u001b[K     |████████████████████████████████| 21.0 MB 1.4 MB/s \n",
            "\u001b[?25h  Downloading torchvision-0.11.3-cp37-cp37m-manylinux1_x86_64.whl (23.2 MB)\n",
            "\u001b[K     |████████████████████████████████| 23.2 MB 1.3 MB/s \n",
            "\u001b[?25h  Downloading torchvision-0.11.2-cp37-cp37m-manylinux1_x86_64.whl (23.3 MB)\n",
            "\u001b[K     |████████████████████████████████| 23.3 MB 12.8 MB/s \n",
            "\u001b[?25h  Downloading torchvision-0.11.1-cp37-cp37m-manylinux1_x86_64.whl (23.3 MB)\n",
            "\u001b[K     |████████████████████████████████| 23.3 MB 50.3 MB/s \n",
            "\u001b[?25h  Downloading torchvision-0.10.1-cp37-cp37m-manylinux1_x86_64.whl (22.1 MB)\n",
            "\u001b[K     |████████████████████████████████| 22.1 MB 13.3 MB/s \n",
            "\u001b[?25h  Downloading torchvision-0.10.0-cp37-cp37m-manylinux1_x86_64.whl (22.1 MB)\n",
            "\u001b[K     |████████████████████████████████| 22.1 MB 3.4 MB/s \n",
            "\u001b[?25h  Downloading torchvision-0.9.1-cp37-cp37m-manylinux1_x86_64.whl (17.4 MB)\n",
            "\u001b[K     |████████████████████████████████| 17.4 MB 2.6 MB/s \n",
            "\u001b[?25hBuilding wheels for collected packages: json2html, pyperclip\n",
            "  Building wheel for json2html (setup.py) ... \u001b[?25l\u001b[?25hdone\n",
            "  Created wheel for json2html: filename=json2html-1.3.0-py3-none-any.whl size=7609 sha256=79a211c384d30a55822f62d29e22d38f31ae7dfb42570cd8ec34730369b57945\n",
            "  Stored in directory: /root/.cache/pip/wheels/e5/99/37/e1839a5ad733e0d6abb7e0419fd913e8926ddf96408239ce01\n",
            "  Building wheel for pyperclip (setup.py) ... \u001b[?25l\u001b[?25hdone\n",
            "  Created wheel for pyperclip: filename=pyperclip-1.8.2-py3-none-any.whl size=11137 sha256=a5c8995798fe43075cd6fff1ca1819967bcf949b85ff84566807d0356f2f7468\n",
            "  Stored in directory: /root/.cache/pip/wheels/9f/18/84/8f69f8b08169c7bae2dde6bd7daf0c19fca8c8e500ee620a28\n",
            "Successfully built json2html pyperclip\n",
            "Installing collected packages: scipy, pyperclip, pbr, importlib-metadata, stevedore, pandas, Mako, cmd2, autopage, torch, StrEnum, sphinx-rtd-theme, lightgbm, colorlog, cmaes, cliff, alembic, torchvision, poetry-core, optuna, json2html, dataclasses, catboost, autowoe, lightautoml\n",
            "  Attempting uninstall: scipy\n",
            "    Found existing installation: scipy 1.7.3\n",
            "    Uninstalling scipy-1.7.3:\n",
            "      Successfully uninstalled scipy-1.7.3\n",
            "  Attempting uninstall: importlib-metadata\n",
            "    Found existing installation: importlib-metadata 4.12.0\n",
            "    Uninstalling importlib-metadata-4.12.0:\n",
            "      Successfully uninstalled importlib-metadata-4.12.0\n",
            "  Attempting uninstall: pandas\n",
            "    Found existing installation: pandas 1.3.5\n",
            "    Uninstalling pandas-1.3.5:\n",
            "      Successfully uninstalled pandas-1.3.5\n",
            "  Attempting uninstall: torch\n",
            "    Found existing installation: torch 1.12.0+cu113\n",
            "    Uninstalling torch-1.12.0+cu113:\n",
            "      Successfully uninstalled torch-1.12.0+cu113\n",
            "  Attempting uninstall: lightgbm\n",
            "    Found existing installation: lightgbm 2.2.3\n",
            "    Uninstalling lightgbm-2.2.3:\n",
            "      Successfully uninstalled lightgbm-2.2.3\n",
            "  Attempting uninstall: torchvision\n",
            "    Found existing installation: torchvision 0.13.0+cu113\n",
            "    Uninstalling torchvision-0.13.0+cu113:\n",
            "      Successfully uninstalled torchvision-0.13.0+cu113\n",
            "\u001b[31mERROR: pip's dependency resolver does not currently take into account all the packages that are installed. This behaviour is the source of the following dependency conflicts.\n",
            "torchtext 0.13.0 requires torch==1.12.0, but you have torch 1.8.1 which is incompatible.\n",
            "torchaudio 0.12.0+cu113 requires torch==1.12.0, but you have torch 1.8.1 which is incompatible.\n",
            "pymc3 3.11.5 requires scipy<1.8.0,>=1.7.3, but you have scipy 1.5.4 which is incompatible.\n",
            "markdown 3.4.1 requires importlib-metadata>=4.4; python_version < \"3.10\", but you have importlib-metadata 1.7.0 which is incompatible.\n",
            "albumentations 0.1.12 requires imgaug<0.2.7,>=0.2.5, but you have imgaug 0.2.9 which is incompatible.\u001b[0m\n",
            "Successfully installed Mako-1.2.1 StrEnum-0.4.8 alembic-1.8.1 autopage-0.5.1 autowoe-1.3.2 catboost-1.0.6 cliff-3.10.1 cmaes-0.8.2 cmd2-2.4.2 colorlog-6.6.0 dataclasses-0.6 importlib-metadata-1.7.0 json2html-1.3.0 lightautoml-0.3.6 lightgbm-2.3.1 optuna-2.10.1 pandas-1.1.5 pbr-5.9.0 poetry-core-1.0.8 pyperclip-1.8.2 scipy-1.5.4 sphinx-rtd-theme-1.0.0 stevedore-3.5.0 torch-1.8.1 torchvision-0.9.1\n"
          ]
        }
      ]
    },
    {
      "cell_type": "code",
      "source": [
        "path_data = '/content/drive/MyDrive/SF_project_8/data/'"
      ],
      "metadata": {
        "id": "kxZ5dWUTQWeP"
      },
      "execution_count": null,
      "outputs": []
    },
    {
      "cell_type": "markdown",
      "source": [
        "##Библиотеки"
      ],
      "metadata": {
        "id": "tTq99THhQcPG"
      }
    },
    {
      "cell_type": "code",
      "source": [
        "import pandas as pd\n",
        "import numpy as np\n",
        "import matplotlib.pyplot as plt\n",
        "import seaborn as sns\n",
        "import os\n",
        "\n",
        "from sklearn.preprocessing import MinMaxScaler\n",
        "from sklearn.model_selection import train_test_split\n",
        "from sklearn.metrics import mean_absolute_percentage_error\n",
        "\n",
        "from lightautoml.automl.presets.tabular_presets import TabularAutoML, TabularUtilizedAutoML\n",
        "from lightautoml.tasks import Task"
      ],
      "metadata": {
        "id": "nDrjHGgGQZGA"
      },
      "execution_count": null,
      "outputs": []
    },
    {
      "cell_type": "code",
      "source": [
        "pd.set_option('display.float_format', '{:.2f}'.format)\n",
        "\n",
        "SEED = 42\n",
        "np.random.seed(SEED)\n"
      ],
      "metadata": {
        "id": "_P6uIRWaROsB"
      },
      "execution_count": null,
      "outputs": []
    },
    {
      "cell_type": "markdown",
      "source": [
        "## Загрузка и подготовка данных для обучения"
      ],
      "metadata": {
        "id": "UNh0vHL0R9IH"
      }
    },
    {
      "cell_type": "code",
      "source": [
        "df_train = pd.read_csv(path_data+'train_for_ML.csv')\n",
        "df_test = pd.read_csv(path_data+'test_for_ML.csv')"
      ],
      "metadata": {
        "id": "d7UOXpmzR28x"
      },
      "execution_count": null,
      "outputs": []
    },
    {
      "cell_type": "code",
      "source": [
        "# Списки с признаками\n",
        "\n",
        "categorical_features = ['bodyType', 'brand', 'model_info', 'brand_model', 'color_littel', \n",
        "                          'fuelType_littel', 'vehicleTransmission', 'Привод' ]\n",
        "\n",
        "numerical_features = ['engineDisplacement', 'enginePower', 'enginePower_log', 'mileage', 'mileage_стоп_q99',\n",
        "                        'age_avto_стоп_23', 'mileage_/_age_avto', 'Владельцы', \n",
        "                        'numberOfDoors', 'xDrive', 'ПТС_10']\n",
        "\n",
        "target = 'price'\n",
        "target_log = 'price_log'"
      ],
      "metadata": {
        "id": "VhO134Y7R3Jy"
      },
      "execution_count": null,
      "outputs": []
    },
    {
      "cell_type": "code",
      "source": [
        "# Соберем датасеты\n",
        "\n",
        "X = df_train[categorical_features + numerical_features]\n",
        "\n",
        "X_test = df_test[categorical_features + numerical_features]\n",
        "\n",
        "Y = df_train[target]\n",
        "Y_log = df_train[target_log]"
      ],
      "metadata": {
        "id": "9GXi2pVlnaYb"
      },
      "execution_count": null,
      "outputs": []
    },
    {
      "cell_type": "code",
      "source": [
        "# Стандартизируем числовые данные\n",
        "\n",
        "scaler = MinMaxScaler()\n",
        "\n",
        "X[numerical_features] = scaler.fit_transform(X[numerical_features])\n",
        "X_test[numerical_features] = scaler.fit_transform(X_test[numerical_features])"
      ],
      "metadata": {
        "id": "ZLUpm0v7ofPG",
        "colab": {
          "base_uri": "https://localhost:8080/"
        },
        "outputId": "eaef979c-78df-474b-b464-288a86fe1576"
      },
      "execution_count": null,
      "outputs": [
        {
          "output_type": "stream",
          "name": "stderr",
          "text": [
            "/usr/local/lib/python3.7/dist-packages/ipykernel_launcher.py:5: SettingWithCopyWarning: \n",
            "A value is trying to be set on a copy of a slice from a DataFrame.\n",
            "Try using .loc[row_indexer,col_indexer] = value instead\n",
            "\n",
            "See the caveats in the documentation: https://pandas.pydata.org/pandas-docs/stable/user_guide/indexing.html#returning-a-view-versus-a-copy\n",
            "  \"\"\"\n",
            "/usr/local/lib/python3.7/dist-packages/pandas/core/indexing.py:1734: SettingWithCopyWarning: \n",
            "A value is trying to be set on a copy of a slice from a DataFrame.\n",
            "Try using .loc[row_indexer,col_indexer] = value instead\n",
            "\n",
            "See the caveats in the documentation: https://pandas.pydata.org/pandas-docs/stable/user_guide/indexing.html#returning-a-view-versus-a-copy\n",
            "  isetter(loc, value[:, i].tolist())\n",
            "/usr/local/lib/python3.7/dist-packages/ipykernel_launcher.py:6: SettingWithCopyWarning: \n",
            "A value is trying to be set on a copy of a slice from a DataFrame.\n",
            "Try using .loc[row_indexer,col_indexer] = value instead\n",
            "\n",
            "See the caveats in the documentation: https://pandas.pydata.org/pandas-docs/stable/user_guide/indexing.html#returning-a-view-versus-a-copy\n",
            "  \n",
            "/usr/local/lib/python3.7/dist-packages/pandas/core/indexing.py:1734: SettingWithCopyWarning: \n",
            "A value is trying to be set on a copy of a slice from a DataFrame.\n",
            "Try using .loc[row_indexer,col_indexer] = value instead\n",
            "\n",
            "See the caveats in the documentation: https://pandas.pydata.org/pandas-docs/stable/user_guide/indexing.html#returning-a-view-versus-a-copy\n",
            "  isetter(loc, value[:, i].tolist())\n"
          ]
        }
      ]
    },
    {
      "cell_type": "code",
      "source": [
        "X.describe()"
      ],
      "metadata": {
        "colab": {
          "base_uri": "https://localhost:8080/",
          "height": 300
        },
        "id": "iTDuRKoTR3PD",
        "outputId": "3e03b3f0-121b-40d5-f1ca-d07b48f3b259"
      },
      "execution_count": null,
      "outputs": [
        {
          "output_type": "execute_result",
          "data": {
            "text/plain": [
              "       engineDisplacement  enginePower  enginePower_log  mileage  \\\n",
              "count             6682.00      6682.00          6682.00  6682.00   \n",
              "mean                 0.42         0.32             0.54     0.12   \n",
              "std                  0.16         0.19             0.18     0.08   \n",
              "min                  0.00         0.00             0.00     0.00   \n",
              "25%                  0.30         0.19             0.42     0.06   \n",
              "50%                  0.42         0.28             0.53     0.11   \n",
              "75%                  0.45         0.41             0.66     0.17   \n",
              "max                  1.00         1.00             1.00     1.00   \n",
              "\n",
              "       mileage_стоп_q99  age_avto_стоп_23  mileage_/_age_avto  Владельцы  \\\n",
              "count           6682.00           6682.00             6682.00    6682.00   \n",
              "mean               0.33              0.36                0.17       0.55   \n",
              "std                0.22              0.22                0.09       0.42   \n",
              "min                0.00              0.00                0.00       0.00   \n",
              "25%                0.16              0.18                0.12       0.00   \n",
              "50%                0.31              0.32                0.17       0.50   \n",
              "75%                0.47              0.50                0.22       1.00   \n",
              "max                1.00              1.00                1.00       1.00   \n",
              "\n",
              "       numberOfDoors  xDrive  ПТС_10  \n",
              "count        6682.00 6682.00 6682.00  \n",
              "mean            0.76    0.11    0.89  \n",
              "std             0.29    0.32    0.31  \n",
              "min             0.00    0.00    0.00  \n",
              "25%             0.67    0.00    1.00  \n",
              "50%             0.67    0.00    1.00  \n",
              "75%             1.00    0.00    1.00  \n",
              "max             1.00    1.00    1.00  "
            ],
            "text/html": [
              "\n",
              "  <div id=\"df-7e76819f-1b6e-4dfa-9dba-13b6d2f4d024\">\n",
              "    <div class=\"colab-df-container\">\n",
              "      <div>\n",
              "<style scoped>\n",
              "    .dataframe tbody tr th:only-of-type {\n",
              "        vertical-align: middle;\n",
              "    }\n",
              "\n",
              "    .dataframe tbody tr th {\n",
              "        vertical-align: top;\n",
              "    }\n",
              "\n",
              "    .dataframe thead th {\n",
              "        text-align: right;\n",
              "    }\n",
              "</style>\n",
              "<table border=\"1\" class=\"dataframe\">\n",
              "  <thead>\n",
              "    <tr style=\"text-align: right;\">\n",
              "      <th></th>\n",
              "      <th>engineDisplacement</th>\n",
              "      <th>enginePower</th>\n",
              "      <th>enginePower_log</th>\n",
              "      <th>mileage</th>\n",
              "      <th>mileage_стоп_q99</th>\n",
              "      <th>age_avto_стоп_23</th>\n",
              "      <th>mileage_/_age_avto</th>\n",
              "      <th>Владельцы</th>\n",
              "      <th>numberOfDoors</th>\n",
              "      <th>xDrive</th>\n",
              "      <th>ПТС_10</th>\n",
              "    </tr>\n",
              "  </thead>\n",
              "  <tbody>\n",
              "    <tr>\n",
              "      <th>count</th>\n",
              "      <td>6682.00</td>\n",
              "      <td>6682.00</td>\n",
              "      <td>6682.00</td>\n",
              "      <td>6682.00</td>\n",
              "      <td>6682.00</td>\n",
              "      <td>6682.00</td>\n",
              "      <td>6682.00</td>\n",
              "      <td>6682.00</td>\n",
              "      <td>6682.00</td>\n",
              "      <td>6682.00</td>\n",
              "      <td>6682.00</td>\n",
              "    </tr>\n",
              "    <tr>\n",
              "      <th>mean</th>\n",
              "      <td>0.42</td>\n",
              "      <td>0.32</td>\n",
              "      <td>0.54</td>\n",
              "      <td>0.12</td>\n",
              "      <td>0.33</td>\n",
              "      <td>0.36</td>\n",
              "      <td>0.17</td>\n",
              "      <td>0.55</td>\n",
              "      <td>0.76</td>\n",
              "      <td>0.11</td>\n",
              "      <td>0.89</td>\n",
              "    </tr>\n",
              "    <tr>\n",
              "      <th>std</th>\n",
              "      <td>0.16</td>\n",
              "      <td>0.19</td>\n",
              "      <td>0.18</td>\n",
              "      <td>0.08</td>\n",
              "      <td>0.22</td>\n",
              "      <td>0.22</td>\n",
              "      <td>0.09</td>\n",
              "      <td>0.42</td>\n",
              "      <td>0.29</td>\n",
              "      <td>0.32</td>\n",
              "      <td>0.31</td>\n",
              "    </tr>\n",
              "    <tr>\n",
              "      <th>min</th>\n",
              "      <td>0.00</td>\n",
              "      <td>0.00</td>\n",
              "      <td>0.00</td>\n",
              "      <td>0.00</td>\n",
              "      <td>0.00</td>\n",
              "      <td>0.00</td>\n",
              "      <td>0.00</td>\n",
              "      <td>0.00</td>\n",
              "      <td>0.00</td>\n",
              "      <td>0.00</td>\n",
              "      <td>0.00</td>\n",
              "    </tr>\n",
              "    <tr>\n",
              "      <th>25%</th>\n",
              "      <td>0.30</td>\n",
              "      <td>0.19</td>\n",
              "      <td>0.42</td>\n",
              "      <td>0.06</td>\n",
              "      <td>0.16</td>\n",
              "      <td>0.18</td>\n",
              "      <td>0.12</td>\n",
              "      <td>0.00</td>\n",
              "      <td>0.67</td>\n",
              "      <td>0.00</td>\n",
              "      <td>1.00</td>\n",
              "    </tr>\n",
              "    <tr>\n",
              "      <th>50%</th>\n",
              "      <td>0.42</td>\n",
              "      <td>0.28</td>\n",
              "      <td>0.53</td>\n",
              "      <td>0.11</td>\n",
              "      <td>0.31</td>\n",
              "      <td>0.32</td>\n",
              "      <td>0.17</td>\n",
              "      <td>0.50</td>\n",
              "      <td>0.67</td>\n",
              "      <td>0.00</td>\n",
              "      <td>1.00</td>\n",
              "    </tr>\n",
              "    <tr>\n",
              "      <th>75%</th>\n",
              "      <td>0.45</td>\n",
              "      <td>0.41</td>\n",
              "      <td>0.66</td>\n",
              "      <td>0.17</td>\n",
              "      <td>0.47</td>\n",
              "      <td>0.50</td>\n",
              "      <td>0.22</td>\n",
              "      <td>1.00</td>\n",
              "      <td>1.00</td>\n",
              "      <td>0.00</td>\n",
              "      <td>1.00</td>\n",
              "    </tr>\n",
              "    <tr>\n",
              "      <th>max</th>\n",
              "      <td>1.00</td>\n",
              "      <td>1.00</td>\n",
              "      <td>1.00</td>\n",
              "      <td>1.00</td>\n",
              "      <td>1.00</td>\n",
              "      <td>1.00</td>\n",
              "      <td>1.00</td>\n",
              "      <td>1.00</td>\n",
              "      <td>1.00</td>\n",
              "      <td>1.00</td>\n",
              "      <td>1.00</td>\n",
              "    </tr>\n",
              "  </tbody>\n",
              "</table>\n",
              "</div>\n",
              "      <button class=\"colab-df-convert\" onclick=\"convertToInteractive('df-7e76819f-1b6e-4dfa-9dba-13b6d2f4d024')\"\n",
              "              title=\"Convert this dataframe to an interactive table.\"\n",
              "              style=\"display:none;\">\n",
              "        \n",
              "  <svg xmlns=\"http://www.w3.org/2000/svg\" height=\"24px\"viewBox=\"0 0 24 24\"\n",
              "       width=\"24px\">\n",
              "    <path d=\"M0 0h24v24H0V0z\" fill=\"none\"/>\n",
              "    <path d=\"M18.56 5.44l.94 2.06.94-2.06 2.06-.94-2.06-.94-.94-2.06-.94 2.06-2.06.94zm-11 1L8.5 8.5l.94-2.06 2.06-.94-2.06-.94L8.5 2.5l-.94 2.06-2.06.94zm10 10l.94 2.06.94-2.06 2.06-.94-2.06-.94-.94-2.06-.94 2.06-2.06.94z\"/><path d=\"M17.41 7.96l-1.37-1.37c-.4-.4-.92-.59-1.43-.59-.52 0-1.04.2-1.43.59L10.3 9.45l-7.72 7.72c-.78.78-.78 2.05 0 2.83L4 21.41c.39.39.9.59 1.41.59.51 0 1.02-.2 1.41-.59l7.78-7.78 2.81-2.81c.8-.78.8-2.07 0-2.86zM5.41 20L4 18.59l7.72-7.72 1.47 1.35L5.41 20z\"/>\n",
              "  </svg>\n",
              "      </button>\n",
              "      \n",
              "  <style>\n",
              "    .colab-df-container {\n",
              "      display:flex;\n",
              "      flex-wrap:wrap;\n",
              "      gap: 12px;\n",
              "    }\n",
              "\n",
              "    .colab-df-convert {\n",
              "      background-color: #E8F0FE;\n",
              "      border: none;\n",
              "      border-radius: 50%;\n",
              "      cursor: pointer;\n",
              "      display: none;\n",
              "      fill: #1967D2;\n",
              "      height: 32px;\n",
              "      padding: 0 0 0 0;\n",
              "      width: 32px;\n",
              "    }\n",
              "\n",
              "    .colab-df-convert:hover {\n",
              "      background-color: #E2EBFA;\n",
              "      box-shadow: 0px 1px 2px rgba(60, 64, 67, 0.3), 0px 1px 3px 1px rgba(60, 64, 67, 0.15);\n",
              "      fill: #174EA6;\n",
              "    }\n",
              "\n",
              "    [theme=dark] .colab-df-convert {\n",
              "      background-color: #3B4455;\n",
              "      fill: #D2E3FC;\n",
              "    }\n",
              "\n",
              "    [theme=dark] .colab-df-convert:hover {\n",
              "      background-color: #434B5C;\n",
              "      box-shadow: 0px 1px 3px 1px rgba(0, 0, 0, 0.15);\n",
              "      filter: drop-shadow(0px 1px 2px rgba(0, 0, 0, 0.3));\n",
              "      fill: #FFFFFF;\n",
              "    }\n",
              "  </style>\n",
              "\n",
              "      <script>\n",
              "        const buttonEl =\n",
              "          document.querySelector('#df-7e76819f-1b6e-4dfa-9dba-13b6d2f4d024 button.colab-df-convert');\n",
              "        buttonEl.style.display =\n",
              "          google.colab.kernel.accessAllowed ? 'block' : 'none';\n",
              "\n",
              "        async function convertToInteractive(key) {\n",
              "          const element = document.querySelector('#df-7e76819f-1b6e-4dfa-9dba-13b6d2f4d024');\n",
              "          const dataTable =\n",
              "            await google.colab.kernel.invokeFunction('convertToInteractive',\n",
              "                                                     [key], {});\n",
              "          if (!dataTable) return;\n",
              "\n",
              "          const docLinkHtml = 'Like what you see? Visit the ' +\n",
              "            '<a target=\"_blank\" href=https://colab.research.google.com/notebooks/data_table.ipynb>data table notebook</a>'\n",
              "            + ' to learn more about interactive tables.';\n",
              "          element.innerHTML = '';\n",
              "          dataTable['output_type'] = 'display_data';\n",
              "          await google.colab.output.renderOutput(dataTable, element);\n",
              "          const docLink = document.createElement('div');\n",
              "          docLink.innerHTML = docLinkHtml;\n",
              "          element.appendChild(docLink);\n",
              "        }\n",
              "      </script>\n",
              "    </div>\n",
              "  </div>\n",
              "  "
            ]
          },
          "metadata": {},
          "execution_count": 11
        }
      ]
    },
    {
      "cell_type": "code",
      "source": [
        "X_test.describe()"
      ],
      "metadata": {
        "colab": {
          "base_uri": "https://localhost:8080/",
          "height": 300
        },
        "id": "EvANVMaIpodh",
        "outputId": "bab2a1a3-66ab-44b0-b189-c817affedb43"
      },
      "execution_count": null,
      "outputs": [
        {
          "output_type": "execute_result",
          "data": {
            "text/plain": [
              "       engineDisplacement  enginePower  enginePower_log  mileage  \\\n",
              "count             1671.00      1671.00          1671.00  1671.00   \n",
              "mean                 0.42         0.26             0.44     0.12   \n",
              "std                  0.16         0.18             0.19     0.08   \n",
              "min                  0.00         0.00             0.00     0.00   \n",
              "25%                  0.30         0.14             0.31     0.06   \n",
              "50%                  0.41         0.22             0.43     0.11   \n",
              "75%                  0.45         0.34             0.57     0.17   \n",
              "max                  1.00         1.00             1.00     1.00   \n",
              "\n",
              "       mileage_стоп_q99  age_avto_стоп_23  mileage_/_age_avto  Владельцы  \\\n",
              "count           1671.00           1671.00             1671.00    1671.00   \n",
              "mean               0.33              0.36                0.23       0.55   \n",
              "std                0.22              0.23                0.12       0.41   \n",
              "min                0.00              0.00                0.00       0.00   \n",
              "25%                0.16              0.18                0.15       0.00   \n",
              "50%                0.30              0.32                0.22       0.50   \n",
              "75%                0.46              0.50                0.29       1.00   \n",
              "max                1.00              1.00                1.00       1.00   \n",
              "\n",
              "       numberOfDoors  xDrive  ПТС_10  \n",
              "count        1671.00 1671.00 1671.00  \n",
              "mean            0.75    0.11    0.90  \n",
              "std             0.30    0.31    0.30  \n",
              "min             0.00    0.00    0.00  \n",
              "25%             0.67    0.00    1.00  \n",
              "50%             0.67    0.00    1.00  \n",
              "75%             1.00    0.00    1.00  \n",
              "max             1.00    1.00    1.00  "
            ],
            "text/html": [
              "\n",
              "  <div id=\"df-b52ba7b6-0e4c-409f-8df0-608b5222da38\">\n",
              "    <div class=\"colab-df-container\">\n",
              "      <div>\n",
              "<style scoped>\n",
              "    .dataframe tbody tr th:only-of-type {\n",
              "        vertical-align: middle;\n",
              "    }\n",
              "\n",
              "    .dataframe tbody tr th {\n",
              "        vertical-align: top;\n",
              "    }\n",
              "\n",
              "    .dataframe thead th {\n",
              "        text-align: right;\n",
              "    }\n",
              "</style>\n",
              "<table border=\"1\" class=\"dataframe\">\n",
              "  <thead>\n",
              "    <tr style=\"text-align: right;\">\n",
              "      <th></th>\n",
              "      <th>engineDisplacement</th>\n",
              "      <th>enginePower</th>\n",
              "      <th>enginePower_log</th>\n",
              "      <th>mileage</th>\n",
              "      <th>mileage_стоп_q99</th>\n",
              "      <th>age_avto_стоп_23</th>\n",
              "      <th>mileage_/_age_avto</th>\n",
              "      <th>Владельцы</th>\n",
              "      <th>numberOfDoors</th>\n",
              "      <th>xDrive</th>\n",
              "      <th>ПТС_10</th>\n",
              "    </tr>\n",
              "  </thead>\n",
              "  <tbody>\n",
              "    <tr>\n",
              "      <th>count</th>\n",
              "      <td>1671.00</td>\n",
              "      <td>1671.00</td>\n",
              "      <td>1671.00</td>\n",
              "      <td>1671.00</td>\n",
              "      <td>1671.00</td>\n",
              "      <td>1671.00</td>\n",
              "      <td>1671.00</td>\n",
              "      <td>1671.00</td>\n",
              "      <td>1671.00</td>\n",
              "      <td>1671.00</td>\n",
              "      <td>1671.00</td>\n",
              "    </tr>\n",
              "    <tr>\n",
              "      <th>mean</th>\n",
              "      <td>0.42</td>\n",
              "      <td>0.26</td>\n",
              "      <td>0.44</td>\n",
              "      <td>0.12</td>\n",
              "      <td>0.33</td>\n",
              "      <td>0.36</td>\n",
              "      <td>0.23</td>\n",
              "      <td>0.55</td>\n",
              "      <td>0.75</td>\n",
              "      <td>0.11</td>\n",
              "      <td>0.90</td>\n",
              "    </tr>\n",
              "    <tr>\n",
              "      <th>std</th>\n",
              "      <td>0.16</td>\n",
              "      <td>0.18</td>\n",
              "      <td>0.19</td>\n",
              "      <td>0.08</td>\n",
              "      <td>0.22</td>\n",
              "      <td>0.23</td>\n",
              "      <td>0.12</td>\n",
              "      <td>0.41</td>\n",
              "      <td>0.30</td>\n",
              "      <td>0.31</td>\n",
              "      <td>0.30</td>\n",
              "    </tr>\n",
              "    <tr>\n",
              "      <th>min</th>\n",
              "      <td>0.00</td>\n",
              "      <td>0.00</td>\n",
              "      <td>0.00</td>\n",
              "      <td>0.00</td>\n",
              "      <td>0.00</td>\n",
              "      <td>0.00</td>\n",
              "      <td>0.00</td>\n",
              "      <td>0.00</td>\n",
              "      <td>0.00</td>\n",
              "      <td>0.00</td>\n",
              "      <td>0.00</td>\n",
              "    </tr>\n",
              "    <tr>\n",
              "      <th>25%</th>\n",
              "      <td>0.30</td>\n",
              "      <td>0.14</td>\n",
              "      <td>0.31</td>\n",
              "      <td>0.06</td>\n",
              "      <td>0.16</td>\n",
              "      <td>0.18</td>\n",
              "      <td>0.15</td>\n",
              "      <td>0.00</td>\n",
              "      <td>0.67</td>\n",
              "      <td>0.00</td>\n",
              "      <td>1.00</td>\n",
              "    </tr>\n",
              "    <tr>\n",
              "      <th>50%</th>\n",
              "      <td>0.41</td>\n",
              "      <td>0.22</td>\n",
              "      <td>0.43</td>\n",
              "      <td>0.11</td>\n",
              "      <td>0.30</td>\n",
              "      <td>0.32</td>\n",
              "      <td>0.22</td>\n",
              "      <td>0.50</td>\n",
              "      <td>0.67</td>\n",
              "      <td>0.00</td>\n",
              "      <td>1.00</td>\n",
              "    </tr>\n",
              "    <tr>\n",
              "      <th>75%</th>\n",
              "      <td>0.45</td>\n",
              "      <td>0.34</td>\n",
              "      <td>0.57</td>\n",
              "      <td>0.17</td>\n",
              "      <td>0.46</td>\n",
              "      <td>0.50</td>\n",
              "      <td>0.29</td>\n",
              "      <td>1.00</td>\n",
              "      <td>1.00</td>\n",
              "      <td>0.00</td>\n",
              "      <td>1.00</td>\n",
              "    </tr>\n",
              "    <tr>\n",
              "      <th>max</th>\n",
              "      <td>1.00</td>\n",
              "      <td>1.00</td>\n",
              "      <td>1.00</td>\n",
              "      <td>1.00</td>\n",
              "      <td>1.00</td>\n",
              "      <td>1.00</td>\n",
              "      <td>1.00</td>\n",
              "      <td>1.00</td>\n",
              "      <td>1.00</td>\n",
              "      <td>1.00</td>\n",
              "      <td>1.00</td>\n",
              "    </tr>\n",
              "  </tbody>\n",
              "</table>\n",
              "</div>\n",
              "      <button class=\"colab-df-convert\" onclick=\"convertToInteractive('df-b52ba7b6-0e4c-409f-8df0-608b5222da38')\"\n",
              "              title=\"Convert this dataframe to an interactive table.\"\n",
              "              style=\"display:none;\">\n",
              "        \n",
              "  <svg xmlns=\"http://www.w3.org/2000/svg\" height=\"24px\"viewBox=\"0 0 24 24\"\n",
              "       width=\"24px\">\n",
              "    <path d=\"M0 0h24v24H0V0z\" fill=\"none\"/>\n",
              "    <path d=\"M18.56 5.44l.94 2.06.94-2.06 2.06-.94-2.06-.94-.94-2.06-.94 2.06-2.06.94zm-11 1L8.5 8.5l.94-2.06 2.06-.94-2.06-.94L8.5 2.5l-.94 2.06-2.06.94zm10 10l.94 2.06.94-2.06 2.06-.94-2.06-.94-.94-2.06-.94 2.06-2.06.94z\"/><path d=\"M17.41 7.96l-1.37-1.37c-.4-.4-.92-.59-1.43-.59-.52 0-1.04.2-1.43.59L10.3 9.45l-7.72 7.72c-.78.78-.78 2.05 0 2.83L4 21.41c.39.39.9.59 1.41.59.51 0 1.02-.2 1.41-.59l7.78-7.78 2.81-2.81c.8-.78.8-2.07 0-2.86zM5.41 20L4 18.59l7.72-7.72 1.47 1.35L5.41 20z\"/>\n",
              "  </svg>\n",
              "      </button>\n",
              "      \n",
              "  <style>\n",
              "    .colab-df-container {\n",
              "      display:flex;\n",
              "      flex-wrap:wrap;\n",
              "      gap: 12px;\n",
              "    }\n",
              "\n",
              "    .colab-df-convert {\n",
              "      background-color: #E8F0FE;\n",
              "      border: none;\n",
              "      border-radius: 50%;\n",
              "      cursor: pointer;\n",
              "      display: none;\n",
              "      fill: #1967D2;\n",
              "      height: 32px;\n",
              "      padding: 0 0 0 0;\n",
              "      width: 32px;\n",
              "    }\n",
              "\n",
              "    .colab-df-convert:hover {\n",
              "      background-color: #E2EBFA;\n",
              "      box-shadow: 0px 1px 2px rgba(60, 64, 67, 0.3), 0px 1px 3px 1px rgba(60, 64, 67, 0.15);\n",
              "      fill: #174EA6;\n",
              "    }\n",
              "\n",
              "    [theme=dark] .colab-df-convert {\n",
              "      background-color: #3B4455;\n",
              "      fill: #D2E3FC;\n",
              "    }\n",
              "\n",
              "    [theme=dark] .colab-df-convert:hover {\n",
              "      background-color: #434B5C;\n",
              "      box-shadow: 0px 1px 3px 1px rgba(0, 0, 0, 0.15);\n",
              "      filter: drop-shadow(0px 1px 2px rgba(0, 0, 0, 0.3));\n",
              "      fill: #FFFFFF;\n",
              "    }\n",
              "  </style>\n",
              "\n",
              "      <script>\n",
              "        const buttonEl =\n",
              "          document.querySelector('#df-b52ba7b6-0e4c-409f-8df0-608b5222da38 button.colab-df-convert');\n",
              "        buttonEl.style.display =\n",
              "          google.colab.kernel.accessAllowed ? 'block' : 'none';\n",
              "\n",
              "        async function convertToInteractive(key) {\n",
              "          const element = document.querySelector('#df-b52ba7b6-0e4c-409f-8df0-608b5222da38');\n",
              "          const dataTable =\n",
              "            await google.colab.kernel.invokeFunction('convertToInteractive',\n",
              "                                                     [key], {});\n",
              "          if (!dataTable) return;\n",
              "\n",
              "          const docLinkHtml = 'Like what you see? Visit the ' +\n",
              "            '<a target=\"_blank\" href=https://colab.research.google.com/notebooks/data_table.ipynb>data table notebook</a>'\n",
              "            + ' to learn more about interactive tables.';\n",
              "          element.innerHTML = '';\n",
              "          dataTable['output_type'] = 'display_data';\n",
              "          await google.colab.output.renderOutput(dataTable, element);\n",
              "          const docLink = document.createElement('div');\n",
              "          docLink.innerHTML = docLinkHtml;\n",
              "          element.appendChild(docLink);\n",
              "        }\n",
              "      </script>\n",
              "    </div>\n",
              "  </div>\n",
              "  "
            ]
          },
          "metadata": {},
          "execution_count": 12
        }
      ]
    },
    {
      "cell_type": "code",
      "source": [
        "# Закодируем категориальные переменные (так как в тестовой выборки есть такие модели авто, которые отсутсвуют в тренировочной, то для кодирования датасеты придется объединить) \n",
        "\n",
        "X['sample'] = 1\n",
        "X_test['sample'] = 0\n",
        "\n",
        "X_join = pd.concat([X, X_test])\n",
        "\n",
        "X_join = pd.get_dummies(X_join, columns=categorical_features)\n",
        "\n",
        "X = X_join[X_join['sample'] == 1].drop(['sample'], axis=1)\n",
        "X_test = X_join[X_join['sample'] == 0].drop(['sample'], axis=1)\n"
      ],
      "metadata": {
        "colab": {
          "base_uri": "https://localhost:8080/"
        },
        "id": "BLRvNf-dLEA3",
        "outputId": "2bc69d0a-ed0c-4af4-a444-fe2a321f7ecc"
      },
      "execution_count": null,
      "outputs": [
        {
          "output_type": "stream",
          "name": "stderr",
          "text": [
            "/usr/local/lib/python3.7/dist-packages/ipykernel_launcher.py:3: SettingWithCopyWarning: \n",
            "A value is trying to be set on a copy of a slice from a DataFrame.\n",
            "Try using .loc[row_indexer,col_indexer] = value instead\n",
            "\n",
            "See the caveats in the documentation: https://pandas.pydata.org/pandas-docs/stable/user_guide/indexing.html#returning-a-view-versus-a-copy\n",
            "  This is separate from the ipykernel package so we can avoid doing imports until\n",
            "/usr/local/lib/python3.7/dist-packages/ipykernel_launcher.py:4: SettingWithCopyWarning: \n",
            "A value is trying to be set on a copy of a slice from a DataFrame.\n",
            "Try using .loc[row_indexer,col_indexer] = value instead\n",
            "\n",
            "See the caveats in the documentation: https://pandas.pydata.org/pandas-docs/stable/user_guide/indexing.html#returning-a-view-versus-a-copy\n",
            "  after removing the cwd from sys.path.\n"
          ]
        }
      ]
    },
    {
      "cell_type": "code",
      "source": [
        "# Разбиваем на обучающую и валидационную выборки\n",
        "\n",
        "X_train = pd.concat([Y, X], axis=1)\n",
        "X_train_log = pd.concat([Y_log, X], axis=1)\n",
        "\n",
        "# X_train, X_valid = train_test_split(X, test_size=0.2, random_state=SEED, shuffle=True)\n",
        "# X_train_log, X_valid_log = train_test_split(X_log, test_size=0.2, random_state=SEED, shuffle=True)"
      ],
      "metadata": {
        "id": "9nGRL8mqp9M2"
      },
      "execution_count": null,
      "outputs": []
    },
    {
      "cell_type": "markdown",
      "source": [
        "## Обучение модели"
      ],
      "metadata": {
        "id": "5o2Z2F2wsBSR"
      }
    },
    {
      "cell_type": "code",
      "source": [
        "# определяем задачу\n",
        "\n",
        "task = Task('reg', loss='rmsle', metric='mae')"
      ],
      "metadata": {
        "id": "UItqEn0Wr6pl"
      },
      "execution_count": null,
      "outputs": []
    },
    {
      "cell_type": "code",
      "source": [
        "# определяем роли\n",
        "\n",
        "roles = {\n",
        "    'target' : 'price_log',\n",
        "    #'categorical': categorical_features\n",
        "}"
      ],
      "metadata": {
        "id": "D1ejJYEIRbFW"
      },
      "execution_count": null,
      "outputs": []
    },
    {
      "cell_type": "code",
      "source": [
        "# создаем модель\n",
        "automl_1 = TabularAutoML(\n",
        "    task=task,\n",
        "    timeout=60*60,\n",
        "    general_params = {\n",
        "        'use_algos': [['linear_l2', 'lgb', 'cb'], ['lgb_tuned', 'cb_tuned'] ]\n",
        "        },\n",
        "    reader_params={\n",
        "        'cv': 10,\n",
        "        'random_state': SEED,\n",
        "        'verbose': 1\n",
        "    }\n",
        ")"
      ],
      "metadata": {
        "id": "oVR_h7aasIIu"
      },
      "execution_count": null,
      "outputs": []
    },
    {
      "cell_type": "code",
      "source": [
        "oof_pred_1 = automl_1.fit_predict(X_train_log, roles=roles, verbose=1)"
      ],
      "metadata": {
        "colab": {
          "base_uri": "https://localhost:8080/"
        },
        "id": "VmWyLJx2Bbjc",
        "outputId": "2766ab1d-03af-4b8e-b5c8-7a2211b53b4f"
      },
      "execution_count": null,
      "outputs": [
        {
          "output_type": "stream",
          "name": "stdout",
          "text": [
            "[01:40:40] Stdout logging level is INFO.\n",
            "[01:40:40] Copying TaskTimer may affect the parent PipelineTimer, so copy will create new unlimited TaskTimer\n",
            "[01:40:40] Task: reg\n",
            "\n",
            "[01:40:40] Start automl preset with listed constraints:\n",
            "[01:40:40] - time: 3600.00 seconds\n",
            "[01:40:40] - CPU: 4 cores\n",
            "[01:40:40] - memory: 16 GB\n",
            "\n",
            "[01:40:40] \u001b[1mTrain data shape: (6682, 285)\u001b[0m\n",
            "\n",
            "[01:40:47] Layer \u001b[1m1\u001b[0m train process start. Time left 3593.19 secs\n",
            "[01:40:48] Start fitting \u001b[1mLvl_0_Pipe_0_Mod_0_LinearL2\u001b[0m ...\n",
            "[01:40:55] Fitting \u001b[1mLvl_0_Pipe_0_Mod_0_LinearL2\u001b[0m finished. score = \u001b[1m-0.1721823352969203\u001b[0m\n",
            "[01:40:55] \u001b[1mLvl_0_Pipe_0_Mod_0_LinearL2\u001b[0m fitting and predicting completed\n",
            "[01:40:55] Time left 3585.19 secs\n",
            "\n",
            "[01:40:59] \u001b[1mSelector_LightGBM\u001b[0m fitting and predicting completed\n",
            "[01:41:00] Start fitting \u001b[1mLvl_0_Pipe_1_Mod_0_LightGBM\u001b[0m ...\n",
            "[01:41:49] Fitting \u001b[1mLvl_0_Pipe_1_Mod_0_LightGBM\u001b[0m finished. score = \u001b[1m-0.14059595917477302\u001b[0m\n",
            "[01:41:49] \u001b[1mLvl_0_Pipe_1_Mod_0_LightGBM\u001b[0m fitting and predicting completed\n",
            "[01:41:49] Start fitting \u001b[1mLvl_0_Pipe_1_Mod_1_CatBoost\u001b[0m ...\n",
            "[01:42:33] Fitting \u001b[1mLvl_0_Pipe_1_Mod_1_CatBoost\u001b[0m finished. score = \u001b[1m-0.11875163686885304\u001b[0m\n",
            "[01:42:33] \u001b[1mLvl_0_Pipe_1_Mod_1_CatBoost\u001b[0m fitting and predicting completed\n",
            "[01:42:33] Time left 3486.99 secs\n",
            "\n",
            "[01:42:33] \u001b[1mLayer 1 training completed.\u001b[0m\n",
            "\n",
            "[01:42:34] Layer \u001b[1m2\u001b[0m train process start. Time left 3486.94 secs\n",
            "[01:42:34] Start hyperparameters optimization for \u001b[1mLvl_1_Pipe_0_Mod_0_Tuned_LightGBM\u001b[0m ... Time budget is 300.00 secs\n",
            "[01:47:44] Hyperparameters optimization for \u001b[1mLvl_1_Pipe_0_Mod_0_Tuned_LightGBM\u001b[0m completed\n",
            "[01:47:44] Start fitting \u001b[1mLvl_1_Pipe_0_Mod_0_Tuned_LightGBM\u001b[0m ...\n",
            "[01:48:10] Fitting \u001b[1mLvl_1_Pipe_0_Mod_0_Tuned_LightGBM\u001b[0m finished. score = \u001b[1m-0.12600614791202078\u001b[0m\n",
            "[01:48:10] \u001b[1mLvl_1_Pipe_0_Mod_0_Tuned_LightGBM\u001b[0m fitting and predicting completed\n",
            "[01:48:10] Start hyperparameters optimization for \u001b[1mLvl_1_Pipe_0_Mod_1_Tuned_CatBoost\u001b[0m ... Time budget is 300.00 secs\n",
            "[01:53:16] Hyperparameters optimization for \u001b[1mLvl_1_Pipe_0_Mod_1_Tuned_CatBoost\u001b[0m completed\n",
            "[01:53:16] Start fitting \u001b[1mLvl_1_Pipe_0_Mod_1_Tuned_CatBoost\u001b[0m ...\n",
            "[01:54:34] Fitting \u001b[1mLvl_1_Pipe_0_Mod_1_Tuned_CatBoost\u001b[0m finished. score = \u001b[1m-0.1192949699448957\u001b[0m\n",
            "[01:54:34] \u001b[1mLvl_1_Pipe_0_Mod_1_Tuned_CatBoost\u001b[0m fitting and predicting completed\n",
            "[01:54:34] Time left 2766.12 secs\n",
            "\n",
            "[01:54:34] \u001b[1mLayer 2 training completed.\u001b[0m\n",
            "\n",
            "[01:54:34] Blending: optimization starts with equal weights and score \u001b[1m-0.12029823416722013\u001b[0m\n",
            "[01:54:34] Blending: iteration \u001b[1m0\u001b[0m: score = \u001b[1m-0.11915263395414363\u001b[0m, weights = \u001b[1m[0.13173406 0.8682659 ]\u001b[0m\n",
            "[01:54:34] Blending: iteration \u001b[1m1\u001b[0m: score = \u001b[1m-0.11915263395414363\u001b[0m, weights = \u001b[1m[0.13173406 0.8682659 ]\u001b[0m\n",
            "[01:54:34] Blending: no score update. Terminated\n",
            "\n",
            "[01:54:34] \u001b[1mAutoml preset training completed in 833.94 seconds\u001b[0m\n",
            "\n",
            "[01:54:34] Model description:\n",
            "Models on level 0:\n",
            "\t 10 averaged models Lvl_0_Pipe_0_Mod_0_LinearL2\n",
            "\t 10 averaged models Lvl_0_Pipe_1_Mod_0_LightGBM\n",
            "\t 10 averaged models Lvl_0_Pipe_1_Mod_1_CatBoost\n",
            "\n",
            "Final prediction for new objects (level 1) = \n",
            "\t 0.13173 * (10 averaged models Lvl_1_Pipe_0_Mod_0_Tuned_LightGBM) +\n",
            "\t 0.86827 * (10 averaged models Lvl_1_Pipe_0_Mod_1_Tuned_CatBoost) \n",
            "\n"
          ]
        }
      ]
    },
    {
      "cell_type": "code",
      "source": [
        "# Структура модели\n",
        "print(automl_1.create_model_str_desc())"
      ],
      "metadata": {
        "colab": {
          "base_uri": "https://localhost:8080/"
        },
        "id": "CFwHowNXfLAf",
        "outputId": "ff67f89e-c43b-49d2-87a3-3ef3058291b7"
      },
      "execution_count": null,
      "outputs": [
        {
          "output_type": "stream",
          "name": "stdout",
          "text": [
            "Models on level 0:\n",
            "\t 10 averaged models Lvl_0_Pipe_0_Mod_0_LinearL2\n",
            "\t 10 averaged models Lvl_0_Pipe_1_Mod_0_LightGBM\n",
            "\t 10 averaged models Lvl_0_Pipe_1_Mod_1_CatBoost\n",
            "\n",
            "Final prediction for new objects (level 1) = \n",
            "\t 0.13173 * (10 averaged models Lvl_1_Pipe_0_Mod_0_Tuned_LightGBM) +\n",
            "\t 0.86827 * (10 averaged models Lvl_1_Pipe_0_Mod_1_Tuned_CatBoost) \n"
          ]
        }
      ]
    },
    {
      "cell_type": "code",
      "source": [
        "oof_pred_exp = np.exp(oof_pred_1.data[:, 0])\n",
        "\n",
        "mean_absolute_percentage_error(np.exp(X_train_log['price_log']), oof_pred_exp)"
      ],
      "metadata": {
        "colab": {
          "base_uri": "https://localhost:8080/"
        },
        "id": "2H9ORhvKfLGL",
        "outputId": "07868cea-d833-411f-82ab-94636bed7d48"
      },
      "execution_count": null,
      "outputs": [
        {
          "output_type": "execute_result",
          "data": {
            "text/plain": [
              "0.11916327349811232"
            ]
          },
          "metadata": {},
          "execution_count": 29
        }
      ]
    },
    {
      "cell_type": "code",
      "source": [
        "oof_pred_exp = np.exp(oof_pred_1.data[:, 0])\n",
        "\n",
        "mean_absolute_percentage_error(np.exp(X_train_log['price_log']), oof_pred_exp)"
      ],
      "metadata": {
        "colab": {
          "base_uri": "https://localhost:8080/"
        },
        "id": "5U5NsnXE9GEf",
        "outputId": "f11d6e4f-2296-4316-87e0-ed28cf69f59e"
      },
      "execution_count": null,
      "outputs": [
        {
          "output_type": "execute_result",
          "data": {
            "text/plain": [
              "0.11916327349811232"
            ]
          },
          "metadata": {},
          "execution_count": 30
        }
      ]
    },
    {
      "cell_type": "markdown",
      "source": [
        "### Важность признаков"
      ],
      "metadata": {
        "id": "tJmRN-SXpoeG"
      }
    },
    {
      "cell_type": "code",
      "source": [
        "fast_fi_1 = automl_1.get_feature_scores('fast')\n",
        "fast_fi_1[:15].set_index('Feature')['Importance'].plot.bar(figsize=(20, 5), grid=True)"
      ],
      "metadata": {
        "colab": {
          "base_uri": "https://localhost:8080/",
          "height": 533
        },
        "id": "QnX89kx7fLLW",
        "outputId": "a2e29298-f269-459f-c8a2-d4ddbc88755e"
      },
      "execution_count": null,
      "outputs": [
        {
          "output_type": "execute_result",
          "data": {
            "text/plain": [
              "<matplotlib.axes._subplots.AxesSubplot at 0x7f1721aed390>"
            ]
          },
          "metadata": {},
          "execution_count": 101
        },
        {
          "output_type": "display_data",
          "data": {
            "text/plain": [
              "<Figure size 1440x360 with 1 Axes>"
            ],
            "image/png": "[encoded data removed]"
          },
          "metadata": {
            "needs_background": "light"
          }
        }
      ]
    },
    {
      "cell_type": "code",
      "source": [
        "# создаем модель\n",
        "automl_2 = TabularUtilizedAutoML(\n",
        "    task=task,\n",
        "    timeout=60*60,\n",
        "    general_params = {\n",
        "        'use_algos': [['linear_l2', 'lgb', 'cb'], ['lgb_tuned', 'cb_tuned'], ]\n",
        "        },\n",
        "    reader_params={\n",
        "        'cv': 10,\n",
        "        'random_state': SEED,\n",
        "        'verbose': 1\n",
        "    }\n",
        ")"
      ],
      "metadata": {
        "id": "r6p0KGZKqjfZ"
      },
      "execution_count": null,
      "outputs": []
    },
    {
      "cell_type": "code",
      "source": [
        "oof_pred_2 = automl_2.fit_predict(X_train_log, roles=roles, verbose=1)"
      ],
      "metadata": {
        "colab": {
          "base_uri": "https://localhost:8080/"
        },
        "id": "_TygIdysqjlG",
        "outputId": "e3395ae1-3b2a-49dd-f5da-d27b1eb9a335"
      },
      "execution_count": null,
      "outputs": [
        {
          "output_type": "stream",
          "name": "stdout",
          "text": [
            "[01:56:13] Start automl \u001b[1mutilizator\u001b[0m with listed constraints:\n",
            "[01:56:13] - time: 3600.00 seconds\n",
            "[01:56:14] - CPU: 4 cores\n",
            "[01:56:14] - memory: 16 GB\n",
            "\n",
            "[01:56:14] \u001b[1mIf one preset completes earlier, next preset configuration will be started\u001b[0m\n",
            "\n",
            "[01:56:14] ==================================================\n",
            "[01:56:14] Start 0 automl preset configuration:\n",
            "[01:56:14] \u001b[1mconf_0_sel_type_0.yml\u001b[0m, random state: {'reader_params': {'random_state': 42}, 'general_params': {'return_all_predictions': False}}\n",
            "[01:56:14] Stdout logging level is INFO.\n",
            "[01:56:14] Task: reg\n",
            "\n",
            "[01:56:14] Start automl preset with listed constraints:\n",
            "[01:56:14] - time: 3599.99 seconds\n",
            "[01:56:14] - CPU: 4 cores\n",
            "[01:56:14] - memory: 16 GB\n",
            "\n",
            "[01:56:14] \u001b[1mTrain data shape: (6682, 285)\u001b[0m\n",
            "\n",
            "[01:56:20] Layer \u001b[1m1\u001b[0m train process start. Time left 3593.91 secs\n",
            "[01:56:20] Start fitting \u001b[1mLvl_0_Pipe_0_Mod_0_LinearL2\u001b[0m ...\n",
            "[01:56:23] Fitting \u001b[1mLvl_0_Pipe_0_Mod_0_LinearL2\u001b[0m finished. score = \u001b[1m-0.1721823352969203\u001b[0m\n",
            "[01:56:23] \u001b[1mLvl_0_Pipe_0_Mod_0_LinearL2\u001b[0m fitting and predicting completed\n",
            "[01:56:23] Time left 3590.73 secs\n",
            "\n",
            "[01:56:23] Start fitting \u001b[1mLvl_0_Pipe_1_Mod_0_LightGBM\u001b[0m ...\n",
            "[01:57:14] Fitting \u001b[1mLvl_0_Pipe_1_Mod_0_LightGBM\u001b[0m finished. score = \u001b[1m-0.14026074074994294\u001b[0m\n",
            "[01:57:14] \u001b[1mLvl_0_Pipe_1_Mod_0_LightGBM\u001b[0m fitting and predicting completed\n",
            "[01:57:14] Start fitting \u001b[1mLvl_0_Pipe_1_Mod_1_CatBoost\u001b[0m ...\n",
            "[01:58:00] Fitting \u001b[1mLvl_0_Pipe_1_Mod_1_CatBoost\u001b[0m finished. score = \u001b[1m-0.11831650058498995\u001b[0m\n",
            "[01:58:00] \u001b[1mLvl_0_Pipe_1_Mod_1_CatBoost\u001b[0m fitting and predicting completed\n",
            "[01:58:00] Time left 3493.61 secs\n",
            "\n",
            "[01:58:00] \u001b[1mLayer 1 training completed.\u001b[0m\n",
            "\n",
            "[01:58:00] Layer \u001b[1m2\u001b[0m train process start. Time left 3493.57 secs\n",
            "[01:58:00] Start hyperparameters optimization for \u001b[1mLvl_1_Pipe_0_Mod_0_Tuned_LightGBM\u001b[0m ... Time budget is 300.00 secs\n",
            "[02:03:02] Hyperparameters optimization for \u001b[1mLvl_1_Pipe_0_Mod_0_Tuned_LightGBM\u001b[0m completed\n",
            "[02:03:02] Start fitting \u001b[1mLvl_1_Pipe_0_Mod_0_Tuned_LightGBM\u001b[0m ...\n",
            "[02:03:19] Fitting \u001b[1mLvl_1_Pipe_0_Mod_0_Tuned_LightGBM\u001b[0m finished. score = \u001b[1m-0.12308707172577722\u001b[0m\n",
            "[02:03:19] \u001b[1mLvl_1_Pipe_0_Mod_0_Tuned_LightGBM\u001b[0m fitting and predicting completed\n",
            "[02:03:19] Start hyperparameters optimization for \u001b[1mLvl_1_Pipe_0_Mod_1_Tuned_CatBoost\u001b[0m ... Time budget is 300.00 secs\n",
            "[02:08:24] Hyperparameters optimization for \u001b[1mLvl_1_Pipe_0_Mod_1_Tuned_CatBoost\u001b[0m completed\n",
            "[02:08:24] Start fitting \u001b[1mLvl_1_Pipe_0_Mod_1_Tuned_CatBoost\u001b[0m ...\n",
            "[02:08:56] Fitting \u001b[1mLvl_1_Pipe_0_Mod_1_Tuned_CatBoost\u001b[0m finished. score = \u001b[1m-0.12399890952816928\u001b[0m\n",
            "[02:08:56] \u001b[1mLvl_1_Pipe_0_Mod_1_Tuned_CatBoost\u001b[0m fitting and predicting completed\n",
            "[02:08:56] Time left 2837.48 secs\n",
            "\n",
            "[02:08:56] \u001b[1mLayer 2 training completed.\u001b[0m\n",
            "\n",
            "[02:08:56] Blending: optimization starts with equal weights and score \u001b[1m-0.12175230367716952\u001b[0m\n",
            "[02:08:56] Blending: iteration \u001b[1m0\u001b[0m: score = \u001b[1m-0.12173478889251134\u001b[0m, weights = \u001b[1m[0.550211 0.449789]\u001b[0m\n",
            "[02:08:56] Blending: iteration \u001b[1m1\u001b[0m: score = \u001b[1m-0.12173478889251134\u001b[0m, weights = \u001b[1m[0.550211 0.449789]\u001b[0m\n",
            "[02:08:56] Blending: no score update. Terminated\n",
            "\n",
            "[02:08:56] \u001b[1mAutoml preset training completed in 762.55 seconds\u001b[0m\n",
            "\n",
            "[02:08:56] Model description:\n",
            "Models on level 0:\n",
            "\t 10 averaged models Lvl_0_Pipe_0_Mod_0_LinearL2\n",
            "\t 10 averaged models Lvl_0_Pipe_1_Mod_0_LightGBM\n",
            "\t 10 averaged models Lvl_0_Pipe_1_Mod_1_CatBoost\n",
            "\n",
            "Final prediction for new objects (level 1) = \n",
            "\t 0.55021 * (10 averaged models Lvl_1_Pipe_0_Mod_0_Tuned_LightGBM) +\n",
            "\t 0.44979 * (10 averaged models Lvl_1_Pipe_0_Mod_1_Tuned_CatBoost) \n",
            "\n",
            "[02:08:56] ==================================================\n",
            "[02:08:56] Start 1 automl preset configuration:\n",
            "[02:08:56] \u001b[1mconf_1_sel_type_1.yml\u001b[0m, random state: {'reader_params': {'random_state': 43}, 'general_params': {'return_all_predictions': False}}\n",
            "[02:08:56] Stdout logging level is INFO.\n",
            "[02:08:56] Task: reg\n",
            "\n",
            "[02:08:56] Start automl preset with listed constraints:\n",
            "[02:08:56] - time: 2837.38 seconds\n",
            "[02:08:56] - CPU: 4 cores\n",
            "[02:08:56] - memory: 16 GB\n",
            "\n",
            "[02:08:56] \u001b[1mTrain data shape: (6682, 285)\u001b[0m\n",
            "\n",
            "[02:09:04] Layer \u001b[1m1\u001b[0m train process start. Time left 2829.50 secs\n",
            "[02:09:04] Start fitting \u001b[1mLvl_0_Pipe_0_Mod_0_LinearL2\u001b[0m ...\n",
            "[02:09:07] Fitting \u001b[1mLvl_0_Pipe_0_Mod_0_LinearL2\u001b[0m finished. score = \u001b[1m-0.17216108823456477\u001b[0m\n",
            "[02:09:07] \u001b[1mLvl_0_Pipe_0_Mod_0_LinearL2\u001b[0m fitting and predicting completed\n",
            "[02:09:07] Time left 2826.44 secs\n",
            "\n",
            "[02:09:11] \u001b[1mSelector_LightGBM\u001b[0m fitting and predicting completed\n",
            "[02:09:11] Start fitting \u001b[1mLvl_0_Pipe_1_Mod_0_LightGBM\u001b[0m ...\n",
            "[02:09:58] Fitting \u001b[1mLvl_0_Pipe_1_Mod_0_LightGBM\u001b[0m finished. score = \u001b[1m-0.1400595383945635\u001b[0m\n",
            "[02:09:58] \u001b[1mLvl_0_Pipe_1_Mod_0_LightGBM\u001b[0m fitting and predicting completed\n",
            "[02:09:58] Start fitting \u001b[1mLvl_0_Pipe_1_Mod_1_CatBoost\u001b[0m ...\n",
            "[02:10:39] Fitting \u001b[1mLvl_0_Pipe_1_Mod_1_CatBoost\u001b[0m finished. score = \u001b[1m-0.11939041994627098\u001b[0m\n",
            "[02:10:39] \u001b[1mLvl_0_Pipe_1_Mod_1_CatBoost\u001b[0m fitting and predicting completed\n",
            "[02:10:39] Time left 2734.22 secs\n",
            "\n",
            "[02:10:39] \u001b[1mLayer 1 training completed.\u001b[0m\n",
            "\n",
            "[02:10:39] Layer \u001b[1m2\u001b[0m train process start. Time left 2734.17 secs\n",
            "[02:10:40] Start hyperparameters optimization for \u001b[1mLvl_1_Pipe_0_Mod_0_Tuned_LightGBM\u001b[0m ... Time budget is 300.00 secs\n",
            "[02:15:42] Hyperparameters optimization for \u001b[1mLvl_1_Pipe_0_Mod_0_Tuned_LightGBM\u001b[0m completed\n",
            "[02:15:42] Start fitting \u001b[1mLvl_1_Pipe_0_Mod_0_Tuned_LightGBM\u001b[0m ...\n",
            "[02:16:04] Fitting \u001b[1mLvl_1_Pipe_0_Mod_0_Tuned_LightGBM\u001b[0m finished. score = \u001b[1m-0.12491449384972311\u001b[0m\n",
            "[02:16:04] \u001b[1mLvl_1_Pipe_0_Mod_0_Tuned_LightGBM\u001b[0m fitting and predicting completed\n",
            "[02:16:04] Start hyperparameters optimization for \u001b[1mLvl_1_Pipe_0_Mod_1_Tuned_CatBoost\u001b[0m ... Time budget is 300.00 secs\n",
            "[02:21:05] Hyperparameters optimization for \u001b[1mLvl_1_Pipe_0_Mod_1_Tuned_CatBoost\u001b[0m completed\n",
            "[02:21:05] Start fitting \u001b[1mLvl_1_Pipe_0_Mod_1_Tuned_CatBoost\u001b[0m ...\n",
            "[02:22:12] Fitting \u001b[1mLvl_1_Pipe_0_Mod_1_Tuned_CatBoost\u001b[0m finished. score = \u001b[1m-0.11808965342589965\u001b[0m\n",
            "[02:22:12] \u001b[1mLvl_1_Pipe_0_Mod_1_Tuned_CatBoost\u001b[0m fitting and predicting completed\n",
            "[02:22:12] Time left 2041.73 secs\n",
            "\n",
            "[02:22:12] \u001b[1mLayer 2 training completed.\u001b[0m\n",
            "\n",
            "[02:22:12] Blending: optimization starts with equal weights and score \u001b[1m-0.11942825864159491\u001b[0m\n",
            "[02:22:12] Blending: iteration \u001b[1m0\u001b[0m: score = \u001b[1m-0.11798406875745396\u001b[0m, weights = \u001b[1m[0.10696458 0.8930354 ]\u001b[0m\n",
            "[02:22:12] Blending: iteration \u001b[1m1\u001b[0m: score = \u001b[1m-0.11798406875745396\u001b[0m, weights = \u001b[1m[0.10696458 0.8930354 ]\u001b[0m\n",
            "[02:22:12] Blending: no score update. Terminated\n",
            "\n",
            "[02:22:12] \u001b[1mAutoml preset training completed in 795.70 seconds\u001b[0m\n",
            "\n",
            "[02:22:12] Model description:\n",
            "Models on level 0:\n",
            "\t 10 averaged models Lvl_0_Pipe_0_Mod_0_LinearL2\n",
            "\t 10 averaged models Lvl_0_Pipe_1_Mod_0_LightGBM\n",
            "\t 10 averaged models Lvl_0_Pipe_1_Mod_1_CatBoost\n",
            "\n",
            "Final prediction for new objects (level 1) = \n",
            "\t 0.10696 * (10 averaged models Lvl_1_Pipe_0_Mod_0_Tuned_LightGBM) +\n",
            "\t 0.89304 * (10 averaged models Lvl_1_Pipe_0_Mod_1_Tuned_CatBoost) \n",
            "\n",
            "[02:22:12] ==================================================\n",
            "[02:22:12] Start 2 automl preset configuration:\n",
            "[02:22:12] \u001b[1mconf_2_select_mode_1_no_typ.yml\u001b[0m, random state: {'reader_params': {'random_state': 44}, 'general_params': {'return_all_predictions': False}}\n",
            "[02:22:12] Stdout logging level is INFO.\n",
            "[02:22:12] Task: reg\n",
            "\n",
            "[02:22:12] Start automl preset with listed constraints:\n",
            "[02:22:12] - time: 2041.62 seconds\n",
            "[02:22:12] - CPU: 4 cores\n",
            "[02:22:12] - memory: 16 GB\n",
            "\n",
            "[02:22:12] \u001b[1mTrain data shape: (6682, 285)\u001b[0m\n",
            "\n",
            "[02:22:12] Layer \u001b[1m1\u001b[0m train process start. Time left 2041.28 secs\n",
            "[02:22:12] Start fitting \u001b[1mLvl_0_Pipe_0_Mod_0_LinearL2\u001b[0m ...\n",
            "[02:22:15] Fitting \u001b[1mLvl_0_Pipe_0_Mod_0_LinearL2\u001b[0m finished. score = \u001b[1m-0.18493938632002582\u001b[0m\n",
            "[02:22:15] \u001b[1mLvl_0_Pipe_0_Mod_0_LinearL2\u001b[0m fitting and predicting completed\n",
            "[02:22:15] Time left 2038.55 secs\n",
            "\n",
            "[02:22:19] \u001b[1mSelector_LightGBM\u001b[0m fitting and predicting completed\n",
            "[02:22:19] Start fitting \u001b[1mLvl_0_Pipe_1_Mod_0_LightGBM\u001b[0m ...\n",
            "[02:22:57] Fitting \u001b[1mLvl_0_Pipe_1_Mod_0_LightGBM\u001b[0m finished. score = \u001b[1m-0.14109467298162368\u001b[0m\n",
            "[02:22:57] \u001b[1mLvl_0_Pipe_1_Mod_0_LightGBM\u001b[0m fitting and predicting completed\n",
            "[02:22:57] Start fitting \u001b[1mLvl_0_Pipe_1_Mod_1_CatBoost\u001b[0m ...\n",
            "[02:23:32] Fitting \u001b[1mLvl_0_Pipe_1_Mod_1_CatBoost\u001b[0m finished. score = \u001b[1m-0.11843057372097483\u001b[0m\n",
            "[02:23:32] \u001b[1mLvl_0_Pipe_1_Mod_1_CatBoost\u001b[0m fitting and predicting completed\n",
            "[02:23:32] Time left 1961.87 secs\n",
            "\n",
            "[02:23:32] \u001b[1mLayer 1 training completed.\u001b[0m\n",
            "\n",
            "[02:23:32] Layer \u001b[1m2\u001b[0m train process start. Time left 1961.83 secs\n",
            "[02:23:32] Start hyperparameters optimization for \u001b[1mLvl_1_Pipe_0_Mod_0_Tuned_LightGBM\u001b[0m ... Time budget is 300.00 secs\n",
            "[02:28:40] Hyperparameters optimization for \u001b[1mLvl_1_Pipe_0_Mod_0_Tuned_LightGBM\u001b[0m completed\n",
            "[02:28:40] Start fitting \u001b[1mLvl_1_Pipe_0_Mod_0_Tuned_LightGBM\u001b[0m ...\n",
            "[02:29:02] Fitting \u001b[1mLvl_1_Pipe_0_Mod_0_Tuned_LightGBM\u001b[0m finished. score = \u001b[1m-0.12404169155800286\u001b[0m\n",
            "[02:29:02] \u001b[1mLvl_1_Pipe_0_Mod_0_Tuned_LightGBM\u001b[0m fitting and predicting completed\n",
            "[02:29:02] Start hyperparameters optimization for \u001b[1mLvl_1_Pipe_0_Mod_1_Tuned_CatBoost\u001b[0m ... Time budget is 300.00 secs\n",
            "[02:34:03] Hyperparameters optimization for \u001b[1mLvl_1_Pipe_0_Mod_1_Tuned_CatBoost\u001b[0m completed\n",
            "[02:34:03] Start fitting \u001b[1mLvl_1_Pipe_0_Mod_1_Tuned_CatBoost\u001b[0m ...\n",
            "[02:35:08] Fitting \u001b[1mLvl_1_Pipe_0_Mod_1_Tuned_CatBoost\u001b[0m finished. score = \u001b[1m-0.11801103591842876\u001b[0m\n",
            "[02:35:08] \u001b[1mLvl_1_Pipe_0_Mod_1_Tuned_CatBoost\u001b[0m fitting and predicting completed\n",
            "[02:35:09] Time left 1265.06 secs\n",
            "\n",
            "[02:35:09] \u001b[1mLayer 2 training completed.\u001b[0m\n",
            "\n",
            "[02:35:09] Blending: optimization starts with equal weights and score \u001b[1m-0.11854856662540426\u001b[0m\n",
            "[02:35:09] Blending: iteration \u001b[1m0\u001b[0m: score = \u001b[1m-0.11757847862101947\u001b[0m, weights = \u001b[1m[0.1937884 0.8062116]\u001b[0m\n",
            "[02:35:09] Blending: iteration \u001b[1m1\u001b[0m: score = \u001b[1m-0.11757847862101947\u001b[0m, weights = \u001b[1m[0.1937884 0.8062116]\u001b[0m\n",
            "[02:35:09] Blending: no score update. Terminated\n",
            "\n",
            "[02:35:09] \u001b[1mAutoml preset training completed in 776.61 seconds\u001b[0m\n",
            "\n",
            "[02:35:09] Model description:\n",
            "Models on level 0:\n",
            "\t 10 averaged models Lvl_0_Pipe_0_Mod_0_LinearL2\n",
            "\t 10 averaged models Lvl_0_Pipe_1_Mod_0_LightGBM\n",
            "\t 10 averaged models Lvl_0_Pipe_1_Mod_1_CatBoost\n",
            "\n",
            "Final prediction for new objects (level 1) = \n",
            "\t 0.19379 * (10 averaged models Lvl_1_Pipe_0_Mod_0_Tuned_LightGBM) +\n",
            "\t 0.80621 * (10 averaged models Lvl_1_Pipe_0_Mod_1_Tuned_CatBoost) \n",
            "\n",
            "[02:35:09] ==================================================\n",
            "[02:35:09] Start 3 automl preset configuration:\n",
            "[02:35:09] \u001b[1mconf_3_sel_type_1_no_inter_lgbm.yml\u001b[0m, random state: {'reader_params': {'random_state': 45}, 'general_params': {'return_all_predictions': False}}\n",
            "[02:35:09] Stdout logging level is INFO.\n",
            "[02:35:09] Task: reg\n",
            "\n",
            "[02:35:09] Start automl preset with listed constraints:\n",
            "[02:35:09] - time: 1264.95 seconds\n",
            "[02:35:09] - CPU: 4 cores\n",
            "[02:35:09] - memory: 16 GB\n",
            "\n",
            "[02:35:09] \u001b[1mTrain data shape: (6682, 285)\u001b[0m\n",
            "\n",
            "[02:35:15] Layer \u001b[1m1\u001b[0m train process start. Time left 1258.95 secs\n",
            "[02:35:15] Start fitting \u001b[1mLvl_0_Pipe_0_Mod_0_LinearL2\u001b[0m ...\n",
            "[02:35:18] Fitting \u001b[1mLvl_0_Pipe_0_Mod_0_LinearL2\u001b[0m finished. score = \u001b[1m-0.17239166853930493\u001b[0m\n",
            "[02:35:18] \u001b[1mLvl_0_Pipe_0_Mod_0_LinearL2\u001b[0m fitting and predicting completed\n",
            "[02:35:18] Time left 1255.59 secs\n",
            "\n",
            "[02:35:22] \u001b[1mSelector_LightGBM\u001b[0m fitting and predicting completed\n",
            "[02:35:22] Start fitting \u001b[1mLvl_0_Pipe_1_Mod_0_LightGBM\u001b[0m ...\n",
            "[02:36:07] Fitting \u001b[1mLvl_0_Pipe_1_Mod_0_LightGBM\u001b[0m finished. score = \u001b[1m-0.14309910947528162\u001b[0m\n",
            "[02:36:07] \u001b[1mLvl_0_Pipe_1_Mod_0_LightGBM\u001b[0m fitting and predicting completed\n",
            "[02:36:07] Start fitting \u001b[1mLvl_0_Pipe_1_Mod_1_CatBoost\u001b[0m ...\n",
            "[02:36:46] Fitting \u001b[1mLvl_0_Pipe_1_Mod_1_CatBoost\u001b[0m finished. score = \u001b[1m-0.11972295948502076\u001b[0m\n",
            "[02:36:46] \u001b[1mLvl_0_Pipe_1_Mod_1_CatBoost\u001b[0m fitting and predicting completed\n",
            "[02:36:46] Time left 1167.89 secs\n",
            "\n",
            "[02:36:46] \u001b[1mLayer 1 training completed.\u001b[0m\n",
            "\n",
            "[02:36:46] Layer \u001b[1m2\u001b[0m train process start. Time left 1167.84 secs\n",
            "[02:36:46] Start hyperparameters optimization for \u001b[1mLvl_1_Pipe_0_Mod_0_Tuned_LightGBM\u001b[0m ... Time budget is 140.30 secs\n",
            "[02:39:12] Hyperparameters optimization for \u001b[1mLvl_1_Pipe_0_Mod_0_Tuned_LightGBM\u001b[0m completed\n",
            "[02:39:12] Start fitting \u001b[1mLvl_1_Pipe_0_Mod_0_Tuned_LightGBM\u001b[0m ...\n",
            "[02:39:37] Fitting \u001b[1mLvl_1_Pipe_0_Mod_0_Tuned_LightGBM\u001b[0m finished. score = \u001b[1m-0.1279453814638606\u001b[0m\n",
            "[02:39:37] \u001b[1mLvl_1_Pipe_0_Mod_0_Tuned_LightGBM\u001b[0m fitting and predicting completed\n",
            "[02:39:37] Start hyperparameters optimization for \u001b[1mLvl_1_Pipe_0_Mod_1_Tuned_CatBoost\u001b[0m ... Time budget is 300.00 secs\n",
            "[02:44:38] Hyperparameters optimization for \u001b[1mLvl_1_Pipe_0_Mod_1_Tuned_CatBoost\u001b[0m completed\n",
            "[02:44:38] Start fitting \u001b[1mLvl_1_Pipe_0_Mod_1_Tuned_CatBoost\u001b[0m ...\n",
            "[02:45:31] Fitting \u001b[1mLvl_1_Pipe_0_Mod_1_Tuned_CatBoost\u001b[0m finished. score = \u001b[1m-0.12001363348384265\u001b[0m\n",
            "[02:45:31] \u001b[1mLvl_1_Pipe_0_Mod_1_Tuned_CatBoost\u001b[0m fitting and predicting completed\n",
            "[02:45:31] Time left 642.95 secs\n",
            "\n",
            "[02:45:31] \u001b[1mLayer 2 training completed.\u001b[0m\n",
            "\n",
            "[02:45:31] Blending: optimization starts with equal weights and score \u001b[1m-0.12048808520043526\u001b[0m\n",
            "[02:45:31] Blending: iteration \u001b[1m0\u001b[0m: score = \u001b[1m-0.11930500547888286\u001b[0m, weights = \u001b[1m[0.21776378 0.7822362 ]\u001b[0m\n",
            "[02:45:31] Blending: iteration \u001b[1m1\u001b[0m: score = \u001b[1m-0.11930500547888286\u001b[0m, weights = \u001b[1m[0.21776378 0.7822362 ]\u001b[0m\n",
            "[02:45:31] Blending: no score update. Terminated\n",
            "\n",
            "[02:45:31] \u001b[1mAutoml preset training completed in 622.05 seconds\u001b[0m\n",
            "\n",
            "[02:45:31] Model description:\n",
            "Models on level 0:\n",
            "\t 10 averaged models Lvl_0_Pipe_0_Mod_0_LinearL2\n",
            "\t 10 averaged models Lvl_0_Pipe_1_Mod_0_LightGBM\n",
            "\t 10 averaged models Lvl_0_Pipe_1_Mod_1_CatBoost\n",
            "\n",
            "Final prediction for new objects (level 1) = \n",
            "\t 0.21776 * (10 averaged models Lvl_1_Pipe_0_Mod_0_Tuned_LightGBM) +\n",
            "\t 0.78224 * (10 averaged models Lvl_1_Pipe_0_Mod_1_Tuned_CatBoost) \n",
            "\n",
            "[02:45:31] ==================================================\n",
            "[02:45:31] Blending: optimization starts with equal weights and score \u001b[1m-0.11621144483809352\u001b[0m\n",
            "[02:45:31] Blending: iteration \u001b[1m0\u001b[0m: score = \u001b[1m-0.11584507197143015\u001b[0m, weights = \u001b[1m[0.10379564 0.330036   0.49939793 0.06677041]\u001b[0m\n",
            "[02:45:31] Blending: iteration \u001b[1m1\u001b[0m: score = \u001b[1m-0.11582451891412017\u001b[0m, weights = \u001b[1m[0.12436651 0.36887965 0.45102578 0.05572809]\u001b[0m\n",
            "[02:45:31] Blending: iteration \u001b[1m2\u001b[0m: score = \u001b[1m-0.11582381136137022\u001b[0m, weights = \u001b[1m[0.13311204 0.36366284 0.44828516 0.05493996]\u001b[0m\n",
            "[02:45:31] Blending: iteration \u001b[1m3\u001b[0m: score = \u001b[1m-0.11582382477282874\u001b[0m, weights = \u001b[1m[0.1345025  0.36307952 0.4475661  0.05485183]\u001b[0m\n",
            "[02:45:31] Blending: iteration \u001b[1m4\u001b[0m: score = \u001b[1m-0.11582380751343337\u001b[0m, weights = \u001b[1m[0.13385087 0.3633529  0.4479031  0.05489314]\u001b[0m\n"
          ]
        }
      ]
    },
    {
      "cell_type": "code",
      "source": [
        "# Структура модели\n",
        "print(automl_2.create_model_str_desc())\n"
      ],
      "metadata": {
        "colab": {
          "base_uri": "https://localhost:8080/"
        },
        "id": "LMAi_lrO6FDw",
        "outputId": "1eaff11c-687d-454a-cec9-ddfa91b9a623"
      },
      "execution_count": null,
      "outputs": [
        {
          "output_type": "stream",
          "name": "stdout",
          "text": [
            "Final prediction for new objects = \n",
            "\t0.23194 * 1 averaged models with config = \"conf_0_sel_type_0.yml\" and different CV random_states. Their structures: \n",
            "\n",
            "\t    Model #0.\n",
            "\t\t================================================================================\n",
            "\t\tModels on level 0:\n",
            "\t\t\t 10 averaged models Lvl_0_Pipe_0_Mod_0_LinearL2\n",
            "\t\t\t 10 averaged models Lvl_0_Pipe_1_Mod_0_LightGBM\n",
            "\t\t\t 10 averaged models Lvl_0_Pipe_1_Mod_1_CatBoost\n",
            "\n",
            "\t\tFinal prediction for new objects (level 1) = \n",
            "\t\t\t 0.69292 * (10 averaged models Lvl_1_Pipe_0_Mod_0_Tuned_LightGBM) +\n",
            "\t\t\t 0.30708 * (10 averaged models Lvl_1_Pipe_0_Mod_1_Tuned_CatBoost) \n",
            "\t\t================================================================================\n",
            "\n",
            "\n",
            "\t+ 0.23287 * 1 averaged models with config = \"conf_1_sel_type_1.yml\" and different CV random_states. Their structures: \n",
            "\n",
            "\t    Model #0.\n",
            "\t\t================================================================================\n",
            "\t\tModels on level 0:\n",
            "\t\t\t 10 averaged models Lvl_0_Pipe_0_Mod_0_LinearL2\n",
            "\t\t\t 10 averaged models Lvl_0_Pipe_1_Mod_0_LightGBM\n",
            "\t\t\t 10 averaged models Lvl_0_Pipe_1_Mod_1_CatBoost\n",
            "\n",
            "\t\tFinal prediction for new objects (level 1) = \n",
            "\t\t\t 0.37041 * (10 averaged models Lvl_1_Pipe_0_Mod_0_Tuned_LightGBM) +\n",
            "\t\t\t 0.62959 * (10 averaged models Lvl_1_Pipe_0_Mod_1_Tuned_CatBoost) \n",
            "\t\t================================================================================\n",
            "\n",
            "\n",
            "\t+ 0.45103 * 1 averaged models with config = \"conf_2_select_mode_1_no_typ.yml\" and different CV random_states. Their structures: \n",
            "\n",
            "\t    Model #0.\n",
            "\t\t================================================================================\n",
            "\t\tModels on level 0:\n",
            "\t\t\t 10 averaged models Lvl_0_Pipe_0_Mod_0_LinearL2\n",
            "\t\t\t 10 averaged models Lvl_0_Pipe_1_Mod_0_LightGBM\n",
            "\t\t\t 10 averaged models Lvl_0_Pipe_1_Mod_1_CatBoost\n",
            "\n",
            "\t\tFinal prediction for new objects (level 1) = \n",
            "\t\t\t 0.27472 * (10 averaged models Lvl_1_Pipe_0_Mod_0_Tuned_LightGBM) +\n",
            "\t\t\t 0.72528 * (10 averaged models Lvl_1_Pipe_0_Mod_1_Tuned_CatBoost) \n",
            "\t\t================================================================================\n",
            "\n",
            "\n",
            "\t+ 0.08416 * 1 averaged models with config = \"conf_3_sel_type_1_no_inter_lgbm.yml\" and different CV random_states. Their structures: \n",
            "\n",
            "\t    Model #0.\n",
            "\t\t================================================================================\n",
            "\t\tModels on level 0:\n",
            "\t\t\t 10 averaged models Lvl_0_Pipe_0_Mod_0_LinearL2\n",
            "\t\t\t 10 averaged models Lvl_0_Pipe_1_Mod_0_LightGBM\n",
            "\t\t\t 10 averaged models Lvl_0_Pipe_1_Mod_1_CatBoost\n",
            "\n",
            "\t\tFinal prediction for new objects (level 1) = \n",
            "\t\t\t 0.26575 * (10 averaged models Lvl_1_Pipe_0_Mod_0_Tuned_LightGBM) +\n",
            "\t\t\t 0.73425 * (10 averaged models Lvl_1_Pipe_0_Mod_1_Tuned_CatBoost) \n",
            "\t\t================================================================================\n",
            "\n",
            "\n",
            "\n"
          ]
        }
      ]
    },
    {
      "cell_type": "code",
      "source": [
        "oof_pred_exp_2 = np.exp(oof_pred_2.data[:, 0])\n",
        "\n",
        "mean_absolute_percentage_error(np.exp(X_train_log['price_log']), oof_pred_exp_2)"
      ],
      "metadata": {
        "colab": {
          "base_uri": "https://localhost:8080/"
        },
        "id": "XABBKWjU6Uv-",
        "outputId": "1df5eea7-ec91-4877-902f-5f5a9bc1fabf"
      },
      "execution_count": null,
      "outputs": [
        {
          "output_type": "execute_result",
          "data": {
            "text/plain": [
              "0.11400192297401389"
            ]
          },
          "metadata": {},
          "execution_count": 105
        }
      ]
    },
    {
      "cell_type": "code",
      "source": [
        "oof_pred_exp_2 = np.exp(oof_pred_2.data[:, 0])\n",
        "\n",
        "mean_absolute_percentage_error(np.exp(X_train_log['price_log']), oof_pred_exp_2)"
      ],
      "metadata": {
        "colab": {
          "base_uri": "https://localhost:8080/"
        },
        "id": "rCgmNUoXDvsK",
        "outputId": "11c58b91-824b-4940-966a-666f71777240"
      },
      "execution_count": null,
      "outputs": [
        {
          "output_type": "execute_result",
          "data": {
            "text/plain": [
              "0.11478351257796071"
            ]
          },
          "metadata": {},
          "execution_count": 68
        }
      ]
    },
    {
      "cell_type": "code",
      "source": [
        "fast_fi_2 = automl_2.get_feature_scores('fast')\n",
        "fast_fi_2[:15].set_index('Feature')['Importance'].plot.bar(figsize=(20, 7), grid=True)"
      ],
      "metadata": {
        "colab": {
          "base_uri": "https://localhost:8080/",
          "height": 641
        },
        "id": "FiCc59yE6oSs",
        "outputId": "eaf440c7-fc34-4754-9649-ba9b8d69c0c8"
      },
      "execution_count": null,
      "outputs": [
        {
          "output_type": "execute_result",
          "data": {
            "text/plain": [
              "<matplotlib.axes._subplots.AxesSubplot at 0x7f1721a0a910>"
            ]
          },
          "metadata": {},
          "execution_count": 106
        },
        {
          "output_type": "display_data",
          "data": {
            "text/plain": [
              "<Figure size 1440x504 with 1 Axes>"
            ],
            "image/png": "[encoded data removed]"
          },
          "metadata": {
            "needs_background": "light"
          }
        }
      ]
    },
    {
      "cell_type": "markdown",
      "source": [
        "## Предсказание"
      ],
      "metadata": {
        "id": "Ju2z_VGmsVhj"
      }
    },
    {
      "cell_type": "code",
      "source": [
        "# предсказываем результат \n",
        "y_test_predict = automl_2.predict(X_test)"
      ],
      "metadata": {
        "id": "qt83DpV7s05x"
      },
      "execution_count": null,
      "outputs": []
    },
    {
      "cell_type": "code",
      "source": [
        "y_test_predict.data[:,0]"
      ],
      "metadata": {
        "id": "_2ehvahYz-66",
        "colab": {
          "base_uri": "https://localhost:8080/"
        },
        "outputId": "65e4c412-12ad-4043-f084-f4975e6a3e9a"
      },
      "execution_count": null,
      "outputs": [
        {
          "output_type": "execute_result",
          "data": {
            "text/plain": [
              "array([13.252276, 14.76549 , 13.386295, ..., 14.14925 , 13.807446,\n",
              "       13.858031], dtype=float32)"
            ]
          },
          "metadata": {},
          "execution_count": 41
        }
      ]
    },
    {
      "cell_type": "code",
      "source": [
        "y_test_predict = np.exp(y_test_predict.data[:,0])"
      ],
      "metadata": {
        "id": "EOvOPieatP5j"
      },
      "execution_count": null,
      "outputs": []
    },
    {
      "cell_type": "code",
      "source": [
        "submission = pd.read_csv(path_data+'sample_submission.csv')\n",
        "submission['price'] = y_test_predict\n",
        "submission.to_csv(path_data+'sample_submission_AutoML.csv', index=False)"
      ],
      "metadata": {
        "id": "COtBJyy2s9o6"
      },
      "execution_count": null,
      "outputs": []
    },
    {
      "cell_type": "code",
      "source": [
        "submission"
      ],
      "metadata": {
        "colab": {
          "base_uri": "https://localhost:8080/",
          "height": 423
        },
        "id": "PzKNhaer6zII",
        "outputId": "f0ee5e9f-18fa-44bb-f148-0b5a8d2b1d4c"
      },
      "execution_count": null,
      "outputs": [
        {
          "output_type": "execute_result",
          "data": {
            "text/plain": [
              "         sell_id      price\n",
              "0     1099427284  569364.69\n",
              "1     1096405886 2585655.50\n",
              "2     1100195294  651019.81\n",
              "3     1099827282  493196.28\n",
              "4     1100076198 2375180.50\n",
              "...          ...        ...\n",
              "1666  1099414488  895362.25\n",
              "1667  1099277058 2381190.75\n",
              "1668  1098773964 1396179.38\n",
              "1669  1098835932  991967.38\n",
              "1670  1099834690 1043437.69\n",
              "\n",
              "[1671 rows x 2 columns]"
            ],
            "text/html": [
              "\n",
              "  <div id=\"df-f10a11e9-734d-4c64-b144-1e4d92d8558b\">\n",
              "    <div class=\"colab-df-container\">\n",
              "      <div>\n",
              "<style scoped>\n",
              "    .dataframe tbody tr th:only-of-type {\n",
              "        vertical-align: middle;\n",
              "    }\n",
              "\n",
              "    .dataframe tbody tr th {\n",
              "        vertical-align: top;\n",
              "    }\n",
              "\n",
              "    .dataframe thead th {\n",
              "        text-align: right;\n",
              "    }\n",
              "</style>\n",
              "<table border=\"1\" class=\"dataframe\">\n",
              "  <thead>\n",
              "    <tr style=\"text-align: right;\">\n",
              "      <th></th>\n",
              "      <th>sell_id</th>\n",
              "      <th>price</th>\n",
              "    </tr>\n",
              "  </thead>\n",
              "  <tbody>\n",
              "    <tr>\n",
              "      <th>0</th>\n",
              "      <td>1099427284</td>\n",
              "      <td>569364.69</td>\n",
              "    </tr>\n",
              "    <tr>\n",
              "      <th>1</th>\n",
              "      <td>1096405886</td>\n",
              "      <td>2585655.50</td>\n",
              "    </tr>\n",
              "    <tr>\n",
              "      <th>2</th>\n",
              "      <td>1100195294</td>\n",
              "      <td>651019.81</td>\n",
              "    </tr>\n",
              "    <tr>\n",
              "      <th>3</th>\n",
              "      <td>1099827282</td>\n",
              "      <td>493196.28</td>\n",
              "    </tr>\n",
              "    <tr>\n",
              "      <th>4</th>\n",
              "      <td>1100076198</td>\n",
              "      <td>2375180.50</td>\n",
              "    </tr>\n",
              "    <tr>\n",
              "      <th>...</th>\n",
              "      <td>...</td>\n",
              "      <td>...</td>\n",
              "    </tr>\n",
              "    <tr>\n",
              "      <th>1666</th>\n",
              "      <td>1099414488</td>\n",
              "      <td>895362.25</td>\n",
              "    </tr>\n",
              "    <tr>\n",
              "      <th>1667</th>\n",
              "      <td>1099277058</td>\n",
              "      <td>2381190.75</td>\n",
              "    </tr>\n",
              "    <tr>\n",
              "      <th>1668</th>\n",
              "      <td>1098773964</td>\n",
              "      <td>1396179.38</td>\n",
              "    </tr>\n",
              "    <tr>\n",
              "      <th>1669</th>\n",
              "      <td>1098835932</td>\n",
              "      <td>991967.38</td>\n",
              "    </tr>\n",
              "    <tr>\n",
              "      <th>1670</th>\n",
              "      <td>1099834690</td>\n",
              "      <td>1043437.69</td>\n",
              "    </tr>\n",
              "  </tbody>\n",
              "</table>\n",
              "<p>1671 rows × 2 columns</p>\n",
              "</div>\n",
              "      <button class=\"colab-df-convert\" onclick=\"convertToInteractive('df-f10a11e9-734d-4c64-b144-1e4d92d8558b')\"\n",
              "              title=\"Convert this dataframe to an interactive table.\"\n",
              "              style=\"display:none;\">\n",
              "        \n",
              "  <svg xmlns=\"http://www.w3.org/2000/svg\" height=\"24px\"viewBox=\"0 0 24 24\"\n",
              "       width=\"24px\">\n",
              "    <path d=\"M0 0h24v24H0V0z\" fill=\"none\"/>\n",
              "    <path d=\"M18.56 5.44l.94 2.06.94-2.06 2.06-.94-2.06-.94-.94-2.06-.94 2.06-2.06.94zm-11 1L8.5 8.5l.94-2.06 2.06-.94-2.06-.94L8.5 2.5l-.94 2.06-2.06.94zm10 10l.94 2.06.94-2.06 2.06-.94-2.06-.94-.94-2.06-.94 2.06-2.06.94z\"/><path d=\"M17.41 7.96l-1.37-1.37c-.4-.4-.92-.59-1.43-.59-.52 0-1.04.2-1.43.59L10.3 9.45l-7.72 7.72c-.78.78-.78 2.05 0 2.83L4 21.41c.39.39.9.59 1.41.59.51 0 1.02-.2 1.41-.59l7.78-7.78 2.81-2.81c.8-.78.8-2.07 0-2.86zM5.41 20L4 18.59l7.72-7.72 1.47 1.35L5.41 20z\"/>\n",
              "  </svg>\n",
              "      </button>\n",
              "      \n",
              "  <style>\n",
              "    .colab-df-container {\n",
              "      display:flex;\n",
              "      flex-wrap:wrap;\n",
              "      gap: 12px;\n",
              "    }\n",
              "\n",
              "    .colab-df-convert {\n",
              "      background-color: #E8F0FE;\n",
              "      border: none;\n",
              "      border-radius: 50%;\n",
              "      cursor: pointer;\n",
              "      display: none;\n",
              "      fill: #1967D2;\n",
              "      height: 32px;\n",
              "      padding: 0 0 0 0;\n",
              "      width: 32px;\n",
              "    }\n",
              "\n",
              "    .colab-df-convert:hover {\n",
              "      background-color: #E2EBFA;\n",
              "      box-shadow: 0px 1px 2px rgba(60, 64, 67, 0.3), 0px 1px 3px 1px rgba(60, 64, 67, 0.15);\n",
              "      fill: #174EA6;\n",
              "    }\n",
              "\n",
              "    [theme=dark] .colab-df-convert {\n",
              "      background-color: #3B4455;\n",
              "      fill: #D2E3FC;\n",
              "    }\n",
              "\n",
              "    [theme=dark] .colab-df-convert:hover {\n",
              "      background-color: #434B5C;\n",
              "      box-shadow: 0px 1px 3px 1px rgba(0, 0, 0, 0.15);\n",
              "      filter: drop-shadow(0px 1px 2px rgba(0, 0, 0, 0.3));\n",
              "      fill: #FFFFFF;\n",
              "    }\n",
              "  </style>\n",
              "\n",
              "      <script>\n",
              "        const buttonEl =\n",
              "          document.querySelector('#df-f10a11e9-734d-4c64-b144-1e4d92d8558b button.colab-df-convert');\n",
              "        buttonEl.style.display =\n",
              "          google.colab.kernel.accessAllowed ? 'block' : 'none';\n",
              "\n",
              "        async function convertToInteractive(key) {\n",
              "          const element = document.querySelector('#df-f10a11e9-734d-4c64-b144-1e4d92d8558b');\n",
              "          const dataTable =\n",
              "            await google.colab.kernel.invokeFunction('convertToInteractive',\n",
              "                                                     [key], {});\n",
              "          if (!dataTable) return;\n",
              "\n",
              "          const docLinkHtml = 'Like what you see? Visit the ' +\n",
              "            '<a target=\"_blank\" href=https://colab.research.google.com/notebooks/data_table.ipynb>data table notebook</a>'\n",
              "            + ' to learn more about interactive tables.';\n",
              "          element.innerHTML = '';\n",
              "          dataTable['output_type'] = 'display_data';\n",
              "          await google.colab.output.renderOutput(dataTable, element);\n",
              "          const docLink = document.createElement('div');\n",
              "          docLink.innerHTML = docLinkHtml;\n",
              "          element.appendChild(docLink);\n",
              "        }\n",
              "      </script>\n",
              "    </div>\n",
              "  </div>\n",
              "  "
            ]
          },
          "metadata": {},
          "execution_count": 44
        }
      ]
    },
    {
      "cell_type": "code",
      "source": [
        "submission"
      ],
      "metadata": {
        "id": "BDcA4EjC0dm3",
        "colab": {
          "base_uri": "https://localhost:8080/",
          "height": 423
        },
        "outputId": "237789ff-5d02-47af-85c0-a5cdc15381d0"
      },
      "execution_count": null,
      "outputs": [
        {
          "output_type": "execute_result",
          "data": {
            "text/plain": [
              "         sell_id      price\n",
              "0     1099427284  589983.81\n",
              "1     1096405886 2680391.75\n",
              "2     1100195294  686300.38\n",
              "3     1099827282  521176.03\n",
              "4     1100076198 2579869.75\n",
              "...          ...        ...\n",
              "1666  1099414488  964937.38\n",
              "1667  1099277058 2385286.25\n",
              "1668  1098773964 1452259.38\n",
              "1669  1098835932 1035648.31\n",
              "1670  1099834690 1060962.62\n",
              "\n",
              "[1671 rows x 2 columns]"
            ],
            "text/html": [
              "\n",
              "  <div id=\"df-b239734f-b648-456f-b604-2e13772b391b\">\n",
              "    <div class=\"colab-df-container\">\n",
              "      <div>\n",
              "<style scoped>\n",
              "    .dataframe tbody tr th:only-of-type {\n",
              "        vertical-align: middle;\n",
              "    }\n",
              "\n",
              "    .dataframe tbody tr th {\n",
              "        vertical-align: top;\n",
              "    }\n",
              "\n",
              "    .dataframe thead th {\n",
              "        text-align: right;\n",
              "    }\n",
              "</style>\n",
              "<table border=\"1\" class=\"dataframe\">\n",
              "  <thead>\n",
              "    <tr style=\"text-align: right;\">\n",
              "      <th></th>\n",
              "      <th>sell_id</th>\n",
              "      <th>price</th>\n",
              "    </tr>\n",
              "  </thead>\n",
              "  <tbody>\n",
              "    <tr>\n",
              "      <th>0</th>\n",
              "      <td>1099427284</td>\n",
              "      <td>589983.81</td>\n",
              "    </tr>\n",
              "    <tr>\n",
              "      <th>1</th>\n",
              "      <td>1096405886</td>\n",
              "      <td>2680391.75</td>\n",
              "    </tr>\n",
              "    <tr>\n",
              "      <th>2</th>\n",
              "      <td>1100195294</td>\n",
              "      <td>686300.38</td>\n",
              "    </tr>\n",
              "    <tr>\n",
              "      <th>3</th>\n",
              "      <td>1099827282</td>\n",
              "      <td>521176.03</td>\n",
              "    </tr>\n",
              "    <tr>\n",
              "      <th>4</th>\n",
              "      <td>1100076198</td>\n",
              "      <td>2579869.75</td>\n",
              "    </tr>\n",
              "    <tr>\n",
              "      <th>...</th>\n",
              "      <td>...</td>\n",
              "      <td>...</td>\n",
              "    </tr>\n",
              "    <tr>\n",
              "      <th>1666</th>\n",
              "      <td>1099414488</td>\n",
              "      <td>964937.38</td>\n",
              "    </tr>\n",
              "    <tr>\n",
              "      <th>1667</th>\n",
              "      <td>1099277058</td>\n",
              "      <td>2385286.25</td>\n",
              "    </tr>\n",
              "    <tr>\n",
              "      <th>1668</th>\n",
              "      <td>1098773964</td>\n",
              "      <td>1452259.38</td>\n",
              "    </tr>\n",
              "    <tr>\n",
              "      <th>1669</th>\n",
              "      <td>1098835932</td>\n",
              "      <td>1035648.31</td>\n",
              "    </tr>\n",
              "    <tr>\n",
              "      <th>1670</th>\n",
              "      <td>1099834690</td>\n",
              "      <td>1060962.62</td>\n",
              "    </tr>\n",
              "  </tbody>\n",
              "</table>\n",
              "<p>1671 rows × 2 columns</p>\n",
              "</div>\n",
              "      <button class=\"colab-df-convert\" onclick=\"convertToInteractive('df-b239734f-b648-456f-b604-2e13772b391b')\"\n",
              "              title=\"Convert this dataframe to an interactive table.\"\n",
              "              style=\"display:none;\">\n",
              "        \n",
              "  <svg xmlns=\"http://www.w3.org/2000/svg\" height=\"24px\"viewBox=\"0 0 24 24\"\n",
              "       width=\"24px\">\n",
              "    <path d=\"M0 0h24v24H0V0z\" fill=\"none\"/>\n",
              "    <path d=\"M18.56 5.44l.94 2.06.94-2.06 2.06-.94-2.06-.94-.94-2.06-.94 2.06-2.06.94zm-11 1L8.5 8.5l.94-2.06 2.06-.94-2.06-.94L8.5 2.5l-.94 2.06-2.06.94zm10 10l.94 2.06.94-2.06 2.06-.94-2.06-.94-.94-2.06-.94 2.06-2.06.94z\"/><path d=\"M17.41 7.96l-1.37-1.37c-.4-.4-.92-.59-1.43-.59-.52 0-1.04.2-1.43.59L10.3 9.45l-7.72 7.72c-.78.78-.78 2.05 0 2.83L4 21.41c.39.39.9.59 1.41.59.51 0 1.02-.2 1.41-.59l7.78-7.78 2.81-2.81c.8-.78.8-2.07 0-2.86zM5.41 20L4 18.59l7.72-7.72 1.47 1.35L5.41 20z\"/>\n",
              "  </svg>\n",
              "      </button>\n",
              "      \n",
              "  <style>\n",
              "    .colab-df-container {\n",
              "      display:flex;\n",
              "      flex-wrap:wrap;\n",
              "      gap: 12px;\n",
              "    }\n",
              "\n",
              "    .colab-df-convert {\n",
              "      background-color: #E8F0FE;\n",
              "      border: none;\n",
              "      border-radius: 50%;\n",
              "      cursor: pointer;\n",
              "      display: none;\n",
              "      fill: #1967D2;\n",
              "      height: 32px;\n",
              "      padding: 0 0 0 0;\n",
              "      width: 32px;\n",
              "    }\n",
              "\n",
              "    .colab-df-convert:hover {\n",
              "      background-color: #E2EBFA;\n",
              "      box-shadow: 0px 1px 2px rgba(60, 64, 67, 0.3), 0px 1px 3px 1px rgba(60, 64, 67, 0.15);\n",
              "      fill: #174EA6;\n",
              "    }\n",
              "\n",
              "    [theme=dark] .colab-df-convert {\n",
              "      background-color: #3B4455;\n",
              "      fill: #D2E3FC;\n",
              "    }\n",
              "\n",
              "    [theme=dark] .colab-df-convert:hover {\n",
              "      background-color: #434B5C;\n",
              "      box-shadow: 0px 1px 3px 1px rgba(0, 0, 0, 0.15);\n",
              "      filter: drop-shadow(0px 1px 2px rgba(0, 0, 0, 0.3));\n",
              "      fill: #FFFFFF;\n",
              "    }\n",
              "  </style>\n",
              "\n",
              "      <script>\n",
              "        const buttonEl =\n",
              "          document.querySelector('#df-b239734f-b648-456f-b604-2e13772b391b button.colab-df-convert');\n",
              "        buttonEl.style.display =\n",
              "          google.colab.kernel.accessAllowed ? 'block' : 'none';\n",
              "\n",
              "        async function convertToInteractive(key) {\n",
              "          const element = document.querySelector('#df-b239734f-b648-456f-b604-2e13772b391b');\n",
              "          const dataTable =\n",
              "            await google.colab.kernel.invokeFunction('convertToInteractive',\n",
              "                                                     [key], {});\n",
              "          if (!dataTable) return;\n",
              "\n",
              "          const docLinkHtml = 'Like what you see? Visit the ' +\n",
              "            '<a target=\"_blank\" href=https://colab.research.google.com/notebooks/data_table.ipynb>data table notebook</a>'\n",
              "            + ' to learn more about interactive tables.';\n",
              "          element.innerHTML = '';\n",
              "          dataTable['output_type'] = 'display_data';\n",
              "          await google.colab.output.renderOutput(dataTable, element);\n",
              "          const docLink = document.createElement('div');\n",
              "          docLink.innerHTML = docLinkHtml;\n",
              "          element.appendChild(docLink);\n",
              "        }\n",
              "      </script>\n",
              "    </div>\n",
              "  </div>\n",
              "  "
            ]
          },
          "metadata": {},
          "execution_count": 31
        }
      ]
    },
    {
      "cell_type": "code",
      "source": [
        "sns.histplot(submission['price'])"
      ],
      "metadata": {
        "id": "t2CtY1EdhyQn",
        "colab": {
          "base_uri": "https://localhost:8080/",
          "height": 297
        },
        "outputId": "30d62b13-a15a-4f73-fe29-3eb3c2e2d0dd"
      },
      "execution_count": null,
      "outputs": [
        {
          "output_type": "execute_result",
          "data": {
            "text/plain": [
              "<matplotlib.axes._subplots.AxesSubplot at 0x7f1724c31f10>"
            ]
          },
          "metadata": {},
          "execution_count": 32
        },
        {
          "output_type": "display_data",
          "data": {
            "text/plain": [
              "<Figure size 432x288 with 1 Axes>"
            ],
            "image/png": "[encoded data removed]"
          },
          "metadata": {
            "needs_background": "light"
          }
        }
      ]
    }
  ]
}