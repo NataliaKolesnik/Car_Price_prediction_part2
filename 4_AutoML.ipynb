{
  "nbformat": 4,
  "nbformat_minor": 0,
  "metadata": {
    "colab": {
      "name": "4_AutoML.ipynb",
      "provenance": [],
      "collapsed_sections": [],
      "authorship_tag": "ABX9TyPBfkRTonyPsLib3uzYXF6P",
      "include_colab_link": true
    },
    "kernelspec": {
      "name": "python3",
      "display_name": "Python 3"
    },
    "language_info": {
      "name": "python"
    }
  },
  "cells": [
    {
      "cell_type": "markdown",
      "metadata": {
        "id": "view-in-github",
        "colab_type": "text"
      },
      "source": [
        "<a href=\"https://colab.research.google.com/github/NataliaKolesnik/Car_Price_prediction_part2/blob/master/4_AutoML.ipynb\" target=\"_parent\"><img src=\"https://colab.research.google.com/assets/colab-badge.svg\" alt=\"Open In Colab\"/></a>"
      ]
    },
    {
      "cell_type": "code",
      "execution_count": 38,
      "metadata": {
        "id": "lUVPu9JgMAWX",
        "colab": {
          "base_uri": "https://localhost:8080/"
        },
        "outputId": "1cfe65c7-2cb0-4839-a3af-6435153db5bb"
      },
      "outputs": [
        {
          "output_type": "stream",
          "name": "stdout",
          "text": [
            "Drive already mounted at /content/drive/; to attempt to forcibly remount, call drive.mount(\"/content/drive/\", force_remount=True).\n"
          ]
        }
      ],
      "source": [
        "from google.colab import drive\n",
        "drive.mount('/content/drive/')"
      ]
    },
    {
      "cell_type": "code",
      "source": [
        "!pip install -U lightautoml"
      ],
      "metadata": {
        "colab": {
          "base_uri": "https://localhost:8080/"
        },
        "id": "VRQel3ULIJDc",
        "outputId": "408af700-a6b5-44d0-f1a3-f2a9547f79bb"
      },
      "execution_count": 39,
      "outputs": [
        {
          "output_type": "stream",
          "name": "stdout",
          "text": [
            "Looking in indexes: https://pypi.org/simple, https://us-python.pkg.dev/colab-wheels/public/simple/\n",
            "Requirement already satisfied: lightautoml in /usr/local/lib/python3.7/dist-packages (0.3.6)\n",
            "Requirement already satisfied: importlib-metadata<2.0,>=1.0 in /usr/local/lib/python3.7/dist-packages (from lightautoml) (1.7.0)\n",
            "Requirement already satisfied: cmaes in /usr/local/lib/python3.7/dist-packages (from lightautoml) (0.8.2)\n",
            "Requirement already satisfied: scikit-learn>=0.22 in /usr/local/lib/python3.7/dist-packages (from lightautoml) (1.0.2)\n",
            "Requirement already satisfied: catboost>=0.26.1 in /usr/local/lib/python3.7/dist-packages (from lightautoml) (1.0.6)\n",
            "Requirement already satisfied: joblib in /usr/local/lib/python3.7/dist-packages (from lightautoml) (1.1.0)\n",
            "Requirement already satisfied: json2html in /usr/local/lib/python3.7/dist-packages (from lightautoml) (1.3.0)\n",
            "Requirement already satisfied: numpy>=1.2 in /usr/local/lib/python3.7/dist-packages (from lightautoml) (1.21.6)\n",
            "Requirement already satisfied: torchvision in /usr/local/lib/python3.7/dist-packages (from lightautoml) (0.9.1)\n",
            "Requirement already satisfied: dataclasses==0.6 in /usr/local/lib/python3.7/dist-packages (from lightautoml) (0.6)\n",
            "Requirement already satisfied: poetry-core<2.0.0,>=1.0.0 in /usr/local/lib/python3.7/dist-packages (from lightautoml) (1.0.8)\n",
            "Requirement already satisfied: scipy<=1.5.4 in /usr/local/lib/python3.7/dist-packages (from lightautoml) (1.5.4)\n",
            "Requirement already satisfied: torch<1.9 in /usr/local/lib/python3.7/dist-packages (from lightautoml) (1.8.1)\n",
            "Requirement already satisfied: pandas==1.1.5 in /usr/local/lib/python3.7/dist-packages (from lightautoml) (1.1.5)\n",
            "Requirement already satisfied: jinja2 in /usr/local/lib/python3.7/dist-packages (from lightautoml) (2.11.3)\n",
            "Requirement already satisfied: networkx in /usr/local/lib/python3.7/dist-packages (from lightautoml) (2.6.3)\n",
            "Requirement already satisfied: seaborn in /usr/local/lib/python3.7/dist-packages (from lightautoml) (0.11.2)\n",
            "Requirement already satisfied: optuna in /usr/local/lib/python3.7/dist-packages (from lightautoml) (2.10.1)\n",
            "Requirement already satisfied: lightgbm<3.0,>=2.3 in /usr/local/lib/python3.7/dist-packages (from lightautoml) (2.3.1)\n",
            "Requirement already satisfied: autowoe>=1.2 in /usr/local/lib/python3.7/dist-packages (from lightautoml) (1.3.2)\n",
            "Requirement already satisfied: holidays in /usr/local/lib/python3.7/dist-packages (from lightautoml) (0.10.5.2)\n",
            "Requirement already satisfied: tqdm in /usr/local/lib/python3.7/dist-packages (from lightautoml) (4.64.0)\n",
            "Requirement already satisfied: pyyaml in /usr/local/lib/python3.7/dist-packages (from lightautoml) (3.13)\n",
            "Requirement already satisfied: python-dateutil>=2.7.3 in /usr/local/lib/python3.7/dist-packages (from pandas==1.1.5->lightautoml) (2.8.2)\n",
            "Requirement already satisfied: pytz>=2017.2 in /usr/local/lib/python3.7/dist-packages (from pandas==1.1.5->lightautoml) (2022.1)\n",
            "Requirement already satisfied: StrEnum<0.5.0,>=0.4.7 in /usr/local/lib/python3.7/dist-packages (from autowoe>=1.2->lightautoml) (0.4.8)\n",
            "Requirement already satisfied: matplotlib in /usr/local/lib/python3.7/dist-packages (from autowoe>=1.2->lightautoml) (3.2.2)\n",
            "Requirement already satisfied: sphinx in /usr/local/lib/python3.7/dist-packages (from autowoe>=1.2->lightautoml) (1.8.6)\n",
            "Requirement already satisfied: sphinx-rtd-theme in /usr/local/lib/python3.7/dist-packages (from autowoe>=1.2->lightautoml) (1.0.0)\n",
            "Requirement already satisfied: pytest in /usr/local/lib/python3.7/dist-packages (from autowoe>=1.2->lightautoml) (3.6.4)\n",
            "Requirement already satisfied: plotly in /usr/local/lib/python3.7/dist-packages (from catboost>=0.26.1->lightautoml) (5.5.0)\n",
            "Requirement already satisfied: graphviz in /usr/local/lib/python3.7/dist-packages (from catboost>=0.26.1->lightautoml) (0.10.1)\n",
            "Requirement already satisfied: six in /usr/local/lib/python3.7/dist-packages (from catboost>=0.26.1->lightautoml) (1.15.0)\n",
            "Requirement already satisfied: zipp>=0.5 in /usr/local/lib/python3.7/dist-packages (from importlib-metadata<2.0,>=1.0->lightautoml) (3.8.1)\n",
            "Requirement already satisfied: threadpoolctl>=2.0.0 in /usr/local/lib/python3.7/dist-packages (from scikit-learn>=0.22->lightautoml) (3.1.0)\n",
            "Requirement already satisfied: typing-extensions in /usr/local/lib/python3.7/dist-packages (from torch<1.9->lightautoml) (4.1.1)\n",
            "Requirement already satisfied: hijri-converter in /usr/local/lib/python3.7/dist-packages (from holidays->lightautoml) (2.2.4)\n",
            "Requirement already satisfied: convertdate>=2.3.0 in /usr/local/lib/python3.7/dist-packages (from holidays->lightautoml) (2.4.0)\n",
            "Requirement already satisfied: korean-lunar-calendar in /usr/local/lib/python3.7/dist-packages (from holidays->lightautoml) (0.2.1)\n",
            "Requirement already satisfied: pymeeus<=1,>=0.3.13 in /usr/local/lib/python3.7/dist-packages (from convertdate>=2.3.0->holidays->lightautoml) (0.5.11)\n",
            "Requirement already satisfied: MarkupSafe>=0.23 in /usr/local/lib/python3.7/dist-packages (from jinja2->lightautoml) (2.0.1)\n",
            "Requirement already satisfied: pyparsing!=2.0.4,!=2.1.2,!=2.1.6,>=2.0.1 in /usr/local/lib/python3.7/dist-packages (from matplotlib->autowoe>=1.2->lightautoml) (3.0.9)\n",
            "Requirement already satisfied: kiwisolver>=1.0.1 in /usr/local/lib/python3.7/dist-packages (from matplotlib->autowoe>=1.2->lightautoml) (1.4.4)\n",
            "Requirement already satisfied: cycler>=0.10 in /usr/local/lib/python3.7/dist-packages (from matplotlib->autowoe>=1.2->lightautoml) (0.11.0)\n",
            "Requirement already satisfied: packaging>=20.0 in /usr/local/lib/python3.7/dist-packages (from optuna->lightautoml) (21.3)\n",
            "Requirement already satisfied: alembic in /usr/local/lib/python3.7/dist-packages (from optuna->lightautoml) (1.8.1)\n",
            "Requirement already satisfied: cliff in /usr/local/lib/python3.7/dist-packages (from optuna->lightautoml) (3.10.1)\n",
            "Requirement already satisfied: colorlog in /usr/local/lib/python3.7/dist-packages (from optuna->lightautoml) (6.6.0)\n",
            "Requirement already satisfied: sqlalchemy>=1.1.0 in /usr/local/lib/python3.7/dist-packages (from optuna->lightautoml) (1.4.39)\n",
            "Requirement already satisfied: greenlet!=0.4.17 in /usr/local/lib/python3.7/dist-packages (from sqlalchemy>=1.1.0->optuna->lightautoml) (1.1.2)\n",
            "Requirement already satisfied: importlib-resources in /usr/local/lib/python3.7/dist-packages (from alembic->optuna->lightautoml) (5.8.0)\n",
            "Requirement already satisfied: Mako in /usr/local/lib/python3.7/dist-packages (from alembic->optuna->lightautoml) (1.2.1)\n",
            "Requirement already satisfied: pbr!=2.1.0,>=2.0.0 in /usr/local/lib/python3.7/dist-packages (from cliff->optuna->lightautoml) (5.9.0)\n",
            "Requirement already satisfied: cmd2>=1.0.0 in /usr/local/lib/python3.7/dist-packages (from cliff->optuna->lightautoml) (2.4.2)\n",
            "Requirement already satisfied: PrettyTable>=0.7.2 in /usr/local/lib/python3.7/dist-packages (from cliff->optuna->lightautoml) (3.3.0)\n",
            "Requirement already satisfied: stevedore>=2.0.1 in /usr/local/lib/python3.7/dist-packages (from cliff->optuna->lightautoml) (3.5.0)\n",
            "Requirement already satisfied: autopage>=0.4.0 in /usr/local/lib/python3.7/dist-packages (from cliff->optuna->lightautoml) (0.5.1)\n",
            "Requirement already satisfied: pyperclip>=1.6 in /usr/local/lib/python3.7/dist-packages (from cmd2>=1.0.0->cliff->optuna->lightautoml) (1.8.2)\n",
            "Requirement already satisfied: attrs>=16.3.0 in /usr/local/lib/python3.7/dist-packages (from cmd2>=1.0.0->cliff->optuna->lightautoml) (21.4.0)\n",
            "Requirement already satisfied: wcwidth>=0.1.7 in /usr/local/lib/python3.7/dist-packages (from cmd2>=1.0.0->cliff->optuna->lightautoml) (0.2.5)\n",
            "Requirement already satisfied: tenacity>=6.2.0 in /usr/local/lib/python3.7/dist-packages (from plotly->catboost>=0.26.1->lightautoml) (8.0.1)\n",
            "Requirement already satisfied: setuptools in /usr/local/lib/python3.7/dist-packages (from pytest->autowoe>=1.2->lightautoml) (57.4.0)\n",
            "Requirement already satisfied: atomicwrites>=1.0 in /usr/local/lib/python3.7/dist-packages (from pytest->autowoe>=1.2->lightautoml) (1.4.1)\n",
            "Requirement already satisfied: more-itertools>=4.0.0 in /usr/local/lib/python3.7/dist-packages (from pytest->autowoe>=1.2->lightautoml) (8.13.0)\n",
            "Requirement already satisfied: pluggy<0.8,>=0.5 in /usr/local/lib/python3.7/dist-packages (from pytest->autowoe>=1.2->lightautoml) (0.7.1)\n",
            "Requirement already satisfied: py>=1.5.0 in /usr/local/lib/python3.7/dist-packages (from pytest->autowoe>=1.2->lightautoml) (1.11.0)\n",
            "Requirement already satisfied: babel!=2.0,>=1.3 in /usr/local/lib/python3.7/dist-packages (from sphinx->autowoe>=1.2->lightautoml) (2.10.3)\n",
            "Requirement already satisfied: imagesize in /usr/local/lib/python3.7/dist-packages (from sphinx->autowoe>=1.2->lightautoml) (1.4.1)\n",
            "Requirement already satisfied: sphinxcontrib-websupport in /usr/local/lib/python3.7/dist-packages (from sphinx->autowoe>=1.2->lightautoml) (1.2.4)\n",
            "Requirement already satisfied: alabaster<0.8,>=0.7 in /usr/local/lib/python3.7/dist-packages (from sphinx->autowoe>=1.2->lightautoml) (0.7.12)\n",
            "Requirement already satisfied: requests>=2.0.0 in /usr/local/lib/python3.7/dist-packages (from sphinx->autowoe>=1.2->lightautoml) (2.23.0)\n",
            "Requirement already satisfied: snowballstemmer>=1.1 in /usr/local/lib/python3.7/dist-packages (from sphinx->autowoe>=1.2->lightautoml) (2.2.0)\n",
            "Requirement already satisfied: docutils<0.18,>=0.11 in /usr/local/lib/python3.7/dist-packages (from sphinx->autowoe>=1.2->lightautoml) (0.17.1)\n",
            "Requirement already satisfied: Pygments>=2.0 in /usr/local/lib/python3.7/dist-packages (from sphinx->autowoe>=1.2->lightautoml) (2.6.1)\n",
            "Requirement already satisfied: urllib3!=1.25.0,!=1.25.1,<1.26,>=1.21.1 in /usr/local/lib/python3.7/dist-packages (from requests>=2.0.0->sphinx->autowoe>=1.2->lightautoml) (1.24.3)\n",
            "Requirement already satisfied: chardet<4,>=3.0.2 in /usr/local/lib/python3.7/dist-packages (from requests>=2.0.0->sphinx->autowoe>=1.2->lightautoml) (3.0.4)\n",
            "Requirement already satisfied: idna<3,>=2.5 in /usr/local/lib/python3.7/dist-packages (from requests>=2.0.0->sphinx->autowoe>=1.2->lightautoml) (2.10)\n",
            "Requirement already satisfied: certifi>=2017.4.17 in /usr/local/lib/python3.7/dist-packages (from requests>=2.0.0->sphinx->autowoe>=1.2->lightautoml) (2022.6.15)\n",
            "Requirement already satisfied: sphinxcontrib-serializinghtml in /usr/local/lib/python3.7/dist-packages (from sphinxcontrib-websupport->sphinx->autowoe>=1.2->lightautoml) (1.1.5)\n",
            "Requirement already satisfied: pillow>=4.1.1 in /usr/local/lib/python3.7/dist-packages (from torchvision->lightautoml) (7.1.2)\n"
          ]
        }
      ]
    },
    {
      "cell_type": "code",
      "source": [
        "path_data = '/content/drive/MyDrive/SF_project_8/data/'"
      ],
      "metadata": {
        "id": "kxZ5dWUTQWeP"
      },
      "execution_count": 40,
      "outputs": []
    },
    {
      "cell_type": "markdown",
      "source": [
        "##Библиотеки"
      ],
      "metadata": {
        "id": "tTq99THhQcPG"
      }
    },
    {
      "cell_type": "code",
      "source": [
        "import pandas as pd\n",
        "import numpy as np\n",
        "import matplotlib.pyplot as plt\n",
        "import seaborn as sns\n",
        "import os\n",
        "\n",
        "from sklearn.preprocessing import MinMaxScaler\n",
        "from sklearn.model_selection import train_test_split\n",
        "from sklearn.metrics import mean_absolute_percentage_error\n",
        "\n",
        "from lightautoml.automl.presets.tabular_presets import TabularAutoML, TabularUtilizedAutoML\n",
        "from lightautoml.tasks import Task"
      ],
      "metadata": {
        "id": "nDrjHGgGQZGA"
      },
      "execution_count": 41,
      "outputs": []
    },
    {
      "cell_type": "code",
      "source": [
        "pd.set_option('display.float_format', '{:.2f}'.format)\n",
        "\n",
        "SEED = 42\n",
        "np.random.seed(SEED)\n"
      ],
      "metadata": {
        "id": "_P6uIRWaROsB"
      },
      "execution_count": 42,
      "outputs": []
    },
    {
      "cell_type": "markdown",
      "source": [
        "## Загрузка и подготовка данных для обучения"
      ],
      "metadata": {
        "id": "UNh0vHL0R9IH"
      }
    },
    {
      "cell_type": "code",
      "source": [
        "df_train = pd.read_csv(path_data+'train_for_ML.csv')\n",
        "df_test = pd.read_csv(path_data+'test_for_ML.csv')"
      ],
      "metadata": {
        "id": "d7UOXpmzR28x"
      },
      "execution_count": 43,
      "outputs": []
    },
    {
      "cell_type": "code",
      "source": [
        "# Списки с признаками\n",
        "\n",
        "categorical_features = ['bodyType', 'brand', 'model_info', 'brand_model', 'color', \n",
        "                          'fuelType_littel', 'vehicleTransmission', 'Привод' ]\n",
        "\n",
        "numerical_features = ['engineDisplacement', 'enginePower', 'enginePower_log', 'mileage', \n",
        "                      'age_avto', 'mileage_/_age_avto', 'Владельцы', \n",
        "                        'numberOfDoors', 'xDrive', 'ПТС_10']\n",
        "\n",
        "target = 'price'\n",
        "target_log = 'price_log'"
      ],
      "metadata": {
        "id": "VhO134Y7R3Jy"
      },
      "execution_count": 44,
      "outputs": []
    },
    {
      "cell_type": "code",
      "source": [
        "# Соберем датасеты\n",
        "\n",
        "X = df_train[categorical_features + numerical_features]\n",
        "\n",
        "X_test = df_test[categorical_features + numerical_features]\n",
        "\n",
        "Y = df_train[target]\n",
        "Y_log = df_train[target_log]"
      ],
      "metadata": {
        "id": "9GXi2pVlnaYb"
      },
      "execution_count": 45,
      "outputs": []
    },
    {
      "cell_type": "code",
      "source": [
        "# Стандартизируем числовые данные\n",
        "\n",
        "scaler = MinMaxScaler()\n",
        "\n",
        "X[numerical_features] = scaler.fit_transform(X[numerical_features])\n",
        "X_test[numerical_features] = scaler.fit_transform(X_test[numerical_features])"
      ],
      "metadata": {
        "id": "ZLUpm0v7ofPG",
        "colab": {
          "base_uri": "https://localhost:8080/"
        },
        "outputId": "1f787f27-82cb-4a8e-c541-078ecf1395e2"
      },
      "execution_count": 46,
      "outputs": [
        {
          "output_type": "stream",
          "name": "stderr",
          "text": [
            "/usr/local/lib/python3.7/dist-packages/ipykernel_launcher.py:5: SettingWithCopyWarning: \n",
            "A value is trying to be set on a copy of a slice from a DataFrame.\n",
            "Try using .loc[row_indexer,col_indexer] = value instead\n",
            "\n",
            "See the caveats in the documentation: https://pandas.pydata.org/pandas-docs/stable/user_guide/indexing.html#returning-a-view-versus-a-copy\n",
            "  \"\"\"\n",
            "/usr/local/lib/python3.7/dist-packages/pandas/core/indexing.py:1734: SettingWithCopyWarning: \n",
            "A value is trying to be set on a copy of a slice from a DataFrame.\n",
            "Try using .loc[row_indexer,col_indexer] = value instead\n",
            "\n",
            "See the caveats in the documentation: https://pandas.pydata.org/pandas-docs/stable/user_guide/indexing.html#returning-a-view-versus-a-copy\n",
            "  isetter(loc, value[:, i].tolist())\n",
            "/usr/local/lib/python3.7/dist-packages/ipykernel_launcher.py:6: SettingWithCopyWarning: \n",
            "A value is trying to be set on a copy of a slice from a DataFrame.\n",
            "Try using .loc[row_indexer,col_indexer] = value instead\n",
            "\n",
            "See the caveats in the documentation: https://pandas.pydata.org/pandas-docs/stable/user_guide/indexing.html#returning-a-view-versus-a-copy\n",
            "  \n",
            "/usr/local/lib/python3.7/dist-packages/pandas/core/indexing.py:1734: SettingWithCopyWarning: \n",
            "A value is trying to be set on a copy of a slice from a DataFrame.\n",
            "Try using .loc[row_indexer,col_indexer] = value instead\n",
            "\n",
            "See the caveats in the documentation: https://pandas.pydata.org/pandas-docs/stable/user_guide/indexing.html#returning-a-view-versus-a-copy\n",
            "  isetter(loc, value[:, i].tolist())\n"
          ]
        }
      ]
    },
    {
      "cell_type": "code",
      "source": [
        "X.describe()"
      ],
      "metadata": {
        "colab": {
          "base_uri": "https://localhost:8080/",
          "height": 300
        },
        "id": "iTDuRKoTR3PD",
        "outputId": "e702a523-7e5d-4bd7-d1e5-3ef0961e717b"
      },
      "execution_count": 47,
      "outputs": [
        {
          "output_type": "execute_result",
          "data": {
            "text/plain": [
              "       engineDisplacement  enginePower  enginePower_log  mileage  age_avto  \\\n",
              "count             6682.00      6682.00          6682.00  6682.00   6682.00   \n",
              "mean                 0.42         0.32             0.54     0.12      0.21   \n",
              "std                  0.16         0.19             0.18     0.08      0.13   \n",
              "min                  0.00         0.00             0.00     0.00      0.00   \n",
              "25%                  0.30         0.19             0.42     0.06      0.11   \n",
              "50%                  0.42         0.28             0.53     0.11      0.18   \n",
              "75%                  0.45         0.41             0.66     0.17      0.29   \n",
              "max                  1.00         1.00             1.00     1.00      1.00   \n",
              "\n",
              "       mileage_/_age_avto  Владельцы  numberOfDoors  xDrive  ПТС_10  \n",
              "count             6682.00    6682.00        6682.00 6682.00 6682.00  \n",
              "mean                 0.17       0.55           0.76    0.11    0.89  \n",
              "std                  0.09       0.42           0.29    0.32    0.31  \n",
              "min                  0.00       0.00           0.00    0.00    0.00  \n",
              "25%                  0.12       0.00           0.67    0.00    1.00  \n",
              "50%                  0.17       0.50           0.67    0.00    1.00  \n",
              "75%                  0.22       1.00           1.00    0.00    1.00  \n",
              "max                  1.00       1.00           1.00    1.00    1.00  "
            ],
            "text/html": [
              "\n",
              "  <div id=\"df-7062c1bf-4518-42a2-9260-fa545590ced8\">\n",
              "    <div class=\"colab-df-container\">\n",
              "      <div>\n",
              "<style scoped>\n",
              "    .dataframe tbody tr th:only-of-type {\n",
              "        vertical-align: middle;\n",
              "    }\n",
              "\n",
              "    .dataframe tbody tr th {\n",
              "        vertical-align: top;\n",
              "    }\n",
              "\n",
              "    .dataframe thead th {\n",
              "        text-align: right;\n",
              "    }\n",
              "</style>\n",
              "<table border=\"1\" class=\"dataframe\">\n",
              "  <thead>\n",
              "    <tr style=\"text-align: right;\">\n",
              "      <th></th>\n",
              "      <th>engineDisplacement</th>\n",
              "      <th>enginePower</th>\n",
              "      <th>enginePower_log</th>\n",
              "      <th>mileage</th>\n",
              "      <th>age_avto</th>\n",
              "      <th>mileage_/_age_avto</th>\n",
              "      <th>Владельцы</th>\n",
              "      <th>numberOfDoors</th>\n",
              "      <th>xDrive</th>\n",
              "      <th>ПТС_10</th>\n",
              "    </tr>\n",
              "  </thead>\n",
              "  <tbody>\n",
              "    <tr>\n",
              "      <th>count</th>\n",
              "      <td>6682.00</td>\n",
              "      <td>6682.00</td>\n",
              "      <td>6682.00</td>\n",
              "      <td>6682.00</td>\n",
              "      <td>6682.00</td>\n",
              "      <td>6682.00</td>\n",
              "      <td>6682.00</td>\n",
              "      <td>6682.00</td>\n",
              "      <td>6682.00</td>\n",
              "      <td>6682.00</td>\n",
              "    </tr>\n",
              "    <tr>\n",
              "      <th>mean</th>\n",
              "      <td>0.42</td>\n",
              "      <td>0.32</td>\n",
              "      <td>0.54</td>\n",
              "      <td>0.12</td>\n",
              "      <td>0.21</td>\n",
              "      <td>0.17</td>\n",
              "      <td>0.55</td>\n",
              "      <td>0.76</td>\n",
              "      <td>0.11</td>\n",
              "      <td>0.89</td>\n",
              "    </tr>\n",
              "    <tr>\n",
              "      <th>std</th>\n",
              "      <td>0.16</td>\n",
              "      <td>0.19</td>\n",
              "      <td>0.18</td>\n",
              "      <td>0.08</td>\n",
              "      <td>0.13</td>\n",
              "      <td>0.09</td>\n",
              "      <td>0.42</td>\n",
              "      <td>0.29</td>\n",
              "      <td>0.32</td>\n",
              "      <td>0.31</td>\n",
              "    </tr>\n",
              "    <tr>\n",
              "      <th>min</th>\n",
              "      <td>0.00</td>\n",
              "      <td>0.00</td>\n",
              "      <td>0.00</td>\n",
              "      <td>0.00</td>\n",
              "      <td>0.00</td>\n",
              "      <td>0.00</td>\n",
              "      <td>0.00</td>\n",
              "      <td>0.00</td>\n",
              "      <td>0.00</td>\n",
              "      <td>0.00</td>\n",
              "    </tr>\n",
              "    <tr>\n",
              "      <th>25%</th>\n",
              "      <td>0.30</td>\n",
              "      <td>0.19</td>\n",
              "      <td>0.42</td>\n",
              "      <td>0.06</td>\n",
              "      <td>0.11</td>\n",
              "      <td>0.12</td>\n",
              "      <td>0.00</td>\n",
              "      <td>0.67</td>\n",
              "      <td>0.00</td>\n",
              "      <td>1.00</td>\n",
              "    </tr>\n",
              "    <tr>\n",
              "      <th>50%</th>\n",
              "      <td>0.42</td>\n",
              "      <td>0.28</td>\n",
              "      <td>0.53</td>\n",
              "      <td>0.11</td>\n",
              "      <td>0.18</td>\n",
              "      <td>0.17</td>\n",
              "      <td>0.50</td>\n",
              "      <td>0.67</td>\n",
              "      <td>0.00</td>\n",
              "      <td>1.00</td>\n",
              "    </tr>\n",
              "    <tr>\n",
              "      <th>75%</th>\n",
              "      <td>0.45</td>\n",
              "      <td>0.41</td>\n",
              "      <td>0.66</td>\n",
              "      <td>0.17</td>\n",
              "      <td>0.29</td>\n",
              "      <td>0.22</td>\n",
              "      <td>1.00</td>\n",
              "      <td>1.00</td>\n",
              "      <td>0.00</td>\n",
              "      <td>1.00</td>\n",
              "    </tr>\n",
              "    <tr>\n",
              "      <th>max</th>\n",
              "      <td>1.00</td>\n",
              "      <td>1.00</td>\n",
              "      <td>1.00</td>\n",
              "      <td>1.00</td>\n",
              "      <td>1.00</td>\n",
              "      <td>1.00</td>\n",
              "      <td>1.00</td>\n",
              "      <td>1.00</td>\n",
              "      <td>1.00</td>\n",
              "      <td>1.00</td>\n",
              "    </tr>\n",
              "  </tbody>\n",
              "</table>\n",
              "</div>\n",
              "      <button class=\"colab-df-convert\" onclick=\"convertToInteractive('df-7062c1bf-4518-42a2-9260-fa545590ced8')\"\n",
              "              title=\"Convert this dataframe to an interactive table.\"\n",
              "              style=\"display:none;\">\n",
              "        \n",
              "  <svg xmlns=\"http://www.w3.org/2000/svg\" height=\"24px\"viewBox=\"0 0 24 24\"\n",
              "       width=\"24px\">\n",
              "    <path d=\"M0 0h24v24H0V0z\" fill=\"none\"/>\n",
              "    <path d=\"M18.56 5.44l.94 2.06.94-2.06 2.06-.94-2.06-.94-.94-2.06-.94 2.06-2.06.94zm-11 1L8.5 8.5l.94-2.06 2.06-.94-2.06-.94L8.5 2.5l-.94 2.06-2.06.94zm10 10l.94 2.06.94-2.06 2.06-.94-2.06-.94-.94-2.06-.94 2.06-2.06.94z\"/><path d=\"M17.41 7.96l-1.37-1.37c-.4-.4-.92-.59-1.43-.59-.52 0-1.04.2-1.43.59L10.3 9.45l-7.72 7.72c-.78.78-.78 2.05 0 2.83L4 21.41c.39.39.9.59 1.41.59.51 0 1.02-.2 1.41-.59l7.78-7.78 2.81-2.81c.8-.78.8-2.07 0-2.86zM5.41 20L4 18.59l7.72-7.72 1.47 1.35L5.41 20z\"/>\n",
              "  </svg>\n",
              "      </button>\n",
              "      \n",
              "  <style>\n",
              "    .colab-df-container {\n",
              "      display:flex;\n",
              "      flex-wrap:wrap;\n",
              "      gap: 12px;\n",
              "    }\n",
              "\n",
              "    .colab-df-convert {\n",
              "      background-color: #E8F0FE;\n",
              "      border: none;\n",
              "      border-radius: 50%;\n",
              "      cursor: pointer;\n",
              "      display: none;\n",
              "      fill: #1967D2;\n",
              "      height: 32px;\n",
              "      padding: 0 0 0 0;\n",
              "      width: 32px;\n",
              "    }\n",
              "\n",
              "    .colab-df-convert:hover {\n",
              "      background-color: #E2EBFA;\n",
              "      box-shadow: 0px 1px 2px rgba(60, 64, 67, 0.3), 0px 1px 3px 1px rgba(60, 64, 67, 0.15);\n",
              "      fill: #174EA6;\n",
              "    }\n",
              "\n",
              "    [theme=dark] .colab-df-convert {\n",
              "      background-color: #3B4455;\n",
              "      fill: #D2E3FC;\n",
              "    }\n",
              "\n",
              "    [theme=dark] .colab-df-convert:hover {\n",
              "      background-color: #434B5C;\n",
              "      box-shadow: 0px 1px 3px 1px rgba(0, 0, 0, 0.15);\n",
              "      filter: drop-shadow(0px 1px 2px rgba(0, 0, 0, 0.3));\n",
              "      fill: #FFFFFF;\n",
              "    }\n",
              "  </style>\n",
              "\n",
              "      <script>\n",
              "        const buttonEl =\n",
              "          document.querySelector('#df-7062c1bf-4518-42a2-9260-fa545590ced8 button.colab-df-convert');\n",
              "        buttonEl.style.display =\n",
              "          google.colab.kernel.accessAllowed ? 'block' : 'none';\n",
              "\n",
              "        async function convertToInteractive(key) {\n",
              "          const element = document.querySelector('#df-7062c1bf-4518-42a2-9260-fa545590ced8');\n",
              "          const dataTable =\n",
              "            await google.colab.kernel.invokeFunction('convertToInteractive',\n",
              "                                                     [key], {});\n",
              "          if (!dataTable) return;\n",
              "\n",
              "          const docLinkHtml = 'Like what you see? Visit the ' +\n",
              "            '<a target=\"_blank\" href=https://colab.research.google.com/notebooks/data_table.ipynb>data table notebook</a>'\n",
              "            + ' to learn more about interactive tables.';\n",
              "          element.innerHTML = '';\n",
              "          dataTable['output_type'] = 'display_data';\n",
              "          await google.colab.output.renderOutput(dataTable, element);\n",
              "          const docLink = document.createElement('div');\n",
              "          docLink.innerHTML = docLinkHtml;\n",
              "          element.appendChild(docLink);\n",
              "        }\n",
              "      </script>\n",
              "    </div>\n",
              "  </div>\n",
              "  "
            ]
          },
          "metadata": {},
          "execution_count": 47
        }
      ]
    },
    {
      "cell_type": "code",
      "source": [
        "X_test.describe()"
      ],
      "metadata": {
        "colab": {
          "base_uri": "https://localhost:8080/",
          "height": 300
        },
        "id": "EvANVMaIpodh",
        "outputId": "7a06c4b7-4eec-4137-e1cd-6137369da90e"
      },
      "execution_count": 48,
      "outputs": [
        {
          "output_type": "execute_result",
          "data": {
            "text/plain": [
              "       engineDisplacement  enginePower  enginePower_log  mileage  age_avto  \\\n",
              "count             1671.00      1671.00          1671.00  1671.00   1671.00   \n",
              "mean                 0.42         0.26             0.44     0.12      0.21   \n",
              "std                  0.16         0.18             0.19     0.08      0.14   \n",
              "min                  0.00         0.00             0.00     0.00      0.00   \n",
              "25%                  0.30         0.14             0.31     0.06      0.11   \n",
              "50%                  0.41         0.22             0.43     0.11      0.18   \n",
              "75%                  0.45         0.34             0.57     0.17      0.29   \n",
              "max                  1.00         1.00             1.00     1.00      1.00   \n",
              "\n",
              "       mileage_/_age_avto  Владельцы  numberOfDoors  xDrive  ПТС_10  \n",
              "count             1671.00    1671.00        1671.00 1671.00 1671.00  \n",
              "mean                 0.23       0.55           0.75    0.11    0.90  \n",
              "std                  0.12       0.41           0.30    0.31    0.30  \n",
              "min                  0.00       0.00           0.00    0.00    0.00  \n",
              "25%                  0.15       0.00           0.67    0.00    1.00  \n",
              "50%                  0.22       0.50           0.67    0.00    1.00  \n",
              "75%                  0.29       1.00           1.00    0.00    1.00  \n",
              "max                  1.00       1.00           1.00    1.00    1.00  "
            ],
            "text/html": [
              "\n",
              "  <div id=\"df-e1a3a4a3-3dbf-4f5d-996c-d7c5f5c40156\">\n",
              "    <div class=\"colab-df-container\">\n",
              "      <div>\n",
              "<style scoped>\n",
              "    .dataframe tbody tr th:only-of-type {\n",
              "        vertical-align: middle;\n",
              "    }\n",
              "\n",
              "    .dataframe tbody tr th {\n",
              "        vertical-align: top;\n",
              "    }\n",
              "\n",
              "    .dataframe thead th {\n",
              "        text-align: right;\n",
              "    }\n",
              "</style>\n",
              "<table border=\"1\" class=\"dataframe\">\n",
              "  <thead>\n",
              "    <tr style=\"text-align: right;\">\n",
              "      <th></th>\n",
              "      <th>engineDisplacement</th>\n",
              "      <th>enginePower</th>\n",
              "      <th>enginePower_log</th>\n",
              "      <th>mileage</th>\n",
              "      <th>age_avto</th>\n",
              "      <th>mileage_/_age_avto</th>\n",
              "      <th>Владельцы</th>\n",
              "      <th>numberOfDoors</th>\n",
              "      <th>xDrive</th>\n",
              "      <th>ПТС_10</th>\n",
              "    </tr>\n",
              "  </thead>\n",
              "  <tbody>\n",
              "    <tr>\n",
              "      <th>count</th>\n",
              "      <td>1671.00</td>\n",
              "      <td>1671.00</td>\n",
              "      <td>1671.00</td>\n",
              "      <td>1671.00</td>\n",
              "      <td>1671.00</td>\n",
              "      <td>1671.00</td>\n",
              "      <td>1671.00</td>\n",
              "      <td>1671.00</td>\n",
              "      <td>1671.00</td>\n",
              "      <td>1671.00</td>\n",
              "    </tr>\n",
              "    <tr>\n",
              "      <th>mean</th>\n",
              "      <td>0.42</td>\n",
              "      <td>0.26</td>\n",
              "      <td>0.44</td>\n",
              "      <td>0.12</td>\n",
              "      <td>0.21</td>\n",
              "      <td>0.23</td>\n",
              "      <td>0.55</td>\n",
              "      <td>0.75</td>\n",
              "      <td>0.11</td>\n",
              "      <td>0.90</td>\n",
              "    </tr>\n",
              "    <tr>\n",
              "      <th>std</th>\n",
              "      <td>0.16</td>\n",
              "      <td>0.18</td>\n",
              "      <td>0.19</td>\n",
              "      <td>0.08</td>\n",
              "      <td>0.14</td>\n",
              "      <td>0.12</td>\n",
              "      <td>0.41</td>\n",
              "      <td>0.30</td>\n",
              "      <td>0.31</td>\n",
              "      <td>0.30</td>\n",
              "    </tr>\n",
              "    <tr>\n",
              "      <th>min</th>\n",
              "      <td>0.00</td>\n",
              "      <td>0.00</td>\n",
              "      <td>0.00</td>\n",
              "      <td>0.00</td>\n",
              "      <td>0.00</td>\n",
              "      <td>0.00</td>\n",
              "      <td>0.00</td>\n",
              "      <td>0.00</td>\n",
              "      <td>0.00</td>\n",
              "      <td>0.00</td>\n",
              "    </tr>\n",
              "    <tr>\n",
              "      <th>25%</th>\n",
              "      <td>0.30</td>\n",
              "      <td>0.14</td>\n",
              "      <td>0.31</td>\n",
              "      <td>0.06</td>\n",
              "      <td>0.11</td>\n",
              "      <td>0.15</td>\n",
              "      <td>0.00</td>\n",
              "      <td>0.67</td>\n",
              "      <td>0.00</td>\n",
              "      <td>1.00</td>\n",
              "    </tr>\n",
              "    <tr>\n",
              "      <th>50%</th>\n",
              "      <td>0.41</td>\n",
              "      <td>0.22</td>\n",
              "      <td>0.43</td>\n",
              "      <td>0.11</td>\n",
              "      <td>0.18</td>\n",
              "      <td>0.22</td>\n",
              "      <td>0.50</td>\n",
              "      <td>0.67</td>\n",
              "      <td>0.00</td>\n",
              "      <td>1.00</td>\n",
              "    </tr>\n",
              "    <tr>\n",
              "      <th>75%</th>\n",
              "      <td>0.45</td>\n",
              "      <td>0.34</td>\n",
              "      <td>0.57</td>\n",
              "      <td>0.17</td>\n",
              "      <td>0.29</td>\n",
              "      <td>0.29</td>\n",
              "      <td>1.00</td>\n",
              "      <td>1.00</td>\n",
              "      <td>0.00</td>\n",
              "      <td>1.00</td>\n",
              "    </tr>\n",
              "    <tr>\n",
              "      <th>max</th>\n",
              "      <td>1.00</td>\n",
              "      <td>1.00</td>\n",
              "      <td>1.00</td>\n",
              "      <td>1.00</td>\n",
              "      <td>1.00</td>\n",
              "      <td>1.00</td>\n",
              "      <td>1.00</td>\n",
              "      <td>1.00</td>\n",
              "      <td>1.00</td>\n",
              "      <td>1.00</td>\n",
              "    </tr>\n",
              "  </tbody>\n",
              "</table>\n",
              "</div>\n",
              "      <button class=\"colab-df-convert\" onclick=\"convertToInteractive('df-e1a3a4a3-3dbf-4f5d-996c-d7c5f5c40156')\"\n",
              "              title=\"Convert this dataframe to an interactive table.\"\n",
              "              style=\"display:none;\">\n",
              "        \n",
              "  <svg xmlns=\"http://www.w3.org/2000/svg\" height=\"24px\"viewBox=\"0 0 24 24\"\n",
              "       width=\"24px\">\n",
              "    <path d=\"M0 0h24v24H0V0z\" fill=\"none\"/>\n",
              "    <path d=\"M18.56 5.44l.94 2.06.94-2.06 2.06-.94-2.06-.94-.94-2.06-.94 2.06-2.06.94zm-11 1L8.5 8.5l.94-2.06 2.06-.94-2.06-.94L8.5 2.5l-.94 2.06-2.06.94zm10 10l.94 2.06.94-2.06 2.06-.94-2.06-.94-.94-2.06-.94 2.06-2.06.94z\"/><path d=\"M17.41 7.96l-1.37-1.37c-.4-.4-.92-.59-1.43-.59-.52 0-1.04.2-1.43.59L10.3 9.45l-7.72 7.72c-.78.78-.78 2.05 0 2.83L4 21.41c.39.39.9.59 1.41.59.51 0 1.02-.2 1.41-.59l7.78-7.78 2.81-2.81c.8-.78.8-2.07 0-2.86zM5.41 20L4 18.59l7.72-7.72 1.47 1.35L5.41 20z\"/>\n",
              "  </svg>\n",
              "      </button>\n",
              "      \n",
              "  <style>\n",
              "    .colab-df-container {\n",
              "      display:flex;\n",
              "      flex-wrap:wrap;\n",
              "      gap: 12px;\n",
              "    }\n",
              "\n",
              "    .colab-df-convert {\n",
              "      background-color: #E8F0FE;\n",
              "      border: none;\n",
              "      border-radius: 50%;\n",
              "      cursor: pointer;\n",
              "      display: none;\n",
              "      fill: #1967D2;\n",
              "      height: 32px;\n",
              "      padding: 0 0 0 0;\n",
              "      width: 32px;\n",
              "    }\n",
              "\n",
              "    .colab-df-convert:hover {\n",
              "      background-color: #E2EBFA;\n",
              "      box-shadow: 0px 1px 2px rgba(60, 64, 67, 0.3), 0px 1px 3px 1px rgba(60, 64, 67, 0.15);\n",
              "      fill: #174EA6;\n",
              "    }\n",
              "\n",
              "    [theme=dark] .colab-df-convert {\n",
              "      background-color: #3B4455;\n",
              "      fill: #D2E3FC;\n",
              "    }\n",
              "\n",
              "    [theme=dark] .colab-df-convert:hover {\n",
              "      background-color: #434B5C;\n",
              "      box-shadow: 0px 1px 3px 1px rgba(0, 0, 0, 0.15);\n",
              "      filter: drop-shadow(0px 1px 2px rgba(0, 0, 0, 0.3));\n",
              "      fill: #FFFFFF;\n",
              "    }\n",
              "  </style>\n",
              "\n",
              "      <script>\n",
              "        const buttonEl =\n",
              "          document.querySelector('#df-e1a3a4a3-3dbf-4f5d-996c-d7c5f5c40156 button.colab-df-convert');\n",
              "        buttonEl.style.display =\n",
              "          google.colab.kernel.accessAllowed ? 'block' : 'none';\n",
              "\n",
              "        async function convertToInteractive(key) {\n",
              "          const element = document.querySelector('#df-e1a3a4a3-3dbf-4f5d-996c-d7c5f5c40156');\n",
              "          const dataTable =\n",
              "            await google.colab.kernel.invokeFunction('convertToInteractive',\n",
              "                                                     [key], {});\n",
              "          if (!dataTable) return;\n",
              "\n",
              "          const docLinkHtml = 'Like what you see? Visit the ' +\n",
              "            '<a target=\"_blank\" href=https://colab.research.google.com/notebooks/data_table.ipynb>data table notebook</a>'\n",
              "            + ' to learn more about interactive tables.';\n",
              "          element.innerHTML = '';\n",
              "          dataTable['output_type'] = 'display_data';\n",
              "          await google.colab.output.renderOutput(dataTable, element);\n",
              "          const docLink = document.createElement('div');\n",
              "          docLink.innerHTML = docLinkHtml;\n",
              "          element.appendChild(docLink);\n",
              "        }\n",
              "      </script>\n",
              "    </div>\n",
              "  </div>\n",
              "  "
            ]
          },
          "metadata": {},
          "execution_count": 48
        }
      ]
    },
    {
      "cell_type": "code",
      "source": [
        "# Закодируем категориальные переменные (так как в тестовой выборки есть такие модели авто, которые отсутсвуют в тренировочной, то для кодирования датасеты придется объединить) \n",
        "\n",
        "X['sample'] = 1\n",
        "X_test['sample'] = 0\n",
        "\n",
        "X_join = pd.concat([X, X_test])\n",
        "\n",
        "#X_join = pd.get_dummies(X_join, columns=categorical_features)\n",
        "\n",
        "X = X_join[X_join['sample'] == 1].drop(['sample'], axis=1)\n",
        "X_test = X_join[X_join['sample'] == 0].drop(['sample'], axis=1)\n"
      ],
      "metadata": {
        "colab": {
          "base_uri": "https://localhost:8080/"
        },
        "id": "BLRvNf-dLEA3",
        "outputId": "184511c5-d3fc-45f5-99a9-684cfc0872e3"
      },
      "execution_count": 12,
      "outputs": [
        {
          "output_type": "stream",
          "name": "stderr",
          "text": [
            "/usr/local/lib/python3.7/dist-packages/ipykernel_launcher.py:3: SettingWithCopyWarning: \n",
            "A value is trying to be set on a copy of a slice from a DataFrame.\n",
            "Try using .loc[row_indexer,col_indexer] = value instead\n",
            "\n",
            "See the caveats in the documentation: https://pandas.pydata.org/pandas-docs/stable/user_guide/indexing.html#returning-a-view-versus-a-copy\n",
            "  This is separate from the ipykernel package so we can avoid doing imports until\n",
            "/usr/local/lib/python3.7/dist-packages/ipykernel_launcher.py:4: SettingWithCopyWarning: \n",
            "A value is trying to be set on a copy of a slice from a DataFrame.\n",
            "Try using .loc[row_indexer,col_indexer] = value instead\n",
            "\n",
            "See the caveats in the documentation: https://pandas.pydata.org/pandas-docs/stable/user_guide/indexing.html#returning-a-view-versus-a-copy\n",
            "  after removing the cwd from sys.path.\n"
          ]
        }
      ]
    },
    {
      "cell_type": "code",
      "source": [
        "# Разбиваем на обучающую и валидационную выборки\n",
        "\n",
        "X_train = pd.concat([Y, X], axis=1)\n",
        "X_train_log = pd.concat([Y_log, X], axis=1)\n",
        "\n",
        "# X_train, X_valid = train_test_split(X, test_size=0.2, random_state=SEED, shuffle=True)\n",
        "# X_train_log, X_valid_log = train_test_split(X_log, test_size=0.2, random_state=SEED, shuffle=True)"
      ],
      "metadata": {
        "id": "9nGRL8mqp9M2"
      },
      "execution_count": 49,
      "outputs": []
    },
    {
      "cell_type": "markdown",
      "source": [
        "## Обучение модели"
      ],
      "metadata": {
        "id": "5o2Z2F2wsBSR"
      }
    },
    {
      "cell_type": "code",
      "source": [
        "# определяем задачу\n",
        "\n",
        "def MAPE(y_true, y_pred):\n",
        "    return np.mean(np.abs((y_pred-y_true)/y_true))\n",
        "\n",
        "task = Task('reg', loss='mape', metric='mae')"
      ],
      "metadata": {
        "id": "UItqEn0Wr6pl"
      },
      "execution_count": 50,
      "outputs": []
    },
    {
      "cell_type": "code",
      "source": [
        "# определяем роли\n",
        "\n",
        "roles = {\n",
        "    'target' : 'price_log',\n",
        "    \n",
        "}"
      ],
      "metadata": {
        "id": "D1ejJYEIRbFW"
      },
      "execution_count": 51,
      "outputs": []
    },
    {
      "cell_type": "code",
      "source": [
        "# создаем модель\n",
        "automl_1 = TabularAutoML(\n",
        "    task=task,\n",
        "    timeout=60*60,\n",
        "    general_params = {\n",
        "        'use_algos': [['linear_l2', 'lgb_tuned', 'cb_tuned'], ['linear_l2'] ]\n",
        "        },\n",
        "    reader_params={\n",
        "        'cv': 10,\n",
        "        'random_state': SEED,\n",
        "        'verbose': 1\n",
        "    }\n",
        ")"
      ],
      "metadata": {
        "id": "oVR_h7aasIIu"
      },
      "execution_count": 52,
      "outputs": []
    },
    {
      "cell_type": "code",
      "source": [
        "oof_pred_1 = automl_1.fit_predict(X_train_log, roles=roles, verbose=1)"
      ],
      "metadata": {
        "colab": {
          "base_uri": "https://localhost:8080/"
        },
        "id": "VmWyLJx2Bbjc",
        "outputId": "2c5f0338-a2a1-49fd-97b6-454eb4f33010"
      },
      "execution_count": 53,
      "outputs": [
        {
          "output_type": "stream",
          "name": "stdout",
          "text": [
            "[15:21:38] Stdout logging level is INFO.\n",
            "[15:21:38] Task: reg\n",
            "\n",
            "[15:21:38] Start automl preset with listed constraints:\n",
            "[15:21:38] - time: 3600.00 seconds\n",
            "[15:21:38] - CPU: 4 cores\n",
            "[15:21:38] - memory: 16 GB\n",
            "\n",
            "[15:21:38] \u001b[1mTrain data shape: (6682, 19)\u001b[0m\n",
            "\n",
            "[15:21:41] Layer \u001b[1m1\u001b[0m train process start. Time left 3597.16 secs\n",
            "[15:21:41] Start fitting \u001b[1mLvl_0_Pipe_0_Mod_0_LinearL2\u001b[0m ...\n",
            "[15:21:47] Fitting \u001b[1mLvl_0_Pipe_0_Mod_0_LinearL2\u001b[0m finished. score = \u001b[1m-0.17655671598963504\u001b[0m\n",
            "[15:21:47] \u001b[1mLvl_0_Pipe_0_Mod_0_LinearL2\u001b[0m fitting and predicting completed\n",
            "[15:21:47] Time left 3590.86 secs\n",
            "\n",
            "[15:21:56] \u001b[1mSelector_LightGBM\u001b[0m fitting and predicting completed\n",
            "[15:21:57] Start hyperparameters optimization for \u001b[1mLvl_0_Pipe_1_Mod_0_Tuned_LightGBM\u001b[0m ... Time budget is 300.00 secs\n"
          ]
        },
        {
          "output_type": "stream",
          "name": "stderr",
          "text": [
            "INFO:optuna.storages._in_memory:A new study created in memory with name: no-name-ce660a6b-2dc0-4fa3-b374-fd0c67dd8d8a\n",
            "INFO:optuna.study.study:Trial 0 finished with value: -0.11877523755203266 and parameters: {'feature_fraction': 0.6872700594236812, 'num_leaves': 244, 'bagging_fraction': 0.8659969709057025, 'min_sum_hessian_in_leaf': 0.24810409748678125, 'reg_alpha': 2.5361081166471375e-07, 'reg_lambda': 2.5348407664333426e-07}. Best is trial 0 with value: -0.11877523755203266.\n",
            "INFO:optuna.study.study:Trial 1 finished with value: -0.11692344971977782 and parameters: {'feature_fraction': 0.5290418060840998, 'num_leaves': 223, 'bagging_fraction': 0.8005575058716043, 'min_sum_hessian_in_leaf': 0.679657809075816, 'reg_alpha': 1.5320059381854043e-08, 'reg_lambda': 5.360294728728285}. Best is trial 1 with value: -0.11692344971977782.\n",
            "INFO:optuna.study.study:Trial 2 finished with value: -0.11831056832233726 and parameters: {'feature_fraction': 0.9162213204002109, 'num_leaves': 66, 'bagging_fraction': 0.5909124836035503, 'min_sum_hessian_in_leaf': 0.00541524411940254, 'reg_alpha': 5.472429642032198e-06, 'reg_lambda': 0.00052821153945323}. Best is trial 1 with value: -0.11692344971977782.\n",
            "INFO:optuna.study.study:Trial 3 finished with value: -0.11832112234873104 and parameters: {'feature_fraction': 0.7159725093210578, 'num_leaves': 85, 'bagging_fraction': 0.8059264473611898, 'min_sum_hessian_in_leaf': 0.003613894271216527, 'reg_alpha': 4.258943089524393e-06, 'reg_lambda': 1.9826980964985924e-05}. Best is trial 1 with value: -0.11692344971977782.\n",
            "INFO:optuna.study.study:Trial 4 finished with value: -0.11886762705009023 and parameters: {'feature_fraction': 0.728034992108518, 'num_leaves': 204, 'bagging_fraction': 0.5998368910791798, 'min_sum_hessian_in_leaf': 0.11400863701127326, 'reg_alpha': 0.0021465011216654484, 'reg_lambda': 2.6185068507773707e-08}. Best is trial 1 with value: -0.11692344971977782.\n",
            "INFO:optuna.study.study:Trial 5 finished with value: -0.14450149638491835 and parameters: {'feature_fraction': 0.8037724259507192, 'num_leaves': 56, 'bagging_fraction': 0.5325257964926398, 'min_sum_hessian_in_leaf': 6.245139574743075, 'reg_alpha': 4.905556676028774, 'reg_lambda': 0.18861495878553936}. Best is trial 1 with value: -0.11692344971977782.\n",
            "INFO:optuna.study.study:Trial 6 finished with value: -0.11911468872155165 and parameters: {'feature_fraction': 0.6523068845866853, 'num_leaves': 39, 'bagging_fraction': 0.8421165132560784, 'min_sum_hessian_in_leaf': 0.057624872164786026, 'reg_alpha': 1.254134495897175e-07, 'reg_lambda': 0.00028614897264046574}. Best is trial 1 with value: -0.11692344971977782.\n",
            "INFO:optuna.study.study:Trial 7 finished with value: -0.11944947892214336 and parameters: {'feature_fraction': 0.5171942605576092, 'num_leaves': 234, 'bagging_fraction': 0.6293899908000085, 'min_sum_hessian_in_leaf': 0.4467752817973907, 'reg_alpha': 6.388511557344611e-06, 'reg_lambda': 0.0004793052550782129}. Best is trial 1 with value: -0.11692344971977782.\n",
            "INFO:optuna.study.study:Trial 8 finished with value: -0.12674755092625872 and parameters: {'feature_fraction': 0.7733551396716398, 'num_leaves': 60, 'bagging_fraction': 0.9847923138822793, 'min_sum_hessian_in_leaf': 1.2604664585649468, 'reg_alpha': 2.854239907497756, 'reg_lambda': 1.1309571585271483}. Best is trial 1 with value: -0.11692344971977782.\n",
            "INFO:optuna.study.study:Trial 9 finished with value: -0.11826013808203588 and parameters: {'feature_fraction': 0.7989499894055425, 'num_leaves': 237, 'bagging_fraction': 0.5442462510259598, 'min_sum_hessian_in_leaf': 0.006080390190296602, 'reg_alpha': 2.5529693461039728e-08, 'reg_lambda': 8.471746987003668e-06}. Best is trial 1 with value: -0.11692344971977782.\n",
            "INFO:optuna.study.study:Trial 10 finished with value: -0.11750183013342282 and parameters: {'feature_fraction': 0.5102651048435158, 'num_leaves': 155, 'bagging_fraction': 0.7149885992524333, 'min_sum_hessian_in_leaf': 5.376638637951075, 'reg_alpha': 0.005764962972197511, 'reg_lambda': 0.03969950572380459}. Best is trial 1 with value: -0.11692344971977782.\n",
            "INFO:optuna.study.study:Trial 11 finished with value: -0.11788924137174574 and parameters: {'feature_fraction': 0.5075721185513784, 'num_leaves': 165, 'bagging_fraction': 0.7046188504850934, 'min_sum_hessian_in_leaf': 9.748373956729036, 'reg_alpha': 0.01130356645754567, 'reg_lambda': 0.05327797205857794}. Best is trial 1 with value: -0.11692344971977782.\n",
            "INFO:optuna.study.study:Trial 12 finished with value: -0.1174287438566526 and parameters: {'feature_fraction': 0.5962024646862834, 'num_leaves': 129, 'bagging_fraction': 0.7271190126591557, 'min_sum_hessian_in_leaf': 1.872462865864877, 'reg_alpha': 0.06753212906337899, 'reg_lambda': 9.408408243519418}. Best is trial 1 with value: -0.11692344971977782.\n"
          ]
        },
        {
          "output_type": "stream",
          "name": "stdout",
          "text": [
            "[15:27:22] Hyperparameters optimization for \u001b[1mLvl_0_Pipe_1_Mod_0_Tuned_LightGBM\u001b[0m completed\n",
            "[15:27:22] Start fitting \u001b[1mLvl_0_Pipe_1_Mod_0_Tuned_LightGBM\u001b[0m ...\n",
            "[15:29:35] Fitting \u001b[1mLvl_0_Pipe_1_Mod_0_Tuned_LightGBM\u001b[0m finished. score = \u001b[1m-0.12493997233307728\u001b[0m\n",
            "[15:29:35] \u001b[1mLvl_0_Pipe_1_Mod_0_Tuned_LightGBM\u001b[0m fitting and predicting completed\n",
            "[15:29:35] Start hyperparameters optimization for \u001b[1mLvl_0_Pipe_1_Mod_1_Tuned_CatBoost\u001b[0m ... Time budget is 300.00 secs\n"
          ]
        },
        {
          "output_type": "stream",
          "name": "stderr",
          "text": [
            "INFO:optuna.storages._in_memory:A new study created in memory with name: no-name-c380e54a-c489-440f-a7e5-11576d797982\n",
            "INFO:optuna.study.study:Trial 0 finished with value: -0.12464568526833938 and parameters: {'max_depth': 4, 'nan_mode': 'Max', 'l2_leaf_reg': 0.0024430162614261413, 'min_data_in_leaf': 4}. Best is trial 0 with value: -0.12464568526833938.\n",
            "INFO:optuna.study.study:Trial 1 finished with value: -0.1274187115601881 and parameters: {'max_depth': 3, 'nan_mode': 'Min', 'l2_leaf_reg': 0.002570603566117598, 'min_data_in_leaf': 15}. Best is trial 0 with value: -0.12464568526833938.\n",
            "INFO:optuna.study.study:Trial 2 finished with value: -0.12895929968280317 and parameters: {'max_depth': 3, 'nan_mode': 'Max', 'l2_leaf_reg': 8.148018307012941e-07, 'min_data_in_leaf': 4}. Best is trial 0 with value: -0.12464568526833938.\n",
            "INFO:optuna.study.study:Trial 3 finished with value: -0.1274187115601881 and parameters: {'max_depth': 3, 'nan_mode': 'Min', 'l2_leaf_reg': 7.71800699380605e-05, 'min_data_in_leaf': 6}. Best is trial 0 with value: -0.12464568526833938.\n",
            "INFO:optuna.study.study:Trial 4 finished with value: -0.11939399969400252 and parameters: {'max_depth': 6, 'nan_mode': 'Min', 'l2_leaf_reg': 1.9826980964985924e-05, 'min_data_in_leaf': 10}. Best is trial 4 with value: -0.11939399969400252.\n",
            "INFO:optuna.study.study:Trial 5 finished with value: -0.11939399969400252 and parameters: {'max_depth': 6, 'nan_mode': 'Min', 'l2_leaf_reg': 0.0021465011216654484, 'min_data_in_leaf': 1}. Best is trial 4 with value: -0.11939399969400252.\n",
            "INFO:optuna.study.study:Trial 6 finished with value: -0.11950213921194994 and parameters: {'max_depth': 6, 'nan_mode': 'Max', 'l2_leaf_reg': 3.4671276804481113, 'min_data_in_leaf': 20}. Best is trial 4 with value: -0.11939399969400252.\n",
            "INFO:optuna.study.study:Trial 7 finished with value: -0.11943878393473971 and parameters: {'max_depth': 7, 'nan_mode': 'Max', 'l2_leaf_reg': 0.014391207615728067, 'min_data_in_leaf': 9}. Best is trial 4 with value: -0.11939399969400252.\n",
            "INFO:optuna.study.study:Trial 8 finished with value: -0.1287465699405843 and parameters: {'max_depth': 3, 'nan_mode': 'Max', 'l2_leaf_reg': 1.527156759251193, 'min_data_in_leaf': 6}. Best is trial 4 with value: -0.11939399969400252.\n",
            "INFO:optuna.study.study:Trial 9 finished with value: -0.11939399969400252 and parameters: {'max_depth': 6, 'nan_mode': 'Min', 'l2_leaf_reg': 0.0008325158565947976, 'min_data_in_leaf': 4}. Best is trial 4 with value: -0.11939399969400252.\n",
            "INFO:optuna.study.study:Trial 10 finished with value: -0.12413171061151879 and parameters: {'max_depth': 5, 'nan_mode': 'Min', 'l2_leaf_reg': 1.1692997958212103e-08, 'min_data_in_leaf': 13}. Best is trial 4 with value: -0.11939399969400252.\n",
            "INFO:optuna.study.study:Trial 11 finished with value: -0.11939399969400252 and parameters: {'max_depth': 6, 'nan_mode': 'Min', 'l2_leaf_reg': 1.5854853890044875e-05, 'min_data_in_leaf': 1}. Best is trial 4 with value: -0.11939399969400252.\n",
            "INFO:optuna.study.study:Trial 12 finished with value: -0.12054724777881884 and parameters: {'max_depth': 7, 'nan_mode': 'Min', 'l2_leaf_reg': 3.3639426888455315e-06, 'min_data_in_leaf': 11}. Best is trial 4 with value: -0.11939399969400252.\n",
            "INFO:optuna.study.study:Trial 13 finished with value: -0.12562111076318339 and parameters: {'max_depth': 5, 'nan_mode': 'Min', 'l2_leaf_reg': 0.13836208644018405, 'min_data_in_leaf': 18}. Best is trial 4 with value: -0.11939399969400252.\n",
            "INFO:optuna.study.study:Trial 14 finished with value: -0.11939399969400252 and parameters: {'max_depth': 6, 'nan_mode': 'Min', 'l2_leaf_reg': 1.6612310896924837e-07, 'min_data_in_leaf': 1}. Best is trial 4 with value: -0.11939399969400252.\n",
            "INFO:optuna.study.study:Trial 15 finished with value: -0.12054724777881884 and parameters: {'max_depth': 7, 'nan_mode': 'Min', 'l2_leaf_reg': 0.0001653282123997987, 'min_data_in_leaf': 10}. Best is trial 4 with value: -0.11939399969400252.\n",
            "INFO:optuna.study.study:Trial 16 finished with value: -0.12351890703330451 and parameters: {'max_depth': 5, 'nan_mode': 'Min', 'l2_leaf_reg': 0.08858623697797369, 'min_data_in_leaf': 15}. Best is trial 4 with value: -0.11939399969400252.\n",
            "INFO:optuna.study.study:Trial 17 finished with value: -0.12418428849063312 and parameters: {'max_depth': 4, 'nan_mode': 'Min', 'l2_leaf_reg': 3.76317238806281e-08, 'min_data_in_leaf': 1}. Best is trial 4 with value: -0.11939399969400252.\n",
            "INFO:optuna.study.study:Trial 18 finished with value: -0.11939399969400252 and parameters: {'max_depth': 6, 'nan_mode': 'Min', 'l2_leaf_reg': 1.688081236948149e-07, 'min_data_in_leaf': 7}. Best is trial 4 with value: -0.11939399969400252.\n",
            "INFO:optuna.study.study:Trial 19 finished with value: -0.12418428849063312 and parameters: {'max_depth': 4, 'nan_mode': 'Min', 'l2_leaf_reg': 4.648765661147272e-07, 'min_data_in_leaf': 3}. Best is trial 4 with value: -0.11939399969400252.\n",
            "INFO:optuna.study.study:Trial 20 finished with value: -0.12413171061151879 and parameters: {'max_depth': 5, 'nan_mode': 'Min', 'l2_leaf_reg': 1.8644398249073452e-05, 'min_data_in_leaf': 8}. Best is trial 4 with value: -0.11939399969400252.\n",
            "INFO:optuna.study.study:Trial 21 finished with value: -0.11939399969400252 and parameters: {'max_depth': 6, 'nan_mode': 'Min', 'l2_leaf_reg': 9.002686716386163e-06, 'min_data_in_leaf': 7}. Best is trial 4 with value: -0.11939399969400252.\n",
            "INFO:optuna.study.study:Trial 22 finished with value: -0.11939399969400252 and parameters: {'max_depth': 6, 'nan_mode': 'Min', 'l2_leaf_reg': 4.599212413767022e-06, 'min_data_in_leaf': 7}. Best is trial 4 with value: -0.11939399969400252.\n",
            "INFO:optuna.study.study:Trial 23 finished with value: -0.12054724777881884 and parameters: {'max_depth': 7, 'nan_mode': 'Min', 'l2_leaf_reg': 1.134279921245163e-07, 'min_data_in_leaf': 2}. Best is trial 4 with value: -0.11939399969400252.\n",
            "INFO:optuna.study.study:Trial 24 finished with value: -0.11939399969400252 and parameters: {'max_depth': 6, 'nan_mode': 'Min', 'l2_leaf_reg': 1.9747568224995788e-06, 'min_data_in_leaf': 6}. Best is trial 4 with value: -0.11939399969400252.\n",
            "INFO:optuna.study.study:Trial 25 finished with value: -0.12413171061151879 and parameters: {'max_depth': 5, 'nan_mode': 'Min', 'l2_leaf_reg': 2.6157096261899185e-06, 'min_data_in_leaf': 6}. Best is trial 4 with value: -0.11939399969400252.\n",
            "INFO:optuna.study.study:Trial 26 finished with value: -0.11837024210942536 and parameters: {'max_depth': 7, 'nan_mode': 'Max', 'l2_leaf_reg': 1.9763996712734042e-05, 'min_data_in_leaf': 12}. Best is trial 26 with value: -0.11837024210942536.\n",
            "INFO:optuna.study.study:Trial 27 finished with value: -0.11837024210942536 and parameters: {'max_depth': 7, 'nan_mode': 'Max', 'l2_leaf_reg': 9.676164700874018e-05, 'min_data_in_leaf': 12}. Best is trial 26 with value: -0.11837024210942536.\n",
            "INFO:optuna.study.study:Trial 28 finished with value: -0.11837024210942536 and parameters: {'max_depth': 7, 'nan_mode': 'Max', 'l2_leaf_reg': 9.17969260938085e-05, 'min_data_in_leaf': 15}. Best is trial 26 with value: -0.11837024210942536.\n",
            "INFO:optuna.study.study:Trial 29 finished with value: -0.11837024210942536 and parameters: {'max_depth': 7, 'nan_mode': 'Max', 'l2_leaf_reg': 7.077683026171677e-05, 'min_data_in_leaf': 13}. Best is trial 26 with value: -0.11837024210942536.\n",
            "INFO:optuna.study.study:Trial 30 finished with value: -0.11837024210942536 and parameters: {'max_depth': 7, 'nan_mode': 'Max', 'l2_leaf_reg': 0.00024138240983813302, 'min_data_in_leaf': 13}. Best is trial 26 with value: -0.11837024210942536.\n",
            "INFO:optuna.study.study:Trial 31 finished with value: -0.11837024210942536 and parameters: {'max_depth': 7, 'nan_mode': 'Max', 'l2_leaf_reg': 0.0003696028111630772, 'min_data_in_leaf': 13}. Best is trial 26 with value: -0.11837024210942536.\n",
            "INFO:optuna.study.study:Trial 32 finished with value: -0.11837024210942536 and parameters: {'max_depth': 7, 'nan_mode': 'Max', 'l2_leaf_reg': 0.0005208533774649852, 'min_data_in_leaf': 12}. Best is trial 26 with value: -0.11837024210942536.\n",
            "INFO:optuna.study.study:Trial 33 finished with value: -0.11837024210942536 and parameters: {'max_depth': 7, 'nan_mode': 'Max', 'l2_leaf_reg': 0.00774623615262866, 'min_data_in_leaf': 12}. Best is trial 26 with value: -0.11837024210942536.\n",
            "INFO:optuna.study.study:Trial 34 finished with value: -0.11837024210942536 and parameters: {'max_depth': 7, 'nan_mode': 'Max', 'l2_leaf_reg': 0.004852378684631227, 'min_data_in_leaf': 16}. Best is trial 26 with value: -0.11837024210942536.\n",
            "INFO:optuna.study.study:Trial 35 finished with value: -0.11943878393473971 and parameters: {'max_depth': 7, 'nan_mode': 'Max', 'l2_leaf_reg': 0.012154059978133016, 'min_data_in_leaf': 16}. Best is trial 26 with value: -0.11837024210942536.\n",
            "INFO:optuna.study.study:Trial 36 finished with value: -0.11837024210942536 and parameters: {'max_depth': 7, 'nan_mode': 'Max', 'l2_leaf_reg': 5.610066749233317e-05, 'min_data_in_leaf': 17}. Best is trial 26 with value: -0.11837024210942536.\n",
            "INFO:optuna.study.study:Trial 37 finished with value: -0.11837024210942536 and parameters: {'max_depth': 7, 'nan_mode': 'Max', 'l2_leaf_reg': 0.0062012453214576905, 'min_data_in_leaf': 17}. Best is trial 26 with value: -0.11837024210942536.\n",
            "INFO:optuna.study.study:Trial 38 finished with value: -0.11837024210942536 and parameters: {'max_depth': 7, 'nan_mode': 'Max', 'l2_leaf_reg': 0.00836605748792764, 'min_data_in_leaf': 20}. Best is trial 26 with value: -0.11837024210942536.\n",
            "INFO:optuna.study.study:Trial 39 finished with value: -0.1206676071404934 and parameters: {'max_depth': 7, 'nan_mode': 'Max', 'l2_leaf_reg': 0.05294054339532673, 'min_data_in_leaf': 19}. Best is trial 26 with value: -0.11837024210942536.\n",
            "INFO:optuna.study.study:Trial 40 finished with value: -0.1199382958378013 and parameters: {'max_depth': 6, 'nan_mode': 'Max', 'l2_leaf_reg': 0.0007813850648913882, 'min_data_in_leaf': 18}. Best is trial 26 with value: -0.11837024210942536.\n",
            "INFO:optuna.study.study:Trial 41 finished with value: -0.11837024210942536 and parameters: {'max_depth': 7, 'nan_mode': 'Max', 'l2_leaf_reg': 5.1986403807553225e-05, 'min_data_in_leaf': 20}. Best is trial 26 with value: -0.11837024210942536.\n",
            "INFO:optuna.study.study:Trial 42 finished with value: -0.11837024210942536 and parameters: {'max_depth': 7, 'nan_mode': 'Max', 'l2_leaf_reg': 8.187665469618355e-05, 'min_data_in_leaf': 14}. Best is trial 26 with value: -0.11837024210942536.\n",
            "INFO:optuna.study.study:Trial 43 finished with value: -0.11837024210942536 and parameters: {'max_depth': 7, 'nan_mode': 'Max', 'l2_leaf_reg': 0.00010461252937906385, 'min_data_in_leaf': 14}. Best is trial 26 with value: -0.11837024210942536.\n",
            "INFO:optuna.study.study:Trial 44 finished with value: -0.11837024210942536 and parameters: {'max_depth': 7, 'nan_mode': 'Max', 'l2_leaf_reg': 0.0013333270522195083, 'min_data_in_leaf': 14}. Best is trial 26 with value: -0.11837024210942536.\n",
            "INFO:optuna.study.study:Trial 45 finished with value: -0.11837024210942536 and parameters: {'max_depth': 7, 'nan_mode': 'Max', 'l2_leaf_reg': 0.0009164080481867911, 'min_data_in_leaf': 11}. Best is trial 26 with value: -0.11837024210942536.\n",
            "INFO:optuna.study.study:Trial 46 finished with value: -0.1199382958378013 and parameters: {'max_depth': 6, 'nan_mode': 'Max', 'l2_leaf_reg': 4.2900589695720896e-05, 'min_data_in_leaf': 11}. Best is trial 26 with value: -0.11837024210942536.\n",
            "INFO:optuna.study.study:Trial 47 finished with value: -0.11837024210942536 and parameters: {'max_depth': 7, 'nan_mode': 'Max', 'l2_leaf_reg': 0.00022731201761111232, 'min_data_in_leaf': 15}. Best is trial 26 with value: -0.11837024210942536.\n",
            "INFO:optuna.study.study:Trial 48 finished with value: -0.1199382958378013 and parameters: {'max_depth': 6, 'nan_mode': 'Max', 'l2_leaf_reg': 9.023545774189695e-06, 'min_data_in_leaf': 15}. Best is trial 26 with value: -0.11837024210942536.\n",
            "INFO:optuna.study.study:Trial 49 finished with value: -0.11837024210942536 and parameters: {'max_depth': 7, 'nan_mode': 'Max', 'l2_leaf_reg': 0.0024055263770901064, 'min_data_in_leaf': 12}. Best is trial 26 with value: -0.11837024210942536.\n",
            "INFO:optuna.study.study:Trial 50 finished with value: -0.12895929968280317 and parameters: {'max_depth': 3, 'nan_mode': 'Max', 'l2_leaf_reg': 0.02570877411871221, 'min_data_in_leaf': 9}. Best is trial 26 with value: -0.11837024210942536.\n",
            "INFO:optuna.study.study:Trial 51 finished with value: -0.11837024210942536 and parameters: {'max_depth': 7, 'nan_mode': 'Max', 'l2_leaf_reg': 0.003290476260561732, 'min_data_in_leaf': 14}. Best is trial 26 with value: -0.11837024210942536.\n",
            "INFO:optuna.study.study:Trial 52 finished with value: -0.11837024210942536 and parameters: {'max_depth': 7, 'nan_mode': 'Max', 'l2_leaf_reg': 0.005501294781968549, 'min_data_in_leaf': 17}. Best is trial 26 with value: -0.11837024210942536.\n",
            "INFO:optuna.study.study:Trial 53 finished with value: -0.11837024210942536 and parameters: {'max_depth': 7, 'nan_mode': 'Max', 'l2_leaf_reg': 0.00037586363487344287, 'min_data_in_leaf': 13}. Best is trial 26 with value: -0.11837024210942536.\n",
            "INFO:optuna.study.study:Trial 54 finished with value: -0.11837024210942536 and parameters: {'max_depth': 7, 'nan_mode': 'Max', 'l2_leaf_reg': 0.00026280117778921353, 'min_data_in_leaf': 13}. Best is trial 26 with value: -0.11837024210942536.\n",
            "INFO:optuna.study.study:Trial 55 finished with value: -0.1199382958378013 and parameters: {'max_depth': 6, 'nan_mode': 'Max', 'l2_leaf_reg': 0.0006509850616997286, 'min_data_in_leaf': 10}. Best is trial 26 with value: -0.11837024210942536.\n"
          ]
        },
        {
          "output_type": "stream",
          "name": "stdout",
          "text": [
            "[15:34:38] Hyperparameters optimization for \u001b[1mLvl_0_Pipe_1_Mod_1_Tuned_CatBoost\u001b[0m completed\n",
            "[15:34:38] Start fitting \u001b[1mLvl_0_Pipe_1_Mod_1_Tuned_CatBoost\u001b[0m ...\n",
            "[15:35:47] Fitting \u001b[1mLvl_0_Pipe_1_Mod_1_Tuned_CatBoost\u001b[0m finished. score = \u001b[1m-0.12530105459647048\u001b[0m\n",
            "[15:35:47] \u001b[1mLvl_0_Pipe_1_Mod_1_Tuned_CatBoost\u001b[0m fitting and predicting completed\n",
            "[15:35:47] Time left 2750.68 secs\n",
            "\n",
            "[15:35:47] \u001b[1mLayer 1 training completed.\u001b[0m\n",
            "\n",
            "[15:35:47] Layer \u001b[1m2\u001b[0m train process start. Time left 2750.65 secs\n",
            "[15:35:48] Start fitting \u001b[1mLvl_1_Pipe_0_Mod_0_LinearL2\u001b[0m ...\n",
            "[15:35:52] Fitting \u001b[1mLvl_1_Pipe_0_Mod_0_LinearL2\u001b[0m finished. score = \u001b[1m-0.12272100277340206\u001b[0m\n",
            "[15:35:52] \u001b[1mLvl_1_Pipe_0_Mod_0_LinearL2\u001b[0m fitting and predicting completed\n",
            "[15:35:52] Time left 2745.72 secs\n",
            "\n",
            "[15:35:52] \u001b[1mLayer 2 training completed.\u001b[0m\n",
            "\n",
            "[15:35:52] \u001b[1mAutoml preset training completed in 854.28 seconds\u001b[0m\n",
            "\n",
            "[15:35:52] Model description:\n",
            "Models on level 0:\n",
            "\t 10 averaged models Lvl_0_Pipe_0_Mod_0_LinearL2\n",
            "\t 10 averaged models Lvl_0_Pipe_1_Mod_0_Tuned_LightGBM\n",
            "\t 10 averaged models Lvl_0_Pipe_1_Mod_1_Tuned_CatBoost\n",
            "\n",
            "Final prediction for new objects (level 1) = \n",
            "\t 1.00000 * (10 averaged models Lvl_1_Pipe_0_Mod_0_LinearL2) \n",
            "\n"
          ]
        }
      ]
    },
    {
      "cell_type": "code",
      "source": [
        "# Структура модели\n",
        "print(automl_1.create_model_str_desc())"
      ],
      "metadata": {
        "colab": {
          "base_uri": "https://localhost:8080/"
        },
        "id": "CFwHowNXfLAf",
        "outputId": "1b5492e0-7191-4e1c-edd5-dbc7bd49885d"
      },
      "execution_count": 54,
      "outputs": [
        {
          "output_type": "stream",
          "name": "stdout",
          "text": [
            "Models on level 0:\n",
            "\t 10 averaged models Lvl_0_Pipe_0_Mod_0_LinearL2\n",
            "\t 10 averaged models Lvl_0_Pipe_1_Mod_0_Tuned_LightGBM\n",
            "\t 10 averaged models Lvl_0_Pipe_1_Mod_1_Tuned_CatBoost\n",
            "\n",
            "Final prediction for new objects (level 1) = \n",
            "\t 1.00000 * (10 averaged models Lvl_1_Pipe_0_Mod_0_LinearL2) \n"
          ]
        }
      ]
    },
    {
      "cell_type": "code",
      "source": [
        "oof_pred_exp = np.exp(oof_pred_1.data[:, 0])\n",
        "\n",
        "mean_absolute_percentage_error(np.exp(X_train_log['price_log']), oof_pred_exp)"
      ],
      "metadata": {
        "colab": {
          "base_uri": "https://localhost:8080/"
        },
        "id": "2H9ORhvKfLGL",
        "outputId": "3ca5a672-0a8e-491f-aed2-a5664f770ca1"
      },
      "execution_count": 55,
      "outputs": [
        {
          "output_type": "execute_result",
          "data": {
            "text/plain": [
              "0.11907802617398609"
            ]
          },
          "metadata": {},
          "execution_count": 55
        }
      ]
    },
    {
      "cell_type": "code",
      "source": [
        "oof_pred_exp = np.exp(oof_pred_1.data[:, 0])\n",
        "\n",
        "mean_absolute_percentage_error(np.exp(X_train_log['price_log']), oof_pred_exp)"
      ],
      "metadata": {
        "colab": {
          "base_uri": "https://localhost:8080/"
        },
        "id": "5U5NsnXE9GEf",
        "outputId": "45837cc4-6dad-4f3b-af26-fb98e757c5fa"
      },
      "execution_count": 28,
      "outputs": [
        {
          "output_type": "execute_result",
          "data": {
            "text/plain": [
              "0.14104262448883456"
            ]
          },
          "metadata": {},
          "execution_count": 28
        }
      ]
    },
    {
      "cell_type": "markdown",
      "source": [
        "### Важность признаков"
      ],
      "metadata": {
        "id": "tJmRN-SXpoeG"
      }
    },
    {
      "cell_type": "code",
      "source": [
        "fast_fi_1 = automl_1.get_feature_scores('fast')\n",
        "fast_fi_1[:15].set_index('Feature')['Importance'].plot.bar(figsize=(20, 5), grid=True)"
      ],
      "metadata": {
        "colab": {
          "base_uri": "https://localhost:8080/",
          "height": 445
        },
        "id": "QnX89kx7fLLW",
        "outputId": "e3872a22-c901-49e4-a9c5-91264083e001"
      },
      "execution_count": 56,
      "outputs": [
        {
          "output_type": "execute_result",
          "data": {
            "text/plain": [
              "<matplotlib.axes._subplots.AxesSubplot at 0x7f4786d9f990>"
            ]
          },
          "metadata": {},
          "execution_count": 56
        },
        {
          "output_type": "display_data",
          "data": {
            "text/plain": [
              "<Figure size 1440x360 with 1 Axes>"
            ],
            "image/png": "[encoded data removed]"
          },
          "metadata": {
            "needs_background": "light"
          }
        }
      ]
    },
    {
      "cell_type": "code",
      "source": [
        "# создаем модель\n",
        "automl_2 = TabularUtilizedAutoML(\n",
        "    task=task,\n",
        "    timeout=60*60,\n",
        "    general_params = {\n",
        "        'use_algos': [['linear_l2', 'lgb', 'cb', 'lgb_tuned', 'cb_tuned'], ['linear_l2', 'lgb', 'cb'], ]\n",
        "        },\n",
        "    reader_params={\n",
        "        'cv': 10,\n",
        "        'random_state': SEED,\n",
        "        'verbose': 1\n",
        "    }\n",
        ")"
      ],
      "metadata": {
        "id": "r6p0KGZKqjfZ"
      },
      "execution_count": 58,
      "outputs": []
    },
    {
      "cell_type": "code",
      "source": [
        "oof_pred_2 = automl_2.fit_predict(X_train_log, roles=roles, verbose=1)"
      ],
      "metadata": {
        "colab": {
          "base_uri": "https://localhost:8080/"
        },
        "id": "_TygIdysqjlG",
        "outputId": "8cf8ead1-e2de-45e1-b26a-8e243e1364bc"
      },
      "execution_count": 59,
      "outputs": [
        {
          "output_type": "stream",
          "name": "stdout",
          "text": [
            "[15:39:43] Start automl \u001b[1mutilizator\u001b[0m with listed constraints:\n",
            "[15:39:43] - time: 3600.00 seconds\n",
            "[15:39:43] - CPU: 4 cores\n",
            "[15:39:43] - memory: 16 GB\n",
            "\n",
            "[15:39:43] \u001b[1mIf one preset completes earlier, next preset configuration will be started\u001b[0m\n",
            "\n",
            "[15:39:43] ==================================================\n",
            "[15:39:43] Start 0 automl preset configuration:\n",
            "[15:39:43] \u001b[1mconf_0_sel_type_0.yml\u001b[0m, random state: {'reader_params': {'random_state': 42}, 'general_params': {'return_all_predictions': False}}\n",
            "[15:39:43] Stdout logging level is INFO.\n",
            "[15:39:43] Task: reg\n",
            "\n",
            "[15:39:43] Start automl preset with listed constraints:\n",
            "[15:39:43] - time: 3599.99 seconds\n",
            "[15:39:43] - CPU: 4 cores\n",
            "[15:39:43] - memory: 16 GB\n",
            "\n",
            "[15:39:43] \u001b[1mTrain data shape: (6682, 19)\u001b[0m\n",
            "\n",
            "[15:39:45] Layer \u001b[1m1\u001b[0m train process start. Time left 3597.24 secs\n",
            "[15:39:46] Start fitting \u001b[1mLvl_0_Pipe_0_Mod_0_LinearL2\u001b[0m ...\n",
            "[15:39:52] Fitting \u001b[1mLvl_0_Pipe_0_Mod_0_LinearL2\u001b[0m finished. score = \u001b[1m-0.17655671598963504\u001b[0m\n",
            "[15:39:52] \u001b[1mLvl_0_Pipe_0_Mod_0_LinearL2\u001b[0m fitting and predicting completed\n",
            "[15:39:52] Time left 3590.95 secs\n",
            "\n",
            "[15:39:52] Start fitting \u001b[1mLvl_0_Pipe_1_Mod_0_LightGBM\u001b[0m ...\n",
            "[15:42:20] Fitting \u001b[1mLvl_0_Pipe_1_Mod_0_LightGBM\u001b[0m finished. score = \u001b[1m-0.12730377201480456\u001b[0m\n",
            "[15:42:20] \u001b[1mLvl_0_Pipe_1_Mod_0_LightGBM\u001b[0m fitting and predicting completed\n",
            "[15:42:20] Start hyperparameters optimization for \u001b[1mLvl_0_Pipe_1_Mod_1_Tuned_LightGBM\u001b[0m ... Time budget is 186.38 secs\n"
          ]
        },
        {
          "output_type": "stream",
          "name": "stderr",
          "text": [
            "INFO:optuna.storages._in_memory:A new study created in memory with name: no-name-56535977-ef5e-4ab1-8f98-b71d1aa0992d\n",
            "INFO:optuna.study.study:Trial 0 finished with value: -0.11877523755203266 and parameters: {'feature_fraction': 0.6872700594236812, 'num_leaves': 244, 'bagging_fraction': 0.8659969709057025, 'min_sum_hessian_in_leaf': 0.24810409748678125, 'reg_alpha': 2.5361081166471375e-07, 'reg_lambda': 2.5348407664333426e-07}. Best is trial 0 with value: -0.11877523755203266.\n",
            "INFO:optuna.study.study:Trial 1 finished with value: -0.11692344971977782 and parameters: {'feature_fraction': 0.5290418060840998, 'num_leaves': 223, 'bagging_fraction': 0.8005575058716043, 'min_sum_hessian_in_leaf': 0.679657809075816, 'reg_alpha': 1.5320059381854043e-08, 'reg_lambda': 5.360294728728285}. Best is trial 1 with value: -0.11692344971977782.\n",
            "INFO:optuna.study.study:Trial 2 finished with value: -0.11831056832233726 and parameters: {'feature_fraction': 0.9162213204002109, 'num_leaves': 66, 'bagging_fraction': 0.5909124836035503, 'min_sum_hessian_in_leaf': 0.00541524411940254, 'reg_alpha': 5.472429642032198e-06, 'reg_lambda': 0.00052821153945323}. Best is trial 1 with value: -0.11692344971977782.\n",
            "INFO:optuna.study.study:Trial 3 finished with value: -0.11832112234873104 and parameters: {'feature_fraction': 0.7159725093210578, 'num_leaves': 85, 'bagging_fraction': 0.8059264473611898, 'min_sum_hessian_in_leaf': 0.003613894271216527, 'reg_alpha': 4.258943089524393e-06, 'reg_lambda': 1.9826980964985924e-05}. Best is trial 1 with value: -0.11692344971977782.\n",
            "INFO:optuna.study.study:Trial 4 finished with value: -0.11886762705009023 and parameters: {'feature_fraction': 0.728034992108518, 'num_leaves': 204, 'bagging_fraction': 0.5998368910791798, 'min_sum_hessian_in_leaf': 0.11400863701127326, 'reg_alpha': 0.0021465011216654484, 'reg_lambda': 2.6185068507773707e-08}. Best is trial 1 with value: -0.11692344971977782.\n",
            "INFO:optuna.study.study:Trial 5 finished with value: -0.14450149638491835 and parameters: {'feature_fraction': 0.8037724259507192, 'num_leaves': 56, 'bagging_fraction': 0.5325257964926398, 'min_sum_hessian_in_leaf': 6.245139574743075, 'reg_alpha': 4.905556676028774, 'reg_lambda': 0.18861495878553936}. Best is trial 1 with value: -0.11692344971977782.\n",
            "INFO:optuna.study.study:Trial 6 finished with value: -0.11911468872155165 and parameters: {'feature_fraction': 0.6523068845866853, 'num_leaves': 39, 'bagging_fraction': 0.8421165132560784, 'min_sum_hessian_in_leaf': 0.057624872164786026, 'reg_alpha': 1.254134495897175e-07, 'reg_lambda': 0.00028614897264046574}. Best is trial 1 with value: -0.11692344971977782.\n",
            "INFO:optuna.study.study:Trial 7 finished with value: -0.11944947892214336 and parameters: {'feature_fraction': 0.5171942605576092, 'num_leaves': 234, 'bagging_fraction': 0.6293899908000085, 'min_sum_hessian_in_leaf': 0.4467752817973907, 'reg_alpha': 6.388511557344611e-06, 'reg_lambda': 0.0004793052550782129}. Best is trial 1 with value: -0.11692344971977782.\n"
          ]
        },
        {
          "output_type": "stream",
          "name": "stdout",
          "text": [
            "[15:45:34] Hyperparameters optimization for \u001b[1mLvl_0_Pipe_1_Mod_1_Tuned_LightGBM\u001b[0m completed\n",
            "[15:45:34] Start fitting \u001b[1mLvl_0_Pipe_1_Mod_1_Tuned_LightGBM\u001b[0m ...\n",
            "[15:47:48] Fitting \u001b[1mLvl_0_Pipe_1_Mod_1_Tuned_LightGBM\u001b[0m finished. score = \u001b[1m-0.12493997233307728\u001b[0m\n",
            "[15:47:48] \u001b[1mLvl_0_Pipe_1_Mod_1_Tuned_LightGBM\u001b[0m fitting and predicting completed\n",
            "[15:47:48] Start fitting \u001b[1mLvl_0_Pipe_1_Mod_2_CatBoost\u001b[0m ...\n",
            "[15:48:27] Fitting \u001b[1mLvl_0_Pipe_1_Mod_2_CatBoost\u001b[0m finished. score = \u001b[1m-0.12784078305241442\u001b[0m\n",
            "[15:48:27] \u001b[1mLvl_0_Pipe_1_Mod_2_CatBoost\u001b[0m fitting and predicting completed\n",
            "[15:48:27] Start hyperparameters optimization for \u001b[1mLvl_0_Pipe_1_Mod_3_Tuned_CatBoost\u001b[0m ... Time budget is 300.00 secs\n"
          ]
        },
        {
          "output_type": "stream",
          "name": "stderr",
          "text": [
            "INFO:optuna.storages._in_memory:A new study created in memory with name: no-name-02d398e0-9878-46aa-a242-1f5ff679b015\n",
            "INFO:optuna.study.study:Trial 0 finished with value: -0.12464568526833938 and parameters: {'max_depth': 4, 'nan_mode': 'Max', 'l2_leaf_reg': 0.0024430162614261413, 'min_data_in_leaf': 4}. Best is trial 0 with value: -0.12464568526833938.\n",
            "INFO:optuna.study.study:Trial 1 finished with value: -0.1274187115601881 and parameters: {'max_depth': 3, 'nan_mode': 'Min', 'l2_leaf_reg': 0.002570603566117598, 'min_data_in_leaf': 15}. Best is trial 0 with value: -0.12464568526833938.\n",
            "INFO:optuna.study.study:Trial 2 finished with value: -0.12895929968280317 and parameters: {'max_depth': 3, 'nan_mode': 'Max', 'l2_leaf_reg': 8.148018307012941e-07, 'min_data_in_leaf': 4}. Best is trial 0 with value: -0.12464568526833938.\n",
            "INFO:optuna.study.study:Trial 3 finished with value: -0.1274187115601881 and parameters: {'max_depth': 3, 'nan_mode': 'Min', 'l2_leaf_reg': 7.71800699380605e-05, 'min_data_in_leaf': 6}. Best is trial 0 with value: -0.12464568526833938.\n",
            "INFO:optuna.study.study:Trial 4 finished with value: -0.11939399969400252 and parameters: {'max_depth': 6, 'nan_mode': 'Min', 'l2_leaf_reg': 1.9826980964985924e-05, 'min_data_in_leaf': 10}. Best is trial 4 with value: -0.11939399969400252.\n",
            "INFO:optuna.study.study:Trial 5 finished with value: -0.11939399969400252 and parameters: {'max_depth': 6, 'nan_mode': 'Min', 'l2_leaf_reg': 0.0021465011216654484, 'min_data_in_leaf': 1}. Best is trial 4 with value: -0.11939399969400252.\n",
            "INFO:optuna.study.study:Trial 6 finished with value: -0.11950213921194994 and parameters: {'max_depth': 6, 'nan_mode': 'Max', 'l2_leaf_reg': 3.4671276804481113, 'min_data_in_leaf': 20}. Best is trial 4 with value: -0.11939399969400252.\n",
            "INFO:optuna.study.study:Trial 7 finished with value: -0.11943878393473971 and parameters: {'max_depth': 7, 'nan_mode': 'Max', 'l2_leaf_reg': 0.014391207615728067, 'min_data_in_leaf': 9}. Best is trial 4 with value: -0.11939399969400252.\n",
            "INFO:optuna.study.study:Trial 8 finished with value: -0.1287465699405843 and parameters: {'max_depth': 3, 'nan_mode': 'Max', 'l2_leaf_reg': 1.527156759251193, 'min_data_in_leaf': 6}. Best is trial 4 with value: -0.11939399969400252.\n",
            "INFO:optuna.study.study:Trial 9 finished with value: -0.11939399969400252 and parameters: {'max_depth': 6, 'nan_mode': 'Min', 'l2_leaf_reg': 0.0008325158565947976, 'min_data_in_leaf': 4}. Best is trial 4 with value: -0.11939399969400252.\n",
            "INFO:optuna.study.study:Trial 10 finished with value: -0.12413171061151879 and parameters: {'max_depth': 5, 'nan_mode': 'Min', 'l2_leaf_reg': 1.1692997958212103e-08, 'min_data_in_leaf': 13}. Best is trial 4 with value: -0.11939399969400252.\n",
            "INFO:optuna.study.study:Trial 11 finished with value: -0.11939399969400252 and parameters: {'max_depth': 6, 'nan_mode': 'Min', 'l2_leaf_reg': 1.5854853890044875e-05, 'min_data_in_leaf': 1}. Best is trial 4 with value: -0.11939399969400252.\n",
            "INFO:optuna.study.study:Trial 12 finished with value: -0.12054724777881884 and parameters: {'max_depth': 7, 'nan_mode': 'Min', 'l2_leaf_reg': 3.3639426888455315e-06, 'min_data_in_leaf': 11}. Best is trial 4 with value: -0.11939399969400252.\n",
            "INFO:optuna.study.study:Trial 13 finished with value: -0.12562111076318339 and parameters: {'max_depth': 5, 'nan_mode': 'Min', 'l2_leaf_reg': 0.13836208644018405, 'min_data_in_leaf': 18}. Best is trial 4 with value: -0.11939399969400252.\n",
            "INFO:optuna.study.study:Trial 14 finished with value: -0.11939399969400252 and parameters: {'max_depth': 6, 'nan_mode': 'Min', 'l2_leaf_reg': 1.6612310896924837e-07, 'min_data_in_leaf': 1}. Best is trial 4 with value: -0.11939399969400252.\n",
            "INFO:optuna.study.study:Trial 15 finished with value: -0.12054724777881884 and parameters: {'max_depth': 7, 'nan_mode': 'Min', 'l2_leaf_reg': 0.0001653282123997987, 'min_data_in_leaf': 10}. Best is trial 4 with value: -0.11939399969400252.\n",
            "INFO:optuna.study.study:Trial 16 finished with value: -0.12351890703330451 and parameters: {'max_depth': 5, 'nan_mode': 'Min', 'l2_leaf_reg': 0.08858623697797369, 'min_data_in_leaf': 15}. Best is trial 4 with value: -0.11939399969400252.\n",
            "INFO:optuna.study.study:Trial 17 finished with value: -0.12418428849063312 and parameters: {'max_depth': 4, 'nan_mode': 'Min', 'l2_leaf_reg': 3.76317238806281e-08, 'min_data_in_leaf': 1}. Best is trial 4 with value: -0.11939399969400252.\n",
            "INFO:optuna.study.study:Trial 18 finished with value: -0.11939399969400252 and parameters: {'max_depth': 6, 'nan_mode': 'Min', 'l2_leaf_reg': 1.688081236948149e-07, 'min_data_in_leaf': 7}. Best is trial 4 with value: -0.11939399969400252.\n",
            "INFO:optuna.study.study:Trial 19 finished with value: -0.12418428849063312 and parameters: {'max_depth': 4, 'nan_mode': 'Min', 'l2_leaf_reg': 4.648765661147272e-07, 'min_data_in_leaf': 3}. Best is trial 4 with value: -0.11939399969400252.\n",
            "INFO:optuna.study.study:Trial 20 finished with value: -0.12413171061151879 and parameters: {'max_depth': 5, 'nan_mode': 'Min', 'l2_leaf_reg': 1.8644398249073452e-05, 'min_data_in_leaf': 8}. Best is trial 4 with value: -0.11939399969400252.\n",
            "INFO:optuna.study.study:Trial 21 finished with value: -0.11939399969400252 and parameters: {'max_depth': 6, 'nan_mode': 'Min', 'l2_leaf_reg': 9.002686716386163e-06, 'min_data_in_leaf': 7}. Best is trial 4 with value: -0.11939399969400252.\n",
            "INFO:optuna.study.study:Trial 22 finished with value: -0.11939399969400252 and parameters: {'max_depth': 6, 'nan_mode': 'Min', 'l2_leaf_reg': 4.599212413767022e-06, 'min_data_in_leaf': 7}. Best is trial 4 with value: -0.11939399969400252.\n",
            "INFO:optuna.study.study:Trial 23 finished with value: -0.12054724777881884 and parameters: {'max_depth': 7, 'nan_mode': 'Min', 'l2_leaf_reg': 1.134279921245163e-07, 'min_data_in_leaf': 2}. Best is trial 4 with value: -0.11939399969400252.\n",
            "INFO:optuna.study.study:Trial 24 finished with value: -0.11939399969400252 and parameters: {'max_depth': 6, 'nan_mode': 'Min', 'l2_leaf_reg': 1.9747568224995788e-06, 'min_data_in_leaf': 6}. Best is trial 4 with value: -0.11939399969400252.\n",
            "INFO:optuna.study.study:Trial 25 finished with value: -0.12413171061151879 and parameters: {'max_depth': 5, 'nan_mode': 'Min', 'l2_leaf_reg': 2.6157096261899185e-06, 'min_data_in_leaf': 6}. Best is trial 4 with value: -0.11939399969400252.\n",
            "INFO:optuna.study.study:Trial 26 finished with value: -0.11837024210942536 and parameters: {'max_depth': 7, 'nan_mode': 'Max', 'l2_leaf_reg': 1.9763996712734042e-05, 'min_data_in_leaf': 12}. Best is trial 26 with value: -0.11837024210942536.\n",
            "INFO:optuna.study.study:Trial 27 finished with value: -0.11837024210942536 and parameters: {'max_depth': 7, 'nan_mode': 'Max', 'l2_leaf_reg': 9.676164700874018e-05, 'min_data_in_leaf': 12}. Best is trial 26 with value: -0.11837024210942536.\n",
            "INFO:optuna.study.study:Trial 28 finished with value: -0.11837024210942536 and parameters: {'max_depth': 7, 'nan_mode': 'Max', 'l2_leaf_reg': 9.17969260938085e-05, 'min_data_in_leaf': 15}. Best is trial 26 with value: -0.11837024210942536.\n",
            "INFO:optuna.study.study:Trial 29 finished with value: -0.11837024210942536 and parameters: {'max_depth': 7, 'nan_mode': 'Max', 'l2_leaf_reg': 7.077683026171677e-05, 'min_data_in_leaf': 13}. Best is trial 26 with value: -0.11837024210942536.\n",
            "INFO:optuna.study.study:Trial 30 finished with value: -0.11837024210942536 and parameters: {'max_depth': 7, 'nan_mode': 'Max', 'l2_leaf_reg': 0.00024138240983813302, 'min_data_in_leaf': 13}. Best is trial 26 with value: -0.11837024210942536.\n",
            "INFO:optuna.study.study:Trial 31 finished with value: -0.11837024210942536 and parameters: {'max_depth': 7, 'nan_mode': 'Max', 'l2_leaf_reg': 0.0003696028111630772, 'min_data_in_leaf': 13}. Best is trial 26 with value: -0.11837024210942536.\n",
            "INFO:optuna.study.study:Trial 32 finished with value: -0.11837024210942536 and parameters: {'max_depth': 7, 'nan_mode': 'Max', 'l2_leaf_reg': 0.0005208533774649852, 'min_data_in_leaf': 12}. Best is trial 26 with value: -0.11837024210942536.\n",
            "INFO:optuna.study.study:Trial 33 finished with value: -0.11837024210942536 and parameters: {'max_depth': 7, 'nan_mode': 'Max', 'l2_leaf_reg': 0.00774623615262866, 'min_data_in_leaf': 12}. Best is trial 26 with value: -0.11837024210942536.\n",
            "INFO:optuna.study.study:Trial 34 finished with value: -0.11837024210942536 and parameters: {'max_depth': 7, 'nan_mode': 'Max', 'l2_leaf_reg': 0.004852378684631227, 'min_data_in_leaf': 16}. Best is trial 26 with value: -0.11837024210942536.\n",
            "INFO:optuna.study.study:Trial 35 finished with value: -0.11943878393473971 and parameters: {'max_depth': 7, 'nan_mode': 'Max', 'l2_leaf_reg': 0.012154059978133016, 'min_data_in_leaf': 16}. Best is trial 26 with value: -0.11837024210942536.\n",
            "INFO:optuna.study.study:Trial 36 finished with value: -0.11837024210942536 and parameters: {'max_depth': 7, 'nan_mode': 'Max', 'l2_leaf_reg': 5.610066749233317e-05, 'min_data_in_leaf': 17}. Best is trial 26 with value: -0.11837024210942536.\n",
            "INFO:optuna.study.study:Trial 37 finished with value: -0.11837024210942536 and parameters: {'max_depth': 7, 'nan_mode': 'Max', 'l2_leaf_reg': 0.0062012453214576905, 'min_data_in_leaf': 17}. Best is trial 26 with value: -0.11837024210942536.\n",
            "INFO:optuna.study.study:Trial 38 finished with value: -0.11837024210942536 and parameters: {'max_depth': 7, 'nan_mode': 'Max', 'l2_leaf_reg': 0.00836605748792764, 'min_data_in_leaf': 20}. Best is trial 26 with value: -0.11837024210942536.\n",
            "INFO:optuna.study.study:Trial 39 finished with value: -0.1206676071404934 and parameters: {'max_depth': 7, 'nan_mode': 'Max', 'l2_leaf_reg': 0.05294054339532673, 'min_data_in_leaf': 19}. Best is trial 26 with value: -0.11837024210942536.\n",
            "INFO:optuna.study.study:Trial 40 finished with value: -0.1199382958378013 and parameters: {'max_depth': 6, 'nan_mode': 'Max', 'l2_leaf_reg': 0.0007813850648913882, 'min_data_in_leaf': 18}. Best is trial 26 with value: -0.11837024210942536.\n",
            "INFO:optuna.study.study:Trial 41 finished with value: -0.11837024210942536 and parameters: {'max_depth': 7, 'nan_mode': 'Max', 'l2_leaf_reg': 5.1986403807553225e-05, 'min_data_in_leaf': 20}. Best is trial 26 with value: -0.11837024210942536.\n",
            "INFO:optuna.study.study:Trial 42 finished with value: -0.11837024210942536 and parameters: {'max_depth': 7, 'nan_mode': 'Max', 'l2_leaf_reg': 8.187665469618355e-05, 'min_data_in_leaf': 14}. Best is trial 26 with value: -0.11837024210942536.\n",
            "INFO:optuna.study.study:Trial 43 finished with value: -0.11837024210942536 and parameters: {'max_depth': 7, 'nan_mode': 'Max', 'l2_leaf_reg': 0.00010461252937906385, 'min_data_in_leaf': 14}. Best is trial 26 with value: -0.11837024210942536.\n",
            "INFO:optuna.study.study:Trial 44 finished with value: -0.11837024210942536 and parameters: {'max_depth': 7, 'nan_mode': 'Max', 'l2_leaf_reg': 0.0013333270522195083, 'min_data_in_leaf': 14}. Best is trial 26 with value: -0.11837024210942536.\n",
            "INFO:optuna.study.study:Trial 45 finished with value: -0.11837024210942536 and parameters: {'max_depth': 7, 'nan_mode': 'Max', 'l2_leaf_reg': 0.0009164080481867911, 'min_data_in_leaf': 11}. Best is trial 26 with value: -0.11837024210942536.\n",
            "INFO:optuna.study.study:Trial 46 finished with value: -0.1199382958378013 and parameters: {'max_depth': 6, 'nan_mode': 'Max', 'l2_leaf_reg': 4.2900589695720896e-05, 'min_data_in_leaf': 11}. Best is trial 26 with value: -0.11837024210942536.\n",
            "INFO:optuna.study.study:Trial 47 finished with value: -0.11837024210942536 and parameters: {'max_depth': 7, 'nan_mode': 'Max', 'l2_leaf_reg': 0.00022731201761111232, 'min_data_in_leaf': 15}. Best is trial 26 with value: -0.11837024210942536.\n",
            "INFO:optuna.study.study:Trial 48 finished with value: -0.1199382958378013 and parameters: {'max_depth': 6, 'nan_mode': 'Max', 'l2_leaf_reg': 9.023545774189695e-06, 'min_data_in_leaf': 15}. Best is trial 26 with value: -0.11837024210942536.\n",
            "INFO:optuna.study.study:Trial 49 finished with value: -0.11837024210942536 and parameters: {'max_depth': 7, 'nan_mode': 'Max', 'l2_leaf_reg': 0.0024055263770901064, 'min_data_in_leaf': 12}. Best is trial 26 with value: -0.11837024210942536.\n",
            "INFO:optuna.study.study:Trial 50 finished with value: -0.12895929968280317 and parameters: {'max_depth': 3, 'nan_mode': 'Max', 'l2_leaf_reg': 0.02570877411871221, 'min_data_in_leaf': 9}. Best is trial 26 with value: -0.11837024210942536.\n",
            "INFO:optuna.study.study:Trial 51 finished with value: -0.11837024210942536 and parameters: {'max_depth': 7, 'nan_mode': 'Max', 'l2_leaf_reg': 0.003290476260561732, 'min_data_in_leaf': 14}. Best is trial 26 with value: -0.11837024210942536.\n",
            "INFO:optuna.study.study:Trial 52 finished with value: -0.11837024210942536 and parameters: {'max_depth': 7, 'nan_mode': 'Max', 'l2_leaf_reg': 0.005501294781968549, 'min_data_in_leaf': 17}. Best is trial 26 with value: -0.11837024210942536.\n",
            "INFO:optuna.study.study:Trial 53 finished with value: -0.11837024210942536 and parameters: {'max_depth': 7, 'nan_mode': 'Max', 'l2_leaf_reg': 0.00037586363487344287, 'min_data_in_leaf': 13}. Best is trial 26 with value: -0.11837024210942536.\n",
            "INFO:optuna.study.study:Trial 54 finished with value: -0.11837024210942536 and parameters: {'max_depth': 7, 'nan_mode': 'Max', 'l2_leaf_reg': 0.00026280117778921353, 'min_data_in_leaf': 13}. Best is trial 26 with value: -0.11837024210942536.\n",
            "INFO:optuna.study.study:Trial 55 finished with value: -0.1199382958378013 and parameters: {'max_depth': 6, 'nan_mode': 'Max', 'l2_leaf_reg': 0.0006509850616997286, 'min_data_in_leaf': 10}. Best is trial 26 with value: -0.11837024210942536.\n"
          ]
        },
        {
          "output_type": "stream",
          "name": "stdout",
          "text": [
            "[15:53:29] Hyperparameters optimization for \u001b[1mLvl_0_Pipe_1_Mod_3_Tuned_CatBoost\u001b[0m completed\n",
            "[15:53:29] Start fitting \u001b[1mLvl_0_Pipe_1_Mod_3_Tuned_CatBoost\u001b[0m ...\n",
            "[15:54:38] Fitting \u001b[1mLvl_0_Pipe_1_Mod_3_Tuned_CatBoost\u001b[0m finished. score = \u001b[1m-0.12530105459647048\u001b[0m\n",
            "[15:54:38] \u001b[1mLvl_0_Pipe_1_Mod_3_Tuned_CatBoost\u001b[0m fitting and predicting completed\n",
            "[15:54:38] Time left 2704.55 secs\n",
            "\n",
            "[15:54:38] \u001b[1mLayer 1 training completed.\u001b[0m\n",
            "\n",
            "[15:54:38] Layer \u001b[1m2\u001b[0m train process start. Time left 2704.53 secs\n",
            "[15:54:39] Start fitting \u001b[1mLvl_1_Pipe_0_Mod_0_LinearL2\u001b[0m ...\n",
            "[15:54:43] Fitting \u001b[1mLvl_1_Pipe_0_Mod_0_LinearL2\u001b[0m finished. score = \u001b[1m-0.123263267689931\u001b[0m\n",
            "[15:54:43] \u001b[1mLvl_1_Pipe_0_Mod_0_LinearL2\u001b[0m fitting and predicting completed\n",
            "[15:54:43] Time left 2699.66 secs\n",
            "\n",
            "[15:54:44] Start fitting \u001b[1mLvl_1_Pipe_1_Mod_0_LightGBM\u001b[0m ...\n",
            "[15:55:29] Fitting \u001b[1mLvl_1_Pipe_1_Mod_0_LightGBM\u001b[0m finished. score = \u001b[1m-0.12550216476732257\u001b[0m\n",
            "[15:55:29] \u001b[1mLvl_1_Pipe_1_Mod_0_LightGBM\u001b[0m fitting and predicting completed\n",
            "[15:55:29] Start fitting \u001b[1mLvl_1_Pipe_1_Mod_1_CatBoost\u001b[0m ...\n",
            "[15:55:45] Fitting \u001b[1mLvl_1_Pipe_1_Mod_1_CatBoost\u001b[0m finished. score = \u001b[1m-0.1272361820023041\u001b[0m\n",
            "[15:55:45] \u001b[1mLvl_1_Pipe_1_Mod_1_CatBoost\u001b[0m fitting and predicting completed\n",
            "[15:55:45] Time left 2637.75 secs\n",
            "\n",
            "[15:55:45] \u001b[1mLayer 2 training completed.\u001b[0m\n",
            "\n",
            "[15:55:45] Blending: optimization starts with equal weights and score \u001b[1m-0.12408345357937313\u001b[0m\n",
            "[15:55:45] Blending: iteration \u001b[1m0\u001b[0m: score = \u001b[1m-0.12323212288995974\u001b[0m, weights = \u001b[1m[0.8939299  0.10607013 0.        ]\u001b[0m\n",
            "[15:55:45] Blending: iteration \u001b[1m1\u001b[0m: score = \u001b[1m-0.12323212288995974\u001b[0m, weights = \u001b[1m[0.8939299  0.10607013 0.        ]\u001b[0m\n",
            "[15:55:45] Blending: no score update. Terminated\n",
            "\n",
            "[15:55:45] \u001b[1mAutoml preset training completed in 962.31 seconds\u001b[0m\n",
            "\n",
            "[15:55:45] Model description:\n",
            "Models on level 0:\n",
            "\t 10 averaged models Lvl_0_Pipe_0_Mod_0_LinearL2\n",
            "\t 10 averaged models Lvl_0_Pipe_1_Mod_0_LightGBM\n",
            "\t 10 averaged models Lvl_0_Pipe_1_Mod_1_Tuned_LightGBM\n",
            "\t 10 averaged models Lvl_0_Pipe_1_Mod_2_CatBoost\n",
            "\t 10 averaged models Lvl_0_Pipe_1_Mod_3_Tuned_CatBoost\n",
            "\n",
            "Final prediction for new objects (level 1) = \n",
            "\t 0.89393 * (10 averaged models Lvl_1_Pipe_0_Mod_0_LinearL2) +\n",
            "\t 0.10607 * (10 averaged models Lvl_1_Pipe_1_Mod_0_LightGBM) \n",
            "\n",
            "[15:55:45] ==================================================\n",
            "[15:55:45] Start 1 automl preset configuration:\n",
            "[15:55:45] \u001b[1mconf_1_sel_type_1.yml\u001b[0m, random state: {'reader_params': {'random_state': 43}, 'general_params': {'return_all_predictions': False}}\n",
            "[15:55:45] Stdout logging level is INFO.\n",
            "[15:55:45] Task: reg\n",
            "\n",
            "[15:55:45] Start automl preset with listed constraints:\n",
            "[15:55:45] - time: 2637.60 seconds\n",
            "[15:55:45] - CPU: 4 cores\n",
            "[15:55:45] - memory: 16 GB\n",
            "\n",
            "[15:55:45] \u001b[1mTrain data shape: (6682, 19)\u001b[0m\n",
            "\n",
            "[15:55:48] Layer \u001b[1m1\u001b[0m train process start. Time left 2634.95 secs\n",
            "[15:55:48] Start fitting \u001b[1mLvl_0_Pipe_0_Mod_0_LinearL2\u001b[0m ...\n",
            "[15:55:53] Fitting \u001b[1mLvl_0_Pipe_0_Mod_0_LinearL2\u001b[0m finished. score = \u001b[1m-0.1771618600947956\u001b[0m\n",
            "[15:55:53] \u001b[1mLvl_0_Pipe_0_Mod_0_LinearL2\u001b[0m fitting and predicting completed\n",
            "[15:55:53] Time left 2629.44 secs\n",
            "\n",
            "[15:56:03] \u001b[1mSelector_LightGBM\u001b[0m fitting and predicting completed\n",
            "[15:56:03] Start fitting \u001b[1mLvl_0_Pipe_1_Mod_0_LightGBM\u001b[0m ...\n",
            "[15:58:30] Fitting \u001b[1mLvl_0_Pipe_1_Mod_0_LightGBM\u001b[0m finished. score = \u001b[1m-0.12855621278680618\u001b[0m\n",
            "[15:58:30] \u001b[1mLvl_0_Pipe_1_Mod_0_LightGBM\u001b[0m fitting and predicting completed\n",
            "[15:58:30] Start hyperparameters optimization for \u001b[1mLvl_0_Pipe_1_Mod_1_Tuned_LightGBM\u001b[0m ... Time budget is 1.09 secs\n"
          ]
        },
        {
          "output_type": "stream",
          "name": "stderr",
          "text": [
            "INFO:optuna.storages._in_memory:A new study created in memory with name: no-name-cb4f7c7f-defc-42c5-8099-47c6a9bd3030\n",
            "INFO:optuna.study.study:Trial 0 finished with value: -0.11044918578312529 and parameters: {'feature_fraction': 0.6872700594236812, 'num_leaves': 244, 'bagging_fraction': 0.8659969709057025, 'min_sum_hessian_in_leaf': 0.24810409748678125, 'reg_alpha': 2.5361081166471375e-07, 'reg_lambda': 2.5348407664333426e-07}. Best is trial 0 with value: -0.11044918578312529.\n"
          ]
        },
        {
          "output_type": "stream",
          "name": "stdout",
          "text": [
            "[15:59:15] Hyperparameters optimization for \u001b[1mLvl_0_Pipe_1_Mod_1_Tuned_LightGBM\u001b[0m completed\n",
            "[15:59:15] Start fitting \u001b[1mLvl_0_Pipe_1_Mod_1_Tuned_LightGBM\u001b[0m ...\n",
            "[16:01:46] Fitting \u001b[1mLvl_0_Pipe_1_Mod_1_Tuned_LightGBM\u001b[0m finished. score = \u001b[1m-0.12689731130116827\u001b[0m\n",
            "[16:01:46] \u001b[1mLvl_0_Pipe_1_Mod_1_Tuned_LightGBM\u001b[0m fitting and predicting completed\n",
            "[16:01:46] Start fitting \u001b[1mLvl_0_Pipe_1_Mod_2_CatBoost\u001b[0m ...\n",
            "[16:02:27] Fitting \u001b[1mLvl_0_Pipe_1_Mod_2_CatBoost\u001b[0m finished. score = \u001b[1m-0.12598328574884704\u001b[0m\n",
            "[16:02:27] \u001b[1mLvl_0_Pipe_1_Mod_2_CatBoost\u001b[0m fitting and predicting completed\n",
            "[16:02:27] Start hyperparameters optimization for \u001b[1mLvl_0_Pipe_1_Mod_3_Tuned_CatBoost\u001b[0m ... Time budget is 300.00 secs\n"
          ]
        },
        {
          "output_type": "stream",
          "name": "stderr",
          "text": [
            "INFO:optuna.storages._in_memory:A new study created in memory with name: no-name-e89fe726-a4a6-4783-abe0-e2065658a144\n",
            "INFO:optuna.study.study:Trial 0 finished with value: -0.11944907550797393 and parameters: {'max_depth': 4, 'nan_mode': 'Max', 'l2_leaf_reg': 0.0024430162614261413, 'min_data_in_leaf': 4}. Best is trial 0 with value: -0.11944907550797393.\n",
            "INFO:optuna.study.study:Trial 1 finished with value: -0.12368028328167577 and parameters: {'max_depth': 3, 'nan_mode': 'Min', 'l2_leaf_reg': 0.002570603566117598, 'min_data_in_leaf': 15}. Best is trial 0 with value: -0.11944907550797393.\n",
            "INFO:optuna.study.study:Trial 2 finished with value: -0.12428662710593169 and parameters: {'max_depth': 3, 'nan_mode': 'Max', 'l2_leaf_reg': 8.148018307012941e-07, 'min_data_in_leaf': 4}. Best is trial 0 with value: -0.11944907550797393.\n",
            "INFO:optuna.study.study:Trial 3 finished with value: -0.12368028328167577 and parameters: {'max_depth': 3, 'nan_mode': 'Min', 'l2_leaf_reg': 7.71800699380605e-05, 'min_data_in_leaf': 6}. Best is trial 0 with value: -0.11944907550797393.\n",
            "INFO:optuna.study.study:Trial 4 finished with value: -0.1132453087775903 and parameters: {'max_depth': 6, 'nan_mode': 'Min', 'l2_leaf_reg': 1.9826980964985924e-05, 'min_data_in_leaf': 10}. Best is trial 4 with value: -0.1132453087775903.\n",
            "INFO:optuna.study.study:Trial 5 finished with value: -0.1132453087775903 and parameters: {'max_depth': 6, 'nan_mode': 'Min', 'l2_leaf_reg': 0.0021465011216654484, 'min_data_in_leaf': 1}. Best is trial 4 with value: -0.1132453087775903.\n",
            "INFO:optuna.study.study:Trial 6 finished with value: -0.11226123031982324 and parameters: {'max_depth': 6, 'nan_mode': 'Max', 'l2_leaf_reg': 3.4671276804481113, 'min_data_in_leaf': 20}. Best is trial 6 with value: -0.11226123031982324.\n",
            "INFO:optuna.study.study:Trial 7 finished with value: -0.1119375656814485 and parameters: {'max_depth': 7, 'nan_mode': 'Max', 'l2_leaf_reg': 0.014391207615728067, 'min_data_in_leaf': 9}. Best is trial 7 with value: -0.1119375656814485.\n",
            "INFO:optuna.study.study:Trial 8 finished with value: -0.12396065433272559 and parameters: {'max_depth': 3, 'nan_mode': 'Max', 'l2_leaf_reg': 1.527156759251193, 'min_data_in_leaf': 6}. Best is trial 7 with value: -0.1119375656814485.\n",
            "INFO:optuna.study.study:Trial 9 finished with value: -0.1132453087775903 and parameters: {'max_depth': 6, 'nan_mode': 'Min', 'l2_leaf_reg': 0.0008325158565947976, 'min_data_in_leaf': 4}. Best is trial 7 with value: -0.1119375656814485.\n",
            "INFO:optuna.study.study:Trial 10 finished with value: -0.11183756140751332 and parameters: {'max_depth': 7, 'nan_mode': 'Max', 'l2_leaf_reg': 1.1692997958212103e-08, 'min_data_in_leaf': 12}. Best is trial 10 with value: -0.11183756140751332.\n",
            "INFO:optuna.study.study:Trial 11 finished with value: -0.11183756140751332 and parameters: {'max_depth': 7, 'nan_mode': 'Max', 'l2_leaf_reg': 1.3815073407783126e-08, 'min_data_in_leaf': 11}. Best is trial 10 with value: -0.11183756140751332.\n",
            "INFO:optuna.study.study:Trial 12 finished with value: -0.11183756140751332 and parameters: {'max_depth': 7, 'nan_mode': 'Max', 'l2_leaf_reg': 1.3858728884475828e-08, 'min_data_in_leaf': 14}. Best is trial 10 with value: -0.11183756140751332.\n",
            "INFO:optuna.study.study:Trial 13 finished with value: -0.11183756140751332 and parameters: {'max_depth': 7, 'nan_mode': 'Max', 'l2_leaf_reg': 1.899122762406167e-08, 'min_data_in_leaf': 14}. Best is trial 10 with value: -0.11183756140751332.\n",
            "INFO:optuna.study.study:Trial 14 finished with value: -0.11416119161217378 and parameters: {'max_depth': 5, 'nan_mode': 'Max', 'l2_leaf_reg': 7.161723243485657e-07, 'min_data_in_leaf': 17}. Best is trial 10 with value: -0.11183756140751332.\n",
            "INFO:optuna.study.study:Trial 15 finished with value: -0.11416119161217378 and parameters: {'max_depth': 5, 'nan_mode': 'Max', 'l2_leaf_reg': 3.8794455088186406e-07, 'min_data_in_leaf': 12}. Best is trial 10 with value: -0.11183756140751332.\n",
            "INFO:optuna.study.study:Trial 16 finished with value: -0.11183756140751332 and parameters: {'max_depth': 7, 'nan_mode': 'Max', 'l2_leaf_reg': 9.247206024258267e-08, 'min_data_in_leaf': 9}. Best is trial 10 with value: -0.11183756140751332.\n",
            "INFO:optuna.study.study:Trial 17 finished with value: -0.11183756140751332 and parameters: {'max_depth': 7, 'nan_mode': 'Max', 'l2_leaf_reg': 8.455207311596602e-06, 'min_data_in_leaf': 18}. Best is trial 10 with value: -0.11183756140751332.\n",
            "INFO:optuna.study.study:Trial 18 finished with value: -0.11944907550797393 and parameters: {'max_depth': 4, 'nan_mode': 'Max', 'l2_leaf_reg': 6.458243615671745e-06, 'min_data_in_leaf': 20}. Best is trial 10 with value: -0.11183756140751332.\n",
            "INFO:optuna.study.study:Trial 19 finished with value: -0.11276196119785399 and parameters: {'max_depth': 6, 'nan_mode': 'Max', 'l2_leaf_reg': 1.7754789920320172e-07, 'min_data_in_leaf': 8}. Best is trial 10 with value: -0.11183756140751332.\n",
            "INFO:optuna.study.study:Trial 20 finished with value: -0.11416119161217378 and parameters: {'max_depth': 5, 'nan_mode': 'Max', 'l2_leaf_reg': 7.982699755031953e-06, 'min_data_in_leaf': 18}. Best is trial 10 with value: -0.11183756140751332.\n",
            "INFO:optuna.study.study:Trial 21 finished with value: -0.11183756140751332 and parameters: {'max_depth': 7, 'nan_mode': 'Max', 'l2_leaf_reg': 7.057038393722612e-08, 'min_data_in_leaf': 12}. Best is trial 10 with value: -0.11183756140751332.\n",
            "INFO:optuna.study.study:Trial 22 finished with value: -0.11183756140751332 and parameters: {'max_depth': 7, 'nan_mode': 'Max', 'l2_leaf_reg': 2.5242581590195733e-06, 'min_data_in_leaf': 16}. Best is trial 10 with value: -0.11183756140751332.\n",
            "INFO:optuna.study.study:Trial 23 finished with value: -0.11183756140751332 and parameters: {'max_depth': 7, 'nan_mode': 'Max', 'l2_leaf_reg': 7.985754537430778e-08, 'min_data_in_leaf': 7}. Best is trial 10 with value: -0.11183756140751332.\n",
            "INFO:optuna.study.study:Trial 24 finished with value: -0.11276196119785399 and parameters: {'max_depth': 6, 'nan_mode': 'Max', 'l2_leaf_reg': 0.0001997246461287007, 'min_data_in_leaf': 12}. Best is trial 10 with value: -0.11183756140751332.\n",
            "INFO:optuna.study.study:Trial 25 finished with value: -0.11183756140751332 and parameters: {'max_depth': 7, 'nan_mode': 'Max', 'l2_leaf_reg': 1.8764824171239493e-06, 'min_data_in_leaf': 15}. Best is trial 10 with value: -0.11183756140751332.\n",
            "INFO:optuna.study.study:Trial 26 finished with value: -0.1132453087775903 and parameters: {'max_depth': 6, 'nan_mode': 'Min', 'l2_leaf_reg': 9.333948276303972e-08, 'min_data_in_leaf': 14}. Best is trial 10 with value: -0.11183756140751332.\n",
            "INFO:optuna.study.study:Trial 27 finished with value: -0.11183756140751332 and parameters: {'max_depth': 7, 'nan_mode': 'Max', 'l2_leaf_reg': 2.043442636576265e-06, 'min_data_in_leaf': 16}. Best is trial 10 with value: -0.11183756140751332.\n",
            "INFO:optuna.study.study:Trial 28 finished with value: -0.11944907550797393 and parameters: {'max_depth': 4, 'nan_mode': 'Max', 'l2_leaf_reg': 2.655858415854455e-08, 'min_data_in_leaf': 14}. Best is trial 10 with value: -0.11183756140751332.\n",
            "INFO:optuna.study.study:Trial 29 finished with value: -0.11276196119785399 and parameters: {'max_depth': 6, 'nan_mode': 'Max', 'l2_leaf_reg': 5.519847460072068e-05, 'min_data_in_leaf': 18}. Best is trial 10 with value: -0.11183756140751332.\n",
            "INFO:optuna.study.study:Trial 30 finished with value: -0.11183756140751332 and parameters: {'max_depth': 7, 'nan_mode': 'Max', 'l2_leaf_reg': 1.5712287873696835e-06, 'min_data_in_leaf': 18}. Best is trial 10 with value: -0.11183756140751332.\n",
            "INFO:optuna.study.study:Trial 31 finished with value: -0.11183756140751332 and parameters: {'max_depth': 7, 'nan_mode': 'Max', 'l2_leaf_reg': 7.809808776078162e-06, 'min_data_in_leaf': 19}. Best is trial 10 with value: -0.11183756140751332.\n",
            "INFO:optuna.study.study:Trial 32 finished with value: -0.11183756140751332 and parameters: {'max_depth': 7, 'nan_mode': 'Max', 'l2_leaf_reg': 2.6746252432349627e-07, 'min_data_in_leaf': 7}. Best is trial 10 with value: -0.11183756140751332.\n",
            "INFO:optuna.study.study:Trial 33 finished with value: -0.11183756140751332 and parameters: {'max_depth': 7, 'nan_mode': 'Max', 'l2_leaf_reg': 1.7755325113123591e-06, 'min_data_in_leaf': 16}. Best is trial 10 with value: -0.11183756140751332.\n",
            "INFO:optuna.study.study:Trial 34 finished with value: -0.11530926433201245 and parameters: {'max_depth': 7, 'nan_mode': 'Min', 'l2_leaf_reg': 1.8165422462868405e-05, 'min_data_in_leaf': 19}. Best is trial 10 with value: -0.11183756140751332.\n",
            "INFO:optuna.study.study:Trial 35 finished with value: -0.11276196119785399 and parameters: {'max_depth': 6, 'nan_mode': 'Max', 'l2_leaf_reg': 5.139913241665137e-08, 'min_data_in_leaf': 2}. Best is trial 10 with value: -0.11183756140751332.\n",
            "INFO:optuna.study.study:Trial 36 finished with value: -0.11530926433201245 and parameters: {'max_depth': 7, 'nan_mode': 'Min', 'l2_leaf_reg': 1.4456855287665995e-07, 'min_data_in_leaf': 9}. Best is trial 10 with value: -0.11183756140751332.\n",
            "INFO:optuna.study.study:Trial 37 finished with value: -0.11276196119785399 and parameters: {'max_depth': 6, 'nan_mode': 'Max', 'l2_leaf_reg': 2.4206253515430212e-08, 'min_data_in_leaf': 14}. Best is trial 10 with value: -0.11183756140751332.\n",
            "INFO:optuna.study.study:Trial 38 finished with value: -0.11276196119785399 and parameters: {'max_depth': 6, 'nan_mode': 'Max', 'l2_leaf_reg': 0.020211660841900115, 'min_data_in_leaf': 10}. Best is trial 10 with value: -0.11183756140751332.\n",
            "INFO:optuna.study.study:Trial 39 finished with value: -0.11530926433201245 and parameters: {'max_depth': 7, 'nan_mode': 'Min', 'l2_leaf_reg': 5.130669434188458e-07, 'min_data_in_leaf': 5}. Best is trial 10 with value: -0.11183756140751332.\n",
            "INFO:optuna.study.study:Trial 40 finished with value: -0.11416119161217378 and parameters: {'max_depth': 5, 'nan_mode': 'Max', 'l2_leaf_reg': 7.441213396278573e-05, 'min_data_in_leaf': 19}. Best is trial 10 with value: -0.11183756140751332.\n",
            "INFO:optuna.study.study:Trial 41 finished with value: -0.11183756140751332 and parameters: {'max_depth': 7, 'nan_mode': 'Max', 'l2_leaf_reg': 4.431863833364668e-08, 'min_data_in_leaf': 15}. Best is trial 10 with value: -0.11183756140751332.\n",
            "INFO:optuna.study.study:Trial 42 finished with value: -0.11183756140751332 and parameters: {'max_depth': 7, 'nan_mode': 'Max', 'l2_leaf_reg': 5.187027317140152e-08, 'min_data_in_leaf': 16}. Best is trial 10 with value: -0.11183756140751332.\n",
            "INFO:optuna.study.study:Trial 43 finished with value: -0.11183756140751332 and parameters: {'max_depth': 7, 'nan_mode': 'Max', 'l2_leaf_reg': 2.3935151064711883e-07, 'min_data_in_leaf': 19}. Best is trial 10 with value: -0.11183756140751332.\n",
            "INFO:optuna.study.study:Trial 44 finished with value: -0.11183756140751332 and parameters: {'max_depth': 7, 'nan_mode': 'Max', 'l2_leaf_reg': 7.610717229651255e-07, 'min_data_in_leaf': 13}. Best is trial 10 with value: -0.11183756140751332.\n",
            "INFO:optuna.study.study:Trial 45 finished with value: -0.11183756140751332 and parameters: {'max_depth': 7, 'nan_mode': 'Max', 'l2_leaf_reg': 3.488383131670765e-06, 'min_data_in_leaf': 16}. Best is trial 10 with value: -0.11183756140751332.\n",
            "INFO:optuna.study.study:Trial 46 finished with value: -0.11276196119785399 and parameters: {'max_depth': 6, 'nan_mode': 'Max', 'l2_leaf_reg': 3.41736254703866e-07, 'min_data_in_leaf': 17}. Best is trial 10 with value: -0.11183756140751332.\n",
            "INFO:optuna.study.study:Trial 47 finished with value: -0.12368028328167577 and parameters: {'max_depth': 3, 'nan_mode': 'Min', 'l2_leaf_reg': 2.338206361151683e-06, 'min_data_in_leaf': 17}. Best is trial 10 with value: -0.11183756140751332.\n",
            "INFO:optuna.study.study:Trial 48 finished with value: -0.11183756140751332 and parameters: {'max_depth': 7, 'nan_mode': 'Max', 'l2_leaf_reg': 5.086505417973579e-08, 'min_data_in_leaf': 11}. Best is trial 10 with value: -0.11183756140751332.\n",
            "INFO:optuna.study.study:Trial 49 finished with value: -0.11379390056082625 and parameters: {'max_depth': 6, 'nan_mode': 'Max', 'l2_leaf_reg': 0.030202842261868458, 'min_data_in_leaf': 11}. Best is trial 10 with value: -0.11183756140751332.\n",
            "INFO:optuna.study.study:Trial 50 finished with value: -0.11183756140751332 and parameters: {'max_depth': 7, 'nan_mode': 'Max', 'l2_leaf_reg': 1.731006520878823e-05, 'min_data_in_leaf': 20}. Best is trial 10 with value: -0.11183756140751332.\n",
            "INFO:optuna.study.study:Trial 51 finished with value: -0.11183756140751332 and parameters: {'max_depth': 7, 'nan_mode': 'Max', 'l2_leaf_reg': 6.437352002677553e-07, 'min_data_in_leaf': 13}. Best is trial 10 with value: -0.11183756140751332.\n",
            "INFO:optuna.study.study:Trial 52 finished with value: -0.11183756140751332 and parameters: {'max_depth': 7, 'nan_mode': 'Max', 'l2_leaf_reg': 2.2886470101659126e-06, 'min_data_in_leaf': 20}. Best is trial 10 with value: -0.11183756140751332.\n",
            "INFO:optuna.study.study:Trial 53 finished with value: -0.11183756140751332 and parameters: {'max_depth': 7, 'nan_mode': 'Max', 'l2_leaf_reg': 1.907493809872717e-06, 'min_data_in_leaf': 15}. Best is trial 10 with value: -0.11183756140751332.\n",
            "INFO:optuna.study.study:Trial 54 finished with value: -0.11183756140751332 and parameters: {'max_depth': 7, 'nan_mode': 'Max', 'l2_leaf_reg': 1.2288810511979685e-06, 'min_data_in_leaf': 19}. Best is trial 10 with value: -0.11183756140751332.\n"
          ]
        },
        {
          "output_type": "stream",
          "name": "stdout",
          "text": [
            "[16:07:28] Hyperparameters optimization for \u001b[1mLvl_0_Pipe_1_Mod_3_Tuned_CatBoost\u001b[0m completed\n",
            "[16:07:28] Start fitting \u001b[1mLvl_0_Pipe_1_Mod_3_Tuned_CatBoost\u001b[0m ...\n",
            "[16:08:21] Fitting \u001b[1mLvl_0_Pipe_1_Mod_3_Tuned_CatBoost\u001b[0m finished. score = \u001b[1m-0.12501167770993377\u001b[0m\n",
            "[16:08:21] \u001b[1mLvl_0_Pipe_1_Mod_3_Tuned_CatBoost\u001b[0m fitting and predicting completed\n",
            "[16:08:21] Time left 1881.22 secs\n",
            "\n",
            "[16:08:21] \u001b[1mLayer 1 training completed.\u001b[0m\n",
            "\n",
            "[16:08:21] Layer \u001b[1m2\u001b[0m train process start. Time left 1881.20 secs\n",
            "[16:08:22] Start fitting \u001b[1mLvl_1_Pipe_0_Mod_0_LinearL2\u001b[0m ...\n",
            "[16:08:26] Fitting \u001b[1mLvl_1_Pipe_0_Mod_0_LinearL2\u001b[0m finished. score = \u001b[1m-0.12350546698719497\u001b[0m\n",
            "[16:08:26] \u001b[1mLvl_1_Pipe_0_Mod_0_LinearL2\u001b[0m fitting and predicting completed\n",
            "[16:08:26] Time left 1876.66 secs\n",
            "\n",
            "[16:08:27] Start fitting \u001b[1mLvl_1_Pipe_1_Mod_0_LightGBM\u001b[0m ...\n",
            "[16:10:54] Fitting \u001b[1mLvl_1_Pipe_1_Mod_0_LightGBM\u001b[0m finished. score = \u001b[1m-0.12855621278680618\u001b[0m\n",
            "[16:10:54] \u001b[1mLvl_1_Pipe_1_Mod_0_LightGBM\u001b[0m fitting and predicting completed\n",
            "[16:10:54] Start fitting \u001b[1mLvl_1_Pipe_1_Mod_1_CatBoost\u001b[0m ...\n",
            "[16:11:34] Fitting \u001b[1mLvl_1_Pipe_1_Mod_1_CatBoost\u001b[0m finished. score = \u001b[1m-0.12598328574884704\u001b[0m\n",
            "[16:11:34] \u001b[1mLvl_1_Pipe_1_Mod_1_CatBoost\u001b[0m fitting and predicting completed\n",
            "[16:11:34] Time left 1688.21 secs\n",
            "\n",
            "[16:11:34] \u001b[1mLayer 2 training completed.\u001b[0m\n",
            "\n",
            "[16:11:34] Blending: optimization starts with equal weights and score \u001b[1m-0.12411418607569519\u001b[0m\n",
            "[16:11:35] Blending: iteration \u001b[1m0\u001b[0m: score = \u001b[1m-0.1233912643824426\u001b[0m, weights = \u001b[1m[0.83793795 0.         0.16206208]\u001b[0m\n",
            "[16:11:35] Blending: iteration \u001b[1m1\u001b[0m: score = \u001b[1m-0.1233912643824426\u001b[0m, weights = \u001b[1m[0.83793795 0.         0.16206208]\u001b[0m\n",
            "[16:11:35] Blending: no score update. Terminated\n",
            "\n",
            "[16:11:35] \u001b[1mAutoml preset training completed in 949.50 seconds\u001b[0m\n",
            "\n",
            "[16:11:35] Model description:\n",
            "Models on level 0:\n",
            "\t 10 averaged models Lvl_0_Pipe_0_Mod_0_LinearL2\n",
            "\t 10 averaged models Lvl_0_Pipe_1_Mod_0_LightGBM\n",
            "\t 10 averaged models Lvl_0_Pipe_1_Mod_1_Tuned_LightGBM\n",
            "\t 10 averaged models Lvl_0_Pipe_1_Mod_2_CatBoost\n",
            "\t 10 averaged models Lvl_0_Pipe_1_Mod_3_Tuned_CatBoost\n",
            "\n",
            "Final prediction for new objects (level 1) = \n",
            "\t 0.83794 * (10 averaged models Lvl_1_Pipe_0_Mod_0_LinearL2) +\n",
            "\t 0.16206 * (10 averaged models Lvl_1_Pipe_1_Mod_1_CatBoost) \n",
            "\n",
            "[16:11:35] ==================================================\n",
            "[16:11:35] Start 2 automl preset configuration:\n",
            "[16:11:35] \u001b[1mconf_2_select_mode_1_no_typ.yml\u001b[0m, random state: {'reader_params': {'random_state': 44}, 'general_params': {'return_all_predictions': False}}\n",
            "[16:11:35] Stdout logging level is INFO.\n",
            "[16:11:35] Task: reg\n",
            "\n",
            "[16:11:35] Start automl preset with listed constraints:\n",
            "[16:11:35] - time: 1688.03 seconds\n",
            "[16:11:35] - CPU: 4 cores\n",
            "[16:11:35] - memory: 16 GB\n",
            "\n",
            "[16:11:35] \u001b[1mTrain data shape: (6682, 19)\u001b[0m\n",
            "\n",
            "[16:11:35] Layer \u001b[1m1\u001b[0m train process start. Time left 1687.96 secs\n",
            "[16:11:35] Start fitting \u001b[1mLvl_0_Pipe_0_Mod_0_LinearL2\u001b[0m ...\n",
            "[16:11:41] Fitting \u001b[1mLvl_0_Pipe_0_Mod_0_LinearL2\u001b[0m finished. score = \u001b[1m-0.18746619244644983\u001b[0m\n",
            "[16:11:41] \u001b[1mLvl_0_Pipe_0_Mod_0_LinearL2\u001b[0m fitting and predicting completed\n",
            "[16:11:41] Time left 1682.10 secs\n",
            "\n",
            "[16:11:50] \u001b[1mSelector_LightGBM\u001b[0m fitting and predicting completed\n",
            "[16:11:51] Start fitting \u001b[1mLvl_0_Pipe_1_Mod_0_LightGBM\u001b[0m ...\n",
            "[16:13:27] Time limit exceeded after calculating fold 6\n",
            "\n",
            "[16:13:27] Fitting \u001b[1mLvl_0_Pipe_1_Mod_0_LightGBM\u001b[0m finished. score = \u001b[1m-0.1275737047806813\u001b[0m\n",
            "[16:13:27] \u001b[1mLvl_0_Pipe_1_Mod_0_LightGBM\u001b[0m fitting and predicting completed\n",
            "[16:13:27] Start hyperparameters optimization for \u001b[1mLvl_0_Pipe_1_Mod_1_Tuned_LightGBM\u001b[0m ... Time budget is 1.00 secs\n"
          ]
        },
        {
          "output_type": "stream",
          "name": "stderr",
          "text": [
            "INFO:optuna.storages._in_memory:A new study created in memory with name: no-name-206c2b2a-dbc0-4d61-9ebf-c57cf65ad1e9\n",
            "INFO:optuna.study.study:Trial 0 finished with value: -0.12189228483767675 and parameters: {'feature_fraction': 0.6872700594236812, 'num_leaves': 244, 'bagging_fraction': 0.8659969709057025, 'min_sum_hessian_in_leaf': 0.24810409748678125, 'reg_alpha': 2.5361081166471375e-07, 'reg_lambda': 2.5348407664333426e-07}. Best is trial 0 with value: -0.12189228483767675.\n"
          ]
        },
        {
          "output_type": "stream",
          "name": "stdout",
          "text": [
            "[16:14:08] Hyperparameters optimization for \u001b[1mLvl_0_Pipe_1_Mod_1_Tuned_LightGBM\u001b[0m completed\n",
            "[16:14:08] Start fitting \u001b[1mLvl_0_Pipe_1_Mod_1_Tuned_LightGBM\u001b[0m ...\n",
            "[16:15:30] Fitting \u001b[1mLvl_0_Pipe_1_Mod_1_Tuned_LightGBM\u001b[0m finished. score = \u001b[1m-0.12815860809747281\u001b[0m\n",
            "[16:15:30] \u001b[1mLvl_0_Pipe_1_Mod_1_Tuned_LightGBM\u001b[0m fitting and predicting completed\n",
            "[16:15:30] Start fitting \u001b[1mLvl_0_Pipe_1_Mod_2_CatBoost\u001b[0m ...\n",
            "[16:16:06] Fitting \u001b[1mLvl_0_Pipe_1_Mod_2_CatBoost\u001b[0m finished. score = \u001b[1m-0.12968061372148834\u001b[0m\n",
            "[16:16:06] \u001b[1mLvl_0_Pipe_1_Mod_2_CatBoost\u001b[0m fitting and predicting completed\n",
            "[16:16:06] Start hyperparameters optimization for \u001b[1mLvl_0_Pipe_1_Mod_3_Tuned_CatBoost\u001b[0m ... Time budget is 300.00 secs\n"
          ]
        },
        {
          "output_type": "stream",
          "name": "stderr",
          "text": [
            "INFO:optuna.storages._in_memory:A new study created in memory with name: no-name-e9a3982a-8ed6-43e7-b25c-c3771d315556\n",
            "INFO:optuna.study.study:Trial 0 finished with value: -0.12837184466970153 and parameters: {'max_depth': 4, 'l2_leaf_reg': 3.6010467344475403, 'min_data_in_leaf': 15}. Best is trial 0 with value: -0.12837184466970153.\n",
            "INFO:optuna.study.study:Trial 1 finished with value: -0.1289239677259631 and parameters: {'max_depth': 5, 'l2_leaf_reg': 2.5361081166471375e-07, 'min_data_in_leaf': 4}. Best is trial 0 with value: -0.12837184466970153.\n",
            "INFO:optuna.study.study:Trial 2 finished with value: -0.13134836978714795 and parameters: {'max_depth': 3, 'l2_leaf_reg': 0.6245760287469893, 'min_data_in_leaf': 13}. Best is trial 0 with value: -0.12837184466970153.\n",
            "INFO:optuna.study.study:Trial 3 finished with value: -0.1273359268959566 and parameters: {'max_depth': 6, 'l2_leaf_reg': 1.5320059381854043e-08, 'min_data_in_leaf': 20}. Best is trial 3 with value: -0.1273359268959566.\n",
            "INFO:optuna.study.study:Trial 4 finished with value: -0.12731075014346144 and parameters: {'max_depth': 7, 'l2_leaf_reg': 8.148018307012941e-07, 'min_data_in_leaf': 4}. Best is trial 4 with value: -0.12731075014346144.\n",
            "INFO:optuna.study.study:Trial 5 finished with value: -0.13159828095735443 and parameters: {'max_depth': 3, 'l2_leaf_reg': 5.472429642032198e-06, 'min_data_in_leaf': 11}. Best is trial 4 with value: -0.12731075014346144.\n",
            "INFO:optuna.study.study:Trial 6 finished with value: -0.1289239677259631 and parameters: {'max_depth': 5, 'l2_leaf_reg': 4.17890272377219e-06, 'min_data_in_leaf': 13}. Best is trial 4 with value: -0.12731075014346144.\n",
            "INFO:optuna.study.study:Trial 7 finished with value: -0.13159828095735443 and parameters: {'max_depth': 3, 'l2_leaf_reg': 4.258943089524393e-06, 'min_data_in_leaf': 8}. Best is trial 4 with value: -0.12731075014346144.\n",
            "INFO:optuna.study.study:Trial 8 finished with value: -0.12920746350384654 and parameters: {'max_depth': 5, 'l2_leaf_reg': 0.1165691561324743, 'min_data_in_leaf': 4}. Best is trial 4 with value: -0.12731075014346144.\n",
            "INFO:optuna.study.study:Trial 9 finished with value: -0.1289239677259631 and parameters: {'max_depth': 5, 'l2_leaf_reg': 0.0021465011216654484, 'min_data_in_leaf': 1}. Best is trial 4 with value: -0.12731075014346144.\n",
            "INFO:optuna.study.study:Trial 10 finished with value: -0.12731075014346144 and parameters: {'max_depth': 7, 'l2_leaf_reg': 0.0010706760408431396, 'min_data_in_leaf': 7}. Best is trial 4 with value: -0.12731075014346144.\n",
            "INFO:optuna.study.study:Trial 11 finished with value: -0.12731075014346144 and parameters: {'max_depth': 7, 'l2_leaf_reg': 0.0009334684516147605, 'min_data_in_leaf': 7}. Best is trial 4 with value: -0.12731075014346144.\n",
            "INFO:optuna.study.study:Trial 12 finished with value: -0.12731075014346144 and parameters: {'max_depth': 7, 'l2_leaf_reg': 0.011003267926660086, 'min_data_in_leaf': 7}. Best is trial 4 with value: -0.12731075014346144.\n",
            "INFO:optuna.study.study:Trial 13 finished with value: -0.12731075014346144 and parameters: {'max_depth': 7, 'l2_leaf_reg': 1.8730037000047857e-05, 'min_data_in_leaf': 1}. Best is trial 4 with value: -0.12731075014346144.\n",
            "INFO:optuna.study.study:Trial 14 finished with value: -0.1273359268959566 and parameters: {'max_depth': 6, 'l2_leaf_reg': 8.113466471626504e-05, 'min_data_in_leaf': 4}. Best is trial 4 with value: -0.12731075014346144.\n",
            "INFO:optuna.study.study:Trial 15 finished with value: -0.1273359268959566 and parameters: {'max_depth': 6, 'l2_leaf_reg': 1.197340518782296e-07, 'min_data_in_leaf': 8}. Best is trial 4 with value: -0.12731075014346144.\n",
            "INFO:optuna.study.study:Trial 16 finished with value: -0.12731075014346144 and parameters: {'max_depth': 7, 'l2_leaf_reg': 0.00011317496248976108, 'min_data_in_leaf': 5}. Best is trial 4 with value: -0.12731075014346144.\n",
            "INFO:optuna.study.study:Trial 17 finished with value: -0.1273359268959566 and parameters: {'max_depth': 6, 'l2_leaf_reg': 4.696720596050992e-05, 'min_data_in_leaf': 1}. Best is trial 4 with value: -0.12731075014346144.\n",
            "INFO:optuna.study.study:Trial 18 finished with value: -0.12731075014346144 and parameters: {'max_depth': 7, 'l2_leaf_reg': 2.7724635928629295e-07, 'min_data_in_leaf': 1}. Best is trial 4 with value: -0.12731075014346144.\n",
            "INFO:optuna.study.study:Trial 19 finished with value: -0.1293968498089251 and parameters: {'max_depth': 4, 'l2_leaf_reg': 4.625073408951423e-08, 'min_data_in_leaf': 3}. Best is trial 4 with value: -0.12731075014346144.\n",
            "INFO:optuna.study.study:Trial 20 finished with value: -0.12825979063627682 and parameters: {'max_depth': 6, 'l2_leaf_reg': 0.008675440509588055, 'min_data_in_leaf': 10}. Best is trial 4 with value: -0.12731075014346144.\n",
            "INFO:optuna.study.study:Trial 21 finished with value: -0.12731075014346144 and parameters: {'max_depth': 7, 'l2_leaf_reg': 1.132696108700913e-06, 'min_data_in_leaf': 6}. Best is trial 4 with value: -0.12731075014346144.\n",
            "INFO:optuna.study.study:Trial 22 finished with value: -0.12731075014346144 and parameters: {'max_depth': 7, 'l2_leaf_reg': 0.0002963589818495497, 'min_data_in_leaf': 5}. Best is trial 4 with value: -0.12731075014346144.\n",
            "INFO:optuna.study.study:Trial 23 finished with value: -0.12731075014346144 and parameters: {'max_depth': 7, 'l2_leaf_reg': 0.031202218827207556, 'min_data_in_leaf': 2}. Best is trial 4 with value: -0.12731075014346144.\n",
            "INFO:optuna.study.study:Trial 24 finished with value: -0.1273359268959566 and parameters: {'max_depth': 6, 'l2_leaf_reg': 1.0282282813563639e-06, 'min_data_in_leaf': 10}. Best is trial 4 with value: -0.12731075014346144.\n",
            "INFO:optuna.study.study:Trial 25 finished with value: -0.12731075014346144 and parameters: {'max_depth': 7, 'l2_leaf_reg': 0.009035078527798932, 'min_data_in_leaf': 6}. Best is trial 4 with value: -0.12731075014346144.\n",
            "INFO:optuna.study.study:Trial 26 finished with value: -0.12806389718656025 and parameters: {'max_depth': 6, 'l2_leaf_reg': 0.05684193632769898, 'min_data_in_leaf': 3}. Best is trial 4 with value: -0.12731075014346144.\n",
            "INFO:optuna.study.study:Trial 27 finished with value: -0.12731075014346144 and parameters: {'max_depth': 7, 'l2_leaf_reg': 1.8819732909892726e-05, 'min_data_in_leaf': 2}. Best is trial 4 with value: -0.12731075014346144.\n",
            "INFO:optuna.study.study:Trial 28 finished with value: -0.12668935833592376 and parameters: {'max_depth': 7, 'l2_leaf_reg': 0.057129294600141066, 'min_data_in_leaf': 2}. Best is trial 28 with value: -0.12668935833592376.\n",
            "INFO:optuna.study.study:Trial 29 finished with value: -0.12939201268810413 and parameters: {'max_depth': 4, 'l2_leaf_reg': 2.3023002667781407, 'min_data_in_leaf': 18}. Best is trial 28 with value: -0.12668935833592376.\n",
            "INFO:optuna.study.study:Trial 30 finished with value: -0.1273359268959566 and parameters: {'max_depth': 6, 'l2_leaf_reg': 1.527394031507163e-05, 'min_data_in_leaf': 3}. Best is trial 28 with value: -0.12668935833592376.\n",
            "INFO:optuna.study.study:Trial 31 finished with value: -0.12904378338512384 and parameters: {'max_depth': 7, 'l2_leaf_reg': 0.6849391813640976, 'min_data_in_leaf': 5}. Best is trial 28 with value: -0.12668935833592376.\n",
            "INFO:optuna.study.study:Trial 32 finished with value: -0.12731075014346144 and parameters: {'max_depth': 7, 'l2_leaf_reg': 0.0010250208633282938, 'min_data_in_leaf': 2}. Best is trial 28 with value: -0.12668935833592376.\n",
            "INFO:optuna.study.study:Trial 33 finished with value: -0.12731075014346144 and parameters: {'max_depth': 7, 'l2_leaf_reg': 0.00028736179501340545, 'min_data_in_leaf': 5}. Best is trial 28 with value: -0.12668935833592376.\n",
            "INFO:optuna.study.study:Trial 34 finished with value: -0.12674624329591025 and parameters: {'max_depth': 7, 'l2_leaf_reg': 0.3069913069661717, 'min_data_in_leaf': 6}. Best is trial 28 with value: -0.12668935833592376.\n",
            "INFO:optuna.study.study:Trial 35 finished with value: -0.13016376936859492 and parameters: {'max_depth': 6, 'l2_leaf_reg': 0.2404653646337156, 'min_data_in_leaf': 9}. Best is trial 28 with value: -0.12668935833592376.\n",
            "INFO:optuna.study.study:Trial 36 finished with value: -0.126335149170871 and parameters: {'max_depth': 7, 'l2_leaf_reg': 1.780326645292726, 'min_data_in_leaf': 12}. Best is trial 36 with value: -0.126335149170871.\n",
            "INFO:optuna.study.study:Trial 37 finished with value: -0.1268291918759716 and parameters: {'max_depth': 5, 'l2_leaf_reg': 8.390418282548378, 'min_data_in_leaf': 14}. Best is trial 36 with value: -0.126335149170871.\n",
            "INFO:optuna.study.study:Trial 38 finished with value: -0.12790737831035306 and parameters: {'max_depth': 5, 'l2_leaf_reg': 8.552518376173206, 'min_data_in_leaf': 14}. Best is trial 36 with value: -0.126335149170871.\n",
            "INFO:optuna.study.study:Trial 39 finished with value: -0.12891745988303283 and parameters: {'max_depth': 5, 'l2_leaf_reg': 1.2046206107422945, 'min_data_in_leaf': 17}. Best is trial 36 with value: -0.126335149170871.\n",
            "INFO:optuna.study.study:Trial 40 finished with value: -0.12929471924152722 and parameters: {'max_depth': 4, 'l2_leaf_reg': 8.314491751764352, 'min_data_in_leaf': 16}. Best is trial 36 with value: -0.126335149170871.\n",
            "INFO:optuna.study.study:Trial 41 finished with value: -0.12916362341918533 and parameters: {'max_depth': 6, 'l2_leaf_reg': 2.6867665089946584, 'min_data_in_leaf': 12}. Best is trial 36 with value: -0.126335149170871.\n",
            "INFO:optuna.study.study:Trial 42 finished with value: -0.1290256693976149 and parameters: {'max_depth': 5, 'l2_leaf_reg': 0.3256821602209479, 'min_data_in_leaf': 14}. Best is trial 36 with value: -0.126335149170871.\n",
            "INFO:optuna.study.study:Trial 43 finished with value: -0.127298697262116 and parameters: {'max_depth': 7, 'l2_leaf_reg': 0.09968081699600398, 'min_data_in_leaf': 12}. Best is trial 36 with value: -0.126335149170871.\n",
            "INFO:optuna.study.study:Trial 44 finished with value: -0.12863188915956106 and parameters: {'max_depth': 5, 'l2_leaf_reg': 0.1334742359307343, 'min_data_in_leaf': 12}. Best is trial 36 with value: -0.126335149170871.\n",
            "INFO:optuna.study.study:Trial 45 finished with value: -0.12656570687566635 and parameters: {'max_depth': 7, 'l2_leaf_reg': 0.85822389879706, 'min_data_in_leaf': 12}. Best is trial 36 with value: -0.126335149170871.\n",
            "INFO:optuna.study.study:Trial 46 finished with value: -0.13186610578479344 and parameters: {'max_depth': 3, 'l2_leaf_reg': 0.839816342008059, 'min_data_in_leaf': 15}. Best is trial 36 with value: -0.126335149170871.\n",
            "INFO:optuna.study.study:Trial 47 finished with value: -0.128658924085853 and parameters: {'max_depth': 6, 'l2_leaf_reg': 3.5484300154629107, 'min_data_in_leaf': 11}. Best is trial 36 with value: -0.126335149170871.\n",
            "INFO:optuna.study.study:Trial 48 finished with value: -0.12694004571537976 and parameters: {'max_depth': 7, 'l2_leaf_reg': 0.3335955288755304, 'min_data_in_leaf': 13}. Best is trial 36 with value: -0.126335149170871.\n",
            "INFO:optuna.study.study:Trial 49 finished with value: -0.12954376215297053 and parameters: {'max_depth': 5, 'l2_leaf_reg': 0.03188064168672092, 'min_data_in_leaf': 15}. Best is trial 36 with value: -0.126335149170871.\n",
            "INFO:optuna.study.study:Trial 50 finished with value: -0.12586328342813047 and parameters: {'max_depth': 7, 'l2_leaf_reg': 1.6365888573835248, 'min_data_in_leaf': 9}. Best is trial 50 with value: -0.12586328342813047.\n",
            "INFO:optuna.study.study:Trial 51 finished with value: -0.1262667157271213 and parameters: {'max_depth': 7, 'l2_leaf_reg': 1.5855619151322782, 'min_data_in_leaf': 9}. Best is trial 50 with value: -0.12586328342813047.\n",
            "INFO:optuna.study.study:Trial 52 finished with value: -0.1267525834092295 and parameters: {'max_depth': 7, 'l2_leaf_reg': 0.8121658154063353, 'min_data_in_leaf': 9}. Best is trial 50 with value: -0.12586328342813047.\n",
            "INFO:optuna.study.study:Trial 53 finished with value: -0.12576558645085642 and parameters: {'max_depth': 7, 'l2_leaf_reg': 1.4706728012093753, 'min_data_in_leaf': 8}. Best is trial 53 with value: -0.12576558645085642.\n",
            "INFO:optuna.study.study:Trial 54 finished with value: -0.1252477846107256 and parameters: {'max_depth': 7, 'l2_leaf_reg': 1.5882316706836566, 'min_data_in_leaf': 9}. Best is trial 54 with value: -0.1252477846107256.\n",
            "INFO:optuna.study.study:Trial 55 finished with value: -0.12681005040959992 and parameters: {'max_depth': 7, 'l2_leaf_reg': 2.0325531528947955, 'min_data_in_leaf': 8}. Best is trial 54 with value: -0.1252477846107256.\n",
            "INFO:optuna.study.study:Trial 56 finished with value: -0.1262554017357882 and parameters: {'max_depth': 7, 'l2_leaf_reg': 1.5648428793570592, 'min_data_in_leaf': 9}. Best is trial 54 with value: -0.1252477846107256.\n",
            "INFO:optuna.study.study:Trial 57 finished with value: -0.12589826374734248 and parameters: {'max_depth': 7, 'l2_leaf_reg': 1.4396099918633518, 'min_data_in_leaf': 9}. Best is trial 54 with value: -0.1252477846107256.\n",
            "INFO:optuna.study.study:Trial 58 finished with value: -0.12928169542147397 and parameters: {'max_depth': 7, 'l2_leaf_reg': 5.1673677631797625, 'min_data_in_leaf': 9}. Best is trial 54 with value: -0.1252477846107256.\n"
          ]
        },
        {
          "output_type": "stream",
          "name": "stdout",
          "text": [
            "[16:21:10] Hyperparameters optimization for \u001b[1mLvl_0_Pipe_1_Mod_3_Tuned_CatBoost\u001b[0m completed\n",
            "[16:21:10] Start fitting \u001b[1mLvl_0_Pipe_1_Mod_3_Tuned_CatBoost\u001b[0m ...\n",
            "[16:22:11] Fitting \u001b[1mLvl_0_Pipe_1_Mod_3_Tuned_CatBoost\u001b[0m finished. score = \u001b[1m-0.1273251992100352\u001b[0m\n",
            "[16:22:11] \u001b[1mLvl_0_Pipe_1_Mod_3_Tuned_CatBoost\u001b[0m fitting and predicting completed\n",
            "[16:22:11] Time left 1052.16 secs\n",
            "\n",
            "[16:22:11] Time limit exceeded in one of the tasks. AutoML will blend level 1 models.\n",
            "\n",
            "[16:22:11] \u001b[1mLayer 1 training completed.\u001b[0m\n",
            "\n",
            "[16:22:11] Blending: optimization starts with equal weights and score \u001b[1m-0.12995506099190066\u001b[0m\n",
            "[16:22:11] Blending: iteration \u001b[1m0\u001b[0m: score = \u001b[1m-0.12506591846326673\u001b[0m, weights = \u001b[1m[0.         0.12477759 0.37063015 0.12479801 0.37979427]\u001b[0m\n",
            "[16:22:11] Blending: iteration \u001b[1m1\u001b[0m: score = \u001b[1m-0.12502591116799058\u001b[0m, weights = \u001b[1m[0.         0.09175441 0.402136   0.06323005 0.44287953]\u001b[0m\n",
            "[16:22:11] Blending: iteration \u001b[1m2\u001b[0m: score = \u001b[1m-0.1250247920695284\u001b[0m, weights = \u001b[1m[0.         0.08551282 0.40887332 0.06232988 0.44328395]\u001b[0m\n",
            "[16:22:11] Blending: iteration \u001b[1m3\u001b[0m: score = \u001b[1m-0.12502442828663038\u001b[0m, weights = \u001b[1m[0.         0.08442174 0.41012007 0.06153459 0.44392356]\u001b[0m\n",
            "[16:22:11] Blending: iteration \u001b[1m4\u001b[0m: score = \u001b[1m-0.1250241534024053\u001b[0m, weights = \u001b[1m[0.         0.08344673 0.41075334 0.06082391 0.444976  ]\u001b[0m\n",
            "[16:22:11] \u001b[1mAutoml preset training completed in 636.07 seconds\u001b[0m\n",
            "\n",
            "[16:22:11] Model description:\n",
            "Final prediction for new objects (level 0) = \n",
            "\t 0.08345 * (7 averaged models Lvl_0_Pipe_1_Mod_0_LightGBM) +\n",
            "\t 0.41075 * (10 averaged models Lvl_0_Pipe_1_Mod_1_Tuned_LightGBM) +\n",
            "\t 0.06082 * (10 averaged models Lvl_0_Pipe_1_Mod_2_CatBoost) +\n",
            "\t 0.44498 * (10 averaged models Lvl_0_Pipe_1_Mod_3_Tuned_CatBoost) \n",
            "\n",
            "[16:22:11] ==================================================\n",
            "[16:22:11] Start 3 automl preset configuration:\n",
            "[16:22:11] \u001b[1mconf_3_sel_type_1_no_inter_lgbm.yml\u001b[0m, random state: {'reader_params': {'random_state': 45}, 'general_params': {'return_all_predictions': False}}\n",
            "[16:22:11] Stdout logging level is INFO.\n",
            "[16:22:11] Task: reg\n",
            "\n",
            "[16:22:11] Start automl preset with listed constraints:\n",
            "[16:22:11] - time: 1051.88 seconds\n",
            "[16:22:11] - CPU: 4 cores\n",
            "[16:22:11] - memory: 16 GB\n",
            "\n",
            "[16:22:11] \u001b[1mTrain data shape: (6682, 19)\u001b[0m\n",
            "\n",
            "[16:22:14] Layer \u001b[1m1\u001b[0m train process start. Time left 1049.11 secs\n",
            "[16:22:14] Start fitting \u001b[1mLvl_0_Pipe_0_Mod_0_LinearL2\u001b[0m ...\n",
            "[16:22:19] Fitting \u001b[1mLvl_0_Pipe_0_Mod_0_LinearL2\u001b[0m finished. score = \u001b[1m-0.17667140351803146\u001b[0m\n",
            "[16:22:19] \u001b[1mLvl_0_Pipe_0_Mod_0_LinearL2\u001b[0m fitting and predicting completed\n",
            "[16:22:19] Time left 1043.60 secs\n",
            "\n",
            "[16:22:29] \u001b[1mSelector_LightGBM\u001b[0m fitting and predicting completed\n",
            "[16:22:29] Start fitting \u001b[1mLvl_0_Pipe_1_Mod_0_LightGBM\u001b[0m ...\n",
            "[16:23:34] Time limit exceeded after calculating fold 5\n",
            "\n",
            "[16:23:34] Fitting \u001b[1mLvl_0_Pipe_1_Mod_0_LightGBM\u001b[0m finished. score = \u001b[1m-0.12925797280006304\u001b[0m\n",
            "[16:23:34] \u001b[1mLvl_0_Pipe_1_Mod_0_LightGBM\u001b[0m fitting and predicting completed\n",
            "[16:23:34] Start hyperparameters optimization for \u001b[1mLvl_0_Pipe_1_Mod_1_Tuned_LightGBM\u001b[0m ... Time budget is 1.00 secs\n"
          ]
        },
        {
          "output_type": "stream",
          "name": "stderr",
          "text": [
            "INFO:optuna.storages._in_memory:A new study created in memory with name: no-name-25dd7458-1816-44c7-889a-8e7bbf955178\n",
            "INFO:optuna.study.study:Trial 0 finished with value: -0.1356512148393883 and parameters: {'feature_fraction': 0.6872700594236812, 'num_leaves': 244, 'bagging_fraction': 0.8659969709057025, 'min_sum_hessian_in_leaf': 0.24810409748678125, 'reg_alpha': 2.5361081166471375e-07, 'reg_lambda': 2.5348407664333426e-07}. Best is trial 0 with value: -0.1356512148393883.\n"
          ]
        },
        {
          "output_type": "stream",
          "name": "stdout",
          "text": [
            "[16:23:57] Hyperparameters optimization for \u001b[1mLvl_0_Pipe_1_Mod_1_Tuned_LightGBM\u001b[0m completed\n",
            "[16:23:57] Start fitting \u001b[1mLvl_0_Pipe_1_Mod_1_Tuned_LightGBM\u001b[0m ...\n",
            "[16:25:28] Fitting \u001b[1mLvl_0_Pipe_1_Mod_1_Tuned_LightGBM\u001b[0m finished. score = \u001b[1m-0.12768860408658397\u001b[0m\n",
            "[16:25:28] \u001b[1mLvl_0_Pipe_1_Mod_1_Tuned_LightGBM\u001b[0m fitting and predicting completed\n",
            "[16:25:28] Start fitting \u001b[1mLvl_0_Pipe_1_Mod_2_CatBoost\u001b[0m ...\n",
            "[16:26:01] Fitting \u001b[1mLvl_0_Pipe_1_Mod_2_CatBoost\u001b[0m finished. score = \u001b[1m-0.12917144295677502\u001b[0m\n",
            "[16:26:01] \u001b[1mLvl_0_Pipe_1_Mod_2_CatBoost\u001b[0m fitting and predicting completed\n",
            "[16:26:01] Start hyperparameters optimization for \u001b[1mLvl_0_Pipe_1_Mod_3_Tuned_CatBoost\u001b[0m ... Time budget is 300.00 secs\n"
          ]
        },
        {
          "output_type": "stream",
          "name": "stderr",
          "text": [
            "INFO:optuna.storages._in_memory:A new study created in memory with name: no-name-5fb44c68-117b-4174-96ee-1bf300ea2f8c\n",
            "INFO:optuna.study.study:Trial 0 finished with value: -0.13485268065032915 and parameters: {'max_depth': 4, 'nan_mode': 'Max', 'l2_leaf_reg': 0.0024430162614261413, 'min_data_in_leaf': 4}. Best is trial 0 with value: -0.13485268065032915.\n",
            "INFO:optuna.study.study:Trial 1 finished with value: -0.13982236698505676 and parameters: {'max_depth': 3, 'nan_mode': 'Min', 'l2_leaf_reg': 0.002570603566117598, 'min_data_in_leaf': 15}. Best is trial 0 with value: -0.13485268065032915.\n",
            "INFO:optuna.study.study:Trial 2 finished with value: -0.13856496545540503 and parameters: {'max_depth': 3, 'nan_mode': 'Max', 'l2_leaf_reg': 8.148018307012941e-07, 'min_data_in_leaf': 4}. Best is trial 0 with value: -0.13485268065032915.\n",
            "INFO:optuna.study.study:Trial 3 finished with value: -0.13982236698505676 and parameters: {'max_depth': 3, 'nan_mode': 'Min', 'l2_leaf_reg': 7.71800699380605e-05, 'min_data_in_leaf': 6}. Best is trial 0 with value: -0.13485268065032915.\n",
            "INFO:optuna.study.study:Trial 4 finished with value: -0.1332171848953518 and parameters: {'max_depth': 6, 'nan_mode': 'Min', 'l2_leaf_reg': 1.9826980964985924e-05, 'min_data_in_leaf': 10}. Best is trial 4 with value: -0.1332171848953518.\n",
            "INFO:optuna.study.study:Trial 5 finished with value: -0.1332171848953518 and parameters: {'max_depth': 6, 'nan_mode': 'Min', 'l2_leaf_reg': 0.0021465011216654484, 'min_data_in_leaf': 1}. Best is trial 4 with value: -0.1332171848953518.\n",
            "INFO:optuna.study.study:Trial 6 finished with value: -0.13224170216199357 and parameters: {'max_depth': 6, 'nan_mode': 'Max', 'l2_leaf_reg': 3.4671276804481113, 'min_data_in_leaf': 20}. Best is trial 6 with value: -0.13224170216199357.\n",
            "INFO:optuna.study.study:Trial 7 finished with value: -0.13078998800429845 and parameters: {'max_depth': 7, 'nan_mode': 'Max', 'l2_leaf_reg': 0.014391207615728067, 'min_data_in_leaf': 9}. Best is trial 7 with value: -0.13078998800429845.\n",
            "INFO:optuna.study.study:Trial 8 finished with value: -0.13858487309860595 and parameters: {'max_depth': 3, 'nan_mode': 'Max', 'l2_leaf_reg': 1.527156759251193, 'min_data_in_leaf': 6}. Best is trial 7 with value: -0.13078998800429845.\n",
            "INFO:optuna.study.study:Trial 9 finished with value: -0.1332171848953518 and parameters: {'max_depth': 6, 'nan_mode': 'Min', 'l2_leaf_reg': 0.0008325158565947976, 'min_data_in_leaf': 4}. Best is trial 7 with value: -0.13078998800429845.\n",
            "INFO:optuna.study.study:Trial 10 finished with value: -0.13078998800429845 and parameters: {'max_depth': 7, 'nan_mode': 'Max', 'l2_leaf_reg': 1.1692997958212103e-08, 'min_data_in_leaf': 12}. Best is trial 7 with value: -0.13078998800429845.\n",
            "INFO:optuna.study.study:Trial 11 finished with value: -0.13078998800429845 and parameters: {'max_depth': 7, 'nan_mode': 'Max', 'l2_leaf_reg': 1.3815073407783126e-08, 'min_data_in_leaf': 11}. Best is trial 7 with value: -0.13078998800429845.\n",
            "INFO:optuna.study.study:Trial 12 finished with value: -0.1311553346543469 and parameters: {'max_depth': 7, 'nan_mode': 'Max', 'l2_leaf_reg': 0.059752613270346075, 'min_data_in_leaf': 12}. Best is trial 7 with value: -0.13078998800429845.\n",
            "INFO:optuna.study.study:Trial 13 finished with value: -0.13078998800429845 and parameters: {'max_depth': 7, 'nan_mode': 'Max', 'l2_leaf_reg': 1.9003856222841332e-08, 'min_data_in_leaf': 15}. Best is trial 7 with value: -0.13078998800429845.\n",
            "INFO:optuna.study.study:Trial 14 finished with value: -0.1311245156515199 and parameters: {'max_depth': 5, 'nan_mode': 'Max', 'l2_leaf_reg': 0.10378856809467507, 'min_data_in_leaf': 14}. Best is trial 7 with value: -0.13078998800429845.\n",
            "INFO:optuna.study.study:Trial 15 finished with value: -0.13331420757089266 and parameters: {'max_depth': 5, 'nan_mode': 'Max', 'l2_leaf_reg': 2.198647593634101e-06, 'min_data_in_leaf': 8}. Best is trial 7 with value: -0.13078998800429845.\n",
            "INFO:optuna.study.study:Trial 16 finished with value: -0.13104923696555382 and parameters: {'max_depth': 7, 'nan_mode': 'Max', 'l2_leaf_reg': 0.06931240807617127, 'min_data_in_leaf': 18}. Best is trial 7 with value: -0.13078998800429845.\n",
            "INFO:optuna.study.study:Trial 17 finished with value: -0.13078998800429845 and parameters: {'max_depth': 7, 'nan_mode': 'Max', 'l2_leaf_reg': 5.911877929827516e-07, 'min_data_in_leaf': 15}. Best is trial 7 with value: -0.13078998800429845.\n",
            "INFO:optuna.study.study:Trial 18 finished with value: -0.13485268065032915 and parameters: {'max_depth': 4, 'nan_mode': 'Max', 'l2_leaf_reg': 1.6044697220872905e-07, 'min_data_in_leaf': 16}. Best is trial 7 with value: -0.13078998800429845.\n",
            "INFO:optuna.study.study:Trial 19 finished with value: -0.13142585943923982 and parameters: {'max_depth': 6, 'nan_mode': 'Max', 'l2_leaf_reg': 7.033849480388128e-05, 'min_data_in_leaf': 9}. Best is trial 7 with value: -0.13078998800429845.\n",
            "INFO:optuna.study.study:Trial 20 finished with value: -0.13331420757089266 and parameters: {'max_depth': 5, 'nan_mode': 'Max', 'l2_leaf_reg': 3.0042384739558807e-07, 'min_data_in_leaf': 17}. Best is trial 7 with value: -0.13078998800429845.\n",
            "INFO:optuna.study.study:Trial 21 finished with value: -0.13078998800429845 and parameters: {'max_depth': 7, 'nan_mode': 'Max', 'l2_leaf_reg': 5.8934305800695166e-06, 'min_data_in_leaf': 13}. Best is trial 7 with value: -0.13078998800429845.\n",
            "INFO:optuna.study.study:Trial 22 finished with value: -0.13078998800429845 and parameters: {'max_depth': 7, 'nan_mode': 'Max', 'l2_leaf_reg': 1.9741128258272693e-08, 'min_data_in_leaf': 19}. Best is trial 7 with value: -0.13078998800429845.\n",
            "INFO:optuna.study.study:Trial 23 finished with value: -0.13078998800429845 and parameters: {'max_depth': 7, 'nan_mode': 'Max', 'l2_leaf_reg': 1.3522859466919225e-07, 'min_data_in_leaf': 15}. Best is trial 7 with value: -0.13078998800429845.\n",
            "INFO:optuna.study.study:Trial 24 finished with value: -0.13142585943923982 and parameters: {'max_depth': 6, 'nan_mode': 'Max', 'l2_leaf_reg': 4.050111356200559e-06, 'min_data_in_leaf': 12}. Best is trial 7 with value: -0.13078998800429845.\n",
            "INFO:optuna.study.study:Trial 25 finished with value: -0.13078998800429845 and parameters: {'max_depth': 7, 'nan_mode': 'Max', 'l2_leaf_reg': 1.1126306238481922e-05, 'min_data_in_leaf': 19}. Best is trial 7 with value: -0.13078998800429845.\n",
            "INFO:optuna.study.study:Trial 26 finished with value: -0.1332171848953518 and parameters: {'max_depth': 6, 'nan_mode': 'Min', 'l2_leaf_reg': 7.210931309771163e-08, 'min_data_in_leaf': 20}. Best is trial 7 with value: -0.13078998800429845.\n",
            "INFO:optuna.study.study:Trial 27 finished with value: -0.13078998800429845 and parameters: {'max_depth': 7, 'nan_mode': 'Max', 'l2_leaf_reg': 4.437700652139856e-08, 'min_data_in_leaf': 17}. Best is trial 7 with value: -0.13078998800429845.\n",
            "INFO:optuna.study.study:Trial 28 finished with value: -0.13485268065032915 and parameters: {'max_depth': 4, 'nan_mode': 'Max', 'l2_leaf_reg': 2.4715177674359454e-05, 'min_data_in_leaf': 18}. Best is trial 7 with value: -0.13078998800429845.\n",
            "INFO:optuna.study.study:Trial 29 finished with value: -0.13142585943923982 and parameters: {'max_depth': 6, 'nan_mode': 'Max', 'l2_leaf_reg': 7.125684124192526e-07, 'min_data_in_leaf': 13}. Best is trial 7 with value: -0.13078998800429845.\n",
            "INFO:optuna.study.study:Trial 30 finished with value: -0.13078998800429845 and parameters: {'max_depth': 7, 'nan_mode': 'Max', 'l2_leaf_reg': 7.008954440661179e-08, 'min_data_in_leaf': 17}. Best is trial 7 with value: -0.13078998800429845.\n",
            "INFO:optuna.study.study:Trial 31 finished with value: -0.13078998800429845 and parameters: {'max_depth': 7, 'nan_mode': 'Max', 'l2_leaf_reg': 1.6044069558400754e-07, 'min_data_in_leaf': 15}. Best is trial 7 with value: -0.13078998800429845.\n",
            "INFO:optuna.study.study:Trial 32 finished with value: -0.13078998800429845 and parameters: {'max_depth': 7, 'nan_mode': 'Max', 'l2_leaf_reg': 1.0994636373070519e-07, 'min_data_in_leaf': 15}. Best is trial 7 with value: -0.13078998800429845.\n",
            "INFO:optuna.study.study:Trial 33 finished with value: -0.13078998800429845 and parameters: {'max_depth': 7, 'nan_mode': 'Max', 'l2_leaf_reg': 1.900442841076278e-06, 'min_data_in_leaf': 17}. Best is trial 7 with value: -0.13078998800429845.\n",
            "INFO:optuna.study.study:Trial 34 finished with value: -0.13091867828143086 and parameters: {'max_depth': 7, 'nan_mode': 'Min', 'l2_leaf_reg': 4.641933802334134e-08, 'min_data_in_leaf': 16}. Best is trial 7 with value: -0.13078998800429845.\n",
            "INFO:optuna.study.study:Trial 35 finished with value: -0.13142585943923982 and parameters: {'max_depth': 6, 'nan_mode': 'Max', 'l2_leaf_reg': 2.747739193816563e-07, 'min_data_in_leaf': 14}. Best is trial 7 with value: -0.13078998800429845.\n",
            "INFO:optuna.study.study:Trial 36 finished with value: -0.13091867828143086 and parameters: {'max_depth': 7, 'nan_mode': 'Min', 'l2_leaf_reg': 1.4329321655479917e-08, 'min_data_in_leaf': 11}. Best is trial 7 with value: -0.13078998800429845.\n",
            "INFO:optuna.study.study:Trial 37 finished with value: -0.13142585943923982 and parameters: {'max_depth': 6, 'nan_mode': 'Max', 'l2_leaf_reg': 8.306630840098386e-05, 'min_data_in_leaf': 17}. Best is trial 7 with value: -0.13078998800429845.\n",
            "INFO:optuna.study.study:Trial 38 finished with value: -0.13078998800429845 and parameters: {'max_depth': 7, 'nan_mode': 'Max', 'l2_leaf_reg': 1.3400688227957837e-06, 'min_data_in_leaf': 19}. Best is trial 7 with value: -0.13078998800429845.\n",
            "INFO:optuna.study.study:Trial 39 finished with value: -0.1332171848953518 and parameters: {'max_depth': 6, 'nan_mode': 'Min', 'l2_leaf_reg': 2.4829373721689892e-05, 'min_data_in_leaf': 19}. Best is trial 7 with value: -0.13078998800429845.\n",
            "INFO:optuna.study.study:Trial 40 finished with value: -0.13142585943923982 and parameters: {'max_depth': 6, 'nan_mode': 'Max', 'l2_leaf_reg': 3.1735939542934697e-08, 'min_data_in_leaf': 20}. Best is trial 7 with value: -0.13078998800429845.\n",
            "INFO:optuna.study.study:Trial 41 finished with value: -0.13078998800429845 and parameters: {'max_depth': 7, 'nan_mode': 'Max', 'l2_leaf_reg': 8.248331500575908e-07, 'min_data_in_leaf': 19}. Best is trial 7 with value: -0.13078998800429845.\n",
            "INFO:optuna.study.study:Trial 42 finished with value: -0.13078998800429845 and parameters: {'max_depth': 7, 'nan_mode': 'Max', 'l2_leaf_reg': 6.043944871026169e-06, 'min_data_in_leaf': 17}. Best is trial 7 with value: -0.13078998800429845.\n",
            "INFO:optuna.study.study:Trial 43 finished with value: -0.13078998800429845 and parameters: {'max_depth': 7, 'nan_mode': 'Max', 'l2_leaf_reg': 2.1072469048028134e-06, 'min_data_in_leaf': 13}. Best is trial 7 with value: -0.13078998800429845.\n",
            "INFO:optuna.study.study:Trial 44 finished with value: -0.13078998800429845 and parameters: {'max_depth': 7, 'nan_mode': 'Max', 'l2_leaf_reg': 1.7890267817634727e-06, 'min_data_in_leaf': 18}. Best is trial 7 with value: -0.13078998800429845.\n",
            "INFO:optuna.study.study:Trial 45 finished with value: -0.13078998800429845 and parameters: {'max_depth': 7, 'nan_mode': 'Max', 'l2_leaf_reg': 0.00016463666880918277, 'min_data_in_leaf': 19}. Best is trial 7 with value: -0.13078998800429845.\n",
            "INFO:optuna.study.study:Trial 46 finished with value: -0.13856496545540503 and parameters: {'max_depth': 3, 'nan_mode': 'Max', 'l2_leaf_reg': 0.0005438444130680446, 'min_data_in_leaf': 20}. Best is trial 7 with value: -0.13078998800429845.\n",
            "INFO:optuna.study.study:Trial 47 finished with value: -0.13091867828143086 and parameters: {'max_depth': 7, 'nan_mode': 'Min', 'l2_leaf_reg': 1.186879783458589e-07, 'min_data_in_leaf': 16}. Best is trial 7 with value: -0.13078998800429845.\n",
            "INFO:optuna.study.study:Trial 48 finished with value: -0.13078998800429845 and parameters: {'max_depth': 7, 'nan_mode': 'Max', 'l2_leaf_reg': 6.550478247324209e-07, 'min_data_in_leaf': 14}. Best is trial 7 with value: -0.13078998800429845.\n",
            "INFO:optuna.study.study:Trial 49 finished with value: -0.13142585943923982 and parameters: {'max_depth': 6, 'nan_mode': 'Max', 'l2_leaf_reg': 1.0925433133340432e-05, 'min_data_in_leaf': 14}. Best is trial 7 with value: -0.13078998800429845.\n",
            "INFO:optuna.study.study:Trial 50 finished with value: -0.13331420757089266 and parameters: {'max_depth': 5, 'nan_mode': 'Max', 'l2_leaf_reg': 3.70593716514042e-07, 'min_data_in_leaf': 1}. Best is trial 7 with value: -0.13078998800429845.\n",
            "INFO:optuna.study.study:Trial 51 finished with value: -0.13078998800429845 and parameters: {'max_depth': 7, 'nan_mode': 'Max', 'l2_leaf_reg': 1.2921398868966695e-07, 'min_data_in_leaf': 15}. Best is trial 7 with value: -0.13078998800429845.\n",
            "INFO:optuna.study.study:Trial 52 finished with value: -0.13078998800429845 and parameters: {'max_depth': 7, 'nan_mode': 'Max', 'l2_leaf_reg': 3.668116183096292e-08, 'min_data_in_leaf': 18}. Best is trial 7 with value: -0.13078998800429845.\n",
            "INFO:optuna.study.study:Trial 53 finished with value: -0.13078998800429845 and parameters: {'max_depth': 7, 'nan_mode': 'Max', 'l2_leaf_reg': 3.3589435680842754e-08, 'min_data_in_leaf': 16}. Best is trial 7 with value: -0.13078998800429845.\n",
            "INFO:optuna.study.study:Trial 54 finished with value: -0.13078998800429845 and parameters: {'max_depth': 7, 'nan_mode': 'Max', 'l2_leaf_reg': 5.950064695990554e-08, 'min_data_in_leaf': 16}. Best is trial 7 with value: -0.13078998800429845.\n",
            "INFO:optuna.study.study:Trial 55 finished with value: -0.13078998800429845 and parameters: {'max_depth': 7, 'nan_mode': 'Max', 'l2_leaf_reg': 1.1124366370085812e-08, 'min_data_in_leaf': 17}. Best is trial 7 with value: -0.13078998800429845.\n",
            "INFO:optuna.study.study:Trial 56 finished with value: -0.13078998800429845 and parameters: {'max_depth': 7, 'nan_mode': 'Max', 'l2_leaf_reg': 1.9978145469288064e-07, 'min_data_in_leaf': 16}. Best is trial 7 with value: -0.13078998800429845.\n",
            "INFO:optuna.study.study:Trial 57 finished with value: -0.13142585943923982 and parameters: {'max_depth': 6, 'nan_mode': 'Max', 'l2_leaf_reg': 1.5730443954813186e-08, 'min_data_in_leaf': 17}. Best is trial 7 with value: -0.13078998800429845.\n",
            "INFO:optuna.study.study:Trial 58 finished with value: -0.13078998800429845 and parameters: {'max_depth': 7, 'nan_mode': 'Max', 'l2_leaf_reg': 5.614105528690236e-07, 'min_data_in_leaf': 13}. Best is trial 7 with value: -0.13078998800429845.\n",
            "INFO:optuna.study.study:Trial 59 finished with value: -0.13078998800429845 and parameters: {'max_depth': 7, 'nan_mode': 'Max', 'l2_leaf_reg': 9.606399403318501e-07, 'min_data_in_leaf': 3}. Best is trial 7 with value: -0.13078998800429845.\n",
            "INFO:optuna.study.study:Trial 60 finished with value: -0.1332171848953518 and parameters: {'max_depth': 6, 'nan_mode': 'Min', 'l2_leaf_reg': 3.6369566425760096e-06, 'min_data_in_leaf': 2}. Best is trial 7 with value: -0.13078998800429845.\n",
            "INFO:optuna.study.study:Trial 61 finished with value: -0.13078998800429845 and parameters: {'max_depth': 7, 'nan_mode': 'Max', 'l2_leaf_reg': 0.0026626922716145003, 'min_data_in_leaf': 18}. Best is trial 7 with value: -0.13078998800429845.\n",
            "INFO:optuna.study.study:Trial 62 finished with value: -0.13078998800429845 and parameters: {'max_depth': 7, 'nan_mode': 'Max', 'l2_leaf_reg': 1.5900107928485212e-06, 'min_data_in_leaf': 19}. Best is trial 7 with value: -0.13078998800429845.\n",
            "INFO:optuna.study.study:Trial 63 finished with value: -0.13078998800429845 and parameters: {'max_depth': 7, 'nan_mode': 'Max', 'l2_leaf_reg': 0.0028512197538215545, 'min_data_in_leaf': 18}. Best is trial 7 with value: -0.13078998800429845.\n",
            "INFO:optuna.study.study:Trial 64 finished with value: -0.13485268065032915 and parameters: {'max_depth': 4, 'nan_mode': 'Max', 'l2_leaf_reg': 1.2659537379213142e-06, 'min_data_in_leaf': 19}. Best is trial 7 with value: -0.13078998800429845.\n",
            "INFO:optuna.study.study:Trial 65 finished with value: -0.13153921712251748 and parameters: {'max_depth': 7, 'nan_mode': 'Max', 'l2_leaf_reg': 0.03007172687372776, 'min_data_in_leaf': 15}. Best is trial 7 with value: -0.13078998800429845.\n",
            "INFO:optuna.study.study:Trial 66 finished with value: -0.13078998800429845 and parameters: {'max_depth': 7, 'nan_mode': 'Max', 'l2_leaf_reg': 1.1436281941569148e-05, 'min_data_in_leaf': 15}. Best is trial 7 with value: -0.13078998800429845.\n",
            "INFO:optuna.study.study:Trial 67 finished with value: -0.13078998800429845 and parameters: {'max_depth': 7, 'nan_mode': 'Max', 'l2_leaf_reg': 3.463539281325537e-07, 'min_data_in_leaf': 17}. Best is trial 7 with value: -0.13078998800429845.\n",
            "INFO:optuna.study.study:Trial 68 finished with value: -0.13078998800429845 and parameters: {'max_depth': 7, 'nan_mode': 'Max', 'l2_leaf_reg': 3.403533917570144e-06, 'min_data_in_leaf': 7}. Best is trial 7 with value: -0.13078998800429845.\n"
          ]
        },
        {
          "output_type": "stream",
          "name": "stdout",
          "text": [
            "[16:31:02] Hyperparameters optimization for \u001b[1mLvl_0_Pipe_1_Mod_3_Tuned_CatBoost\u001b[0m completed\n",
            "[16:31:02] Start fitting \u001b[1mLvl_0_Pipe_1_Mod_3_Tuned_CatBoost\u001b[0m ...\n",
            "[16:31:44] Fitting \u001b[1mLvl_0_Pipe_1_Mod_3_Tuned_CatBoost\u001b[0m finished. score = \u001b[1m-0.12735897373313892\u001b[0m\n",
            "[16:31:44] \u001b[1mLvl_0_Pipe_1_Mod_3_Tuned_CatBoost\u001b[0m fitting and predicting completed\n",
            "[16:31:44] Time left 478.82 secs\n",
            "\n",
            "[16:31:44] Time limit exceeded in one of the tasks. AutoML will blend level 1 models.\n",
            "\n",
            "[16:31:44] \u001b[1mLayer 1 training completed.\u001b[0m\n",
            "\n",
            "[16:31:44] Blending: optimization starts with equal weights and score \u001b[1m-0.12851343683445335\u001b[0m\n",
            "[16:31:44] Blending: iteration \u001b[1m0\u001b[0m: score = \u001b[1m-0.12435109277714411\u001b[0m, weights = \u001b[1m[0.         0.09016765 0.42232347 0.19190775 0.2956012 ]\u001b[0m\n",
            "[16:31:44] Blending: iteration \u001b[1m1\u001b[0m: score = \u001b[1m-0.12434291613150537\u001b[0m, weights = \u001b[1m[0.         0.         0.4738869  0.19187188 0.33424118]\u001b[0m\n",
            "[16:31:44] Blending: iteration \u001b[1m2\u001b[0m: score = \u001b[1m-0.12434171624199804\u001b[0m, weights = \u001b[1m[0.         0.05597175 0.45006865 0.17158717 0.32237244]\u001b[0m\n",
            "[16:31:44] Blending: iteration \u001b[1m3\u001b[0m: score = \u001b[1m-0.12434170792003614\u001b[0m, weights = \u001b[1m[0.         0.05593741 0.45040607 0.17148189 0.32217464]\u001b[0m\n",
            "[16:31:44] Blending: iteration \u001b[1m4\u001b[0m: score = \u001b[1m-0.12434170506557844\u001b[0m, weights = \u001b[1m[0.         0.0559374  0.45040607 0.17148188 0.32217464]\u001b[0m\n",
            "[16:31:44] \u001b[1mAutoml preset training completed in 573.28 seconds\u001b[0m\n",
            "\n",
            "[16:31:44] Model description:\n",
            "Final prediction for new objects (level 0) = \n",
            "\t 0.05594 * (6 averaged models Lvl_0_Pipe_1_Mod_0_LightGBM) +\n",
            "\t 0.45041 * (10 averaged models Lvl_0_Pipe_1_Mod_1_Tuned_LightGBM) +\n",
            "\t 0.17148 * (10 averaged models Lvl_0_Pipe_1_Mod_2_CatBoost) +\n",
            "\t 0.32217 * (10 averaged models Lvl_0_Pipe_1_Mod_3_Tuned_CatBoost) \n",
            "\n",
            "[16:31:44] ==================================================\n",
            "[16:31:44] Blending: optimization starts with equal weights and score \u001b[1m-0.12069609389578478\u001b[0m\n",
            "[16:31:44] Blending: iteration \u001b[1m0\u001b[0m: score = \u001b[1m-0.12067949357852112\u001b[0m, weights = \u001b[1m[0.29008055 0.23994726 0.2637795  0.20619273]\u001b[0m\n",
            "[16:31:44] Blending: iteration \u001b[1m1\u001b[0m: score = \u001b[1m-0.1206793750490588\u001b[0m, weights = \u001b[1m[0.28648317 0.24010044 0.2657126  0.2077038 ]\u001b[0m\n",
            "[16:31:44] Blending: iteration \u001b[1m2\u001b[0m: score = \u001b[1m-0.1206793770471792\u001b[0m, weights = \u001b[1m[0.2868342  0.23999351 0.26556093 0.20761131]\u001b[0m\n",
            "[16:31:44] Blending: iteration \u001b[1m3\u001b[0m: score = \u001b[1m-0.1206793770471792\u001b[0m, weights = \u001b[1m[0.2868342  0.23999351 0.26556093 0.20761131]\u001b[0m\n",
            "[16:31:44] Blending: no score update. Terminated\n",
            "\n"
          ]
        }
      ]
    },
    {
      "cell_type": "code",
      "source": [
        "# Структура модели\n",
        "print(automl_2.create_model_str_desc())\n"
      ],
      "metadata": {
        "colab": {
          "base_uri": "https://localhost:8080/"
        },
        "id": "LMAi_lrO6FDw",
        "outputId": "1eaff11c-687d-454a-cec9-ddfa91b9a623"
      },
      "execution_count": null,
      "outputs": [
        {
          "output_type": "stream",
          "name": "stdout",
          "text": [
            "Final prediction for new objects = \n",
            "\t0.23194 * 1 averaged models with config = \"conf_0_sel_type_0.yml\" and different CV random_states. Their structures: \n",
            "\n",
            "\t    Model #0.\n",
            "\t\t================================================================================\n",
            "\t\tModels on level 0:\n",
            "\t\t\t 10 averaged models Lvl_0_Pipe_0_Mod_0_LinearL2\n",
            "\t\t\t 10 averaged models Lvl_0_Pipe_1_Mod_0_LightGBM\n",
            "\t\t\t 10 averaged models Lvl_0_Pipe_1_Mod_1_CatBoost\n",
            "\n",
            "\t\tFinal prediction for new objects (level 1) = \n",
            "\t\t\t 0.69292 * (10 averaged models Lvl_1_Pipe_0_Mod_0_Tuned_LightGBM) +\n",
            "\t\t\t 0.30708 * (10 averaged models Lvl_1_Pipe_0_Mod_1_Tuned_CatBoost) \n",
            "\t\t================================================================================\n",
            "\n",
            "\n",
            "\t+ 0.23287 * 1 averaged models with config = \"conf_1_sel_type_1.yml\" and different CV random_states. Their structures: \n",
            "\n",
            "\t    Model #0.\n",
            "\t\t================================================================================\n",
            "\t\tModels on level 0:\n",
            "\t\t\t 10 averaged models Lvl_0_Pipe_0_Mod_0_LinearL2\n",
            "\t\t\t 10 averaged models Lvl_0_Pipe_1_Mod_0_LightGBM\n",
            "\t\t\t 10 averaged models Lvl_0_Pipe_1_Mod_1_CatBoost\n",
            "\n",
            "\t\tFinal prediction for new objects (level 1) = \n",
            "\t\t\t 0.37041 * (10 averaged models Lvl_1_Pipe_0_Mod_0_Tuned_LightGBM) +\n",
            "\t\t\t 0.62959 * (10 averaged models Lvl_1_Pipe_0_Mod_1_Tuned_CatBoost) \n",
            "\t\t================================================================================\n",
            "\n",
            "\n",
            "\t+ 0.45103 * 1 averaged models with config = \"conf_2_select_mode_1_no_typ.yml\" and different CV random_states. Their structures: \n",
            "\n",
            "\t    Model #0.\n",
            "\t\t================================================================================\n",
            "\t\tModels on level 0:\n",
            "\t\t\t 10 averaged models Lvl_0_Pipe_0_Mod_0_LinearL2\n",
            "\t\t\t 10 averaged models Lvl_0_Pipe_1_Mod_0_LightGBM\n",
            "\t\t\t 10 averaged models Lvl_0_Pipe_1_Mod_1_CatBoost\n",
            "\n",
            "\t\tFinal prediction for new objects (level 1) = \n",
            "\t\t\t 0.27472 * (10 averaged models Lvl_1_Pipe_0_Mod_0_Tuned_LightGBM) +\n",
            "\t\t\t 0.72528 * (10 averaged models Lvl_1_Pipe_0_Mod_1_Tuned_CatBoost) \n",
            "\t\t================================================================================\n",
            "\n",
            "\n",
            "\t+ 0.08416 * 1 averaged models with config = \"conf_3_sel_type_1_no_inter_lgbm.yml\" and different CV random_states. Their structures: \n",
            "\n",
            "\t    Model #0.\n",
            "\t\t================================================================================\n",
            "\t\tModels on level 0:\n",
            "\t\t\t 10 averaged models Lvl_0_Pipe_0_Mod_0_LinearL2\n",
            "\t\t\t 10 averaged models Lvl_0_Pipe_1_Mod_0_LightGBM\n",
            "\t\t\t 10 averaged models Lvl_0_Pipe_1_Mod_1_CatBoost\n",
            "\n",
            "\t\tFinal prediction for new objects (level 1) = \n",
            "\t\t\t 0.26575 * (10 averaged models Lvl_1_Pipe_0_Mod_0_Tuned_LightGBM) +\n",
            "\t\t\t 0.73425 * (10 averaged models Lvl_1_Pipe_0_Mod_1_Tuned_CatBoost) \n",
            "\t\t================================================================================\n",
            "\n",
            "\n",
            "\n"
          ]
        }
      ]
    },
    {
      "cell_type": "code",
      "source": [
        "oof_pred_exp_2 = np.exp(oof_pred_2.data[:, 0])\n",
        "\n",
        "mean_absolute_percentage_error(np.exp(X_train_log['price_log']), oof_pred_exp_2)"
      ],
      "metadata": {
        "colab": {
          "base_uri": "https://localhost:8080/"
        },
        "id": "XABBKWjU6Uv-",
        "outputId": "0593b5c2-b393-494c-eae9-fee49be6875a"
      },
      "execution_count": 60,
      "outputs": [
        {
          "output_type": "execute_result",
          "data": {
            "text/plain": [
              "0.11766588655896024"
            ]
          },
          "metadata": {},
          "execution_count": 60
        }
      ]
    },
    {
      "cell_type": "code",
      "source": [
        "oof_pred_exp_2 = np.exp(oof_pred_2.data[:, 0])\n",
        "\n",
        "mean_absolute_percentage_error(np.exp(X_train_log['price_log']), oof_pred_exp_2)"
      ],
      "metadata": {
        "colab": {
          "base_uri": "https://localhost:8080/"
        },
        "id": "rCgmNUoXDvsK",
        "outputId": "11c58b91-824b-4940-966a-666f71777240"
      },
      "execution_count": null,
      "outputs": [
        {
          "output_type": "execute_result",
          "data": {
            "text/plain": [
              "0.11478351257796071"
            ]
          },
          "metadata": {},
          "execution_count": 68
        }
      ]
    },
    {
      "cell_type": "code",
      "source": [
        "fast_fi_2 = automl_2.get_feature_scores('fast')\n",
        "fast_fi_2[:15].set_index('Feature')['Importance'].plot.bar(figsize=(20, 7), grid=True)"
      ],
      "metadata": {
        "colab": {
          "base_uri": "https://localhost:8080/",
          "height": 553
        },
        "id": "FiCc59yE6oSs",
        "outputId": "d59008ff-6238-4081-bd87-29c711aa9dcf"
      },
      "execution_count": 61,
      "outputs": [
        {
          "output_type": "execute_result",
          "data": {
            "text/plain": [
              "<matplotlib.axes._subplots.AxesSubplot at 0x7f478684bb10>"
            ]
          },
          "metadata": {},
          "execution_count": 61
        },
        {
          "output_type": "display_data",
          "data": {
            "text/plain": [
              "<Figure size 1440x504 with 1 Axes>"
            ],
            "image/png": "[encoded data removed]"
          },
          "metadata": {
            "needs_background": "light"
          }
        }
      ]
    },
    {
      "cell_type": "markdown",
      "source": [
        "## Предсказание"
      ],
      "metadata": {
        "id": "Ju2z_VGmsVhj"
      }
    },
    {
      "cell_type": "code",
      "source": [
        "# предсказываем результат \n",
        "y_test_predict = automl_2.predict(X_test)"
      ],
      "metadata": {
        "id": "qt83DpV7s05x"
      },
      "execution_count": 62,
      "outputs": []
    },
    {
      "cell_type": "code",
      "source": [
        "y_test_predict.data[:,0]"
      ],
      "metadata": {
        "id": "_2ehvahYz-66",
        "colab": {
          "base_uri": "https://localhost:8080/"
        },
        "outputId": "a3a89515-e2e1-4ea4-f13e-ca3773360060"
      },
      "execution_count": 63,
      "outputs": [
        {
          "output_type": "execute_result",
          "data": {
            "text/plain": [
              "array([13.277322, 14.762826, 13.398691, ..., 14.20237 , 13.875712,\n",
              "       13.940663], dtype=float32)"
            ]
          },
          "metadata": {},
          "execution_count": 63
        }
      ]
    },
    {
      "cell_type": "code",
      "source": [
        "y_test_predict = np.exp(y_test_predict.data[:,0])"
      ],
      "metadata": {
        "id": "EOvOPieatP5j"
      },
      "execution_count": 64,
      "outputs": []
    },
    {
      "cell_type": "code",
      "source": [
        "submission = pd.read_csv(path_data+'sample_submission.csv')\n",
        "submission['price'] = y_test_predict\n",
        "submission.to_csv(path_data+'sample_submission_AutoML.csv', index=False)"
      ],
      "metadata": {
        "id": "COtBJyy2s9o6"
      },
      "execution_count": 65,
      "outputs": []
    },
    {
      "cell_type": "code",
      "source": [
        "submission"
      ],
      "metadata": {
        "colab": {
          "base_uri": "https://localhost:8080/",
          "height": 423
        },
        "id": "PzKNhaer6zII",
        "outputId": "990ad086-f0ea-45ec-ba65-f66292be8a88"
      },
      "execution_count": 66,
      "outputs": [
        {
          "output_type": "execute_result",
          "data": {
            "text/plain": [
              "         sell_id      price\n",
              "0     1099427284  583804.75\n",
              "1     1096405886 2578777.25\n",
              "2     1100195294  659140.00\n",
              "3     1099827282  470596.38\n",
              "4     1100076198 2473368.00\n",
              "...          ...        ...\n",
              "1666  1099414488  937215.56\n",
              "1667  1099277058 2241442.25\n",
              "1668  1098773964 1472349.12\n",
              "1669  1098835932 1062051.00\n",
              "1670  1099834690 1133321.50\n",
              "\n",
              "[1671 rows x 2 columns]"
            ],
            "text/html": [
              "\n",
              "  <div id=\"df-213fedd9-a51d-4a4f-97f9-30492124f5b8\">\n",
              "    <div class=\"colab-df-container\">\n",
              "      <div>\n",
              "<style scoped>\n",
              "    .dataframe tbody tr th:only-of-type {\n",
              "        vertical-align: middle;\n",
              "    }\n",
              "\n",
              "    .dataframe tbody tr th {\n",
              "        vertical-align: top;\n",
              "    }\n",
              "\n",
              "    .dataframe thead th {\n",
              "        text-align: right;\n",
              "    }\n",
              "</style>\n",
              "<table border=\"1\" class=\"dataframe\">\n",
              "  <thead>\n",
              "    <tr style=\"text-align: right;\">\n",
              "      <th></th>\n",
              "      <th>sell_id</th>\n",
              "      <th>price</th>\n",
              "    </tr>\n",
              "  </thead>\n",
              "  <tbody>\n",
              "    <tr>\n",
              "      <th>0</th>\n",
              "      <td>1099427284</td>\n",
              "      <td>583804.75</td>\n",
              "    </tr>\n",
              "    <tr>\n",
              "      <th>1</th>\n",
              "      <td>1096405886</td>\n",
              "      <td>2578777.25</td>\n",
              "    </tr>\n",
              "    <tr>\n",
              "      <th>2</th>\n",
              "      <td>1100195294</td>\n",
              "      <td>659140.00</td>\n",
              "    </tr>\n",
              "    <tr>\n",
              "      <th>3</th>\n",
              "      <td>1099827282</td>\n",
              "      <td>470596.38</td>\n",
              "    </tr>\n",
              "    <tr>\n",
              "      <th>4</th>\n",
              "      <td>1100076198</td>\n",
              "      <td>2473368.00</td>\n",
              "    </tr>\n",
              "    <tr>\n",
              "      <th>...</th>\n",
              "      <td>...</td>\n",
              "      <td>...</td>\n",
              "    </tr>\n",
              "    <tr>\n",
              "      <th>1666</th>\n",
              "      <td>1099414488</td>\n",
              "      <td>937215.56</td>\n",
              "    </tr>\n",
              "    <tr>\n",
              "      <th>1667</th>\n",
              "      <td>1099277058</td>\n",
              "      <td>2241442.25</td>\n",
              "    </tr>\n",
              "    <tr>\n",
              "      <th>1668</th>\n",
              "      <td>1098773964</td>\n",
              "      <td>1472349.12</td>\n",
              "    </tr>\n",
              "    <tr>\n",
              "      <th>1669</th>\n",
              "      <td>1098835932</td>\n",
              "      <td>1062051.00</td>\n",
              "    </tr>\n",
              "    <tr>\n",
              "      <th>1670</th>\n",
              "      <td>1099834690</td>\n",
              "      <td>1133321.50</td>\n",
              "    </tr>\n",
              "  </tbody>\n",
              "</table>\n",
              "<p>1671 rows × 2 columns</p>\n",
              "</div>\n",
              "      <button class=\"colab-df-convert\" onclick=\"convertToInteractive('df-213fedd9-a51d-4a4f-97f9-30492124f5b8')\"\n",
              "              title=\"Convert this dataframe to an interactive table.\"\n",
              "              style=\"display:none;\">\n",
              "        \n",
              "  <svg xmlns=\"http://www.w3.org/2000/svg\" height=\"24px\"viewBox=\"0 0 24 24\"\n",
              "       width=\"24px\">\n",
              "    <path d=\"M0 0h24v24H0V0z\" fill=\"none\"/>\n",
              "    <path d=\"M18.56 5.44l.94 2.06.94-2.06 2.06-.94-2.06-.94-.94-2.06-.94 2.06-2.06.94zm-11 1L8.5 8.5l.94-2.06 2.06-.94-2.06-.94L8.5 2.5l-.94 2.06-2.06.94zm10 10l.94 2.06.94-2.06 2.06-.94-2.06-.94-.94-2.06-.94 2.06-2.06.94z\"/><path d=\"M17.41 7.96l-1.37-1.37c-.4-.4-.92-.59-1.43-.59-.52 0-1.04.2-1.43.59L10.3 9.45l-7.72 7.72c-.78.78-.78 2.05 0 2.83L4 21.41c.39.39.9.59 1.41.59.51 0 1.02-.2 1.41-.59l7.78-7.78 2.81-2.81c.8-.78.8-2.07 0-2.86zM5.41 20L4 18.59l7.72-7.72 1.47 1.35L5.41 20z\"/>\n",
              "  </svg>\n",
              "      </button>\n",
              "      \n",
              "  <style>\n",
              "    .colab-df-container {\n",
              "      display:flex;\n",
              "      flex-wrap:wrap;\n",
              "      gap: 12px;\n",
              "    }\n",
              "\n",
              "    .colab-df-convert {\n",
              "      background-color: #E8F0FE;\n",
              "      border: none;\n",
              "      border-radius: 50%;\n",
              "      cursor: pointer;\n",
              "      display: none;\n",
              "      fill: #1967D2;\n",
              "      height: 32px;\n",
              "      padding: 0 0 0 0;\n",
              "      width: 32px;\n",
              "    }\n",
              "\n",
              "    .colab-df-convert:hover {\n",
              "      background-color: #E2EBFA;\n",
              "      box-shadow: 0px 1px 2px rgba(60, 64, 67, 0.3), 0px 1px 3px 1px rgba(60, 64, 67, 0.15);\n",
              "      fill: #174EA6;\n",
              "    }\n",
              "\n",
              "    [theme=dark] .colab-df-convert {\n",
              "      background-color: #3B4455;\n",
              "      fill: #D2E3FC;\n",
              "    }\n",
              "\n",
              "    [theme=dark] .colab-df-convert:hover {\n",
              "      background-color: #434B5C;\n",
              "      box-shadow: 0px 1px 3px 1px rgba(0, 0, 0, 0.15);\n",
              "      filter: drop-shadow(0px 1px 2px rgba(0, 0, 0, 0.3));\n",
              "      fill: #FFFFFF;\n",
              "    }\n",
              "  </style>\n",
              "\n",
              "      <script>\n",
              "        const buttonEl =\n",
              "          document.querySelector('#df-213fedd9-a51d-4a4f-97f9-30492124f5b8 button.colab-df-convert');\n",
              "        buttonEl.style.display =\n",
              "          google.colab.kernel.accessAllowed ? 'block' : 'none';\n",
              "\n",
              "        async function convertToInteractive(key) {\n",
              "          const element = document.querySelector('#df-213fedd9-a51d-4a4f-97f9-30492124f5b8');\n",
              "          const dataTable =\n",
              "            await google.colab.kernel.invokeFunction('convertToInteractive',\n",
              "                                                     [key], {});\n",
              "          if (!dataTable) return;\n",
              "\n",
              "          const docLinkHtml = 'Like what you see? Visit the ' +\n",
              "            '<a target=\"_blank\" href=https://colab.research.google.com/notebooks/data_table.ipynb>data table notebook</a>'\n",
              "            + ' to learn more about interactive tables.';\n",
              "          element.innerHTML = '';\n",
              "          dataTable['output_type'] = 'display_data';\n",
              "          await google.colab.output.renderOutput(dataTable, element);\n",
              "          const docLink = document.createElement('div');\n",
              "          docLink.innerHTML = docLinkHtml;\n",
              "          element.appendChild(docLink);\n",
              "        }\n",
              "      </script>\n",
              "    </div>\n",
              "  </div>\n",
              "  "
            ]
          },
          "metadata": {},
          "execution_count": 66
        }
      ]
    },
    {
      "cell_type": "code",
      "source": [
        "submission"
      ],
      "metadata": {
        "id": "BDcA4EjC0dm3",
        "colab": {
          "base_uri": "https://localhost:8080/",
          "height": 423
        },
        "outputId": "237789ff-5d02-47af-85c0-a5cdc15381d0"
      },
      "execution_count": null,
      "outputs": [
        {
          "output_type": "execute_result",
          "data": {
            "text/plain": [
              "         sell_id      price\n",
              "0     1099427284  589983.81\n",
              "1     1096405886 2680391.75\n",
              "2     1100195294  686300.38\n",
              "3     1099827282  521176.03\n",
              "4     1100076198 2579869.75\n",
              "...          ...        ...\n",
              "1666  1099414488  964937.38\n",
              "1667  1099277058 2385286.25\n",
              "1668  1098773964 1452259.38\n",
              "1669  1098835932 1035648.31\n",
              "1670  1099834690 1060962.62\n",
              "\n",
              "[1671 rows x 2 columns]"
            ],
            "text/html": [
              "\n",
              "  <div id=\"df-b239734f-b648-456f-b604-2e13772b391b\">\n",
              "    <div class=\"colab-df-container\">\n",
              "      <div>\n",
              "<style scoped>\n",
              "    .dataframe tbody tr th:only-of-type {\n",
              "        vertical-align: middle;\n",
              "    }\n",
              "\n",
              "    .dataframe tbody tr th {\n",
              "        vertical-align: top;\n",
              "    }\n",
              "\n",
              "    .dataframe thead th {\n",
              "        text-align: right;\n",
              "    }\n",
              "</style>\n",
              "<table border=\"1\" class=\"dataframe\">\n",
              "  <thead>\n",
              "    <tr style=\"text-align: right;\">\n",
              "      <th></th>\n",
              "      <th>sell_id</th>\n",
              "      <th>price</th>\n",
              "    </tr>\n",
              "  </thead>\n",
              "  <tbody>\n",
              "    <tr>\n",
              "      <th>0</th>\n",
              "      <td>1099427284</td>\n",
              "      <td>589983.81</td>\n",
              "    </tr>\n",
              "    <tr>\n",
              "      <th>1</th>\n",
              "      <td>1096405886</td>\n",
              "      <td>2680391.75</td>\n",
              "    </tr>\n",
              "    <tr>\n",
              "      <th>2</th>\n",
              "      <td>1100195294</td>\n",
              "      <td>686300.38</td>\n",
              "    </tr>\n",
              "    <tr>\n",
              "      <th>3</th>\n",
              "      <td>1099827282</td>\n",
              "      <td>521176.03</td>\n",
              "    </tr>\n",
              "    <tr>\n",
              "      <th>4</th>\n",
              "      <td>1100076198</td>\n",
              "      <td>2579869.75</td>\n",
              "    </tr>\n",
              "    <tr>\n",
              "      <th>...</th>\n",
              "      <td>...</td>\n",
              "      <td>...</td>\n",
              "    </tr>\n",
              "    <tr>\n",
              "      <th>1666</th>\n",
              "      <td>1099414488</td>\n",
              "      <td>964937.38</td>\n",
              "    </tr>\n",
              "    <tr>\n",
              "      <th>1667</th>\n",
              "      <td>1099277058</td>\n",
              "      <td>2385286.25</td>\n",
              "    </tr>\n",
              "    <tr>\n",
              "      <th>1668</th>\n",
              "      <td>1098773964</td>\n",
              "      <td>1452259.38</td>\n",
              "    </tr>\n",
              "    <tr>\n",
              "      <th>1669</th>\n",
              "      <td>1098835932</td>\n",
              "      <td>1035648.31</td>\n",
              "    </tr>\n",
              "    <tr>\n",
              "      <th>1670</th>\n",
              "      <td>1099834690</td>\n",
              "      <td>1060962.62</td>\n",
              "    </tr>\n",
              "  </tbody>\n",
              "</table>\n",
              "<p>1671 rows × 2 columns</p>\n",
              "</div>\n",
              "      <button class=\"colab-df-convert\" onclick=\"convertToInteractive('df-b239734f-b648-456f-b604-2e13772b391b')\"\n",
              "              title=\"Convert this dataframe to an interactive table.\"\n",
              "              style=\"display:none;\">\n",
              "        \n",
              "  <svg xmlns=\"http://www.w3.org/2000/svg\" height=\"24px\"viewBox=\"0 0 24 24\"\n",
              "       width=\"24px\">\n",
              "    <path d=\"M0 0h24v24H0V0z\" fill=\"none\"/>\n",
              "    <path d=\"M18.56 5.44l.94 2.06.94-2.06 2.06-.94-2.06-.94-.94-2.06-.94 2.06-2.06.94zm-11 1L8.5 8.5l.94-2.06 2.06-.94-2.06-.94L8.5 2.5l-.94 2.06-2.06.94zm10 10l.94 2.06.94-2.06 2.06-.94-2.06-.94-.94-2.06-.94 2.06-2.06.94z\"/><path d=\"M17.41 7.96l-1.37-1.37c-.4-.4-.92-.59-1.43-.59-.52 0-1.04.2-1.43.59L10.3 9.45l-7.72 7.72c-.78.78-.78 2.05 0 2.83L4 21.41c.39.39.9.59 1.41.59.51 0 1.02-.2 1.41-.59l7.78-7.78 2.81-2.81c.8-.78.8-2.07 0-2.86zM5.41 20L4 18.59l7.72-7.72 1.47 1.35L5.41 20z\"/>\n",
              "  </svg>\n",
              "      </button>\n",
              "      \n",
              "  <style>\n",
              "    .colab-df-container {\n",
              "      display:flex;\n",
              "      flex-wrap:wrap;\n",
              "      gap: 12px;\n",
              "    }\n",
              "\n",
              "    .colab-df-convert {\n",
              "      background-color: #E8F0FE;\n",
              "      border: none;\n",
              "      border-radius: 50%;\n",
              "      cursor: pointer;\n",
              "      display: none;\n",
              "      fill: #1967D2;\n",
              "      height: 32px;\n",
              "      padding: 0 0 0 0;\n",
              "      width: 32px;\n",
              "    }\n",
              "\n",
              "    .colab-df-convert:hover {\n",
              "      background-color: #E2EBFA;\n",
              "      box-shadow: 0px 1px 2px rgba(60, 64, 67, 0.3), 0px 1px 3px 1px rgba(60, 64, 67, 0.15);\n",
              "      fill: #174EA6;\n",
              "    }\n",
              "\n",
              "    [theme=dark] .colab-df-convert {\n",
              "      background-color: #3B4455;\n",
              "      fill: #D2E3FC;\n",
              "    }\n",
              "\n",
              "    [theme=dark] .colab-df-convert:hover {\n",
              "      background-color: #434B5C;\n",
              "      box-shadow: 0px 1px 3px 1px rgba(0, 0, 0, 0.15);\n",
              "      filter: drop-shadow(0px 1px 2px rgba(0, 0, 0, 0.3));\n",
              "      fill: #FFFFFF;\n",
              "    }\n",
              "  </style>\n",
              "\n",
              "      <script>\n",
              "        const buttonEl =\n",
              "          document.querySelector('#df-b239734f-b648-456f-b604-2e13772b391b button.colab-df-convert');\n",
              "        buttonEl.style.display =\n",
              "          google.colab.kernel.accessAllowed ? 'block' : 'none';\n",
              "\n",
              "        async function convertToInteractive(key) {\n",
              "          const element = document.querySelector('#df-b239734f-b648-456f-b604-2e13772b391b');\n",
              "          const dataTable =\n",
              "            await google.colab.kernel.invokeFunction('convertToInteractive',\n",
              "                                                     [key], {});\n",
              "          if (!dataTable) return;\n",
              "\n",
              "          const docLinkHtml = 'Like what you see? Visit the ' +\n",
              "            '<a target=\"_blank\" href=https://colab.research.google.com/notebooks/data_table.ipynb>data table notebook</a>'\n",
              "            + ' to learn more about interactive tables.';\n",
              "          element.innerHTML = '';\n",
              "          dataTable['output_type'] = 'display_data';\n",
              "          await google.colab.output.renderOutput(dataTable, element);\n",
              "          const docLink = document.createElement('div');\n",
              "          docLink.innerHTML = docLinkHtml;\n",
              "          element.appendChild(docLink);\n",
              "        }\n",
              "      </script>\n",
              "    </div>\n",
              "  </div>\n",
              "  "
            ]
          },
          "metadata": {},
          "execution_count": 31
        }
      ]
    },
    {
      "cell_type": "code",
      "source": [
        "sns.histplot(submission['price'])"
      ],
      "metadata": {
        "id": "t2CtY1EdhyQn",
        "colab": {
          "base_uri": "https://localhost:8080/",
          "height": 297
        },
        "outputId": "30d62b13-a15a-4f73-fe29-3eb3c2e2d0dd"
      },
      "execution_count": null,
      "outputs": [
        {
          "output_type": "execute_result",
          "data": {
            "text/plain": [
              "<matplotlib.axes._subplots.AxesSubplot at 0x7f1724c31f10>"
            ]
          },
          "metadata": {},
          "execution_count": 32
        },
        {
          "output_type": "display_data",
          "data": {
            "text/plain": [
              "<Figure size 432x288 with 1 Axes>"
            ],
            "image/png": "[encoded data removed]"
          },
          "metadata": {
            "needs_background": "light"
          }
        }
      ]
    }
  ]
}