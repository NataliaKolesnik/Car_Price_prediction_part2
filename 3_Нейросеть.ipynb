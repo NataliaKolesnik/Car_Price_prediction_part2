{
  "nbformat": 4,
  "nbformat_minor": 0,
  "metadata": {
    "colab": {
      "name": "3_Нейросеть.ipynb",
      "provenance": [],
      "collapsed_sections": [],
      "authorship_tag": "ABX9TyOeUy7uljy185NlLJaAind1",
      "include_colab_link": true
    },
    "kernelspec": {
      "name": "python3",
      "display_name": "Python 3"
    },
    "language_info": {
      "name": "python"
    }
  },
  "cells": [
    {
      "cell_type": "markdown",
      "metadata": {
        "id": "view-in-github",
        "colab_type": "text"
      },
      "source": [
        "<a href=\"https://colab.research.google.com/github/NataliaKolesnik/Car_Price_prediction_part2/blob/master/3_%D0%9D%D0%B5%D0%B9%D1%80%D0%BE%D1%81%D0%B5%D1%82%D1%8C.ipynb\" target=\"_parent\"><img src=\"https://colab.research.google.com/assets/colab-badge.svg\" alt=\"Open In Colab\"/></a>"
      ]
    },
    {
      "cell_type": "code",
      "execution_count": 11,
      "metadata": {
        "id": "lUVPu9JgMAWX",
        "colab": {
          "base_uri": "https://localhost:8080/"
        },
        "outputId": "632aa339-cf19-4e6d-bee0-dc241fb313ae"
      },
      "outputs": [
        {
          "output_type": "stream",
          "name": "stdout",
          "text": [
            "Drive already mounted at /content/drive/; to attempt to forcibly remount, call drive.mount(\"/content/drive/\", force_remount=True).\n"
          ]
        }
      ],
      "source": [
        "from google.colab import drive\n",
        "drive.mount('/content/drive/')"
      ]
    },
    {
      "cell_type": "code",
      "source": [
        "!pip install pymorphy2"
      ],
      "metadata": {
        "colab": {
          "base_uri": "https://localhost:8080/"
        },
        "id": "0r8IsdvufOOs",
        "outputId": "d01fe13b-9a21-49b9-bcae-5039a1c1f07d"
      },
      "execution_count": 36,
      "outputs": [
        {
          "output_type": "stream",
          "name": "stdout",
          "text": [
            "Looking in indexes: https://pypi.org/simple, https://us-python.pkg.dev/colab-wheels/public/simple/\n",
            "Collecting pymorphy2\n",
            "  Downloading pymorphy2-0.9.1-py3-none-any.whl (55 kB)\n",
            "\u001b[K     |████████████████████████████████| 55 kB 3.0 MB/s \n",
            "\u001b[?25hCollecting pymorphy2-dicts-ru<3.0,>=2.4\n",
            "  Downloading pymorphy2_dicts_ru-2.4.417127.4579844-py2.py3-none-any.whl (8.2 MB)\n",
            "\u001b[K     |████████████████████████████████| 8.2 MB 10.3 MB/s \n",
            "\u001b[?25hRequirement already satisfied: docopt>=0.6 in /usr/local/lib/python3.7/dist-packages (from pymorphy2) (0.6.2)\n",
            "Collecting dawg-python>=0.7.1\n",
            "  Downloading DAWG_Python-0.7.2-py2.py3-none-any.whl (11 kB)\n",
            "Installing collected packages: pymorphy2-dicts-ru, dawg-python, pymorphy2\n",
            "Successfully installed dawg-python-0.7.2 pymorphy2-0.9.1 pymorphy2-dicts-ru-2.4.417127.4579844\n"
          ]
        }
      ]
    },
    {
      "cell_type": "code",
      "source": [
        "!pip install -U pymorphy2-dicts-ru"
      ],
      "metadata": {
        "colab": {
          "base_uri": "https://localhost:8080/"
        },
        "id": "izwFUbUifZ04",
        "outputId": "f1785acd-4ded-45a8-9ba7-12d0f74cdf2d"
      },
      "execution_count": 37,
      "outputs": [
        {
          "output_type": "stream",
          "name": "stdout",
          "text": [
            "Looking in indexes: https://pypi.org/simple, https://us-python.pkg.dev/colab-wheels/public/simple/\n",
            "Requirement already satisfied: pymorphy2-dicts-ru in /usr/local/lib/python3.7/dist-packages (2.4.417127.4579844)\n"
          ]
        }
      ]
    },
    {
      "cell_type": "code",
      "source": [
        "path_data = '/content/drive/MyDrive/SF_project_8/data/'"
      ],
      "metadata": {
        "id": "kxZ5dWUTQWeP"
      },
      "execution_count": 12,
      "outputs": []
    },
    {
      "cell_type": "markdown",
      "source": [
        "##Библиотеки"
      ],
      "metadata": {
        "id": "tTq99THhQcPG"
      }
    },
    {
      "cell_type": "code",
      "source": [
        "import pandas as pd\n",
        "import numpy as np\n",
        "import re\n",
        "import matplotlib.pyplot as plt\n",
        "import seaborn as sns\n",
        "\n",
        "from sklearn.preprocessing import MinMaxScaler\n",
        "from sklearn.model_selection import train_test_split\n",
        "from sklearn.metrics import mean_absolute_percentage_error\n",
        "\n",
        "import pymorphy2 "
      ],
      "metadata": {
        "id": "nDrjHGgGQZGA"
      },
      "execution_count": 40,
      "outputs": []
    },
    {
      "cell_type": "code",
      "source": [
        "pd.set_option('display.float_format', '{:.2f}'.format)\n",
        "\n",
        "SEED = 73"
      ],
      "metadata": {
        "id": "_P6uIRWaROsB"
      },
      "execution_count": 14,
      "outputs": []
    },
    {
      "cell_type": "markdown",
      "source": [
        "## Загрузка и подготовка данных для обучения"
      ],
      "metadata": {
        "id": "UNh0vHL0R9IH"
      }
    },
    {
      "cell_type": "code",
      "source": [
        "df_train = pd.read_csv(path_data+'train_for_ML.csv')\n",
        "df_test = pd.read_csv(path_data+'test_for_ML.csv')"
      ],
      "metadata": {
        "id": "d7UOXpmzR28x"
      },
      "execution_count": 15,
      "outputs": []
    },
    {
      "cell_type": "code",
      "source": [
        "# Списки с признаками\n",
        "\n",
        "categorical_features = ['bodyType', 'brand', 'color_littel', 'fuelType_littel', 'model_info',\n",
        "                        'vehicleTransmission', 'ПТС', 'Привод', ]\n",
        "\n",
        "numerical_features = ['mileage', 'age_avto', 'engineDisplacement', 'enginePower_log', 'numberOfDoors', 'Владельцы']\n",
        "\n",
        "text_features = ['description']\n",
        "\n",
        "target = 'price'\n",
        "target_log = 'price_log'"
      ],
      "metadata": {
        "id": "VhO134Y7R3Jy"
      },
      "execution_count": 16,
      "outputs": []
    },
    {
      "cell_type": "code",
      "source": [
        "# Добавим признак - разделитель для обучающего и тестового датасета \n",
        "df_train['sample'] = 1\n",
        "df_test['sample'] = 0\n",
        "df_test['price'] = 0"
      ],
      "metadata": {
        "id": "DjDqoaycQx2F"
      },
      "execution_count": 17,
      "outputs": []
    },
    {
      "cell_type": "code",
      "source": [
        "# объединим данные в один датасет для совместной дообработки признаков\n",
        "df_join = pd.concat([df_train[numerical_features + categorical_features + text_features + [target, 'sample'] ],\n",
        "                     df_test[numerical_features + categorical_features + text_features + [target, 'sample'] ]])"
      ],
      "metadata": {
        "id": "m5sbCT6gX_Qo"
      },
      "execution_count": 18,
      "outputs": []
    },
    {
      "cell_type": "code",
      "source": [
        "df_join.head(3)"
      ],
      "metadata": {
        "colab": {
          "base_uri": "https://localhost:8080/",
          "height": 398
        },
        "id": "ix3QG1U1WAIK",
        "outputId": "5586780a-0f52-48b9-a0c5-16aa1b09b701"
      },
      "execution_count": 19,
      "outputs": [
        {
          "output_type": "execute_result",
          "data": {
            "text/plain": [
              "   mileage  age_avto  engineDisplacement  enginePower_log  numberOfDoors  \\\n",
              "0   245000        14                3.00             5.61              4   \n",
              "1   183000        10                2.80             5.32              4   \n",
              "2   122733         8                3.50             5.72              4   \n",
              "\n",
              "   Владельцы bodyType     brand color_littel fuelType_littel model_info  \\\n",
              "0          3    седан       BMW       чёрный          бензин        5ER   \n",
              "1          2    седан      AUDI        серый          бензин         A6   \n",
              "2          3    седан  MERCEDES       чёрный          бензин   E_KLASSE   \n",
              "\n",
              "  vehicleTransmission       ПТС    Привод  \\\n",
              "0      автоматическая  Оригинал    полный   \n",
              "1            вариатор  Оригинал  передний   \n",
              "2      автоматическая  Оригинал    полный   \n",
              "\n",
              "                                         description      price  sample  \n",
              "0  Авто на бодром ходу.  Все работает отлично.  П...  599000.00       1  \n",
              "1  Продажа от собственника, второй владелец, ПТС ...  850000.00       1  \n",
              "2  Внимание! Только для клиентов AVILON Автомобил... 1325000.00       1  "
            ],
            "text/html": [
              "\n",
              "  <div id=\"df-67b84f30-da11-42eb-9c74-f40481602c0a\">\n",
              "    <div class=\"colab-df-container\">\n",
              "      <div>\n",
              "<style scoped>\n",
              "    .dataframe tbody tr th:only-of-type {\n",
              "        vertical-align: middle;\n",
              "    }\n",
              "\n",
              "    .dataframe tbody tr th {\n",
              "        vertical-align: top;\n",
              "    }\n",
              "\n",
              "    .dataframe thead th {\n",
              "        text-align: right;\n",
              "    }\n",
              "</style>\n",
              "<table border=\"1\" class=\"dataframe\">\n",
              "  <thead>\n",
              "    <tr style=\"text-align: right;\">\n",
              "      <th></th>\n",
              "      <th>mileage</th>\n",
              "      <th>age_avto</th>\n",
              "      <th>engineDisplacement</th>\n",
              "      <th>enginePower_log</th>\n",
              "      <th>numberOfDoors</th>\n",
              "      <th>Владельцы</th>\n",
              "      <th>bodyType</th>\n",
              "      <th>brand</th>\n",
              "      <th>color_littel</th>\n",
              "      <th>fuelType_littel</th>\n",
              "      <th>model_info</th>\n",
              "      <th>vehicleTransmission</th>\n",
              "      <th>ПТС</th>\n",
              "      <th>Привод</th>\n",
              "      <th>description</th>\n",
              "      <th>price</th>\n",
              "      <th>sample</th>\n",
              "    </tr>\n",
              "  </thead>\n",
              "  <tbody>\n",
              "    <tr>\n",
              "      <th>0</th>\n",
              "      <td>245000</td>\n",
              "      <td>14</td>\n",
              "      <td>3.00</td>\n",
              "      <td>5.61</td>\n",
              "      <td>4</td>\n",
              "      <td>3</td>\n",
              "      <td>седан</td>\n",
              "      <td>BMW</td>\n",
              "      <td>чёрный</td>\n",
              "      <td>бензин</td>\n",
              "      <td>5ER</td>\n",
              "      <td>автоматическая</td>\n",
              "      <td>Оригинал</td>\n",
              "      <td>полный</td>\n",
              "      <td>Авто на бодром ходу.  Все работает отлично.  П...</td>\n",
              "      <td>599000.00</td>\n",
              "      <td>1</td>\n",
              "    </tr>\n",
              "    <tr>\n",
              "      <th>1</th>\n",
              "      <td>183000</td>\n",
              "      <td>10</td>\n",
              "      <td>2.80</td>\n",
              "      <td>5.32</td>\n",
              "      <td>4</td>\n",
              "      <td>2</td>\n",
              "      <td>седан</td>\n",
              "      <td>AUDI</td>\n",
              "      <td>серый</td>\n",
              "      <td>бензин</td>\n",
              "      <td>A6</td>\n",
              "      <td>вариатор</td>\n",
              "      <td>Оригинал</td>\n",
              "      <td>передний</td>\n",
              "      <td>Продажа от собственника, второй владелец, ПТС ...</td>\n",
              "      <td>850000.00</td>\n",
              "      <td>1</td>\n",
              "    </tr>\n",
              "    <tr>\n",
              "      <th>2</th>\n",
              "      <td>122733</td>\n",
              "      <td>8</td>\n",
              "      <td>3.50</td>\n",
              "      <td>5.72</td>\n",
              "      <td>4</td>\n",
              "      <td>3</td>\n",
              "      <td>седан</td>\n",
              "      <td>MERCEDES</td>\n",
              "      <td>чёрный</td>\n",
              "      <td>бензин</td>\n",
              "      <td>E_KLASSE</td>\n",
              "      <td>автоматическая</td>\n",
              "      <td>Оригинал</td>\n",
              "      <td>полный</td>\n",
              "      <td>Внимание! Только для клиентов AVILON Автомобил...</td>\n",
              "      <td>1325000.00</td>\n",
              "      <td>1</td>\n",
              "    </tr>\n",
              "  </tbody>\n",
              "</table>\n",
              "</div>\n",
              "      <button class=\"colab-df-convert\" onclick=\"convertToInteractive('df-67b84f30-da11-42eb-9c74-f40481602c0a')\"\n",
              "              title=\"Convert this dataframe to an interactive table.\"\n",
              "              style=\"display:none;\">\n",
              "        \n",
              "  <svg xmlns=\"http://www.w3.org/2000/svg\" height=\"24px\"viewBox=\"0 0 24 24\"\n",
              "       width=\"24px\">\n",
              "    <path d=\"M0 0h24v24H0V0z\" fill=\"none\"/>\n",
              "    <path d=\"M18.56 5.44l.94 2.06.94-2.06 2.06-.94-2.06-.94-.94-2.06-.94 2.06-2.06.94zm-11 1L8.5 8.5l.94-2.06 2.06-.94-2.06-.94L8.5 2.5l-.94 2.06-2.06.94zm10 10l.94 2.06.94-2.06 2.06-.94-2.06-.94-.94-2.06-.94 2.06-2.06.94z\"/><path d=\"M17.41 7.96l-1.37-1.37c-.4-.4-.92-.59-1.43-.59-.52 0-1.04.2-1.43.59L10.3 9.45l-7.72 7.72c-.78.78-.78 2.05 0 2.83L4 21.41c.39.39.9.59 1.41.59.51 0 1.02-.2 1.41-.59l7.78-7.78 2.81-2.81c.8-.78.8-2.07 0-2.86zM5.41 20L4 18.59l7.72-7.72 1.47 1.35L5.41 20z\"/>\n",
              "  </svg>\n",
              "      </button>\n",
              "      \n",
              "  <style>\n",
              "    .colab-df-container {\n",
              "      display:flex;\n",
              "      flex-wrap:wrap;\n",
              "      gap: 12px;\n",
              "    }\n",
              "\n",
              "    .colab-df-convert {\n",
              "      background-color: #E8F0FE;\n",
              "      border: none;\n",
              "      border-radius: 50%;\n",
              "      cursor: pointer;\n",
              "      display: none;\n",
              "      fill: #1967D2;\n",
              "      height: 32px;\n",
              "      padding: 0 0 0 0;\n",
              "      width: 32px;\n",
              "    }\n",
              "\n",
              "    .colab-df-convert:hover {\n",
              "      background-color: #E2EBFA;\n",
              "      box-shadow: 0px 1px 2px rgba(60, 64, 67, 0.3), 0px 1px 3px 1px rgba(60, 64, 67, 0.15);\n",
              "      fill: #174EA6;\n",
              "    }\n",
              "\n",
              "    [theme=dark] .colab-df-convert {\n",
              "      background-color: #3B4455;\n",
              "      fill: #D2E3FC;\n",
              "    }\n",
              "\n",
              "    [theme=dark] .colab-df-convert:hover {\n",
              "      background-color: #434B5C;\n",
              "      box-shadow: 0px 1px 3px 1px rgba(0, 0, 0, 0.15);\n",
              "      filter: drop-shadow(0px 1px 2px rgba(0, 0, 0, 0.3));\n",
              "      fill: #FFFFFF;\n",
              "    }\n",
              "  </style>\n",
              "\n",
              "      <script>\n",
              "        const buttonEl =\n",
              "          document.querySelector('#df-67b84f30-da11-42eb-9c74-f40481602c0a button.colab-df-convert');\n",
              "        buttonEl.style.display =\n",
              "          google.colab.kernel.accessAllowed ? 'block' : 'none';\n",
              "\n",
              "        async function convertToInteractive(key) {\n",
              "          const element = document.querySelector('#df-67b84f30-da11-42eb-9c74-f40481602c0a');\n",
              "          const dataTable =\n",
              "            await google.colab.kernel.invokeFunction('convertToInteractive',\n",
              "                                                     [key], {});\n",
              "          if (!dataTable) return;\n",
              "\n",
              "          const docLinkHtml = 'Like what you see? Visit the ' +\n",
              "            '<a target=\"_blank\" href=https://colab.research.google.com/notebooks/data_table.ipynb>data table notebook</a>'\n",
              "            + ' to learn more about interactive tables.';\n",
              "          element.innerHTML = '';\n",
              "          dataTable['output_type'] = 'display_data';\n",
              "          await google.colab.output.renderOutput(dataTable, element);\n",
              "          const docLink = document.createElement('div');\n",
              "          docLink.innerHTML = docLinkHtml;\n",
              "          element.appendChild(docLink);\n",
              "        }\n",
              "      </script>\n",
              "    </div>\n",
              "  </div>\n",
              "  "
            ]
          },
          "metadata": {},
          "execution_count": 19
        }
      ]
    },
    {
      "cell_type": "markdown",
      "source": [
        "## Работа с текстом в колонке description"
      ],
      "metadata": {
        "id": "MXsz_MiBE_WH"
      }
    },
    {
      "cell_type": "code",
      "source": [
        "df_join.description.iloc[15]"
      ],
      "metadata": {
        "colab": {
          "base_uri": "https://localhost:8080/",
          "height": 127
        },
        "id": "d8zSwF7UE-5B",
        "outputId": "ed9e894a-daa0-428a-8868-cd31d0b830b3"
      },
      "execution_count": 24,
      "outputs": [
        {
          "output_type": "execute_result",
          "data": {
            "text/plain": [
              "'。Преднатяжители ремней безопасности\\n。Крепление для детского сиденья ISOFIX\\n。Подушка безопасности пассажира с функцией деактивации\\n。Система динамической регулировки тяги\\n。Система контроля давления в шинах\\n。Безопасные шины Runflat\\n。Рекуперация энергии торможения\\n。Обивка салона - Кожа Dakota\\n。Автоматическая коррекция угла наклона фар\\n。Функция Auto Start Stop\\n。Кнопка запуска/остановки двигателя\\n。Сервотроник\\n。Передние и задние парктроники\\n。Обогрев боковых зеркал\\n。Радио BMW Professional CD (CD-проигрыватель,Поддержка MP3, 8 и более динамиков,Многофункциональный цветной дисплей)\\n。Разъем для подключения внешнего аудиоустройства\\n。Навигационная система с жестким диском\\n。Коммуникационная система Bluetooth\\n\\n☛ Все заявленные автомобили находятся в наличии.\\n☛ Два комплекта ключей.\\n☛ Выгода по программе Trade-In до 70 тысяч рублей.\\n☛ Выгода в кредит до 80 тысяч рублей.\\n\\n\\n▼▼▼▼▼▼▼▼▼▼▼▼▼▼▼▼▼▼▼▼▼▼▼▼▼▼▼▼▼▼▼\\n\\n                       Условия при покупке автомобиля в кредит:\\n\\n➥ Ставка от 6% годовых;\\n➥ Первоначальный взнос от 0%;\\n➥ Оформление по двум документам;\\n➥ Срок кредитования от 6 месяцев до 7 лет;\\n➥ Без оформления КАСКО;\\n\\n● При покупке автомобиля каждый клиент получает подарок на выбор: \\n\\n   ✔ Комплект резины.\\n   ✔ Полное комплексное ТО. \\n   ✔ Страховой полис ОСАГО сроком на 3 месяца.\\n\\n● Приглашаем на бесплатный тест-драйв! Подробную информацию можно получить у специалистов автоцентра по телефону.\\n● Мы работаем до последнего клиента.'"
            ],
            "application/vnd.google.colaboratory.intrinsic+json": {
              "type": "string"
            }
          },
          "metadata": {},
          "execution_count": 24
        }
      ]
    },
    {
      "cell_type": "markdown",
      "source": [
        "В данных куча мусор. С помощью регулярных выражений оставим только слова, состоящие из 3 и более букв. "
      ],
      "metadata": {
        "id": "JciDuIwON1wN"
      }
    },
    {
      "cell_type": "code",
      "source": [
        "df_join['text'] = df_join['description'].apply(lambda s: re.sub(r'\\d+', '', s))\n",
        "df_join['text'] = df_join['text'].apply(lambda s: re.split(r'\\W+', s))\n"
      ],
      "metadata": {
        "id": "XhopVRj1HFuu"
      },
      "execution_count": 94,
      "outputs": []
    },
    {
      "cell_type": "code",
      "source": [
        "# приведемм слова разммером более 2 букв к леммам \n",
        "\n",
        "morph = pymorphy2.MorphAnalyzer()\n",
        "\n",
        "def lem(x):\n",
        "    x = [morph.parse(w)[0].normal_form for w in x if len(w)>1 ]\n",
        "    return x\n",
        "\n",
        "df_join['text_lem'] = df_join['text'].apply(lem)"
      ],
      "metadata": {
        "id": "ruwlAfqKhRaG"
      },
      "execution_count": 95,
      "outputs": []
    },
    {
      "cell_type": "code",
      "source": [
        "# посчитаем количество уникальных слов и частоту встречаемости каждого слова\n",
        "\n",
        "count_words = {}\n",
        "\n",
        "for i in range(df_join.shape[0]):\n",
        "    text = df_join['text_lem'].iloc[i]\n",
        "\n",
        "    for el in text:\n",
        "        if el in count_words.keys():\n",
        "            count_words[el] += 1\n",
        "        else:\n",
        "            count_words[el] = 1"
      ],
      "metadata": {
        "id": "uWEzOG0Gxl5G"
      },
      "execution_count": 96,
      "outputs": []
    },
    {
      "cell_type": "code",
      "source": [
        "# Создадим датафрейм частотности слов, учтоб удобно проанализировать какие сова можно убрать\n",
        "\n",
        "df_words = pd.DataFrame(count_words, index = ['count']).T"
      ],
      "metadata": {
        "id": "5fA0D8Iizhou"
      },
      "execution_count": 97,
      "outputs": []
    },
    {
      "cell_type": "code",
      "source": [
        "print(f'Всего {df_words.shape[0]} уникальный слов от 2-х букв и более')"
      ],
      "metadata": {
        "colab": {
          "base_uri": "https://localhost:8080/"
        },
        "id": "U4pZS41n2EWk",
        "outputId": "c1f08b7a-dec4-46a3-f496-12cbf20d6d78"
      },
      "execution_count": 98,
      "outputs": [
        {
          "output_type": "stream",
          "name": "stdout",
          "text": [
            "Всего 17947 уникальный слов от 2-х букв и более\n"
          ]
        }
      ]
    },
    {
      "cell_type": "code",
      "source": [
        "# Из них тех, которые встречаюстя 1-3 раза. \n",
        "\n",
        "df_words[df_words['count']<=3]['count'].value_counts()"
      ],
      "metadata": {
        "colab": {
          "base_uri": "https://localhost:8080/"
        },
        "id": "22GcY_E60yge",
        "outputId": "90ed1062-47ee-49f4-c0e7-94aa2c6f5eac"
      },
      "execution_count": 99,
      "outputs": [
        {
          "output_type": "execute_result",
          "data": {
            "text/plain": [
              "1    8292\n",
              "2    2159\n",
              "3    1028\n",
              "Name: count, dtype: int64"
            ]
          },
          "metadata": {},
          "execution_count": 99
        }
      ]
    },
    {
      "cell_type": "code",
      "source": [
        "# Особо часто встречающиеся\n",
        "df_words[df_words['count']>4000]"
      ],
      "metadata": {
        "colab": {
          "base_uri": "https://localhost:8080/",
          "height": 582
        },
        "id": "eLKCUcxn2rF0",
        "outputId": "e33c08c6-3109-402e-9040-b788c2598786"
      },
      "execution_count": 100,
      "outputs": [
        {
          "output_type": "execute_result",
          "data": {
            "text/plain": [
              "            count\n",
              "на          15600\n",
              "всё          6349\n",
              "по          10043\n",
              "не          10673\n",
              "салон        5959\n",
              "задний       6250\n",
              "от           4198\n",
              "состояние    5270\n",
              "год          5322\n",
              "для          4927\n",
              "автомобиль  17352\n",
              "пробег       6403\n",
              "до           4046\n",
              "система      9045\n",
              "передний     4764\n",
              "машина       4561\n",
              "сидение      5872"
            ],
            "text/html": [
              "\n",
              "  <div id=\"df-fa80741a-511f-4a0e-b5db-5c98d2768f1c\">\n",
              "    <div class=\"colab-df-container\">\n",
              "      <div>\n",
              "<style scoped>\n",
              "    .dataframe tbody tr th:only-of-type {\n",
              "        vertical-align: middle;\n",
              "    }\n",
              "\n",
              "    .dataframe tbody tr th {\n",
              "        vertical-align: top;\n",
              "    }\n",
              "\n",
              "    .dataframe thead th {\n",
              "        text-align: right;\n",
              "    }\n",
              "</style>\n",
              "<table border=\"1\" class=\"dataframe\">\n",
              "  <thead>\n",
              "    <tr style=\"text-align: right;\">\n",
              "      <th></th>\n",
              "      <th>count</th>\n",
              "    </tr>\n",
              "  </thead>\n",
              "  <tbody>\n",
              "    <tr>\n",
              "      <th>на</th>\n",
              "      <td>15600</td>\n",
              "    </tr>\n",
              "    <tr>\n",
              "      <th>всё</th>\n",
              "      <td>6349</td>\n",
              "    </tr>\n",
              "    <tr>\n",
              "      <th>по</th>\n",
              "      <td>10043</td>\n",
              "    </tr>\n",
              "    <tr>\n",
              "      <th>не</th>\n",
              "      <td>10673</td>\n",
              "    </tr>\n",
              "    <tr>\n",
              "      <th>салон</th>\n",
              "      <td>5959</td>\n",
              "    </tr>\n",
              "    <tr>\n",
              "      <th>задний</th>\n",
              "      <td>6250</td>\n",
              "    </tr>\n",
              "    <tr>\n",
              "      <th>от</th>\n",
              "      <td>4198</td>\n",
              "    </tr>\n",
              "    <tr>\n",
              "      <th>состояние</th>\n",
              "      <td>5270</td>\n",
              "    </tr>\n",
              "    <tr>\n",
              "      <th>год</th>\n",
              "      <td>5322</td>\n",
              "    </tr>\n",
              "    <tr>\n",
              "      <th>для</th>\n",
              "      <td>4927</td>\n",
              "    </tr>\n",
              "    <tr>\n",
              "      <th>автомобиль</th>\n",
              "      <td>17352</td>\n",
              "    </tr>\n",
              "    <tr>\n",
              "      <th>пробег</th>\n",
              "      <td>6403</td>\n",
              "    </tr>\n",
              "    <tr>\n",
              "      <th>до</th>\n",
              "      <td>4046</td>\n",
              "    </tr>\n",
              "    <tr>\n",
              "      <th>система</th>\n",
              "      <td>9045</td>\n",
              "    </tr>\n",
              "    <tr>\n",
              "      <th>передний</th>\n",
              "      <td>4764</td>\n",
              "    </tr>\n",
              "    <tr>\n",
              "      <th>машина</th>\n",
              "      <td>4561</td>\n",
              "    </tr>\n",
              "    <tr>\n",
              "      <th>сидение</th>\n",
              "      <td>5872</td>\n",
              "    </tr>\n",
              "  </tbody>\n",
              "</table>\n",
              "</div>\n",
              "      <button class=\"colab-df-convert\" onclick=\"convertToInteractive('df-fa80741a-511f-4a0e-b5db-5c98d2768f1c')\"\n",
              "              title=\"Convert this dataframe to an interactive table.\"\n",
              "              style=\"display:none;\">\n",
              "        \n",
              "  <svg xmlns=\"http://www.w3.org/2000/svg\" height=\"24px\"viewBox=\"0 0 24 24\"\n",
              "       width=\"24px\">\n",
              "    <path d=\"M0 0h24v24H0V0z\" fill=\"none\"/>\n",
              "    <path d=\"M18.56 5.44l.94 2.06.94-2.06 2.06-.94-2.06-.94-.94-2.06-.94 2.06-2.06.94zm-11 1L8.5 8.5l.94-2.06 2.06-.94-2.06-.94L8.5 2.5l-.94 2.06-2.06.94zm10 10l.94 2.06.94-2.06 2.06-.94-2.06-.94-.94-2.06-.94 2.06-2.06.94z\"/><path d=\"M17.41 7.96l-1.37-1.37c-.4-.4-.92-.59-1.43-.59-.52 0-1.04.2-1.43.59L10.3 9.45l-7.72 7.72c-.78.78-.78 2.05 0 2.83L4 21.41c.39.39.9.59 1.41.59.51 0 1.02-.2 1.41-.59l7.78-7.78 2.81-2.81c.8-.78.8-2.07 0-2.86zM5.41 20L4 18.59l7.72-7.72 1.47 1.35L5.41 20z\"/>\n",
              "  </svg>\n",
              "      </button>\n",
              "      \n",
              "  <style>\n",
              "    .colab-df-container {\n",
              "      display:flex;\n",
              "      flex-wrap:wrap;\n",
              "      gap: 12px;\n",
              "    }\n",
              "\n",
              "    .colab-df-convert {\n",
              "      background-color: #E8F0FE;\n",
              "      border: none;\n",
              "      border-radius: 50%;\n",
              "      cursor: pointer;\n",
              "      display: none;\n",
              "      fill: #1967D2;\n",
              "      height: 32px;\n",
              "      padding: 0 0 0 0;\n",
              "      width: 32px;\n",
              "    }\n",
              "\n",
              "    .colab-df-convert:hover {\n",
              "      background-color: #E2EBFA;\n",
              "      box-shadow: 0px 1px 2px rgba(60, 64, 67, 0.3), 0px 1px 3px 1px rgba(60, 64, 67, 0.15);\n",
              "      fill: #174EA6;\n",
              "    }\n",
              "\n",
              "    [theme=dark] .colab-df-convert {\n",
              "      background-color: #3B4455;\n",
              "      fill: #D2E3FC;\n",
              "    }\n",
              "\n",
              "    [theme=dark] .colab-df-convert:hover {\n",
              "      background-color: #434B5C;\n",
              "      box-shadow: 0px 1px 3px 1px rgba(0, 0, 0, 0.15);\n",
              "      filter: drop-shadow(0px 1px 2px rgba(0, 0, 0, 0.3));\n",
              "      fill: #FFFFFF;\n",
              "    }\n",
              "  </style>\n",
              "\n",
              "      <script>\n",
              "        const buttonEl =\n",
              "          document.querySelector('#df-fa80741a-511f-4a0e-b5db-5c98d2768f1c button.colab-df-convert');\n",
              "        buttonEl.style.display =\n",
              "          google.colab.kernel.accessAllowed ? 'block' : 'none';\n",
              "\n",
              "        async function convertToInteractive(key) {\n",
              "          const element = document.querySelector('#df-fa80741a-511f-4a0e-b5db-5c98d2768f1c');\n",
              "          const dataTable =\n",
              "            await google.colab.kernel.invokeFunction('convertToInteractive',\n",
              "                                                     [key], {});\n",
              "          if (!dataTable) return;\n",
              "\n",
              "          const docLinkHtml = 'Like what you see? Visit the ' +\n",
              "            '<a target=\"_blank\" href=https://colab.research.google.com/notebooks/data_table.ipynb>data table notebook</a>'\n",
              "            + ' to learn more about interactive tables.';\n",
              "          element.innerHTML = '';\n",
              "          dataTable['output_type'] = 'display_data';\n",
              "          await google.colab.output.renderOutput(dataTable, element);\n",
              "          const docLink = document.createElement('div');\n",
              "          docLink.innerHTML = docLinkHtml;\n",
              "          element.appendChild(docLink);\n",
              "        }\n",
              "      </script>\n",
              "    </div>\n",
              "  </div>\n",
              "  "
            ]
          },
          "metadata": {},
          "execution_count": 100
        }
      ]
    },
    {
      "cell_type": "code",
      "source": [
        "# Список слов для обучения с частотой встречаемостии более 3-х раз\n",
        "word_for_train = list(df_words[df_words['count']>3].index)"
      ],
      "metadata": {
        "id": "5_Mqkqah4prK"
      },
      "execution_count": 101,
      "outputs": []
    },
    {
      "cell_type": "code",
      "source": [
        "# Удалим редко встречающиеся слова\n",
        "\n",
        "def word_train(x):\n",
        "    new_list_word = []\n",
        "    for el in x:\n",
        "        if el in word_for_train:\n",
        "            new_list_word.append(el)\n",
        "    return new_list_word\n",
        "\n",
        "df_join['text_lem_train'] = df_join['text_lem'].apply(word_train)"
      ],
      "metadata": {
        "id": "qSDD8CEXy6jy"
      },
      "execution_count": 102,
      "outputs": []
    },
    {
      "cell_type": "code",
      "source": [
        "df_join['text'].iloc[15]"
      ],
      "metadata": {
        "colab": {
          "base_uri": "https://localhost:8080/"
        },
        "id": "IFTf-JjdHFxe",
        "outputId": "46ccf698-bb36-4120-d6f6-ced88602e1ac"
      },
      "execution_count": 33,
      "outputs": [
        {
          "output_type": "execute_result",
          "data": {
            "text/plain": [
              "['',\n",
              " 'Преднатяжители',\n",
              " 'ремней',\n",
              " 'безопасности',\n",
              " 'Крепление',\n",
              " 'для',\n",
              " 'детского',\n",
              " 'сиденья',\n",
              " 'ISOFIX',\n",
              " 'Подушка',\n",
              " 'безопасности',\n",
              " 'пассажира',\n",
              " 'с',\n",
              " 'функцией',\n",
              " 'деактивации',\n",
              " 'Система',\n",
              " 'динамической',\n",
              " 'регулировки',\n",
              " 'тяги',\n",
              " 'Система',\n",
              " 'контроля',\n",
              " 'давления',\n",
              " 'в',\n",
              " 'шинах',\n",
              " 'Безопасные',\n",
              " 'шины',\n",
              " 'Runflat',\n",
              " 'Рекуперация',\n",
              " 'энергии',\n",
              " 'торможения',\n",
              " 'Обивка',\n",
              " 'салона',\n",
              " 'Кожа',\n",
              " 'Dakota',\n",
              " 'Автоматическая',\n",
              " 'коррекция',\n",
              " 'угла',\n",
              " 'наклона',\n",
              " 'фар',\n",
              " 'Функция',\n",
              " 'Auto',\n",
              " 'Start',\n",
              " 'Stop',\n",
              " 'Кнопка',\n",
              " 'запуска',\n",
              " 'остановки',\n",
              " 'двигателя',\n",
              " 'Сервотроник',\n",
              " 'Передние',\n",
              " 'и',\n",
              " 'задние',\n",
              " 'парктроники',\n",
              " 'Обогрев',\n",
              " 'боковых',\n",
              " 'зеркал',\n",
              " 'Радио',\n",
              " 'BMW',\n",
              " 'Professional',\n",
              " 'CD',\n",
              " 'CD',\n",
              " 'проигрыватель',\n",
              " 'Поддержка',\n",
              " 'MP3',\n",
              " '8',\n",
              " 'и',\n",
              " 'более',\n",
              " 'динамиков',\n",
              " 'Многофункциональный',\n",
              " 'цветной',\n",
              " 'дисплей',\n",
              " 'Разъем',\n",
              " 'для',\n",
              " 'подключения',\n",
              " 'внешнего',\n",
              " 'аудиоустройства',\n",
              " 'Навигационная',\n",
              " 'система',\n",
              " 'с',\n",
              " 'жестким',\n",
              " 'диском',\n",
              " 'Коммуникационная',\n",
              " 'система',\n",
              " 'Bluetooth',\n",
              " 'Все',\n",
              " 'заявленные',\n",
              " 'автомобили',\n",
              " 'находятся',\n",
              " 'в',\n",
              " 'наличии',\n",
              " 'Два',\n",
              " 'комплекта',\n",
              " 'ключей',\n",
              " 'Выгода',\n",
              " 'по',\n",
              " 'программе',\n",
              " 'Trade',\n",
              " 'In',\n",
              " 'до',\n",
              " '70',\n",
              " 'тысяч',\n",
              " 'рублей',\n",
              " 'Выгода',\n",
              " 'в',\n",
              " 'кредит',\n",
              " 'до',\n",
              " '80',\n",
              " 'тысяч',\n",
              " 'рублей',\n",
              " 'Условия',\n",
              " 'при',\n",
              " 'покупке',\n",
              " 'автомобиля',\n",
              " 'в',\n",
              " 'кредит',\n",
              " 'Ставка',\n",
              " 'от',\n",
              " '6',\n",
              " 'годовых',\n",
              " 'Первоначальный',\n",
              " 'взнос',\n",
              " 'от',\n",
              " '0',\n",
              " 'Оформление',\n",
              " 'по',\n",
              " 'двум',\n",
              " 'документам',\n",
              " 'Срок',\n",
              " 'кредитования',\n",
              " 'от',\n",
              " '6',\n",
              " 'месяцев',\n",
              " 'до',\n",
              " '7',\n",
              " 'лет',\n",
              " 'Без',\n",
              " 'оформления',\n",
              " 'КАСКО',\n",
              " 'При',\n",
              " 'покупке',\n",
              " 'автомобиля',\n",
              " 'каждый',\n",
              " 'клиент',\n",
              " 'получает',\n",
              " 'подарок',\n",
              " 'на',\n",
              " 'выбор',\n",
              " 'Комплект',\n",
              " 'резины',\n",
              " 'Полное',\n",
              " 'комплексное',\n",
              " 'ТО',\n",
              " 'Страховой',\n",
              " 'полис',\n",
              " 'ОСАГО',\n",
              " 'сроком',\n",
              " 'на',\n",
              " '3',\n",
              " 'месяца',\n",
              " 'Приглашаем',\n",
              " 'на',\n",
              " 'бесплатный',\n",
              " 'тест',\n",
              " 'драйв',\n",
              " 'Подробную',\n",
              " 'информацию',\n",
              " 'можно',\n",
              " 'получить',\n",
              " 'у',\n",
              " 'специалистов',\n",
              " 'автоцентра',\n",
              " 'по',\n",
              " 'телефону',\n",
              " 'Мы',\n",
              " 'работаем',\n",
              " 'до',\n",
              " 'последнего',\n",
              " 'клиента',\n",
              " '']"
            ]
          },
          "metadata": {},
          "execution_count": 33
        }
      ]
    },
    {
      "cell_type": "code",
      "source": [
        "df_join['text'].values"
      ],
      "metadata": {
        "colab": {
          "base_uri": "https://localhost:8080/"
        },
        "id": "2OBSsORwV1WB",
        "outputId": "3b86c67a-b3b4-40f2-db45-d603bbd6e403"
      },
      "execution_count": 35,
      "outputs": [
        {
          "output_type": "execute_result",
          "data": {
            "text/plain": [
              "array([list(['Авто', 'на', 'бодром', 'ходу', 'Все', 'работает', 'отлично', 'По', 'электрике', 'ходовой', 'АКПП', 'ДВС', 'нареканий', 'нет', 'Масло', 'не', 'ест', 'Салон', 'ухожен', 'На', 'запчасти', 'денег', 'не', 'жалел', 'Жидкости', 'все', 'поменял', 'Крашена', 'одна', 'дверь', 'левая', 'задняя', 'Штрафов', 'и', 'ограничений', 'нет', 'Торг', 'при', 'осмотре', 'Возможен', 'обмен', 'на', 'внедорожник', 'или', 'коммерческий', 'транспорт', '']),\n",
              "       list(['Продажа', 'от', 'собственника', 'второй', 'владелец', 'ПТС', 'оригинал', 'Отличное', 'состояние', 'вложений', 'не', 'требует', 'Комплект', 'новой', 'зимней', 'резины', 'Nokian', 'По', 'кузову', 'мелкие', 'притертости', 'В', 'базе', 'бьется', 'как', '2', 'ДТП', 'т', 'к', 'все', 'зарегистрировано', 'в', 'ГИБДД', 'Обслуживание', 'только', 'у', 'официального', 'дилера', 'сервисная', 'книжка', 'в', 'наличии', 'Пройдено', 'ТО', 'Все', 'ключи', 'Эксплуатация', 'с', '2012', 'года', 'Хорошая', 'комплектация', 'дополнительное', 'оборудование', 'Продажа', 'через', 'ГИБДД', '']),\n",
              "       list(['Внимание', 'Только', 'для', 'клиентов', 'AVILON', 'Автомобили', 'с', 'пробегом', 'мы', 'предлагаем', 'специальную', 'кредитную', 'программу', 'Гарантия', 'минимального', 'ежемесячного', 'платежа', 'Условия', 'кредитования', 'Первоначальный', 'взнос', 'от', '30', 'Размер', 'процентной', 'ставки', 'после', 'снижения', 'перерасчета', 'в', 'конце', 'срока', 'кредита', '9', '9', 'Срок', 'кредита', 'до', '72', 'месяцев', 'до', '6', 'лет', 'Увеличенная', 'дополнительная', 'скидка', '1', 'До', '150', '000р', 'при', 'обмене', 'своего', 'автомобиля', 'на', 'наш', 'по', 'системе', 'trade', 'in', '2', 'До', '100', '000р', 'при', 'оформлении', 'кредита', 'по', 'сниженной', 'ставки', 'от', 'банка', 'партнёра', 'и', 'полиса', 'КАСКО', 'Все', 'скидки', 'и', 'спецпредложения', 'СУММИРУЮТСЯ', 'Автомобиль', 'Mercedes', 'Benz', 'E', 'klasse', 'от', 'AVILON', 'Автомобили', 'с', 'пробегом', 'это', 'Обслуживание', 'и', 'предпродажная', 'подготовка', 'только', 'на', 'сертифицированных', 'сервисных', 'станциях', 'с', 'предоставлением', 'официальной', 'диагностики', 'Обязательная', 'юридическая', 'проверка', 'автомобиля', 'что', 'обеспечивает', 'полную', 'прозрачность', 'сервисной', 'истории', 'и', 'исключает', 'наличие', 'финансового', 'обременения', 'Купи', 'или', 'продай', 'любой', 'авто', 'официально', 'в', 'AVILON', 'Автомобили', 'с', 'пробегом', 'Позвоните', 'нам', 'и', 'все', 'узнайте', 'подробнее', 'cme44', 'ТИ', 'UY08421', 'Уникальный', 'код', 'автомобиля', 'hfcafdo', '62908', '']),\n",
              "       ...,\n",
              "       list(['Машина', 'в', 'идеальном', 'техническом', 'состоянии', 'Обслуживание', 'в', 'Ауди', 'Варшавка', 'Машина', 'всегда', 'была', 'застрахована', 'по', 'КАСКО', 'всегда', 'ремонтировалась', 'в', 'Ауди', 'Варшавка', 'поэтому', 'имеет', 'полностью', 'прозрачную', 'историю', 'По', 'отчету', 'показывает', 'одно', 'ДТП', 'которого', 'не', 'было', 'машина', 'была', 'слегка', 'притерта', 'на', 'парковке', 'смотри', 'фото', 'О', 'машине', 'машина', 'была', 'куплена', 'юридическим', 'лицом', 'в', '2017', 'году', 'у', 'официального', 'дилера', 'Ауди', 'Варшавка', 'с', 'пробегом', '3850км', 'https', 'auto', 'ru', 'cars', 'used', 'sale', 'audi', 'q3', '1049686496', 'ff7fa', 'Автомобиль', 'был', 'куплен', 'не', 'в', 'кредит', 'и', 'не', 'лизинг', 'Пройдены', 'все', 'ТО', 'Сервисная', 'книжка', 'Реальный', 'пробег', 'Машина', 'продается', 'юридическим', 'лицом', 'ООО', 'СМИС', 'Эксперт', 'ИНН', '7725259211', 'с', 'идеальной', 'репутацией', '']),\n",
              "       list(['Автомобиль', 'приобретался', 'новым', 'у', 'дилера', 'Avilon', 'в', 'октябре', '2013', 'года', 'По', 'факту', 'один', 'владелец', 'и', 'водитель', 'Оригинал', 'ПТС', 'Все', 'ключи', 'Автомобиль', 'не', 'участвовал', 'в', 'ДТП', 'Немного', 'содрана', 'краска', 'на', 'переднем', 'бампере', 'можете', 'увидеть', 'на', 'фото', 'Технически', 'полностью', 'исправный', 'автомобиль', 'нет', 'абсолютно', 'никаких', 'нареканий', 'В', 'автомобиле', 'никогда', 'не', 'курили', 'Чистый', 'и', 'ухоженный', 'салон', 'в', 'идеальном', 'состоянии', 'Автомобиль', 'своевременно', 'обслуживался', 'в', 'официальных', 'сервисах', 'BMW', 'Avilon', 'и', 'BMW', 'Юнит', 'Есть', 'сервисная', 'книжка', 'в', 'которой', 'есть', 'все', 'отметки', 'Недавно', 'пройдено', 'ТО', 'Причина', 'продажи', 'растет', 'семья', 'должна', 'расти', 'машина', 'Готов', 'на', 'любые', 'проверки', 'за', 'ваш', 'счёт', 'В', 'помощи', 'перекупщиков', 'и', 'салонов', 'не', 'нуждаюсь', '']),\n",
              "       list(['ID', '38887', 'Комплектация', 'Comfort', 'Год', 'выпуска', 'в', 'ПТС', '2014г', 'Два', 'комплекта', 'ключей', 'Дополнительно', 'установлено', 'Выхлопная', 'система', 'бронеплёнка', 'Автомобиль', 'прошел', 'комплексную', 'диагностику', 'Проведена', 'предпродажная', 'подготовка', 'Гарантия', 'юридической', 'чистоты', 'Возможна', 'оплата', 'наличным', 'и', 'безналичным', 'платежом', 'Оформление', 'кредита', 'по', 'двум', 'документам', 'Обмен', 'Вашего', 'автомобиля', 'на', 'новый', 'Воспользуйтесь', 'нашей', 'услугой', 'по', 'подбору', 'автомобиля', 'от', 'официального', 'дилера', 'Комплектация', 'Антиблокировочная', 'система', 'Антипробуксовочная', 'система', 'Система', 'курсовой', 'устойчивости', 'Подушки', 'безопасности', 'водителя', 'Подушки', 'безопасности', 'пассажира', 'Оконные', 'шторки', 'безопасности', 'Иммобилайзер', 'Центральный', 'замок', 'Бортовой', 'компьютер', 'Парктроник', 'передний', 'и', 'задний', 'Датчик', 'света', 'Гидро', 'усилитель', 'руля', 'Регулировка', 'руля', 'в', 'двух', 'плоскостях', 'Электростеклоподъемники', 'передние', 'и', 'задние', 'Электропривод', 'зеркал', 'Климат', 'контроль', '2', 'зонный', 'Подогрев', 'сидений', 'водителя', 'и', 'пассажира', 'CD', 'MP3', 'Тканевая', 'обивка', 'салона', 'Темный', 'салон', 'Литые', 'легкосплавные', 'диски', 'Размер', 'дисков', '18', 'Тонированные', 'стекла', 'Защита', 'картера', 'Биксеноновые', 'фары', 'Противотуманные', 'фары', 'Омыватель', 'фар', 'Комплект', 'тканневых', 'ковриков', 'Запасное', 'колесо'])],\n",
              "      dtype=object)"
            ]
          },
          "metadata": {},
          "execution_count": 35
        }
      ]
    },
    {
      "cell_type": "code",
      "source": [
        ""
      ],
      "metadata": {
        "id": "CHYUmlM4V1Zm"
      },
      "execution_count": null,
      "outputs": []
    },
    {
      "cell_type": "markdown",
      "source": [
        "## Работа с категориальными переменнаями"
      ],
      "metadata": {
        "id": "d8g7HAorG7gU"
      }
    },
    {
      "cell_type": "code",
      "source": [
        "df_join = pd.get_dummies(df_join, columns=categorical_features, dummy_na=False)\n"
      ],
      "metadata": {
        "id": "GGdPNjOiYxsO"
      },
      "execution_count": 51,
      "outputs": []
    },
    {
      "cell_type": "code",
      "source": [
        ""
      ],
      "metadata": {
        "id": "BW8odwCSHHPn"
      },
      "execution_count": null,
      "outputs": []
    },
    {
      "cell_type": "markdown",
      "source": [
        "## Разбиение датасета на обучающий, валидационный и тестовый"
      ],
      "metadata": {
        "id": "4Lj_WVGTHNVa"
      }
    },
    {
      "cell_type": "code",
      "source": [
        "X = df_join.query('sample == 1').drop(['sample'], axis=1)\n",
        "X_test = df_join.query('sample == 0').drop(['sample'], axis=1)\n",
        "\n",
        "Y = X.price.values     # наш таргет\n",
        "X = X.drop(['price'], axis=1)\n",
        "X_test = X_test.drop(['price'], axis=1)"
      ],
      "metadata": {
        "id": "LVVaTOS_FIAF"
      },
      "execution_count": 53,
      "outputs": []
    },
    {
      "cell_type": "code",
      "source": [
        "# Стандартизируем числовые данные\n",
        "\n",
        "scaler = MinMaxScaler()\n",
        "\n",
        "X[numerical_features] = scaler.fit_transform(X[numerical_features])\n",
        "X_test[numerical_features] = scaler.fit_transform(X_test[numerical_features])"
      ],
      "metadata": {
        "id": "ZLUpm0v7ofPG"
      },
      "execution_count": 54,
      "outputs": []
    },
    {
      "cell_type": "code",
      "source": [
        "X.describe()"
      ],
      "metadata": {
        "colab": {
          "base_uri": "https://localhost:8080/",
          "height": 411
        },
        "id": "iTDuRKoTR3PD",
        "outputId": "c80ca400-20c7-495a-d81c-db8264892277"
      },
      "execution_count": 55,
      "outputs": [
        {
          "output_type": "execute_result",
          "data": {
            "text/plain": [
              "       mileage  age_avto  engineDisplacement  enginePower_log  numberOfDoors  \\\n",
              "count  6682.00   6682.00             6682.00          6682.00        6682.00   \n",
              "mean      0.12      0.21                0.42             0.54           0.76   \n",
              "std       0.08      0.13                0.16             0.18           0.29   \n",
              "min       0.00      0.00                0.00             0.00           0.00   \n",
              "25%       0.06      0.11                0.30             0.42           0.67   \n",
              "50%       0.11      0.18                0.42             0.53           0.67   \n",
              "75%       0.17      0.29                0.45             0.66           1.00   \n",
              "max       1.00      1.00                1.00             1.00           1.00   \n",
              "\n",
              "       Владельцы  bodyType_внедорожник  bodyType_кабриолет  bodyType_купе  \\\n",
              "count    6682.00               6682.00             6682.00        6682.00   \n",
              "mean        0.55                  0.35                0.01           0.06   \n",
              "std         0.42                  0.48                0.08           0.24   \n",
              "min         0.00                  0.00                0.00           0.00   \n",
              "25%         0.00                  0.00                0.00           0.00   \n",
              "50%         0.50                  0.00                0.00           0.00   \n",
              "75%         1.00                  1.00                0.00           0.00   \n",
              "max         1.00                  1.00                1.00           1.00   \n",
              "\n",
              "       bodyType_купе-хардтоп  ...  model_info_Z8  \\\n",
              "count                6682.00  ...        6682.00   \n",
              "mean                    0.01  ...           0.00   \n",
              "std                     0.12  ...           0.01   \n",
              "min                     0.00  ...           0.00   \n",
              "25%                     0.00  ...           0.00   \n",
              "50%                     0.00  ...           0.00   \n",
              "75%                     0.00  ...           0.00   \n",
              "max                     1.00  ...           1.00   \n",
              "\n",
              "       vehicleTransmission_автоматическая  vehicleTransmission_вариатор  \\\n",
              "count                             6682.00                       6682.00   \n",
              "mean                                 0.79                          0.05   \n",
              "std                                  0.41                          0.22   \n",
              "min                                  0.00                          0.00   \n",
              "25%                                  1.00                          0.00   \n",
              "50%                                  1.00                          0.00   \n",
              "75%                                  1.00                          0.00   \n",
              "max                                  1.00                          1.00   \n",
              "\n",
              "       vehicleTransmission_механическая  vehicleTransmission_роботизированная  \\\n",
              "count                           6682.00                               6682.00   \n",
              "mean                               0.02                                  0.14   \n",
              "std                                0.14                                  0.35   \n",
              "min                                0.00                                  0.00   \n",
              "25%                                0.00                                  0.00   \n",
              "50%                                0.00                                  0.00   \n",
              "75%                                0.00                                  0.00   \n",
              "max                                1.00                                  1.00   \n",
              "\n",
              "       ПТС_Дубликат  ПТС_Оригинал  Привод_задний  Привод_передний  \\\n",
              "count       6682.00       6682.00        6682.00          6682.00   \n",
              "mean           0.11          0.89           0.27             0.11   \n",
              "std            0.31          0.31           0.44             0.31   \n",
              "min            0.00          0.00           0.00             0.00   \n",
              "25%            0.00          1.00           0.00             0.00   \n",
              "50%            0.00          1.00           0.00             0.00   \n",
              "75%            0.00          1.00           1.00             0.00   \n",
              "max            1.00          1.00           1.00             1.00   \n",
              "\n",
              "       Привод_полный  \n",
              "count        6682.00  \n",
              "mean            0.63  \n",
              "std             0.48  \n",
              "min             0.00  \n",
              "25%             0.00  \n",
              "50%             1.00  \n",
              "75%             1.00  \n",
              "max             1.00  \n",
              "\n",
              "[8 rows x 159 columns]"
            ],
            "text/html": [
              "\n",
              "  <div id=\"df-68c248f3-742a-4101-9e15-fe1f6eedb311\">\n",
              "    <div class=\"colab-df-container\">\n",
              "      <div>\n",
              "<style scoped>\n",
              "    .dataframe tbody tr th:only-of-type {\n",
              "        vertical-align: middle;\n",
              "    }\n",
              "\n",
              "    .dataframe tbody tr th {\n",
              "        vertical-align: top;\n",
              "    }\n",
              "\n",
              "    .dataframe thead th {\n",
              "        text-align: right;\n",
              "    }\n",
              "</style>\n",
              "<table border=\"1\" class=\"dataframe\">\n",
              "  <thead>\n",
              "    <tr style=\"text-align: right;\">\n",
              "      <th></th>\n",
              "      <th>mileage</th>\n",
              "      <th>age_avto</th>\n",
              "      <th>engineDisplacement</th>\n",
              "      <th>enginePower_log</th>\n",
              "      <th>numberOfDoors</th>\n",
              "      <th>Владельцы</th>\n",
              "      <th>bodyType_внедорожник</th>\n",
              "      <th>bodyType_кабриолет</th>\n",
              "      <th>bodyType_купе</th>\n",
              "      <th>bodyType_купе-хардтоп</th>\n",
              "      <th>...</th>\n",
              "      <th>model_info_Z8</th>\n",
              "      <th>vehicleTransmission_автоматическая</th>\n",
              "      <th>vehicleTransmission_вариатор</th>\n",
              "      <th>vehicleTransmission_механическая</th>\n",
              "      <th>vehicleTransmission_роботизированная</th>\n",
              "      <th>ПТС_Дубликат</th>\n",
              "      <th>ПТС_Оригинал</th>\n",
              "      <th>Привод_задний</th>\n",
              "      <th>Привод_передний</th>\n",
              "      <th>Привод_полный</th>\n",
              "    </tr>\n",
              "  </thead>\n",
              "  <tbody>\n",
              "    <tr>\n",
              "      <th>count</th>\n",
              "      <td>6682.00</td>\n",
              "      <td>6682.00</td>\n",
              "      <td>6682.00</td>\n",
              "      <td>6682.00</td>\n",
              "      <td>6682.00</td>\n",
              "      <td>6682.00</td>\n",
              "      <td>6682.00</td>\n",
              "      <td>6682.00</td>\n",
              "      <td>6682.00</td>\n",
              "      <td>6682.00</td>\n",
              "      <td>...</td>\n",
              "      <td>6682.00</td>\n",
              "      <td>6682.00</td>\n",
              "      <td>6682.00</td>\n",
              "      <td>6682.00</td>\n",
              "      <td>6682.00</td>\n",
              "      <td>6682.00</td>\n",
              "      <td>6682.00</td>\n",
              "      <td>6682.00</td>\n",
              "      <td>6682.00</td>\n",
              "      <td>6682.00</td>\n",
              "    </tr>\n",
              "    <tr>\n",
              "      <th>mean</th>\n",
              "      <td>0.12</td>\n",
              "      <td>0.21</td>\n",
              "      <td>0.42</td>\n",
              "      <td>0.54</td>\n",
              "      <td>0.76</td>\n",
              "      <td>0.55</td>\n",
              "      <td>0.35</td>\n",
              "      <td>0.01</td>\n",
              "      <td>0.06</td>\n",
              "      <td>0.01</td>\n",
              "      <td>...</td>\n",
              "      <td>0.00</td>\n",
              "      <td>0.79</td>\n",
              "      <td>0.05</td>\n",
              "      <td>0.02</td>\n",
              "      <td>0.14</td>\n",
              "      <td>0.11</td>\n",
              "      <td>0.89</td>\n",
              "      <td>0.27</td>\n",
              "      <td>0.11</td>\n",
              "      <td>0.63</td>\n",
              "    </tr>\n",
              "    <tr>\n",
              "      <th>std</th>\n",
              "      <td>0.08</td>\n",
              "      <td>0.13</td>\n",
              "      <td>0.16</td>\n",
              "      <td>0.18</td>\n",
              "      <td>0.29</td>\n",
              "      <td>0.42</td>\n",
              "      <td>0.48</td>\n",
              "      <td>0.08</td>\n",
              "      <td>0.24</td>\n",
              "      <td>0.12</td>\n",
              "      <td>...</td>\n",
              "      <td>0.01</td>\n",
              "      <td>0.41</td>\n",
              "      <td>0.22</td>\n",
              "      <td>0.14</td>\n",
              "      <td>0.35</td>\n",
              "      <td>0.31</td>\n",
              "      <td>0.31</td>\n",
              "      <td>0.44</td>\n",
              "      <td>0.31</td>\n",
              "      <td>0.48</td>\n",
              "    </tr>\n",
              "    <tr>\n",
              "      <th>min</th>\n",
              "      <td>0.00</td>\n",
              "      <td>0.00</td>\n",
              "      <td>0.00</td>\n",
              "      <td>0.00</td>\n",
              "      <td>0.00</td>\n",
              "      <td>0.00</td>\n",
              "      <td>0.00</td>\n",
              "      <td>0.00</td>\n",
              "      <td>0.00</td>\n",
              "      <td>0.00</td>\n",
              "      <td>...</td>\n",
              "      <td>0.00</td>\n",
              "      <td>0.00</td>\n",
              "      <td>0.00</td>\n",
              "      <td>0.00</td>\n",
              "      <td>0.00</td>\n",
              "      <td>0.00</td>\n",
              "      <td>0.00</td>\n",
              "      <td>0.00</td>\n",
              "      <td>0.00</td>\n",
              "      <td>0.00</td>\n",
              "    </tr>\n",
              "    <tr>\n",
              "      <th>25%</th>\n",
              "      <td>0.06</td>\n",
              "      <td>0.11</td>\n",
              "      <td>0.30</td>\n",
              "      <td>0.42</td>\n",
              "      <td>0.67</td>\n",
              "      <td>0.00</td>\n",
              "      <td>0.00</td>\n",
              "      <td>0.00</td>\n",
              "      <td>0.00</td>\n",
              "      <td>0.00</td>\n",
              "      <td>...</td>\n",
              "      <td>0.00</td>\n",
              "      <td>1.00</td>\n",
              "      <td>0.00</td>\n",
              "      <td>0.00</td>\n",
              "      <td>0.00</td>\n",
              "      <td>0.00</td>\n",
              "      <td>1.00</td>\n",
              "      <td>0.00</td>\n",
              "      <td>0.00</td>\n",
              "      <td>0.00</td>\n",
              "    </tr>\n",
              "    <tr>\n",
              "      <th>50%</th>\n",
              "      <td>0.11</td>\n",
              "      <td>0.18</td>\n",
              "      <td>0.42</td>\n",
              "      <td>0.53</td>\n",
              "      <td>0.67</td>\n",
              "      <td>0.50</td>\n",
              "      <td>0.00</td>\n",
              "      <td>0.00</td>\n",
              "      <td>0.00</td>\n",
              "      <td>0.00</td>\n",
              "      <td>...</td>\n",
              "      <td>0.00</td>\n",
              "      <td>1.00</td>\n",
              "      <td>0.00</td>\n",
              "      <td>0.00</td>\n",
              "      <td>0.00</td>\n",
              "      <td>0.00</td>\n",
              "      <td>1.00</td>\n",
              "      <td>0.00</td>\n",
              "      <td>0.00</td>\n",
              "      <td>1.00</td>\n",
              "    </tr>\n",
              "    <tr>\n",
              "      <th>75%</th>\n",
              "      <td>0.17</td>\n",
              "      <td>0.29</td>\n",
              "      <td>0.45</td>\n",
              "      <td>0.66</td>\n",
              "      <td>1.00</td>\n",
              "      <td>1.00</td>\n",
              "      <td>1.00</td>\n",
              "      <td>0.00</td>\n",
              "      <td>0.00</td>\n",
              "      <td>0.00</td>\n",
              "      <td>...</td>\n",
              "      <td>0.00</td>\n",
              "      <td>1.00</td>\n",
              "      <td>0.00</td>\n",
              "      <td>0.00</td>\n",
              "      <td>0.00</td>\n",
              "      <td>0.00</td>\n",
              "      <td>1.00</td>\n",
              "      <td>1.00</td>\n",
              "      <td>0.00</td>\n",
              "      <td>1.00</td>\n",
              "    </tr>\n",
              "    <tr>\n",
              "      <th>max</th>\n",
              "      <td>1.00</td>\n",
              "      <td>1.00</td>\n",
              "      <td>1.00</td>\n",
              "      <td>1.00</td>\n",
              "      <td>1.00</td>\n",
              "      <td>1.00</td>\n",
              "      <td>1.00</td>\n",
              "      <td>1.00</td>\n",
              "      <td>1.00</td>\n",
              "      <td>1.00</td>\n",
              "      <td>...</td>\n",
              "      <td>1.00</td>\n",
              "      <td>1.00</td>\n",
              "      <td>1.00</td>\n",
              "      <td>1.00</td>\n",
              "      <td>1.00</td>\n",
              "      <td>1.00</td>\n",
              "      <td>1.00</td>\n",
              "      <td>1.00</td>\n",
              "      <td>1.00</td>\n",
              "      <td>1.00</td>\n",
              "    </tr>\n",
              "  </tbody>\n",
              "</table>\n",
              "<p>8 rows × 159 columns</p>\n",
              "</div>\n",
              "      <button class=\"colab-df-convert\" onclick=\"convertToInteractive('df-68c248f3-742a-4101-9e15-fe1f6eedb311')\"\n",
              "              title=\"Convert this dataframe to an interactive table.\"\n",
              "              style=\"display:none;\">\n",
              "        \n",
              "  <svg xmlns=\"http://www.w3.org/2000/svg\" height=\"24px\"viewBox=\"0 0 24 24\"\n",
              "       width=\"24px\">\n",
              "    <path d=\"M0 0h24v24H0V0z\" fill=\"none\"/>\n",
              "    <path d=\"M18.56 5.44l.94 2.06.94-2.06 2.06-.94-2.06-.94-.94-2.06-.94 2.06-2.06.94zm-11 1L8.5 8.5l.94-2.06 2.06-.94-2.06-.94L8.5 2.5l-.94 2.06-2.06.94zm10 10l.94 2.06.94-2.06 2.06-.94-2.06-.94-.94-2.06-.94 2.06-2.06.94z\"/><path d=\"M17.41 7.96l-1.37-1.37c-.4-.4-.92-.59-1.43-.59-.52 0-1.04.2-1.43.59L10.3 9.45l-7.72 7.72c-.78.78-.78 2.05 0 2.83L4 21.41c.39.39.9.59 1.41.59.51 0 1.02-.2 1.41-.59l7.78-7.78 2.81-2.81c.8-.78.8-2.07 0-2.86zM5.41 20L4 18.59l7.72-7.72 1.47 1.35L5.41 20z\"/>\n",
              "  </svg>\n",
              "      </button>\n",
              "      \n",
              "  <style>\n",
              "    .colab-df-container {\n",
              "      display:flex;\n",
              "      flex-wrap:wrap;\n",
              "      gap: 12px;\n",
              "    }\n",
              "\n",
              "    .colab-df-convert {\n",
              "      background-color: #E8F0FE;\n",
              "      border: none;\n",
              "      border-radius: 50%;\n",
              "      cursor: pointer;\n",
              "      display: none;\n",
              "      fill: #1967D2;\n",
              "      height: 32px;\n",
              "      padding: 0 0 0 0;\n",
              "      width: 32px;\n",
              "    }\n",
              "\n",
              "    .colab-df-convert:hover {\n",
              "      background-color: #E2EBFA;\n",
              "      box-shadow: 0px 1px 2px rgba(60, 64, 67, 0.3), 0px 1px 3px 1px rgba(60, 64, 67, 0.15);\n",
              "      fill: #174EA6;\n",
              "    }\n",
              "\n",
              "    [theme=dark] .colab-df-convert {\n",
              "      background-color: #3B4455;\n",
              "      fill: #D2E3FC;\n",
              "    }\n",
              "\n",
              "    [theme=dark] .colab-df-convert:hover {\n",
              "      background-color: #434B5C;\n",
              "      box-shadow: 0px 1px 3px 1px rgba(0, 0, 0, 0.15);\n",
              "      filter: drop-shadow(0px 1px 2px rgba(0, 0, 0, 0.3));\n",
              "      fill: #FFFFFF;\n",
              "    }\n",
              "  </style>\n",
              "\n",
              "      <script>\n",
              "        const buttonEl =\n",
              "          document.querySelector('#df-68c248f3-742a-4101-9e15-fe1f6eedb311 button.colab-df-convert');\n",
              "        buttonEl.style.display =\n",
              "          google.colab.kernel.accessAllowed ? 'block' : 'none';\n",
              "\n",
              "        async function convertToInteractive(key) {\n",
              "          const element = document.querySelector('#df-68c248f3-742a-4101-9e15-fe1f6eedb311');\n",
              "          const dataTable =\n",
              "            await google.colab.kernel.invokeFunction('convertToInteractive',\n",
              "                                                     [key], {});\n",
              "          if (!dataTable) return;\n",
              "\n",
              "          const docLinkHtml = 'Like what you see? Visit the ' +\n",
              "            '<a target=\"_blank\" href=https://colab.research.google.com/notebooks/data_table.ipynb>data table notebook</a>'\n",
              "            + ' to learn more about interactive tables.';\n",
              "          element.innerHTML = '';\n",
              "          dataTable['output_type'] = 'display_data';\n",
              "          await google.colab.output.renderOutput(dataTable, element);\n",
              "          const docLink = document.createElement('div');\n",
              "          docLink.innerHTML = docLinkHtml;\n",
              "          element.appendChild(docLink);\n",
              "        }\n",
              "      </script>\n",
              "    </div>\n",
              "  </div>\n",
              "  "
            ]
          },
          "metadata": {},
          "execution_count": 55
        }
      ]
    },
    {
      "cell_type": "code",
      "source": [
        "X_test.describe()"
      ],
      "metadata": {
        "colab": {
          "base_uri": "https://localhost:8080/",
          "height": 411
        },
        "id": "EvANVMaIpodh",
        "outputId": "14df9176-8901-4286-8ee2-d9ab180fd1b8"
      },
      "execution_count": 56,
      "outputs": [
        {
          "output_type": "execute_result",
          "data": {
            "text/plain": [
              "       mileage  age_avto  engineDisplacement  enginePower_log  numberOfDoors  \\\n",
              "count  1671.00   1671.00             1671.00          1671.00        1671.00   \n",
              "mean      0.12      0.21                0.42             0.44           0.75   \n",
              "std       0.08      0.14                0.16             0.19           0.30   \n",
              "min       0.00      0.00                0.00             0.00           0.00   \n",
              "25%       0.06      0.11                0.30             0.31           0.67   \n",
              "50%       0.11      0.18                0.41             0.43           0.67   \n",
              "75%       0.17      0.29                0.45             0.57           1.00   \n",
              "max       1.00      1.00                1.00             1.00           1.00   \n",
              "\n",
              "       Владельцы  bodyType_внедорожник  bodyType_кабриолет  bodyType_купе  \\\n",
              "count    1671.00               1671.00             1671.00        1671.00   \n",
              "mean        0.55                  0.35                0.01           0.07   \n",
              "std         0.41                  0.48                0.08           0.25   \n",
              "min         0.00                  0.00                0.00           0.00   \n",
              "25%         0.00                  0.00                0.00           0.00   \n",
              "50%         0.50                  0.00                0.00           0.00   \n",
              "75%         1.00                  1.00                0.00           0.00   \n",
              "max         1.00                  1.00                1.00           1.00   \n",
              "\n",
              "       bodyType_купе-хардтоп  ...  model_info_Z8  \\\n",
              "count                1671.00  ...        1671.00   \n",
              "mean                    0.01  ...           0.00   \n",
              "std                     0.11  ...           0.00   \n",
              "min                     0.00  ...           0.00   \n",
              "25%                     0.00  ...           0.00   \n",
              "50%                     0.00  ...           0.00   \n",
              "75%                     0.00  ...           0.00   \n",
              "max                     1.00  ...           0.00   \n",
              "\n",
              "       vehicleTransmission_автоматическая  vehicleTransmission_вариатор  \\\n",
              "count                             1671.00                       1671.00   \n",
              "mean                                 0.78                          0.05   \n",
              "std                                  0.42                          0.21   \n",
              "min                                  0.00                          0.00   \n",
              "25%                                  1.00                          0.00   \n",
              "50%                                  1.00                          0.00   \n",
              "75%                                  1.00                          0.00   \n",
              "max                                  1.00                          1.00   \n",
              "\n",
              "       vehicleTransmission_механическая  vehicleTransmission_роботизированная  \\\n",
              "count                           1671.00                               1671.00   \n",
              "mean                               0.03                                  0.14   \n",
              "std                                0.17                                  0.35   \n",
              "min                                0.00                                  0.00   \n",
              "25%                                0.00                                  0.00   \n",
              "50%                                0.00                                  0.00   \n",
              "75%                                0.00                                  0.00   \n",
              "max                                1.00                                  1.00   \n",
              "\n",
              "       ПТС_Дубликат  ПТС_Оригинал  Привод_задний  Привод_передний  \\\n",
              "count       1671.00       1671.00        1671.00          1671.00   \n",
              "mean           0.10          0.90           0.28             0.10   \n",
              "std            0.30          0.30           0.45             0.30   \n",
              "min            0.00          0.00           0.00             0.00   \n",
              "25%            0.00          1.00           0.00             0.00   \n",
              "50%            0.00          1.00           0.00             0.00   \n",
              "75%            0.00          1.00           1.00             0.00   \n",
              "max            1.00          1.00           1.00             1.00   \n",
              "\n",
              "       Привод_полный  \n",
              "count        1671.00  \n",
              "mean            0.62  \n",
              "std             0.49  \n",
              "min             0.00  \n",
              "25%             0.00  \n",
              "50%             1.00  \n",
              "75%             1.00  \n",
              "max             1.00  \n",
              "\n",
              "[8 rows x 159 columns]"
            ],
            "text/html": [
              "\n",
              "  <div id=\"df-692ab6c4-fa2e-463c-8a53-161093c8cd10\">\n",
              "    <div class=\"colab-df-container\">\n",
              "      <div>\n",
              "<style scoped>\n",
              "    .dataframe tbody tr th:only-of-type {\n",
              "        vertical-align: middle;\n",
              "    }\n",
              "\n",
              "    .dataframe tbody tr th {\n",
              "        vertical-align: top;\n",
              "    }\n",
              "\n",
              "    .dataframe thead th {\n",
              "        text-align: right;\n",
              "    }\n",
              "</style>\n",
              "<table border=\"1\" class=\"dataframe\">\n",
              "  <thead>\n",
              "    <tr style=\"text-align: right;\">\n",
              "      <th></th>\n",
              "      <th>mileage</th>\n",
              "      <th>age_avto</th>\n",
              "      <th>engineDisplacement</th>\n",
              "      <th>enginePower_log</th>\n",
              "      <th>numberOfDoors</th>\n",
              "      <th>Владельцы</th>\n",
              "      <th>bodyType_внедорожник</th>\n",
              "      <th>bodyType_кабриолет</th>\n",
              "      <th>bodyType_купе</th>\n",
              "      <th>bodyType_купе-хардтоп</th>\n",
              "      <th>...</th>\n",
              "      <th>model_info_Z8</th>\n",
              "      <th>vehicleTransmission_автоматическая</th>\n",
              "      <th>vehicleTransmission_вариатор</th>\n",
              "      <th>vehicleTransmission_механическая</th>\n",
              "      <th>vehicleTransmission_роботизированная</th>\n",
              "      <th>ПТС_Дубликат</th>\n",
              "      <th>ПТС_Оригинал</th>\n",
              "      <th>Привод_задний</th>\n",
              "      <th>Привод_передний</th>\n",
              "      <th>Привод_полный</th>\n",
              "    </tr>\n",
              "  </thead>\n",
              "  <tbody>\n",
              "    <tr>\n",
              "      <th>count</th>\n",
              "      <td>1671.00</td>\n",
              "      <td>1671.00</td>\n",
              "      <td>1671.00</td>\n",
              "      <td>1671.00</td>\n",
              "      <td>1671.00</td>\n",
              "      <td>1671.00</td>\n",
              "      <td>1671.00</td>\n",
              "      <td>1671.00</td>\n",
              "      <td>1671.00</td>\n",
              "      <td>1671.00</td>\n",
              "      <td>...</td>\n",
              "      <td>1671.00</td>\n",
              "      <td>1671.00</td>\n",
              "      <td>1671.00</td>\n",
              "      <td>1671.00</td>\n",
              "      <td>1671.00</td>\n",
              "      <td>1671.00</td>\n",
              "      <td>1671.00</td>\n",
              "      <td>1671.00</td>\n",
              "      <td>1671.00</td>\n",
              "      <td>1671.00</td>\n",
              "    </tr>\n",
              "    <tr>\n",
              "      <th>mean</th>\n",
              "      <td>0.12</td>\n",
              "      <td>0.21</td>\n",
              "      <td>0.42</td>\n",
              "      <td>0.44</td>\n",
              "      <td>0.75</td>\n",
              "      <td>0.55</td>\n",
              "      <td>0.35</td>\n",
              "      <td>0.01</td>\n",
              "      <td>0.07</td>\n",
              "      <td>0.01</td>\n",
              "      <td>...</td>\n",
              "      <td>0.00</td>\n",
              "      <td>0.78</td>\n",
              "      <td>0.05</td>\n",
              "      <td>0.03</td>\n",
              "      <td>0.14</td>\n",
              "      <td>0.10</td>\n",
              "      <td>0.90</td>\n",
              "      <td>0.28</td>\n",
              "      <td>0.10</td>\n",
              "      <td>0.62</td>\n",
              "    </tr>\n",
              "    <tr>\n",
              "      <th>std</th>\n",
              "      <td>0.08</td>\n",
              "      <td>0.14</td>\n",
              "      <td>0.16</td>\n",
              "      <td>0.19</td>\n",
              "      <td>0.30</td>\n",
              "      <td>0.41</td>\n",
              "      <td>0.48</td>\n",
              "      <td>0.08</td>\n",
              "      <td>0.25</td>\n",
              "      <td>0.11</td>\n",
              "      <td>...</td>\n",
              "      <td>0.00</td>\n",
              "      <td>0.42</td>\n",
              "      <td>0.21</td>\n",
              "      <td>0.17</td>\n",
              "      <td>0.35</td>\n",
              "      <td>0.30</td>\n",
              "      <td>0.30</td>\n",
              "      <td>0.45</td>\n",
              "      <td>0.30</td>\n",
              "      <td>0.49</td>\n",
              "    </tr>\n",
              "    <tr>\n",
              "      <th>min</th>\n",
              "      <td>0.00</td>\n",
              "      <td>0.00</td>\n",
              "      <td>0.00</td>\n",
              "      <td>0.00</td>\n",
              "      <td>0.00</td>\n",
              "      <td>0.00</td>\n",
              "      <td>0.00</td>\n",
              "      <td>0.00</td>\n",
              "      <td>0.00</td>\n",
              "      <td>0.00</td>\n",
              "      <td>...</td>\n",
              "      <td>0.00</td>\n",
              "      <td>0.00</td>\n",
              "      <td>0.00</td>\n",
              "      <td>0.00</td>\n",
              "      <td>0.00</td>\n",
              "      <td>0.00</td>\n",
              "      <td>0.00</td>\n",
              "      <td>0.00</td>\n",
              "      <td>0.00</td>\n",
              "      <td>0.00</td>\n",
              "    </tr>\n",
              "    <tr>\n",
              "      <th>25%</th>\n",
              "      <td>0.06</td>\n",
              "      <td>0.11</td>\n",
              "      <td>0.30</td>\n",
              "      <td>0.31</td>\n",
              "      <td>0.67</td>\n",
              "      <td>0.00</td>\n",
              "      <td>0.00</td>\n",
              "      <td>0.00</td>\n",
              "      <td>0.00</td>\n",
              "      <td>0.00</td>\n",
              "      <td>...</td>\n",
              "      <td>0.00</td>\n",
              "      <td>1.00</td>\n",
              "      <td>0.00</td>\n",
              "      <td>0.00</td>\n",
              "      <td>0.00</td>\n",
              "      <td>0.00</td>\n",
              "      <td>1.00</td>\n",
              "      <td>0.00</td>\n",
              "      <td>0.00</td>\n",
              "      <td>0.00</td>\n",
              "    </tr>\n",
              "    <tr>\n",
              "      <th>50%</th>\n",
              "      <td>0.11</td>\n",
              "      <td>0.18</td>\n",
              "      <td>0.41</td>\n",
              "      <td>0.43</td>\n",
              "      <td>0.67</td>\n",
              "      <td>0.50</td>\n",
              "      <td>0.00</td>\n",
              "      <td>0.00</td>\n",
              "      <td>0.00</td>\n",
              "      <td>0.00</td>\n",
              "      <td>...</td>\n",
              "      <td>0.00</td>\n",
              "      <td>1.00</td>\n",
              "      <td>0.00</td>\n",
              "      <td>0.00</td>\n",
              "      <td>0.00</td>\n",
              "      <td>0.00</td>\n",
              "      <td>1.00</td>\n",
              "      <td>0.00</td>\n",
              "      <td>0.00</td>\n",
              "      <td>1.00</td>\n",
              "    </tr>\n",
              "    <tr>\n",
              "      <th>75%</th>\n",
              "      <td>0.17</td>\n",
              "      <td>0.29</td>\n",
              "      <td>0.45</td>\n",
              "      <td>0.57</td>\n",
              "      <td>1.00</td>\n",
              "      <td>1.00</td>\n",
              "      <td>1.00</td>\n",
              "      <td>0.00</td>\n",
              "      <td>0.00</td>\n",
              "      <td>0.00</td>\n",
              "      <td>...</td>\n",
              "      <td>0.00</td>\n",
              "      <td>1.00</td>\n",
              "      <td>0.00</td>\n",
              "      <td>0.00</td>\n",
              "      <td>0.00</td>\n",
              "      <td>0.00</td>\n",
              "      <td>1.00</td>\n",
              "      <td>1.00</td>\n",
              "      <td>0.00</td>\n",
              "      <td>1.00</td>\n",
              "    </tr>\n",
              "    <tr>\n",
              "      <th>max</th>\n",
              "      <td>1.00</td>\n",
              "      <td>1.00</td>\n",
              "      <td>1.00</td>\n",
              "      <td>1.00</td>\n",
              "      <td>1.00</td>\n",
              "      <td>1.00</td>\n",
              "      <td>1.00</td>\n",
              "      <td>1.00</td>\n",
              "      <td>1.00</td>\n",
              "      <td>1.00</td>\n",
              "      <td>...</td>\n",
              "      <td>0.00</td>\n",
              "      <td>1.00</td>\n",
              "      <td>1.00</td>\n",
              "      <td>1.00</td>\n",
              "      <td>1.00</td>\n",
              "      <td>1.00</td>\n",
              "      <td>1.00</td>\n",
              "      <td>1.00</td>\n",
              "      <td>1.00</td>\n",
              "      <td>1.00</td>\n",
              "    </tr>\n",
              "  </tbody>\n",
              "</table>\n",
              "<p>8 rows × 159 columns</p>\n",
              "</div>\n",
              "      <button class=\"colab-df-convert\" onclick=\"convertToInteractive('df-692ab6c4-fa2e-463c-8a53-161093c8cd10')\"\n",
              "              title=\"Convert this dataframe to an interactive table.\"\n",
              "              style=\"display:none;\">\n",
              "        \n",
              "  <svg xmlns=\"http://www.w3.org/2000/svg\" height=\"24px\"viewBox=\"0 0 24 24\"\n",
              "       width=\"24px\">\n",
              "    <path d=\"M0 0h24v24H0V0z\" fill=\"none\"/>\n",
              "    <path d=\"M18.56 5.44l.94 2.06.94-2.06 2.06-.94-2.06-.94-.94-2.06-.94 2.06-2.06.94zm-11 1L8.5 8.5l.94-2.06 2.06-.94-2.06-.94L8.5 2.5l-.94 2.06-2.06.94zm10 10l.94 2.06.94-2.06 2.06-.94-2.06-.94-.94-2.06-.94 2.06-2.06.94z\"/><path d=\"M17.41 7.96l-1.37-1.37c-.4-.4-.92-.59-1.43-.59-.52 0-1.04.2-1.43.59L10.3 9.45l-7.72 7.72c-.78.78-.78 2.05 0 2.83L4 21.41c.39.39.9.59 1.41.59.51 0 1.02-.2 1.41-.59l7.78-7.78 2.81-2.81c.8-.78.8-2.07 0-2.86zM5.41 20L4 18.59l7.72-7.72 1.47 1.35L5.41 20z\"/>\n",
              "  </svg>\n",
              "      </button>\n",
              "      \n",
              "  <style>\n",
              "    .colab-df-container {\n",
              "      display:flex;\n",
              "      flex-wrap:wrap;\n",
              "      gap: 12px;\n",
              "    }\n",
              "\n",
              "    .colab-df-convert {\n",
              "      background-color: #E8F0FE;\n",
              "      border: none;\n",
              "      border-radius: 50%;\n",
              "      cursor: pointer;\n",
              "      display: none;\n",
              "      fill: #1967D2;\n",
              "      height: 32px;\n",
              "      padding: 0 0 0 0;\n",
              "      width: 32px;\n",
              "    }\n",
              "\n",
              "    .colab-df-convert:hover {\n",
              "      background-color: #E2EBFA;\n",
              "      box-shadow: 0px 1px 2px rgba(60, 64, 67, 0.3), 0px 1px 3px 1px rgba(60, 64, 67, 0.15);\n",
              "      fill: #174EA6;\n",
              "    }\n",
              "\n",
              "    [theme=dark] .colab-df-convert {\n",
              "      background-color: #3B4455;\n",
              "      fill: #D2E3FC;\n",
              "    }\n",
              "\n",
              "    [theme=dark] .colab-df-convert:hover {\n",
              "      background-color: #434B5C;\n",
              "      box-shadow: 0px 1px 3px 1px rgba(0, 0, 0, 0.15);\n",
              "      filter: drop-shadow(0px 1px 2px rgba(0, 0, 0, 0.3));\n",
              "      fill: #FFFFFF;\n",
              "    }\n",
              "  </style>\n",
              "\n",
              "      <script>\n",
              "        const buttonEl =\n",
              "          document.querySelector('#df-692ab6c4-fa2e-463c-8a53-161093c8cd10 button.colab-df-convert');\n",
              "        buttonEl.style.display =\n",
              "          google.colab.kernel.accessAllowed ? 'block' : 'none';\n",
              "\n",
              "        async function convertToInteractive(key) {\n",
              "          const element = document.querySelector('#df-692ab6c4-fa2e-463c-8a53-161093c8cd10');\n",
              "          const dataTable =\n",
              "            await google.colab.kernel.invokeFunction('convertToInteractive',\n",
              "                                                     [key], {});\n",
              "          if (!dataTable) return;\n",
              "\n",
              "          const docLinkHtml = 'Like what you see? Visit the ' +\n",
              "            '<a target=\"_blank\" href=https://colab.research.google.com/notebooks/data_table.ipynb>data table notebook</a>'\n",
              "            + ' to learn more about interactive tables.';\n",
              "          element.innerHTML = '';\n",
              "          dataTable['output_type'] = 'display_data';\n",
              "          await google.colab.output.renderOutput(dataTable, element);\n",
              "          const docLink = document.createElement('div');\n",
              "          docLink.innerHTML = docLinkHtml;\n",
              "          element.appendChild(docLink);\n",
              "        }\n",
              "      </script>\n",
              "    </div>\n",
              "  </div>\n",
              "  "
            ]
          },
          "metadata": {},
          "execution_count": 56
        }
      ]
    },
    {
      "cell_type": "code",
      "source": [
        "# Разбиваем на обучающую и валидационную выборки\n",
        "X_train, X_valid, Y_train, Y_valid = train_test_split(X, Y, test_size=0.25, random_state=SEED, shuffle=True)"
      ],
      "metadata": {
        "id": "9nGRL8mqp9M2"
      },
      "execution_count": 57,
      "outputs": []
    },
    {
      "cell_type": "markdown",
      "source": [
        "## Работа с изображениями"
      ],
      "metadata": {
        "id": "Y1T8pLtuNMCf"
      }
    },
    {
      "cell_type": "markdown",
      "source": [
        "## Обучение модели"
      ],
      "metadata": {
        "id": "5o2Z2F2wsBSR"
      }
    },
    {
      "cell_type": "code",
      "source": [
        "from tensorflow import keras\n",
        "from tensorflow.keras.models import Sequential\n",
        "from tensorflow.keras.layers import Dense, Conv2D, MaxPooling2D, Flatten, Dropout, BatchNormalization\n",
        "from tensorflow.keras.optimizers import Adam\n",
        "from tensorflow.keras.callbacks import ModelCheckpoint, EarlyStopping\n"
      ],
      "metadata": {
        "id": "ttnaCNfgabFW"
      },
      "execution_count": 58,
      "outputs": []
    },
    {
      "cell_type": "code",
      "source": [
        "# создаем модель\n",
        "model = Sequential([Dense(512, input_dim=X_train.shape[1], activation=\"relu\"),\n",
        "                    Dropout(0.5),\n",
        "                    BatchNormalization(), \n",
        "                    Dense(256, activation=\"relu\"),\n",
        "                    Dropout(0.5),\n",
        "                    Dense(1, activation=\"linear\")])\n"
      ],
      "metadata": {
        "id": "UItqEn0Wr6pl"
      },
      "execution_count": 69,
      "outputs": []
    },
    {
      "cell_type": "code",
      "source": [
        "model.summary()"
      ],
      "metadata": {
        "id": "ErcN0krY6ATR",
        "colab": {
          "base_uri": "https://localhost:8080/"
        },
        "outputId": "b0beb3d4-f2b0-42f9-d846-8c7522c81254"
      },
      "execution_count": 70,
      "outputs": [
        {
          "output_type": "stream",
          "name": "stdout",
          "text": [
            "Model: \"sequential_2\"\n",
            "_________________________________________________________________\n",
            " Layer (type)                Output Shape              Param #   \n",
            "=================================================================\n",
            " dense_7 (Dense)             (None, 512)               81920     \n",
            "                                                                 \n",
            " dropout_5 (Dropout)         (None, 512)               0         \n",
            "                                                                 \n",
            " batch_normalization_2 (Batc  (None, 512)              2048      \n",
            " hNormalization)                                                 \n",
            "                                                                 \n",
            " dense_8 (Dense)             (None, 256)               131328    \n",
            "                                                                 \n",
            " dropout_6 (Dropout)         (None, 256)               0         \n",
            "                                                                 \n",
            " dense_9 (Dense)             (None, 1)                 257       \n",
            "                                                                 \n",
            "=================================================================\n",
            "Total params: 215,553\n",
            "Trainable params: 214,529\n",
            "Non-trainable params: 1,024\n",
            "_________________________________________________________________\n"
          ]
        }
      ]
    },
    {
      "cell_type": "code",
      "source": [
        "optimizer = Adam(0.01)\n",
        "model.compile(loss='MAPE',optimizer=optimizer, metrics=['MAPE'])"
      ],
      "metadata": {
        "id": "678R2WJRcqIY"
      },
      "execution_count": 71,
      "outputs": []
    },
    {
      "cell_type": "code",
      "source": [
        "checkpoint = ModelCheckpoint(path_data +'/best_model.hdf5' , monitor=['val_MAPE'], verbose=0  , mode='min')\n",
        "earlystop = EarlyStopping(monitor='val_MAPE', patience=50, restore_best_weights=True,)\n",
        "callbacks_list = [checkpoint, earlystop]"
      ],
      "metadata": {
        "id": "zAoqPEhwcqLI"
      },
      "execution_count": 72,
      "outputs": []
    },
    {
      "cell_type": "code",
      "source": [
        "history = model.fit(X_train, Y_train,\n",
        "                    batch_size=512,\n",
        "                    epochs=500, # фактически мы обучаем пока EarlyStopping не остановит обучение\n",
        "                    validation_data=(X_valid, Y_valid),\n",
        "                    callbacks=callbacks_list,\n",
        "                    verbose=0,\n",
        "                   )"
      ],
      "metadata": {
        "id": "VDlFrwB6cqPk"
      },
      "execution_count": 73,
      "outputs": []
    },
    {
      "cell_type": "code",
      "source": [
        "plt.title('Loss')\n",
        "plt.plot(history.history['MAPE'], label='train')\n",
        "plt.plot(history.history['val_MAPE'], label='test')\n",
        "plt.legend()\n",
        "plt.show();\n"
      ],
      "metadata": {
        "colab": {
          "base_uri": "https://localhost:8080/",
          "height": 281
        },
        "id": "jEpIToRbcqSb",
        "outputId": "8748f77c-67d8-42a9-d630-4067fbc8f240"
      },
      "execution_count": 74,
      "outputs": [
        {
          "output_type": "display_data",
          "data": {
            "text/plain": [
              "<Figure size 432x288 with 1 Axes>"
            ],
            "image/png": "[encoded data removed]"
          },
          "metadata": {
            "needs_background": "light"
          }
        }
      ]
    },
    {
      "cell_type": "code",
      "source": [
        "model.load_weights(path_data +'/best_model.hdf5')\n",
        "#model.save('../working/nn_1.hdf5')"
      ],
      "metadata": {
        "id": "hkOEqt6FcqVs"
      },
      "execution_count": 75,
      "outputs": []
    },
    {
      "cell_type": "code",
      "source": [
        "y_valid_predict = model.predict(X_valid)\n",
        "print(f\"TEST mape: {(mean_absolute_percentage_error(Y_valid, y_valid_predict[:,0]))*100:0.2f}%\")"
      ],
      "metadata": {
        "colab": {
          "base_uri": "https://localhost:8080/"
        },
        "id": "PBEPqHqslxHj",
        "outputId": "59c1b5fc-ab09-4913-ffad-63205fca6a2e"
      },
      "execution_count": 76,
      "outputs": [
        {
          "output_type": "stream",
          "name": "stdout",
          "text": [
            "TEST mape: 12.60%\n"
          ]
        }
      ]
    },
    {
      "cell_type": "code",
      "source": [
        "stop"
      ],
      "metadata": {
        "id": "a53PG9h5lSZy"
      },
      "execution_count": null,
      "outputs": []
    },
    {
      "cell_type": "markdown",
      "source": [
        "## Предсказание"
      ],
      "metadata": {
        "id": "Ju2z_VGmsVhj"
      }
    },
    {
      "cell_type": "code",
      "source": [
        "# предсказываем результат \n",
        "y_test_predict = model.predict(X_test)"
      ],
      "metadata": {
        "id": "qt83DpV7s05x"
      },
      "execution_count": 77,
      "outputs": []
    },
    {
      "cell_type": "code",
      "source": [
        "y_test_predict"
      ],
      "metadata": {
        "colab": {
          "base_uri": "https://localhost:8080/"
        },
        "id": "_2ehvahYz-66",
        "outputId": "fbe71e86-13c7-413e-de46-fc8ed28b5182"
      },
      "execution_count": 78,
      "outputs": [
        {
          "output_type": "execute_result",
          "data": {
            "text/plain": [
              "array([[ 425103.62],\n",
              "       [2201827.5 ],\n",
              "       [ 615394.25],\n",
              "       ...,\n",
              "       [1407742.6 ],\n",
              "       [ 997804.75],\n",
              "       [1079846.1 ]], dtype=float32)"
            ]
          },
          "metadata": {},
          "execution_count": 78
        }
      ]
    },
    {
      "cell_type": "code",
      "source": [
        "#y_test_predict = np.exp(y_test_predict)"
      ],
      "metadata": {
        "id": "EOvOPieatP5j"
      },
      "execution_count": null,
      "outputs": []
    },
    {
      "cell_type": "code",
      "source": [
        "submission = pd.read_csv(path_data+'sample_submission.csv')\n",
        "submission['price'] = y_test_predict\n",
        "submission.to_csv(path_data+'sample_submission_neural_network.csv', index=False)"
      ],
      "metadata": {
        "id": "COtBJyy2s9o6"
      },
      "execution_count": 79,
      "outputs": []
    },
    {
      "cell_type": "code",
      "source": [
        "submission"
      ],
      "metadata": {
        "colab": {
          "base_uri": "https://localhost:8080/",
          "height": 423
        },
        "id": "BDcA4EjC0dm3",
        "outputId": "c719bfb1-08c7-4b1d-abfb-5d642688a6dc"
      },
      "execution_count": 80,
      "outputs": [
        {
          "output_type": "execute_result",
          "data": {
            "text/plain": [
              "         sell_id      price\n",
              "0     1099427284  425103.62\n",
              "1     1096405886 2201827.50\n",
              "2     1100195294  615394.25\n",
              "3     1099827282  444452.44\n",
              "4     1100076198 2572648.25\n",
              "...          ...        ...\n",
              "1666  1099414488  787154.19\n",
              "1667  1099277058 2526036.25\n",
              "1668  1098773964 1407742.62\n",
              "1669  1098835932  997804.75\n",
              "1670  1099834690 1079846.12\n",
              "\n",
              "[1671 rows x 2 columns]"
            ],
            "text/html": [
              "\n",
              "  <div id=\"df-0a1da24d-fc10-4544-aab3-3355ef554af2\">\n",
              "    <div class=\"colab-df-container\">\n",
              "      <div>\n",
              "<style scoped>\n",
              "    .dataframe tbody tr th:only-of-type {\n",
              "        vertical-align: middle;\n",
              "    }\n",
              "\n",
              "    .dataframe tbody tr th {\n",
              "        vertical-align: top;\n",
              "    }\n",
              "\n",
              "    .dataframe thead th {\n",
              "        text-align: right;\n",
              "    }\n",
              "</style>\n",
              "<table border=\"1\" class=\"dataframe\">\n",
              "  <thead>\n",
              "    <tr style=\"text-align: right;\">\n",
              "      <th></th>\n",
              "      <th>sell_id</th>\n",
              "      <th>price</th>\n",
              "    </tr>\n",
              "  </thead>\n",
              "  <tbody>\n",
              "    <tr>\n",
              "      <th>0</th>\n",
              "      <td>1099427284</td>\n",
              "      <td>425103.62</td>\n",
              "    </tr>\n",
              "    <tr>\n",
              "      <th>1</th>\n",
              "      <td>1096405886</td>\n",
              "      <td>2201827.50</td>\n",
              "    </tr>\n",
              "    <tr>\n",
              "      <th>2</th>\n",
              "      <td>1100195294</td>\n",
              "      <td>615394.25</td>\n",
              "    </tr>\n",
              "    <tr>\n",
              "      <th>3</th>\n",
              "      <td>1099827282</td>\n",
              "      <td>444452.44</td>\n",
              "    </tr>\n",
              "    <tr>\n",
              "      <th>4</th>\n",
              "      <td>1100076198</td>\n",
              "      <td>2572648.25</td>\n",
              "    </tr>\n",
              "    <tr>\n",
              "      <th>...</th>\n",
              "      <td>...</td>\n",
              "      <td>...</td>\n",
              "    </tr>\n",
              "    <tr>\n",
              "      <th>1666</th>\n",
              "      <td>1099414488</td>\n",
              "      <td>787154.19</td>\n",
              "    </tr>\n",
              "    <tr>\n",
              "      <th>1667</th>\n",
              "      <td>1099277058</td>\n",
              "      <td>2526036.25</td>\n",
              "    </tr>\n",
              "    <tr>\n",
              "      <th>1668</th>\n",
              "      <td>1098773964</td>\n",
              "      <td>1407742.62</td>\n",
              "    </tr>\n",
              "    <tr>\n",
              "      <th>1669</th>\n",
              "      <td>1098835932</td>\n",
              "      <td>997804.75</td>\n",
              "    </tr>\n",
              "    <tr>\n",
              "      <th>1670</th>\n",
              "      <td>1099834690</td>\n",
              "      <td>1079846.12</td>\n",
              "    </tr>\n",
              "  </tbody>\n",
              "</table>\n",
              "<p>1671 rows × 2 columns</p>\n",
              "</div>\n",
              "      <button class=\"colab-df-convert\" onclick=\"convertToInteractive('df-0a1da24d-fc10-4544-aab3-3355ef554af2')\"\n",
              "              title=\"Convert this dataframe to an interactive table.\"\n",
              "              style=\"display:none;\">\n",
              "        \n",
              "  <svg xmlns=\"http://www.w3.org/2000/svg\" height=\"24px\"viewBox=\"0 0 24 24\"\n",
              "       width=\"24px\">\n",
              "    <path d=\"M0 0h24v24H0V0z\" fill=\"none\"/>\n",
              "    <path d=\"M18.56 5.44l.94 2.06.94-2.06 2.06-.94-2.06-.94-.94-2.06-.94 2.06-2.06.94zm-11 1L8.5 8.5l.94-2.06 2.06-.94-2.06-.94L8.5 2.5l-.94 2.06-2.06.94zm10 10l.94 2.06.94-2.06 2.06-.94-2.06-.94-.94-2.06-.94 2.06-2.06.94z\"/><path d=\"M17.41 7.96l-1.37-1.37c-.4-.4-.92-.59-1.43-.59-.52 0-1.04.2-1.43.59L10.3 9.45l-7.72 7.72c-.78.78-.78 2.05 0 2.83L4 21.41c.39.39.9.59 1.41.59.51 0 1.02-.2 1.41-.59l7.78-7.78 2.81-2.81c.8-.78.8-2.07 0-2.86zM5.41 20L4 18.59l7.72-7.72 1.47 1.35L5.41 20z\"/>\n",
              "  </svg>\n",
              "      </button>\n",
              "      \n",
              "  <style>\n",
              "    .colab-df-container {\n",
              "      display:flex;\n",
              "      flex-wrap:wrap;\n",
              "      gap: 12px;\n",
              "    }\n",
              "\n",
              "    .colab-df-convert {\n",
              "      background-color: #E8F0FE;\n",
              "      border: none;\n",
              "      border-radius: 50%;\n",
              "      cursor: pointer;\n",
              "      display: none;\n",
              "      fill: #1967D2;\n",
              "      height: 32px;\n",
              "      padding: 0 0 0 0;\n",
              "      width: 32px;\n",
              "    }\n",
              "\n",
              "    .colab-df-convert:hover {\n",
              "      background-color: #E2EBFA;\n",
              "      box-shadow: 0px 1px 2px rgba(60, 64, 67, 0.3), 0px 1px 3px 1px rgba(60, 64, 67, 0.15);\n",
              "      fill: #174EA6;\n",
              "    }\n",
              "\n",
              "    [theme=dark] .colab-df-convert {\n",
              "      background-color: #3B4455;\n",
              "      fill: #D2E3FC;\n",
              "    }\n",
              "\n",
              "    [theme=dark] .colab-df-convert:hover {\n",
              "      background-color: #434B5C;\n",
              "      box-shadow: 0px 1px 3px 1px rgba(0, 0, 0, 0.15);\n",
              "      filter: drop-shadow(0px 1px 2px rgba(0, 0, 0, 0.3));\n",
              "      fill: #FFFFFF;\n",
              "    }\n",
              "  </style>\n",
              "\n",
              "      <script>\n",
              "        const buttonEl =\n",
              "          document.querySelector('#df-0a1da24d-fc10-4544-aab3-3355ef554af2 button.colab-df-convert');\n",
              "        buttonEl.style.display =\n",
              "          google.colab.kernel.accessAllowed ? 'block' : 'none';\n",
              "\n",
              "        async function convertToInteractive(key) {\n",
              "          const element = document.querySelector('#df-0a1da24d-fc10-4544-aab3-3355ef554af2');\n",
              "          const dataTable =\n",
              "            await google.colab.kernel.invokeFunction('convertToInteractive',\n",
              "                                                     [key], {});\n",
              "          if (!dataTable) return;\n",
              "\n",
              "          const docLinkHtml = 'Like what you see? Visit the ' +\n",
              "            '<a target=\"_blank\" href=https://colab.research.google.com/notebooks/data_table.ipynb>data table notebook</a>'\n",
              "            + ' to learn more about interactive tables.';\n",
              "          element.innerHTML = '';\n",
              "          dataTable['output_type'] = 'display_data';\n",
              "          await google.colab.output.renderOutput(dataTable, element);\n",
              "          const docLink = document.createElement('div');\n",
              "          docLink.innerHTML = docLinkHtml;\n",
              "          element.appendChild(docLink);\n",
              "        }\n",
              "      </script>\n",
              "    </div>\n",
              "  </div>\n",
              "  "
            ]
          },
          "metadata": {},
          "execution_count": 80
        }
      ]
    }
  ]
}