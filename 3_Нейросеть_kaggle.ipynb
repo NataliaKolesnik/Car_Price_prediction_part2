{
  "metadata": {
    "kernelspec": {
      "language": "python",
      "display_name": "Python 3",
      "name": "python3"
    },
    "language_info": {
      "name": "python",
      "version": "3.7.12",
      "mimetype": "text/x-python",
      "codemirror_mode": {
        "name": "ipython",
        "version": 3
      },
      "pygments_lexer": "ipython3",
      "nbconvert_exporter": "python",
      "file_extension": ".py"
    },
    "colab": {
      "name": "3_Нейросеть_kaggle.ipynb",
      "provenance": [],
      "include_colab_link": true
    }
  },
  "nbformat_minor": 0,
  "nbformat": 4,
  "cells": [
    {
      "cell_type": "markdown",
      "metadata": {
        "id": "view-in-github",
        "colab_type": "text"
      },
      "source": [
        "<a href=\"https://colab.research.google.com/github/NataliaKolesnik/Car_Price_prediction_part2/blob/master/3_%D0%9D%D0%B5%D0%B9%D1%80%D0%BE%D1%81%D0%B5%D1%82%D1%8C_kaggle.ipynb\" target=\"_parent\"><img src=\"https://colab.research.google.com/assets/colab-badge.svg\" alt=\"Open In Colab\"/></a>"
      ]
    },
    {
      "cell_type": "code",
      "source": [
        "# This Python 3 environment comes with many helpful analytics libraries installed\n",
        "# It is defined by the kaggle/python Docker image: https://github.com/kaggle/docker-python\n",
        "# For example, here's several helpful packages to load\n",
        "\n",
        "import numpy as np # linear algebra\n",
        "import pandas as pd # data processing, CSV file I/O (e.g. pd.read_csv)\n",
        "\n",
        "# Input data files are available in the read-only \"../input/\" directory\n",
        "# For example, running this (by clicking run or pressing Shift+Enter) will list all files under the input directory\n",
        "\n",
        "import os\n",
        "# for dirname, _, filenames in os.walk('/kaggle/input'):\n",
        "#     for filename in filenames:\n",
        "#         print(os.path.join(dirname, filename))\n",
        "\n",
        "# You can write up to 20GB to the current directory (/kaggle/working/) that gets preserved as output when you create a version using \"Save & Run All\" \n",
        "# You can also write temporary files to /kaggle/temp/, but they won't be saved outside of the current session"
      ],
      "metadata": {
        "id": "0VSMfuPpz0_F",
        "execution": {
          "iopub.status.busy": "2022-07-24T16:26:30.055845Z",
          "iopub.execute_input": "2022-07-24T16:26:30.056766Z",
          "iopub.status.idle": "2022-07-24T16:26:30.069076Z",
          "shell.execute_reply.started": "2022-07-24T16:26:30.056671Z",
          "shell.execute_reply": "2022-07-24T16:26:30.068156Z"
        },
        "trusted": true
      },
      "execution_count": null,
      "outputs": []
    },
    {
      "cell_type": "code",
      "source": [
        "# from google.colab import drive\n",
        "# drive.mount('/content/drive/')"
      ],
      "metadata": {
        "id": "lUVPu9JgMAWX",
        "execution": {
          "iopub.status.busy": "2022-07-24T16:26:30.109425Z",
          "iopub.execute_input": "2022-07-24T16:26:30.109785Z",
          "iopub.status.idle": "2022-07-24T16:26:30.114629Z",
          "shell.execute_reply.started": "2022-07-24T16:26:30.109754Z",
          "shell.execute_reply": "2022-07-24T16:26:30.113385Z"
        },
        "trusted": true
      },
      "execution_count": null,
      "outputs": []
    },
    {
      "cell_type": "code",
      "source": [
        "!pip install pymorphy2"
      ],
      "metadata": {
        "id": "0r8IsdvufOOs",
        "execution": {
          "iopub.status.busy": "2022-07-24T16:26:30.136529Z",
          "iopub.execute_input": "2022-07-24T16:26:30.137251Z",
          "iopub.status.idle": "2022-07-24T16:26:41.244185Z",
          "shell.execute_reply.started": "2022-07-24T16:26:30.137216Z",
          "shell.execute_reply": "2022-07-24T16:26:41.242949Z"
        },
        "trusted": true
      },
      "execution_count": null,
      "outputs": []
    },
    {
      "cell_type": "code",
      "source": [
        "!pip install -U pymorphy2-dicts-ru"
      ],
      "metadata": {
        "id": "izwFUbUifZ04",
        "execution": {
          "iopub.status.busy": "2022-07-24T16:26:41.248002Z",
          "iopub.execute_input": "2022-07-24T16:26:41.248317Z",
          "iopub.status.idle": "2022-07-24T16:26:50.776832Z",
          "shell.execute_reply.started": "2022-07-24T16:26:41.248287Z",
          "shell.execute_reply": "2022-07-24T16:26:50.775606Z"
        },
        "trusted": true
      },
      "execution_count": null,
      "outputs": []
    },
    {
      "cell_type": "code",
      "source": [
        "#path_data = '/content/drive/MyDrive/SF_project_8/data/'\n",
        "path_data = '/kaggle/working/'"
      ],
      "metadata": {
        "id": "kxZ5dWUTQWeP",
        "execution": {
          "iopub.status.busy": "2022-07-24T16:26:50.779827Z",
          "iopub.execute_input": "2022-07-24T16:26:50.780248Z",
          "iopub.status.idle": "2022-07-24T16:26:50.785199Z",
          "shell.execute_reply.started": "2022-07-24T16:26:50.780203Z",
          "shell.execute_reply": "2022-07-24T16:26:50.784101Z"
        },
        "trusted": true
      },
      "execution_count": null,
      "outputs": []
    },
    {
      "cell_type": "markdown",
      "source": [
        "## Библиотеки"
      ],
      "metadata": {
        "id": "tTq99THhQcPG"
      }
    },
    {
      "cell_type": "code",
      "source": [
        "import pandas as pd\n",
        "import numpy as np\n",
        "import re\n",
        "from tqdm import tqdm\n",
        "tqdm.pandas()\n",
        "import matplotlib.pyplot as plt\n",
        "import seaborn as sns\n",
        "\n",
        "from sklearn.preprocessing import MinMaxScaler\n",
        "from sklearn.model_selection import train_test_split\n",
        "from sklearn.metrics import mean_absolute_percentage_error\n",
        "\n",
        "import pymorphy2\n",
        "\n",
        "import tensorflow as tf\n",
        "from tensorflow import keras\n",
        "from tensorflow.keras.models import Sequential, Model\n",
        "from tensorflow.keras import layers as L\n",
        "from tensorflow.keras.optimizers import Adam\n",
        "from tensorflow.keras.callbacks import ModelCheckpoint, EarlyStopping\n",
        "from tensorflow.keras.preprocessing.text import Tokenizer\n",
        "from tensorflow.keras.preprocessing.sequence import pad_sequences\n",
        "import PIL # Pillow — библиотека для работы с изображениями \n",
        "import cv2\n",
        "\n",
        "from albumentations import (\n",
        "    HorizontalFlip, IAAPerspective, ShiftScaleRotate, CLAHE, RandomRotate90,\n",
        "    Transpose, ShiftScaleRotate, Blur, OpticalDistortion, GridDistortion, HueSaturationValue,\n",
        "    IAAAdditiveGaussianNoise, GaussNoise, MotionBlur, MedianBlur, IAAPiecewiseAffine,\n",
        "    IAASharpen, IAAEmboss, RandomBrightnessContrast, Flip, OneOf, Compose\n",
        ")\n"
      ],
      "metadata": {
        "id": "nDrjHGgGQZGA",
        "execution": {
          "iopub.status.busy": "2022-07-24T16:26:50.788859Z",
          "iopub.execute_input": "2022-07-24T16:26:50.789526Z",
          "iopub.status.idle": "2022-07-24T16:26:56.554658Z",
          "shell.execute_reply.started": "2022-07-24T16:26:50.789485Z",
          "shell.execute_reply": "2022-07-24T16:26:56.553499Z"
        },
        "trusted": true
      },
      "execution_count": null,
      "outputs": []
    },
    {
      "cell_type": "code",
      "source": [
        "pd.set_option('display.float_format', '{:.2f}'.format)\n",
        "\n",
        "SEED = 0\n",
        "\n",
        "FONT_TITLE = 25\n",
        "FONT_LABEL = 15"
      ],
      "metadata": {
        "id": "_P6uIRWaROsB",
        "execution": {
          "iopub.status.busy": "2022-07-24T16:26:56.555985Z",
          "iopub.execute_input": "2022-07-24T16:26:56.556703Z",
          "iopub.status.idle": "2022-07-24T16:26:56.563486Z",
          "shell.execute_reply.started": "2022-07-24T16:26:56.556661Z",
          "shell.execute_reply": "2022-07-24T16:26:56.561753Z"
        },
        "trusted": true
      },
      "execution_count": null,
      "outputs": []
    },
    {
      "cell_type": "markdown",
      "source": [
        "## Загрузка и подготовка данных для обучения"
      ],
      "metadata": {
        "id": "UNh0vHL0R9IH"
      }
    },
    {
      "cell_type": "code",
      "source": [
        "df_train = pd.read_csv('../input/car-price-part2-230722/train_for_ML.csv')\n",
        "df_test = pd.read_csv('../input/car-price-part2-230722/test_for_ML.csv')"
      ],
      "metadata": {
        "id": "d7UOXpmzR28x",
        "execution": {
          "iopub.status.busy": "2022-07-24T16:26:56.565290Z",
          "iopub.execute_input": "2022-07-24T16:26:56.565733Z",
          "iopub.status.idle": "2022-07-24T16:26:56.938192Z",
          "shell.execute_reply.started": "2022-07-24T16:26:56.565695Z",
          "shell.execute_reply": "2022-07-24T16:26:56.937092Z"
        },
        "trusted": true
      },
      "execution_count": null,
      "outputs": []
    },
    {
      "cell_type": "code",
      "source": [
        "df_train.columns"
      ],
      "metadata": {
        "execution": {
          "iopub.status.busy": "2022-07-24T16:26:56.939864Z",
          "iopub.execute_input": "2022-07-24T16:26:56.940221Z",
          "iopub.status.idle": "2022-07-24T16:26:56.949227Z",
          "shell.execute_reply.started": "2022-07-24T16:26:56.940183Z",
          "shell.execute_reply": "2022-07-24T16:26:56.948155Z"
        },
        "trusted": true,
        "id": "jnYiv-kQOrqc"
      },
      "execution_count": null,
      "outputs": []
    },
    {
      "cell_type": "code",
      "source": [
        "# Списки со всеми признаками\n",
        "\n",
        "categorical_features = ['bodyType', 'brand', 'model_info', 'color', \n",
        "                             'fuelType', 'vehicleTransmission', 'ПТС', 'Привод', 'Владельцы_кат']\n",
        "\n",
        "numerical_features = ['engineDisplacement', 'enginePower_log', 'mileage', \n",
        "                           'age_avto', 'mileage_/_age_avto', 'productionDate', \n",
        "                           'numberOfDoors', 'xDrive',]\n",
        "text_features = ['brand_model', 'description']\n",
        "\n",
        "img_features = ['sell_id']\n",
        "\n",
        "target = ['price', 'price_log']"
      ],
      "metadata": {
        "id": "VhO134Y7R3Jy",
        "execution": {
          "iopub.status.busy": "2022-07-24T16:26:56.951019Z",
          "iopub.execute_input": "2022-07-24T16:26:56.951848Z",
          "iopub.status.idle": "2022-07-24T16:26:56.959017Z",
          "shell.execute_reply.started": "2022-07-24T16:26:56.951809Z",
          "shell.execute_reply": "2022-07-24T16:26:56.957777Z"
        },
        "trusted": true
      },
      "execution_count": null,
      "outputs": []
    },
    {
      "cell_type": "code",
      "source": [
        "# Стандартизируем числовые данные и категориальные в get_dummies\n",
        "\n",
        "df_test['price'] = 0\n",
        "df_test['price_log'] = 0\n",
        "\n",
        "df_train = df_train[categorical_features + numerical_features + text_features + img_features + target]\n",
        "df_test = df_test[categorical_features + numerical_features + text_features + img_features + target]\n",
        "\n",
        "df_train['sample'] = 1\n",
        "df_test['sample'] = 0\n",
        "\n",
        "# Объединение датасетов\n",
        "df_join = pd.concat([df_train, df_test])\n",
        "\n",
        "# Стандартизация числовых признаков\n",
        "scaler = MinMaxScaler()\n",
        "df_join[numerical_features] = scaler.fit_transform(df_join[numerical_features])\n",
        "\n",
        "# Кодирование категориальных\n",
        "df_join = pd.get_dummies(df_join, columns=categorical_features, dummy_na=False)\n"
      ],
      "metadata": {
        "id": "DjDqoaycQx2F",
        "execution": {
          "iopub.status.busy": "2022-07-24T16:26:56.960764Z",
          "iopub.execute_input": "2022-07-24T16:26:56.961160Z",
          "iopub.status.idle": "2022-07-24T16:26:57.013431Z",
          "shell.execute_reply.started": "2022-07-24T16:26:56.961121Z",
          "shell.execute_reply": "2022-07-24T16:26:57.012580Z"
        },
        "trusted": true
      },
      "execution_count": null,
      "outputs": []
    },
    {
      "cell_type": "code",
      "source": [
        "df_join.head(3)"
      ],
      "metadata": {
        "id": "ix3QG1U1WAIK",
        "execution": {
          "iopub.status.busy": "2022-07-24T16:26:57.017706Z",
          "iopub.execute_input": "2022-07-24T16:26:57.017962Z",
          "iopub.status.idle": "2022-07-24T16:26:57.040773Z",
          "shell.execute_reply.started": "2022-07-24T16:26:57.017938Z",
          "shell.execute_reply": "2022-07-24T16:26:57.039723Z"
        },
        "trusted": true
      },
      "execution_count": null,
      "outputs": []
    },
    {
      "cell_type": "markdown",
      "source": [
        "## Разбиение датасета обратно на обучающий и тестовый"
      ],
      "metadata": {
        "id": "4Lj_WVGTHNVa"
      }
    },
    {
      "cell_type": "code",
      "source": [
        "X_train = df_join.query('sample == 1').drop(['sample'], axis=1)\n",
        "X_test = df_join.query('sample == 0').drop(['sample', 'price', 'price_log'], axis=1)"
      ],
      "metadata": {
        "id": "LVVaTOS_FIAF",
        "execution": {
          "iopub.status.busy": "2022-07-24T16:26:57.042317Z",
          "iopub.execute_input": "2022-07-24T16:26:57.042749Z",
          "iopub.status.idle": "2022-07-24T16:26:57.089447Z",
          "shell.execute_reply.started": "2022-07-24T16:26:57.042714Z",
          "shell.execute_reply": "2022-07-24T16:26:57.088596Z"
        },
        "trusted": true
      },
      "execution_count": null,
      "outputs": []
    },
    {
      "cell_type": "code",
      "source": [
        "X_train.describe()"
      ],
      "metadata": {
        "id": "iTDuRKoTR3PD",
        "execution": {
          "iopub.status.busy": "2022-07-24T16:26:57.090794Z",
          "iopub.execute_input": "2022-07-24T16:26:57.091128Z",
          "iopub.status.idle": "2022-07-24T16:26:57.459250Z",
          "shell.execute_reply.started": "2022-07-24T16:26:57.091094Z",
          "shell.execute_reply": "2022-07-24T16:26:57.458301Z"
        },
        "trusted": true
      },
      "execution_count": null,
      "outputs": []
    },
    {
      "cell_type": "code",
      "source": [
        "X_test.describe()"
      ],
      "metadata": {
        "id": "EvANVMaIpodh",
        "execution": {
          "iopub.status.busy": "2022-07-24T16:26:57.460806Z",
          "iopub.execute_input": "2022-07-24T16:26:57.461429Z",
          "iopub.status.idle": "2022-07-24T16:26:57.864712Z",
          "shell.execute_reply.started": "2022-07-24T16:26:57.461386Z",
          "shell.execute_reply": "2022-07-24T16:26:57.863353Z"
        },
        "trusted": true
      },
      "execution_count": null,
      "outputs": []
    },
    {
      "cell_type": "markdown",
      "source": [
        "## Разбиваем датасеты"
      ],
      "metadata": {
        "id": "3LFY0JO4Orqf"
      }
    },
    {
      "cell_type": "code",
      "source": [
        "# Разбиваем на обучающую и валидационную выборки\n",
        "\n",
        "X_train, X_valid = train_test_split(X_train, test_size=0.2, random_state=SEED, shuffle=True)"
      ],
      "metadata": {
        "id": "9nGRL8mqp9M2",
        "execution": {
          "iopub.status.busy": "2022-07-24T16:26:57.866167Z",
          "iopub.execute_input": "2022-07-24T16:26:57.866556Z",
          "iopub.status.idle": "2022-07-24T16:26:57.884491Z",
          "shell.execute_reply.started": "2022-07-24T16:26:57.866519Z",
          "shell.execute_reply": "2022-07-24T16:26:57.883648Z"
        },
        "trusted": true
      },
      "execution_count": null,
      "outputs": []
    },
    {
      "cell_type": "code",
      "source": [
        "print('X_train:', X_train.shape)\n",
        "print('X_valid:', X_valid.shape)\n",
        "print('X_test: ', X_test.shape)"
      ],
      "metadata": {
        "id": "BW8odwCSHHPn",
        "execution": {
          "iopub.status.busy": "2022-07-24T16:26:57.885755Z",
          "iopub.execute_input": "2022-07-24T16:26:57.886214Z",
          "iopub.status.idle": "2022-07-24T16:26:57.894237Z",
          "shell.execute_reply.started": "2022-07-24T16:26:57.886160Z",
          "shell.execute_reply": "2022-07-24T16:26:57.893096Z"
        },
        "trusted": true
      },
      "execution_count": null,
      "outputs": []
    },
    {
      "cell_type": "code",
      "source": [
        "# Таргеты\n",
        "Y_train = X_train.price \n",
        "Y_valid = X_valid.price\n",
        "\n",
        "Y_train_log = X_train.price_log\n",
        "Y_valid_log = X_valid.price_log\n",
        "\n",
        "# Простая нейросеть\n",
        "X_train_num = X_train.drop(text_features+img_features+target, axis=1)\n",
        "X_valid_num = X_valid.drop(text_features+img_features+target, axis=1)\n",
        "X_test_num = X_test.drop(text_features+img_features, axis=1)\n",
        "\n",
        "X_train_img = X_train[img_features]\n",
        "X_valid_img = X_valid[img_features]\n",
        "X_test_img = X_test[img_features]"
      ],
      "metadata": {
        "execution": {
          "iopub.status.busy": "2022-07-24T16:26:57.895929Z",
          "iopub.execute_input": "2022-07-24T16:26:57.896289Z",
          "iopub.status.idle": "2022-07-24T16:26:57.910094Z",
          "shell.execute_reply.started": "2022-07-24T16:26:57.896261Z",
          "shell.execute_reply": "2022-07-24T16:26:57.909126Z"
        },
        "trusted": true,
        "id": "8Lg079IzOrqg"
      },
      "execution_count": null,
      "outputs": []
    },
    {
      "cell_type": "code",
      "source": [
        "print('X_train:', X_train_num.shape)\n",
        "print('X_valid:', X_valid_num.shape)\n",
        "print('X_test: ', X_test_num.shape)"
      ],
      "metadata": {
        "execution": {
          "iopub.status.busy": "2022-07-24T16:26:57.913098Z",
          "iopub.execute_input": "2022-07-24T16:26:57.914650Z",
          "iopub.status.idle": "2022-07-24T16:26:57.920084Z",
          "shell.execute_reply.started": "2022-07-24T16:26:57.914598Z",
          "shell.execute_reply": "2022-07-24T16:26:57.919051Z"
        },
        "trusted": true,
        "id": "3ctJa2f2Orqg"
      },
      "execution_count": null,
      "outputs": []
    },
    {
      "cell_type": "markdown",
      "source": [
        "## Работа с текстом в колонке description"
      ],
      "metadata": {
        "id": "MXsz_MiBE_WH"
      }
    },
    {
      "cell_type": "code",
      "source": [
        "df_join.description.iloc[15]"
      ],
      "metadata": {
        "id": "d8zSwF7UE-5B",
        "execution": {
          "iopub.status.busy": "2022-07-24T16:26:57.921562Z",
          "iopub.execute_input": "2022-07-24T16:26:57.922288Z",
          "iopub.status.idle": "2022-07-24T16:26:57.932164Z",
          "shell.execute_reply.started": "2022-07-24T16:26:57.922251Z",
          "shell.execute_reply": "2022-07-24T16:26:57.930971Z"
        },
        "trusted": true
      },
      "execution_count": null,
      "outputs": []
    },
    {
      "cell_type": "markdown",
      "source": [
        "В данных куча мусор. С помощью регулярных выражений оставим только слова, состоящие из 3 и более букв. "
      ],
      "metadata": {
        "id": "JciDuIwON1wN"
      }
    },
    {
      "cell_type": "code",
      "source": [
        "df_join['text'] = df_join['description'].apply(lambda s: re.sub(r'\\d+', '', s))\n",
        "df_join['text'] = df_join['text'].apply(lambda s: re.split(r'\\W+', s))\n",
        "\n",
        "\n"
      ],
      "metadata": {
        "id": "XhopVRj1HFuu",
        "execution": {
          "iopub.status.busy": "2022-07-24T16:26:57.933893Z",
          "iopub.execute_input": "2022-07-24T16:26:57.934280Z",
          "iopub.status.idle": "2022-07-24T16:26:58.925461Z",
          "shell.execute_reply.started": "2022-07-24T16:26:57.934209Z",
          "shell.execute_reply": "2022-07-24T16:26:58.924431Z"
        },
        "trusted": true
      },
      "execution_count": null,
      "outputs": []
    },
    {
      "cell_type": "code",
      "source": [
        "# приведем слова разммером более 2 букв к леммам \n",
        "\n",
        "morph = pymorphy2.MorphAnalyzer()\n",
        "\n",
        "def lem(x):\n",
        "    x = [morph.parse(w)[0].normal_form for w in x if len(w)>1 ]\n",
        "    return x\n",
        "\n",
        "df_join['text_lem'] = df_join['text'].progress_apply(lem)"
      ],
      "metadata": {
        "id": "ruwlAfqKhRaG",
        "execution": {
          "iopub.status.busy": "2022-07-24T16:26:58.927023Z",
          "iopub.execute_input": "2022-07-24T16:26:58.927391Z",
          "iopub.status.idle": "2022-07-24T16:30:05.335648Z",
          "shell.execute_reply.started": "2022-07-24T16:26:58.927337Z",
          "shell.execute_reply": "2022-07-24T16:30:05.334701Z"
        },
        "trusted": true
      },
      "execution_count": null,
      "outputs": []
    },
    {
      "cell_type": "code",
      "source": [
        "# посчитаем количество уникальных слов и частоту встречаемости каждого слова\n",
        "\n",
        "count_words = {}\n",
        "\n",
        "for i in range(df_join.shape[0]):\n",
        "    text = df_join['text_lem'].iloc[i]\n",
        "\n",
        "    for el in text:\n",
        "        if el in count_words.keys():\n",
        "            count_words[el] += 1\n",
        "        else:\n",
        "            count_words[el] = 1"
      ],
      "metadata": {
        "id": "uWEzOG0Gxl5G",
        "execution": {
          "iopub.status.busy": "2022-07-24T16:30:05.339895Z",
          "iopub.execute_input": "2022-07-24T16:30:05.342144Z",
          "iopub.status.idle": "2022-07-24T16:30:05.773073Z",
          "shell.execute_reply.started": "2022-07-24T16:30:05.342095Z",
          "shell.execute_reply": "2022-07-24T16:30:05.772023Z"
        },
        "trusted": true
      },
      "execution_count": null,
      "outputs": []
    },
    {
      "cell_type": "code",
      "source": [
        "# Создадим датафрейм частотности слов, чтоб удобно проанализировать какие сова можно убрать\n",
        "\n",
        "df_words = pd.DataFrame(count_words, index = ['count']).T"
      ],
      "metadata": {
        "id": "5fA0D8Iizhou",
        "execution": {
          "iopub.status.busy": "2022-07-24T16:30:05.774339Z",
          "iopub.execute_input": "2022-07-24T16:30:05.774740Z",
          "iopub.status.idle": "2022-07-24T16:30:06.395410Z",
          "shell.execute_reply.started": "2022-07-24T16:30:05.774702Z",
          "shell.execute_reply": "2022-07-24T16:30:06.394423Z"
        },
        "trusted": true
      },
      "execution_count": null,
      "outputs": []
    },
    {
      "cell_type": "code",
      "source": [
        "print(f'Всего {df_words.shape[0]} уникальный слов от 2-х букв и более')"
      ],
      "metadata": {
        "id": "U4pZS41n2EWk",
        "execution": {
          "iopub.status.busy": "2022-07-24T16:30:06.396997Z",
          "iopub.execute_input": "2022-07-24T16:30:06.397366Z",
          "iopub.status.idle": "2022-07-24T16:30:06.403193Z",
          "shell.execute_reply.started": "2022-07-24T16:30:06.397329Z",
          "shell.execute_reply": "2022-07-24T16:30:06.401892Z"
        },
        "trusted": true
      },
      "execution_count": null,
      "outputs": []
    },
    {
      "cell_type": "code",
      "source": [
        "# Из них тех, которые встречаюстя 1-3 раза. \n",
        "\n",
        "df_words[df_words['count']<=3]['count'].value_counts()"
      ],
      "metadata": {
        "id": "22GcY_E60yge",
        "execution": {
          "iopub.status.busy": "2022-07-24T16:30:06.404861Z",
          "iopub.execute_input": "2022-07-24T16:30:06.405212Z",
          "iopub.status.idle": "2022-07-24T16:30:06.420886Z",
          "shell.execute_reply.started": "2022-07-24T16:30:06.405177Z",
          "shell.execute_reply": "2022-07-24T16:30:06.419894Z"
        },
        "trusted": true
      },
      "execution_count": null,
      "outputs": []
    },
    {
      "cell_type": "code",
      "source": [
        "# Особо часто встречающиеся\n",
        "df_words[df_words['count']>4000]['count'].sort_values()"
      ],
      "metadata": {
        "id": "eLKCUcxn2rF0",
        "execution": {
          "iopub.status.busy": "2022-07-24T16:30:06.422073Z",
          "iopub.execute_input": "2022-07-24T16:30:06.422314Z",
          "iopub.status.idle": "2022-07-24T16:30:06.433192Z",
          "shell.execute_reply.started": "2022-07-24T16:30:06.422292Z",
          "shell.execute_reply": "2022-07-24T16:30:06.432212Z"
        },
        "trusted": true
      },
      "execution_count": null,
      "outputs": []
    },
    {
      "cell_type": "code",
      "source": [
        "# Список слов для обучения с частотой встречаемостии более 3-х раз и менее 4000\n",
        "word_for_train = list(df_words[(df_words['count']>3) & (df_words['count']<4000)].index)"
      ],
      "metadata": {
        "id": "5_Mqkqah4prK",
        "execution": {
          "iopub.status.busy": "2022-07-24T16:30:06.435470Z",
          "iopub.execute_input": "2022-07-24T16:30:06.435717Z",
          "iopub.status.idle": "2022-07-24T16:30:06.444073Z",
          "shell.execute_reply.started": "2022-07-24T16:30:06.435694Z",
          "shell.execute_reply": "2022-07-24T16:30:06.443142Z"
        },
        "trusted": true
      },
      "execution_count": null,
      "outputs": []
    },
    {
      "cell_type": "code",
      "source": [
        "df_join['brand_model']"
      ],
      "metadata": {
        "execution": {
          "iopub.status.busy": "2022-07-24T16:30:06.447026Z",
          "iopub.execute_input": "2022-07-24T16:30:06.447847Z",
          "iopub.status.idle": "2022-07-24T16:30:06.457505Z",
          "shell.execute_reply.started": "2022-07-24T16:30:06.447809Z",
          "shell.execute_reply": "2022-07-24T16:30:06.456089Z"
        },
        "trusted": true,
        "id": "sdbzQ_-WOrqi"
      },
      "execution_count": null,
      "outputs": []
    },
    {
      "cell_type": "code",
      "source": [
        "# Удалим редко и часто встречающиеся слова из описания\n",
        "\n",
        "def word_train(x):\n",
        "    new_list_word = []\n",
        "    for el in x:\n",
        "        if el in word_for_train:\n",
        "            new_list_word.append(el)\n",
        "    return new_list_word\n",
        "\n",
        "df_join['text_lem_train'] = df_join['text_lem'].progress_apply(word_train)\n",
        "df_join['text_lem_train'] = df_join['brand_model'].apply(lambda s: s.split(' '))+df_join['text_lem_train']"
      ],
      "metadata": {
        "id": "qSDD8CEXy6jy",
        "execution": {
          "iopub.status.busy": "2022-07-24T16:30:06.465817Z",
          "iopub.execute_input": "2022-07-24T16:30:06.466069Z",
          "iopub.status.idle": "2022-07-24T16:30:29.592103Z",
          "shell.execute_reply.started": "2022-07-24T16:30:06.466046Z",
          "shell.execute_reply": "2022-07-24T16:30:29.590864Z"
        },
        "trusted": true
      },
      "execution_count": null,
      "outputs": []
    },
    {
      "cell_type": "code",
      "source": [
        "df_join['text_lem_train']"
      ],
      "metadata": {
        "id": "j8EJ9j_ZQ52B",
        "execution": {
          "iopub.status.busy": "2022-07-24T16:30:29.593805Z",
          "iopub.execute_input": "2022-07-24T16:30:29.594359Z",
          "iopub.status.idle": "2022-07-24T16:30:29.607515Z",
          "shell.execute_reply.started": "2022-07-24T16:30:29.594318Z",
          "shell.execute_reply": "2022-07-24T16:30:29.606279Z"
        },
        "trusted": true
      },
      "execution_count": null,
      "outputs": []
    },
    {
      "cell_type": "code",
      "source": [
        "word_for_train_with_brend_model = set()\n",
        "\n",
        "for i in range(df_join.shape[0]):\n",
        "    text = df_join['text_lem_train'].iloc[i]\n",
        "\n",
        "    for el in text:\n",
        "        word_for_train_with_brend_model.add(el)"
      ],
      "metadata": {
        "id": "q5O0XXM1MZzA",
        "execution": {
          "iopub.status.busy": "2022-07-24T16:30:29.609181Z",
          "iopub.execute_input": "2022-07-24T16:30:29.609754Z",
          "iopub.status.idle": "2022-07-24T16:30:29.825461Z",
          "shell.execute_reply.started": "2022-07-24T16:30:29.609714Z",
          "shell.execute_reply": "2022-07-24T16:30:29.824420Z"
        },
        "trusted": true
      },
      "execution_count": null,
      "outputs": []
    },
    {
      "cell_type": "code",
      "source": [
        "len(word_for_train_with_brend_model)"
      ],
      "metadata": {
        "id": "y_PHjNzBSLPw",
        "execution": {
          "iopub.status.busy": "2022-07-24T16:30:29.826748Z",
          "iopub.execute_input": "2022-07-24T16:30:29.827109Z",
          "iopub.status.idle": "2022-07-24T16:30:29.832838Z",
          "shell.execute_reply.started": "2022-07-24T16:30:29.827071Z",
          "shell.execute_reply": "2022-07-24T16:30:29.831907Z"
        },
        "trusted": true
      },
      "execution_count": null,
      "outputs": []
    },
    {
      "cell_type": "code",
      "source": [
        "# Создадим и обучим токенайзер\n",
        "num_words = len(word_for_train_with_brend_model)\n",
        "\n",
        "tokenizer = Tokenizer(num_words=num_words)\n",
        "tokenizer.fit_on_texts(df_join['text_lem_train'])"
      ],
      "metadata": {
        "id": "x6Sk9jw2I4ah",
        "execution": {
          "iopub.status.busy": "2022-07-24T16:30:29.835241Z",
          "iopub.execute_input": "2022-07-24T16:30:29.835943Z",
          "iopub.status.idle": "2022-07-24T16:30:30.334011Z",
          "shell.execute_reply.started": "2022-07-24T16:30:29.835904Z",
          "shell.execute_reply": "2022-07-24T16:30:30.333012Z"
        },
        "trusted": true
      },
      "execution_count": null,
      "outputs": []
    },
    {
      "cell_type": "code",
      "source": [
        "items = list(tokenizer.word_index.items())\n",
        "print(items[260:280])"
      ],
      "metadata": {
        "id": "ZWpOl1EoRx5y",
        "execution": {
          "iopub.status.busy": "2022-07-24T16:30:30.335450Z",
          "iopub.execute_input": "2022-07-24T16:30:30.335820Z",
          "iopub.status.idle": "2022-07-24T16:30:30.344721Z",
          "shell.execute_reply.started": "2022-07-24T16:30:30.335782Z",
          "shell.execute_reply": "2022-07-24T16:30:30.343275Z"
        },
        "trusted": true
      },
      "execution_count": null,
      "outputs": []
    },
    {
      "cell_type": "markdown",
      "source": [
        "### Делим подготовленный текст на выборки и формируем датасеты для подачи в model_nlp"
      ],
      "metadata": {
        "id": "JVxX8Aqm2S5B"
      }
    },
    {
      "cell_type": "code",
      "source": [
        "X_train_text = df_join.query('sample == 1')[['text_lem_train']].iloc[X_train.index]\n",
        "X_valid_text = df_join.query('sample == 1')[['text_lem_train']].iloc[X_valid.index]\n",
        "X_test_text = df_join.query('sample == 0')[['text_lem_train']]"
      ],
      "metadata": {
        "id": "IPJaW2Gf0Fnt",
        "execution": {
          "iopub.status.busy": "2022-07-24T16:30:30.346263Z",
          "iopub.execute_input": "2022-07-24T16:30:30.347008Z",
          "iopub.status.idle": "2022-07-24T16:30:30.404606Z",
          "shell.execute_reply.started": "2022-07-24T16:30:30.346970Z",
          "shell.execute_reply": "2022-07-24T16:30:30.403697Z"
        },
        "trusted": true
      },
      "execution_count": null,
      "outputs": []
    },
    {
      "cell_type": "code",
      "source": [
        "print('X_train_text:', X_train_text.shape)\n",
        "print('X_valid_text:', X_valid_text.shape)\n",
        "print('X_test_text: ', X_test_text.shape)"
      ],
      "metadata": {
        "id": "a8CMlTUq0613",
        "execution": {
          "iopub.status.busy": "2022-07-24T16:30:30.406022Z",
          "iopub.execute_input": "2022-07-24T16:30:30.406366Z",
          "iopub.status.idle": "2022-07-24T16:30:30.412161Z",
          "shell.execute_reply.started": "2022-07-24T16:30:30.406331Z",
          "shell.execute_reply": "2022-07-24T16:30:30.410842Z"
        },
        "trusted": true
      },
      "execution_count": null,
      "outputs": []
    },
    {
      "cell_type": "code",
      "source": [
        "fig, ax = plt.subplots(2,1, figsize=(20,10))\n",
        "plt.suptitle('Распределение количества слов в объявлении', fontsize=FONT_TITLE)\n",
        "\n",
        "sns.histplot(data=df_join['text_lem_train'].apply(len), ax=ax[0])\n",
        "ax[0].set_xlabel('Количество слов', fontsize=FONT_LABEL)\n",
        "ax[0].set_ylabel('Количество объявлений', fontsize=FONT_LABEL)\n",
        "ax[0].set_xticks([x for x in range(0, 1000, 25)])\n",
        "\n",
        "sns.boxplot(x=df_join['text_lem_train'].apply(len), ax=ax[1])\n",
        "ax[1].set_xlabel('Количество слов', fontsize=FONT_LABEL)\n",
        "ax[1].set_ylabel('Количество объявлений', fontsize=FONT_LABEL)\n",
        "ax[1].set_xticks([x for x in range(0, 1000, 25)])\n",
        "plt.show()"
      ],
      "metadata": {
        "id": "HM46JwsLAxCY",
        "execution": {
          "iopub.status.busy": "2022-07-24T16:30:30.413744Z",
          "iopub.execute_input": "2022-07-24T16:30:30.414165Z",
          "iopub.status.idle": "2022-07-24T16:30:31.149086Z",
          "shell.execute_reply.started": "2022-07-24T16:30:30.414130Z",
          "shell.execute_reply": "2022-07-24T16:30:31.148187Z"
        },
        "trusted": true
      },
      "execution_count": null,
      "outputs": []
    },
    {
      "cell_type": "markdown",
      "source": [
        "Длину текста объявления оптимально будет выбирать от 150 до 200 слов."
      ],
      "metadata": {
        "id": "2obXqBb5NLtp"
      }
    },
    {
      "cell_type": "code",
      "source": [
        "MAX_SEQUENCE_LENGTH = 150\n",
        "\n",
        "train_sequences = tokenizer.texts_to_sequences(X_train_text['text_lem_train'])\n",
        "\n",
        "X_train_text_num = pad_sequences(train_sequences, maxlen=MAX_SEQUENCE_LENGTH, padding='post', truncating='post')\n",
        "\n",
        "vaid_sequences = tokenizer.texts_to_sequences(X_valid_text['text_lem_train'])\n",
        "\n",
        "X_valid_text_num = pad_sequences(vaid_sequences, maxlen=MAX_SEQUENCE_LENGTH, padding='post', truncating='post')\n",
        "\n",
        "test_sequences = tokenizer.texts_to_sequences(X_test_text['text_lem_train'])\n",
        "\n",
        "X_test_text_num = pad_sequences(test_sequences, maxlen=MAX_SEQUENCE_LENGTH, padding='post', truncating='post')"
      ],
      "metadata": {
        "id": "F1s-e0n2Rx8v",
        "execution": {
          "iopub.status.busy": "2022-07-24T16:30:31.150712Z",
          "iopub.execute_input": "2022-07-24T16:30:31.151071Z",
          "iopub.status.idle": "2022-07-24T16:30:31.604809Z",
          "shell.execute_reply.started": "2022-07-24T16:30:31.151035Z",
          "shell.execute_reply": "2022-07-24T16:30:31.603805Z"
        },
        "trusted": true
      },
      "execution_count": null,
      "outputs": []
    },
    {
      "cell_type": "code",
      "source": [
        "print(X_train_text['text_lem_train'].iloc[150])"
      ],
      "metadata": {
        "id": "vD7tGXIYRx_2",
        "execution": {
          "iopub.status.busy": "2022-07-24T16:30:31.606163Z",
          "iopub.execute_input": "2022-07-24T16:30:31.606780Z",
          "iopub.status.idle": "2022-07-24T16:30:31.613216Z",
          "shell.execute_reply.started": "2022-07-24T16:30:31.606740Z",
          "shell.execute_reply": "2022-07-24T16:30:31.611862Z"
        },
        "trusted": true
      },
      "execution_count": null,
      "outputs": []
    },
    {
      "cell_type": "code",
      "source": [
        "X_train_text_num[150]"
      ],
      "metadata": {
        "id": "CHYUmlM4V1Zm",
        "execution": {
          "iopub.status.busy": "2022-07-24T16:30:31.614916Z",
          "iopub.execute_input": "2022-07-24T16:30:31.615282Z",
          "iopub.status.idle": "2022-07-24T16:30:31.626471Z",
          "shell.execute_reply.started": "2022-07-24T16:30:31.615245Z",
          "shell.execute_reply": "2022-07-24T16:30:31.625441Z"
        },
        "trusted": true
      },
      "execution_count": null,
      "outputs": []
    },
    {
      "cell_type": "markdown",
      "source": [
        "## Работа с изображениями"
      ],
      "metadata": {
        "id": "Y1T8pLtuNMCf"
      }
    },
    {
      "cell_type": "code",
      "source": [
        "path_img = '../input/sf-dst-car-price-prediction-part2/img/img/'\n",
        "\n",
        "# sell_id - содержит номер файла изображения\n",
        "X_train_img = df_train['sell_id'].iloc[X_train.index]\n",
        "X_valid_img = df_train['sell_id'].iloc[X_valid.index]\n",
        "X_test_img = df_test['sell_id']"
      ],
      "metadata": {
        "id": "as3l1H8eDT-s",
        "execution": {
          "iopub.status.busy": "2022-07-24T16:30:31.628102Z",
          "iopub.execute_input": "2022-07-24T16:30:31.628530Z",
          "iopub.status.idle": "2022-07-24T16:30:31.636701Z",
          "shell.execute_reply.started": "2022-07-24T16:30:31.628492Z",
          "shell.execute_reply": "2022-07-24T16:30:31.635809Z"
        },
        "trusted": true
      },
      "execution_count": null,
      "outputs": []
    },
    {
      "cell_type": "code",
      "source": [
        "plt.figure(figsize = (20,15))\n",
        "\n",
        "random_image = df_train.sample(n = 9)\n",
        "random_image_paths = random_image['sell_id'].values\n",
        "random_image_cat = random_image['price'].values\n",
        "\n",
        "for index, path in enumerate(random_image_paths):\n",
        "    im = PIL.Image.open(path_img + str(path) + '.jpg')\n",
        "    plt.subplot(3, 3, index + 1)\n",
        "    plt.imshow(im)\n",
        "    plt.title('price: ' + str(random_image_cat[index]) + ', size:' + str(im.size))\n",
        "    plt.axis('off')\n",
        "plt.show()"
      ],
      "metadata": {
        "id": "euikubFYKghR",
        "execution": {
          "iopub.status.busy": "2022-07-24T16:30:31.638358Z",
          "iopub.execute_input": "2022-07-24T16:30:31.639261Z",
          "iopub.status.idle": "2022-07-24T16:30:32.583029Z",
          "shell.execute_reply.started": "2022-07-24T16:30:31.639222Z",
          "shell.execute_reply": "2022-07-24T16:30:32.582077Z"
        },
        "trusted": true
      },
      "execution_count": null,
      "outputs": []
    },
    {
      "cell_type": "code",
      "source": [
        "size = (320, 240)\n",
        "\n",
        "def get_image_array(df):\n",
        "    \n",
        "    images_train = []\n",
        "    for sell_id in tqdm(df.values):\n",
        "        image = cv2.imread(path_img + str(sell_id) + '.jpg')\n",
        "        assert(image is not None)\n",
        "        image = cv2.resize(image, size)\n",
        "        images_train.append(image)\n",
        "        \n",
        "    images_train = np.array(images_train)\n",
        "    print('images shape', images_train.shape, 'dtype', images_train.dtype)\n",
        "    return(images_train)\n",
        "\n",
        "images_train = get_image_array(X_train_img)\n",
        "images_valid = get_image_array(X_valid_img)\n",
        "images_test = get_image_array(X_test_img)"
      ],
      "metadata": {
        "id": "KbLeLBA9KiYa",
        "execution": {
          "iopub.status.busy": "2022-07-24T16:30:32.584208Z",
          "iopub.execute_input": "2022-07-24T16:30:32.584901Z",
          "iopub.status.idle": "2022-07-24T16:31:44.335731Z",
          "shell.execute_reply.started": "2022-07-24T16:30:32.584858Z",
          "shell.execute_reply": "2022-07-24T16:31:44.334460Z"
        },
        "trusted": true
      },
      "execution_count": null,
      "outputs": []
    },
    {
      "cell_type": "code",
      "source": [
        "augmentation = Compose([\n",
        "    HorizontalFlip(),\n",
        "    OneOf([\n",
        "        IAAAdditiveGaussianNoise(),\n",
        "        GaussNoise(),\n",
        "    ], p=0.2),\n",
        "    OneOf([\n",
        "        MotionBlur(p=0.2),\n",
        "        MedianBlur(blur_limit=3, p=0.1),\n",
        "        Blur(blur_limit=3, p=0.1),\n",
        "    ], p=0.2),\n",
        "    ShiftScaleRotate(shift_limit=0.0625, scale_limit=0.2, rotate_limit=15, p=1),\n",
        "    OneOf([\n",
        "        OpticalDistortion(p=0.3),\n",
        "        GridDistortion(p=0.1),\n",
        "        IAAPiecewiseAffine(p=0.3),\n",
        "    ], p=0.2),\n",
        "    OneOf([\n",
        "        CLAHE(clip_limit=2),\n",
        "        IAASharpen(),\n",
        "        IAAEmboss(),\n",
        "        RandomBrightnessContrast(),\n",
        "    ], p=0.3),\n",
        "    HueSaturationValue(p=0.3),\n",
        "], p=1)\n",
        "\n",
        "#пример\n",
        "plt.figure(figsize = (12,8))\n",
        "for i in range(9):\n",
        "    img = augmentation(image = images_train[0])['image']\n",
        "    plt.subplot(3, 3, i + 1)\n",
        "    plt.imshow(img)\n",
        "    plt.axis('off')\n",
        "plt.show()"
      ],
      "metadata": {
        "id": "xvF3-qFRKibQ",
        "execution": {
          "iopub.status.busy": "2022-07-24T16:31:44.340596Z",
          "iopub.execute_input": "2022-07-24T16:31:44.341257Z",
          "iopub.status.idle": "2022-07-24T16:31:45.051871Z",
          "shell.execute_reply.started": "2022-07-24T16:31:44.341210Z",
          "shell.execute_reply": "2022-07-24T16:31:45.050705Z"
        },
        "trusted": true
      },
      "execution_count": null,
      "outputs": []
    },
    {
      "cell_type": "code",
      "source": [
        "# def make_augmentations(images):\n",
        "#   print('применение аугментаций', end = '')\n",
        "#   augmented_images = np.empty(images.shape)\n",
        "#   for i in range(images.shape[0]):\n",
        "#     if i % 200 == 0:\n",
        "#       print('.', end = '')\n",
        "#     augment_dict = augmentation(image = images[i])\n",
        "#     augmented_image = augment_dict['image']\n",
        "#     augmented_images[i] = augmented_image\n",
        "#   print('')\n",
        "#   return augmented_images"
      ],
      "metadata": {
        "id": "1dOUjg0gKieK",
        "execution": {
          "iopub.status.busy": "2022-07-24T16:31:45.053442Z",
          "iopub.execute_input": "2022-07-24T16:31:45.054131Z",
          "iopub.status.idle": "2022-07-24T16:31:45.058861Z",
          "shell.execute_reply.started": "2022-07-24T16:31:45.054092Z",
          "shell.execute_reply": "2022-07-24T16:31:45.057846Z"
        },
        "trusted": true
      },
      "execution_count": null,
      "outputs": []
    },
    {
      "cell_type": "code",
      "source": [
        "# x = make_augmentations(images_train)"
      ],
      "metadata": {
        "id": "7ypHSyi1Kig6",
        "execution": {
          "iopub.status.busy": "2022-07-24T16:31:45.060567Z",
          "iopub.execute_input": "2022-07-24T16:31:45.061314Z",
          "iopub.status.idle": "2022-07-24T16:31:45.073904Z",
          "shell.execute_reply.started": "2022-07-24T16:31:45.061274Z",
          "shell.execute_reply": "2022-07-24T16:31:45.072786Z"
        },
        "trusted": true
      },
      "execution_count": null,
      "outputs": []
    },
    {
      "cell_type": "code",
      "source": [
        "def process_image(image):\n",
        "    return augmentation(image = image.numpy())['image']\n",
        "\n",
        "def tokenize_(descriptions):\n",
        "    return sequence.pad_sequences(tokenize.texts_to_sequences(descriptions), maxlen = MAX_SEQUENCE_LENGTH)\n",
        "\n",
        "def tokenize_text(text):\n",
        "    return tokenize_([text.numpy().decode('utf-8')])[0]\n",
        "\n",
        "def tf_process_train_dataset_element(image, table_data, text, price):\n",
        "    im_shape = image.shape\n",
        "    [image,] = tf.py_function(process_image, [image], [tf.uint8])\n",
        "    image.set_shape(im_shape)\n",
        "    # [text,] = tf.py_function(tokenize_text, [text], [tf.int32])\n",
        "    return (image, table_data, text), price\n",
        "\n",
        "def tf_process_val_dataset_element(image, table_data, text, price):\n",
        "    # [text,] = tf.py_function(tokenize_text, [text], [tf.int32])\n",
        "    return (image, table_data, text), price\n",
        "\n",
        "train_dataset = tf.data.Dataset.from_tensor_slices((\n",
        "    images_train, X_train_num, X_train_text_num, Y_train\n",
        "    )).map(tf_process_train_dataset_element)\n",
        "\n",
        "valid_dataset = tf.data.Dataset.from_tensor_slices((\n",
        "    images_valid, X_valid_num, X_valid_text_num, Y_valid\n",
        "    )).map(tf_process_val_dataset_element)\n",
        "\n",
        "y_sub = np.zeros(len(X_test))\n",
        "test_dataset = tf.data.Dataset.from_tensor_slices((\n",
        "    images_test, X_test_num, X_test_text_num, y_sub\n",
        "    )).map(tf_process_val_dataset_element)\n",
        "\n",
        "#проверяем, что нет ошибок (не будет выброшено исключение):\n",
        "train_dataset.__iter__().__next__();\n",
        "valid_dataset.__iter__().__next__();\n",
        "test_dataset.__iter__().__next__();"
      ],
      "metadata": {
        "id": "0QFQFuZsKijq",
        "execution": {
          "iopub.status.busy": "2022-07-24T16:31:45.075846Z",
          "iopub.execute_input": "2022-07-24T16:31:45.076573Z",
          "iopub.status.idle": "2022-07-24T16:31:51.209017Z",
          "shell.execute_reply.started": "2022-07-24T16:31:45.076537Z",
          "shell.execute_reply": "2022-07-24T16:31:51.206277Z"
        },
        "trusted": true
      },
      "execution_count": null,
      "outputs": []
    },
    {
      "cell_type": "markdown",
      "source": [
        "## Обучение модели"
      ],
      "metadata": {
        "id": "5o2Z2F2wsBSR"
      }
    },
    {
      "cell_type": "code",
      "source": [
        "efficientnet_model = tf.keras.applications.efficientnet.EfficientNetB6(weights = 'imagenet', include_top = False, input_shape = (size[1], size[0], 3))\n",
        "\n",
        "efficientnet_model.trainable = True\n",
        "# Заморозим часть слоев\n",
        "for layer in efficientnet_model.layers[:len(efficientnet_model.layers)//2]:\n",
        "    layer.trainable = False\n",
        "    \n",
        "efficientnet_output = L.GlobalAveragePooling2D()(efficientnet_model.output)"
      ],
      "metadata": {
        "id": "VFOeKWby6VHF",
        "execution": {
          "iopub.status.busy": "2022-07-24T16:31:51.210542Z",
          "iopub.execute_input": "2022-07-24T16:31:51.211227Z",
          "iopub.status.idle": "2022-07-24T16:31:56.210467Z",
          "shell.execute_reply.started": "2022-07-24T16:31:51.211150Z",
          "shell.execute_reply": "2022-07-24T16:31:56.209307Z"
        },
        "trusted": true
      },
      "execution_count": null,
      "outputs": []
    },
    {
      "cell_type": "code",
      "source": [
        ""
      ],
      "metadata": {
        "id": "zQx-QfFoOrqn"
      },
      "execution_count": null,
      "outputs": []
    },
    {
      "cell_type": "code",
      "source": [
        "tabular_model = Sequential([\n",
        "    L.Input(shape = X_train_num.shape[1]),\n",
        "    L.Dense(512, activation = 'sigmoid'),\n",
        "    L.LayerNormalization(),\n",
        "    L.Dropout(0.5),\n",
        "    L.Dense(256, activation = 'relu'),\n",
        "    L.Dense(128, activation = 'relu'),\n",
        "    L.Dropout(0.25)    \n",
        "    ])"
      ],
      "metadata": {
        "id": "XSQaM7dL7E1S",
        "execution": {
          "iopub.status.busy": "2022-07-24T16:31:56.212060Z",
          "iopub.execute_input": "2022-07-24T16:31:56.212440Z",
          "iopub.status.idle": "2022-07-24T16:31:56.268273Z",
          "shell.execute_reply.started": "2022-07-24T16:31:56.212401Z",
          "shell.execute_reply": "2022-07-24T16:31:56.267415Z"
        },
        "trusted": true
      },
      "execution_count": null,
      "outputs": []
    },
    {
      "cell_type": "code",
      "source": [
        "nlp_model = Sequential([\n",
        "    #L.Input(shape=MAX_SEQUENCE_LENGTH, name=\"seq_description\"),\n",
        "    L.Embedding(num_words, 50, input_length=MAX_SEQUENCE_LENGTH),\n",
        "    L.LayerNormalization(),\n",
        "    L.LSTM(256, return_sequences=True),\n",
        "    L.Dropout(0.5),\n",
        "    L.Dense(128, activation = 'sigmoid'),\n",
        "    L.LSTM(64),\n",
        "    L.Dropout(0.25),\n",
        "    L.Dense(64),\n",
        "    ])\n"
      ],
      "metadata": {
        "id": "zkWE9ERd7LlZ",
        "execution": {
          "iopub.status.busy": "2022-07-24T16:31:56.269690Z",
          "iopub.execute_input": "2022-07-24T16:31:56.270042Z",
          "iopub.status.idle": "2022-07-24T16:31:56.744097Z",
          "shell.execute_reply.started": "2022-07-24T16:31:56.270006Z",
          "shell.execute_reply": "2022-07-24T16:31:56.743035Z"
        },
        "trusted": true
      },
      "execution_count": null,
      "outputs": []
    },
    {
      "cell_type": "code",
      "source": [
        "combinedInput = L.concatenate([efficientnet_output, tabular_model.output, nlp_model.output])\n",
        "\n",
        "# being our regression head\n",
        "head = L.Dense(256, activation=\"relu\")(combinedInput)\n",
        "head = L.Dense(1,)(head)\n",
        "\n",
        "model = Model(inputs=[efficientnet_model.input, tabular_model.input, nlp_model.input], outputs=head)\n",
        "model.summary()"
      ],
      "metadata": {
        "id": "xmL8WGJp7cnT",
        "execution": {
          "iopub.status.busy": "2022-07-24T16:31:56.745745Z",
          "iopub.execute_input": "2022-07-24T16:31:56.746084Z",
          "iopub.status.idle": "2022-07-24T16:31:56.878121Z",
          "shell.execute_reply.started": "2022-07-24T16:31:56.746047Z",
          "shell.execute_reply": "2022-07-24T16:31:56.877211Z"
        },
        "trusted": true
      },
      "execution_count": null,
      "outputs": []
    },
    {
      "cell_type": "code",
      "source": [
        "# model_nlp = Sequential([\n",
        "#     Embedding(num_words, 32, input_length=MAX_SEQUENCE_LENGTH),\n",
        "#     LSTM(256, return_sequences=True),\n",
        "#     Dropout(0.5),\n",
        "#     LSTM(128,),\n",
        "#     Dropout(0.25),\n",
        "#     Dense(64, activation=\"relu\"),\n",
        "#     Dropout(0.25)])"
      ],
      "metadata": {
        "id": "ttnaCNfgabFW",
        "execution": {
          "iopub.status.busy": "2022-07-24T16:31:56.879794Z",
          "iopub.execute_input": "2022-07-24T16:31:56.880542Z",
          "iopub.status.idle": "2022-07-24T16:31:56.885532Z",
          "shell.execute_reply.started": "2022-07-24T16:31:56.880506Z",
          "shell.execute_reply": "2022-07-24T16:31:56.884273Z"
        },
        "trusted": true
      },
      "execution_count": null,
      "outputs": []
    },
    {
      "cell_type": "code",
      "source": [
        "# # создаем модель\n",
        "# model_mlp = Sequential([Dense(512, input_dim=X_train.shape[1], activation=\"relu\"),\n",
        "#                     Dropout(0.5),\n",
        "#                     BatchNormalization(), \n",
        "#                     Dense(256, activation=\"relu\"),\n",
        "#                     Dropout(0.5),\n",
        "#                     Dense(1, activation=\"linear\")])\n"
      ],
      "metadata": {
        "id": "UItqEn0Wr6pl",
        "execution": {
          "iopub.status.busy": "2022-07-24T16:31:56.887277Z",
          "iopub.execute_input": "2022-07-24T16:31:56.888005Z",
          "iopub.status.idle": "2022-07-24T16:31:56.895651Z",
          "shell.execute_reply.started": "2022-07-24T16:31:56.887968Z",
          "shell.execute_reply": "2022-07-24T16:31:56.894360Z"
        },
        "trusted": true
      },
      "execution_count": null,
      "outputs": []
    },
    {
      "cell_type": "code",
      "source": [
        "# combinedInput = concatenate([model_nlp.output, model_mlp.output])\n",
        "# # being our regression head\n",
        "# head = Dense(64, activation=\"relu\")(combinedInput)\n",
        "# head = Dense(1, activation=\"linear\")(head)\n",
        "\n",
        "# model = Model(inputs=[model_nlp.input, model_mlp.input], outputs=head)\n"
      ],
      "metadata": {
        "id": "t3qisAT9M7nE",
        "execution": {
          "iopub.status.busy": "2022-07-24T16:31:56.897484Z",
          "iopub.execute_input": "2022-07-24T16:31:56.897851Z",
          "iopub.status.idle": "2022-07-24T16:31:56.905564Z",
          "shell.execute_reply.started": "2022-07-24T16:31:56.897815Z",
          "shell.execute_reply": "2022-07-24T16:31:56.904666Z"
        },
        "trusted": true
      },
      "execution_count": null,
      "outputs": []
    },
    {
      "cell_type": "code",
      "source": [
        "# model.summary()"
      ],
      "metadata": {
        "id": "ErcN0krY6ATR",
        "execution": {
          "iopub.status.busy": "2022-07-24T16:31:56.907073Z",
          "iopub.execute_input": "2022-07-24T16:31:56.907496Z",
          "iopub.status.idle": "2022-07-24T16:31:56.917648Z",
          "shell.execute_reply.started": "2022-07-24T16:31:56.907401Z",
          "shell.execute_reply": "2022-07-24T16:31:56.916642Z"
        },
        "trusted": true
      },
      "execution_count": null,
      "outputs": []
    },
    {
      "cell_type": "code",
      "source": [
        "optimizer = Adam(0.005)\n",
        "\n",
        "# Определим нашу функцию-метрику\n",
        "def MAPE(y_true, y_pred):\n",
        "    return np.mean(np.abs((y_pred-y_true)/y_true))\n",
        "\n",
        "model.compile(loss='MAPE',optimizer=optimizer, metrics=['MAPE'])"
      ],
      "metadata": {
        "id": "678R2WJRcqIY",
        "execution": {
          "iopub.status.busy": "2022-07-24T16:31:56.919309Z",
          "iopub.execute_input": "2022-07-24T16:31:56.919743Z",
          "iopub.status.idle": "2022-07-24T16:31:56.946401Z",
          "shell.execute_reply.started": "2022-07-24T16:31:56.919709Z",
          "shell.execute_reply": "2022-07-24T16:31:56.945573Z"
        },
        "trusted": true
      },
      "execution_count": null,
      "outputs": []
    },
    {
      "cell_type": "code",
      "source": [
        "checkpoint = ModelCheckpoint('../working/best_model.hdf5' , monitor=['val_MAPE'], verbose=0  , mode='min')\n",
        "earlystop = EarlyStopping(monitor='val_MAPE', patience=50, restore_best_weights=True,)\n",
        "callbacks_list = [checkpoint, earlystop]"
      ],
      "metadata": {
        "id": "zAoqPEhwcqLI",
        "execution": {
          "iopub.status.busy": "2022-07-24T16:31:56.949090Z",
          "iopub.execute_input": "2022-07-24T16:31:56.949338Z",
          "iopub.status.idle": "2022-07-24T16:31:56.957346Z",
          "shell.execute_reply.started": "2022-07-24T16:31:56.949314Z",
          "shell.execute_reply": "2022-07-24T16:31:56.956195Z"
        },
        "trusted": true
      },
      "execution_count": null,
      "outputs": []
    },
    {
      "cell_type": "code",
      "source": [
        "history = model.fit(train_dataset.batch(30),\n",
        "                    epochs=500, # фактически мы обучаем пока EarlyStopping не остановит обучение\n",
        "                    validation_data=valid_dataset.batch(30),\n",
        "                    callbacks=callbacks_list\n",
        "                   )\n"
      ],
      "metadata": {
        "id": "VDlFrwB6cqPk",
        "execution": {
          "iopub.status.busy": "2022-07-24T16:31:56.961112Z",
          "iopub.execute_input": "2022-07-24T16:31:56.961839Z"
        },
        "trusted": true
      },
      "execution_count": null,
      "outputs": []
    },
    {
      "cell_type": "code",
      "source": [
        "plt.title('Loss')\n",
        "plt.plot(history.history['MAPE'], label='train')\n",
        "plt.plot(history.history['val_MAPE'], label='valid')\n",
        "plt.legend() \n",
        "plt.show();\n"
      ],
      "metadata": {
        "id": "jEpIToRbcqSb",
        "trusted": true
      },
      "execution_count": null,
      "outputs": []
    },
    {
      "cell_type": "code",
      "source": [
        "model.load_weights(path_data +'/best_model.hdf5')\n",
        "#model.save('../working/nn_1.hdf5')"
      ],
      "metadata": {
        "id": "hkOEqt6FcqVs",
        "trusted": true
      },
      "execution_count": null,
      "outputs": []
    },
    {
      "cell_type": "code",
      "source": [
        "y_valid_predict = model.predict(valid_dataset.batch(30))\n",
        "print(f\"TEST mape: {(MAPE(Y_valid, y_valid_predict[:,0]))*100:0.2f}%\")\n",
        "# print(f\"TEST mape: {(MAPE(Y_valid, np.exp(y_valid_predict[:,0])))*100:0.2f}%\")"
      ],
      "metadata": {
        "id": "PBEPqHqslxHj",
        "trusted": true
      },
      "execution_count": null,
      "outputs": []
    },
    {
      "cell_type": "markdown",
      "source": [
        "## Предсказание"
      ],
      "metadata": {
        "id": "Ju2z_VGmsVhj"
      }
    },
    {
      "cell_type": "code",
      "source": [
        "# предсказываем результат \n",
        "y_test_predict = model.predict(test_dataset.batch(30))"
      ],
      "metadata": {
        "id": "qt83DpV7s05x",
        "trusted": true
      },
      "execution_count": null,
      "outputs": []
    },
    {
      "cell_type": "code",
      "source": [
        "y_test_predict"
      ],
      "metadata": {
        "id": "_2ehvahYz-66",
        "trusted": true
      },
      "execution_count": null,
      "outputs": []
    },
    {
      "cell_type": "code",
      "source": [
        "# y_test_predict = np.exp(y_test_predict[:,0])"
      ],
      "metadata": {
        "id": "EOvOPieatP5j",
        "trusted": true
      },
      "execution_count": null,
      "outputs": []
    },
    {
      "cell_type": "code",
      "source": [
        "submission = pd.read_csv('../input/sf-dst-car-price-prediction-part2/sample_submission.csv')\n",
        "submission['price'] = y_test_predict\n",
        "submission.to_csv('../working/sample_submission_nn_with_text_img.csv', index=False)"
      ],
      "metadata": {
        "id": "COtBJyy2s9o6",
        "trusted": true
      },
      "execution_count": null,
      "outputs": []
    },
    {
      "cell_type": "code",
      "source": [
        "submission"
      ],
      "metadata": {
        "id": "BDcA4EjC0dm3",
        "trusted": true
      },
      "execution_count": null,
      "outputs": []
    },
    {
      "cell_type": "code",
      "source": [
        ""
      ],
      "metadata": {
        "id": "OXF_JAgPOrqq"
      },
      "execution_count": null,
      "outputs": []
    }
  ]
}